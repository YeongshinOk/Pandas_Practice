{
 "cells": [
  {
   "cell_type": "markdown",
   "metadata": {},
   "source": [
    "## [ DataFrame 인덱스  다루기 ]"
   ]
  },
  {
   "cell_type": "markdown",
   "metadata": {},
   "source": [
    "- (1) 모듈 로딩 <hr>"
   ]
  },
  {
   "cell_type": "code",
   "execution_count": 1,
   "metadata": {
    "ExecuteTime": {
     "end_time": "2024-01-12T04:12:39.880756400Z",
     "start_time": "2024-01-12T04:12:39.449069200Z"
    }
   },
   "outputs": [],
   "source": [
    "import pandas as pd"
   ]
  },
  {
   "cell_type": "markdown",
   "metadata": {},
   "source": [
    "-(2) 데이터 준비 <hr>"
   ]
  },
  {
   "cell_type": "code",
   "execution_count": 7,
   "metadata": {
    "ExecuteTime": {
     "end_time": "2024-01-12T04:13:34.584315800Z",
     "start_time": "2024-01-12T04:13:34.560599600Z"
    }
   },
   "outputs": [],
   "source": [
    "#dict 타입의 데이터 생성\n",
    "exam = { '이름':['마징가','배트맨','슈퍼맨','그린랜턴'],\n",
    "         '국어':[100,99,88,57],\n",
    "         '미술':[44,55,66,75],\n",
    "         '수학':[77,44,66,22],\n",
    "         '체육':[77,22,33,44]}"
   ]
  },
  {
   "cell_type": "markdown",
   "metadata": {},
   "source": [
    "-(3) 데이터 저장"
   ]
  },
  {
   "cell_type": "code",
   "execution_count": 8,
   "metadata": {
    "ExecuteTime": {
     "end_time": "2024-01-12T04:13:36.596901Z",
     "start_time": "2024-01-12T04:13:36.566960900Z"
    }
   },
   "outputs": [],
   "source": [
    "examDF=pd.DataFrame(exam)"
   ]
  },
  {
   "cell_type": "markdown",
   "metadata": {},
   "source": [
    "-(4) 데이터 확인"
   ]
  },
  {
   "cell_type": "code",
   "execution_count": 10,
   "metadata": {
    "collapsed": false,
    "ExecuteTime": {
     "end_time": "2024-01-12T04:14:05.742688200Z",
     "start_time": "2024-01-12T04:14:05.717723500Z"
    }
   },
   "outputs": [
    {
     "data": {
      "text/plain": "     이름   국어  미술  수학  체육\n0   마징가  100  44  77  77\n1   배트맨   99  55  44  22\n2   슈퍼맨   88  66  66  33\n3  그린랜턴   57  75  22  44",
      "text/html": "<div>\n<style scoped>\n    .dataframe tbody tr th:only-of-type {\n        vertical-align: middle;\n    }\n\n    .dataframe tbody tr th {\n        vertical-align: top;\n    }\n\n    .dataframe thead th {\n        text-align: right;\n    }\n</style>\n<table border=\"1\" class=\"dataframe\">\n  <thead>\n    <tr style=\"text-align: right;\">\n      <th></th>\n      <th>이름</th>\n      <th>국어</th>\n      <th>미술</th>\n      <th>수학</th>\n      <th>체육</th>\n    </tr>\n  </thead>\n  <tbody>\n    <tr>\n      <th>0</th>\n      <td>마징가</td>\n      <td>100</td>\n      <td>44</td>\n      <td>77</td>\n      <td>77</td>\n    </tr>\n    <tr>\n      <th>1</th>\n      <td>배트맨</td>\n      <td>99</td>\n      <td>55</td>\n      <td>44</td>\n      <td>22</td>\n    </tr>\n    <tr>\n      <th>2</th>\n      <td>슈퍼맨</td>\n      <td>88</td>\n      <td>66</td>\n      <td>66</td>\n      <td>33</td>\n    </tr>\n    <tr>\n      <th>3</th>\n      <td>그린랜턴</td>\n      <td>57</td>\n      <td>75</td>\n      <td>22</td>\n      <td>44</td>\n    </tr>\n  </tbody>\n</table>\n</div>"
     },
     "execution_count": 10,
     "metadata": {},
     "output_type": "execute_result"
    }
   ],
   "source": [
    "examDF"
   ]
  },
  {
   "cell_type": "markdown",
   "source": [
    "-행 데이터 추가"
   ],
   "metadata": {
    "collapsed": false
   }
  },
  {
   "cell_type": "code",
   "outputs": [],
   "source": [
    "#마징가 100 44 77 77\n",
    "examDF.loc[4] = ['마징가',100,50,60,77]"
   ],
   "metadata": {
    "collapsed": false
   },
   "execution_count": null
  },
  {
   "cell_type": "code",
   "outputs": [],
   "source": [
    "examDF.loc[5] = ['마징가', 100,87,77,87]"
   ],
   "metadata": {
    "collapsed": false
   },
   "execution_count": null
  },
  {
   "cell_type": "code",
   "outputs": [
    {
     "data": {
      "text/plain": "     이름   국어  미술  수학  체육\n0   마징가  100  44  77  77\n1   배트맨   99  55  44  22\n2   슈퍼맨   88  66  66  33\n3  그린랜턴   57  75  22  44\n4   마징가  100  50  60  77\n5   마징가  100  87  77  87",
      "text/html": "<div>\n<style scoped>\n    .dataframe tbody tr th:only-of-type {\n        vertical-align: middle;\n    }\n\n    .dataframe tbody tr th {\n        vertical-align: top;\n    }\n\n    .dataframe thead th {\n        text-align: right;\n    }\n</style>\n<table border=\"1\" class=\"dataframe\">\n  <thead>\n    <tr style=\"text-align: right;\">\n      <th></th>\n      <th>이름</th>\n      <th>국어</th>\n      <th>미술</th>\n      <th>수학</th>\n      <th>체육</th>\n    </tr>\n  </thead>\n  <tbody>\n    <tr>\n      <th>0</th>\n      <td>마징가</td>\n      <td>100</td>\n      <td>44</td>\n      <td>77</td>\n      <td>77</td>\n    </tr>\n    <tr>\n      <th>1</th>\n      <td>배트맨</td>\n      <td>99</td>\n      <td>55</td>\n      <td>44</td>\n      <td>22</td>\n    </tr>\n    <tr>\n      <th>2</th>\n      <td>슈퍼맨</td>\n      <td>88</td>\n      <td>66</td>\n      <td>66</td>\n      <td>33</td>\n    </tr>\n    <tr>\n      <th>3</th>\n      <td>그린랜턴</td>\n      <td>57</td>\n      <td>75</td>\n      <td>22</td>\n      <td>44</td>\n    </tr>\n    <tr>\n      <th>4</th>\n      <td>마징가</td>\n      <td>100</td>\n      <td>50</td>\n      <td>60</td>\n      <td>77</td>\n    </tr>\n    <tr>\n      <th>5</th>\n      <td>마징가</td>\n      <td>100</td>\n      <td>87</td>\n      <td>77</td>\n      <td>87</td>\n    </tr>\n  </tbody>\n</table>\n</div>"
     },
     "execution_count": 13,
     "metadata": {},
     "output_type": "execute_result"
    }
   ],
   "source": [
    "examDF"
   ],
   "metadata": {
    "collapsed": false,
    "ExecuteTime": {
     "end_time": "2024-01-12T04:19:46.457943100Z",
     "start_time": "2024-01-12T04:19:46.404935200Z"
    }
   },
   "execution_count": 13
  },
  {
   "cell_type": "markdown",
   "metadata": {
    "collapsed": false
   },
   "source": [
    "-  (5)  새로운 인덱스 설정 - 방법3 : 멀티인덱스 제어 DF.set_index([컬럼1, 컬럼2, ...,컬럼n])"
   ]
  },
  {
   "cell_type": "markdown",
   "source": [],
   "metadata": {
    "collapsed": false
   }
  },
  {
   "cell_type": "code",
   "outputs": [
    {
     "ename": "NameError",
     "evalue": "name 'examDF1' is not defined",
     "output_type": "error",
     "traceback": [
      "\u001B[1;31m---------------------------------------------------------------------------\u001B[0m",
      "\u001B[1;31mNameError\u001B[0m                                 Traceback (most recent call last)",
      "Cell \u001B[1;32mIn[14], line 2\u001B[0m\n\u001B[0;32m      1\u001B[0m \u001B[38;5;66;03m#인덱스 속성 확인\u001B[39;00m\n\u001B[1;32m----> 2\u001B[0m \u001B[43mexamDF1\u001B[49m\u001B[38;5;241m.\u001B[39mindex\n",
      "\u001B[1;31mNameError\u001B[0m: name 'examDF1' is not defined"
     ]
    }
   ],
   "source": [
    "#인덱스 속성 확인\n",
    "examDF1.index"
   ],
   "metadata": {
    "collapsed": false,
    "ExecuteTime": {
     "end_time": "2024-01-12T04:24:22.999578100Z",
     "start_time": "2024-01-12T04:24:22.343319700Z"
    }
   },
   "execution_count": 14
  },
  {
   "cell_type": "markdown",
   "source": [
    "- 행 데이터 선택 : DF객체변수명.loc.[행레이블/DF객체변수면"
   ],
   "metadata": {}
  },
  {
   "cell_type": "code",
   "execution_count": null,
   "metadata": {
    "collapsed": false
   },
   "outputs": [],
   "source": [
    "# 행 인덱스 일부 변경 => {기존 인덱스 : 새로운 \n",
    "-j"
   ]
  },
  {
   "cell_type": "markdown",
   "source": [
    "- 멀티 인덱스의 인덱스의 일부분을 기주능로 행 선택 : xs"
   ],
   "metadata": {
    "collapsed": false
   }
  },
  {
   "cell_type": "code",
   "outputs": [],
   "source": [],
   "metadata": {
    "collapsed": false
   }
  },
  {
   "cell_type": "markdown",
   "source": [],
   "metadata": {
    "collapsed": false
   }
  },
  {
   "cell_type": "code",
   "outputs": [],
   "source": [
    "인덱스}\n",
    "# inplace 매개변수/파라미터 => 원본 DataFrame에 변경 여부 결정, 기본은 원본 변경 안함 False!!\n",
    "examDF.rename(index = {0:'Zero'}, inplace=True)"
   ],
   "metadata": {
    "ExecuteTime": {
     "end_time": "2024-01-12T02:07:34.857860100Z",
     "start_time": "2024-01-12T02:07:34.704766500Z"
    }
   },
   "execution_count": 5
  },
  {
   "cell_type": "code",
   "execution_count": 6,
   "metadata": {
    "ExecuteTime": {
     "end_time": "2024-01-12T02:07:34.938151200Z",
     "start_time": "2024-01-12T02:07:34.738695900Z"
    }
   },
   "outputs": [
    {
     "data": {
      "text/plain": "        이름   국어  미술  수학  체육\nZero   마징가  100  44  55  11\n1      배트맨   99  55  44  22\n2      슈퍼맨   88  66  66  33\n3     그린랜턴   77  77  22  44",
      "text/html": "<div>\n<style scoped>\n    .dataframe tbody tr th:only-of-type {\n        vertical-align: middle;\n    }\n\n    .dataframe tbody tr th {\n        vertical-align: top;\n    }\n\n    .dataframe thead th {\n        text-align: right;\n    }\n</style>\n<table border=\"1\" class=\"dataframe\">\n  <thead>\n    <tr style=\"text-align: right;\">\n      <th></th>\n      <th>이름</th>\n      <th>국어</th>\n      <th>미술</th>\n      <th>수학</th>\n      <th>체육</th>\n    </tr>\n  </thead>\n  <tbody>\n    <tr>\n      <th>Zero</th>\n      <td>마징가</td>\n      <td>100</td>\n      <td>44</td>\n      <td>55</td>\n      <td>11</td>\n    </tr>\n    <tr>\n      <th>1</th>\n      <td>배트맨</td>\n      <td>99</td>\n      <td>55</td>\n      <td>44</td>\n      <td>22</td>\n    </tr>\n    <tr>\n      <th>2</th>\n      <td>슈퍼맨</td>\n      <td>88</td>\n      <td>66</td>\n      <td>66</td>\n      <td>33</td>\n    </tr>\n    <tr>\n      <th>3</th>\n      <td>그린랜턴</td>\n      <td>77</td>\n      <td>77</td>\n      <td>22</td>\n      <td>44</td>\n    </tr>\n  </tbody>\n</table>\n</div>"
     },
     "execution_count": 6,
     "metadata": {},
     "output_type": "execute_result"
    }
   ],
   "source": [
    "examDF"
   ]
  },
  {
   "cell_type": "markdown",
   "source": [
    "-('마징가',98,77),('그린랜턴',100,72) 2개 행을 한꺼번에 가져오기"
   ],
   "metadata": {
    "collapsed": false
   }
  },
  {
   "cell_type": "code",
   "outputs": [
    {
     "ename": "NameError",
     "evalue": "name 'examDF1' is not defined",
     "output_type": "error",
     "traceback": [
      "\u001B[1;31m---------------------------------------------------------------------------\u001B[0m",
      "\u001B[1;31mNameError\u001B[0m                                 Traceback (most recent call last)",
      "Cell \u001B[1;32mIn[16], line 1\u001B[0m\n\u001B[1;32m----> 1\u001B[0m \u001B[43mexamDF1\u001B[49m\u001B[38;5;241m.\u001B[39mloc[[(\u001B[38;5;124m'\u001B[39m\u001B[38;5;124m마징가\u001B[39m\u001B[38;5;124m'\u001B[39m,\u001B[38;5;241m98\u001B[39m,\u001B[38;5;241m77\u001B[39m),(\u001B[38;5;124m'\u001B[39m\u001B[38;5;124m그린랜턴\u001B[39m\u001B[38;5;124m'\u001B[39m,\u001B[38;5;241m100\u001B[39m,\u001B[38;5;241m72\u001B[39m)]]\n",
      "\u001B[1;31mNameError\u001B[0m: name 'examDF1' is not defined"
     ]
    }
   ],
   "source": [
    "examDF1.loc[[('마징가',98,77),('그린랜턴',100,72)]]"
   ],
   "metadata": {
    "collapsed": false,
    "ExecuteTime": {
     "end_time": "2024-01-12T04:42:48.059528900Z",
     "start_time": "2024-01-12T04:42:48.032833200Z"
    }
   },
   "execution_count": 16
  },
  {
   "cell_type": "markdown",
   "source": [
    "- (5) 인덱스 재배치 : 행/열 인덱스를 원하는 순서대로 재배치 + 존재하지 않는 행/열 추가\n",
    "    * DF.reindex()"
   ],
   "metadata": {
    "collapsed": false
   }
  },
  {
   "cell_type": "code",
   "outputs": [
    {
     "name": "stdout",
     "output_type": "stream",
     "text": [
      "Index([0, 1, 2, 3, 4, 5], dtype='int64')\n",
      "\n",
      "Index(['이름', '국어', '미술', '수학', '체육'], dtype='object')\n"
     ]
    }
   ],
   "source": [
    "print(examDF.index, examDF.columns, sep='\\n\\n')"
   ],
   "metadata": {
    "collapsed": false,
    "ExecuteTime": {
     "end_time": "2024-01-12T04:50:25.876617100Z",
     "start_time": "2024-01-12T04:50:25.860481800Z"
    }
   },
   "execution_count": 17
  },
  {
   "cell_type": "markdown",
   "source": [
    "- 컬럼명 순서 변경 ==> '체육','미술','국어','수학','총합'"
   ],
   "metadata": {
    "collapsed": false
   }
  },
  {
   "cell_type": "code",
   "outputs": [
    {
     "data": {
      "text/plain": "     이름   국어  미술  수학  체육\n0   마징가  100  44  77  77\n2   슈퍼맨   88  66  66  33\n4   마징가  100  50  60  77\n1   배트맨   99  55  44  22\n3  그린랜턴   57  75  22  44\n5   마징가  100  87  77  87",
      "text/html": "<div>\n<style scoped>\n    .dataframe tbody tr th:only-of-type {\n        vertical-align: middle;\n    }\n\n    .dataframe tbody tr th {\n        vertical-align: top;\n    }\n\n    .dataframe thead th {\n        text-align: right;\n    }\n</style>\n<table border=\"1\" class=\"dataframe\">\n  <thead>\n    <tr style=\"text-align: right;\">\n      <th></th>\n      <th>이름</th>\n      <th>국어</th>\n      <th>미술</th>\n      <th>수학</th>\n      <th>체육</th>\n    </tr>\n  </thead>\n  <tbody>\n    <tr>\n      <th>0</th>\n      <td>마징가</td>\n      <td>100</td>\n      <td>44</td>\n      <td>77</td>\n      <td>77</td>\n    </tr>\n    <tr>\n      <th>2</th>\n      <td>슈퍼맨</td>\n      <td>88</td>\n      <td>66</td>\n      <td>66</td>\n      <td>33</td>\n    </tr>\n    <tr>\n      <th>4</th>\n      <td>마징가</td>\n      <td>100</td>\n      <td>50</td>\n      <td>60</td>\n      <td>77</td>\n    </tr>\n    <tr>\n      <th>1</th>\n      <td>배트맨</td>\n      <td>99</td>\n      <td>55</td>\n      <td>44</td>\n      <td>22</td>\n    </tr>\n    <tr>\n      <th>3</th>\n      <td>그린랜턴</td>\n      <td>57</td>\n      <td>75</td>\n      <td>22</td>\n      <td>44</td>\n    </tr>\n    <tr>\n      <th>5</th>\n      <td>마징가</td>\n      <td>100</td>\n      <td>87</td>\n      <td>77</td>\n      <td>87</td>\n    </tr>\n  </tbody>\n</table>\n</div>"
     },
     "execution_count": 24,
     "metadata": {},
     "output_type": "execute_result"
    }
   ],
   "source": [
    "examDF.reindex([0,2,4,1,3,5], axis='index', fill_value=0)"
   ],
   "metadata": {
    "collapsed": false,
    "ExecuteTime": {
     "end_time": "2024-01-12T04:56:45.343088900Z",
     "start_time": "2024-01-12T04:56:45.315478100Z"
    }
   },
   "execution_count": 24
  },
  {
   "cell_type": "code",
   "outputs": [
    {
     "data": {
      "text/plain": "     이름   국어  미술  수학  체육\n0   마징가  100  44  77  77\n1   배트맨   99  55  44  22\n2   슈퍼맨   88  66  66  33\n3  그린랜턴   57  75  22  44\n4   마징가  100  50  60  77\n5   마징가  100  87  77  87",
      "text/html": "<div>\n<style scoped>\n    .dataframe tbody tr th:only-of-type {\n        vertical-align: middle;\n    }\n\n    .dataframe tbody tr th {\n        vertical-align: top;\n    }\n\n    .dataframe thead th {\n        text-align: right;\n    }\n</style>\n<table border=\"1\" class=\"dataframe\">\n  <thead>\n    <tr style=\"text-align: right;\">\n      <th></th>\n      <th>이름</th>\n      <th>국어</th>\n      <th>미술</th>\n      <th>수학</th>\n      <th>체육</th>\n    </tr>\n  </thead>\n  <tbody>\n    <tr>\n      <th>0</th>\n      <td>마징가</td>\n      <td>100</td>\n      <td>44</td>\n      <td>77</td>\n      <td>77</td>\n    </tr>\n    <tr>\n      <th>1</th>\n      <td>배트맨</td>\n      <td>99</td>\n      <td>55</td>\n      <td>44</td>\n      <td>22</td>\n    </tr>\n    <tr>\n      <th>2</th>\n      <td>슈퍼맨</td>\n      <td>88</td>\n      <td>66</td>\n      <td>66</td>\n      <td>33</td>\n    </tr>\n    <tr>\n      <th>3</th>\n      <td>그린랜턴</td>\n      <td>57</td>\n      <td>75</td>\n      <td>22</td>\n      <td>44</td>\n    </tr>\n    <tr>\n      <th>4</th>\n      <td>마징가</td>\n      <td>100</td>\n      <td>50</td>\n      <td>60</td>\n      <td>77</td>\n    </tr>\n    <tr>\n      <th>5</th>\n      <td>마징가</td>\n      <td>100</td>\n      <td>87</td>\n      <td>77</td>\n      <td>87</td>\n    </tr>\n  </tbody>\n</table>\n</div>"
     },
     "execution_count": 23,
     "metadata": {},
     "output_type": "execute_result"
    }
   ],
   "source": [
    "examDF"
   ],
   "metadata": {
    "collapsed": false,
    "ExecuteTime": {
     "end_time": "2024-01-12T04:53:06.753578700Z",
     "start_time": "2024-01-12T04:53:06.737493700Z"
    }
   },
   "execution_count": 23
  },
  {
   "cell_type": "markdown",
   "source": [
    "- 컬럼명 순서 변경 ==> '체육','미술','국어','수학','총합' + 행인덱스 => 0,2,4,1,3,5"
   ],
   "metadata": {
    "collapsed": false
   }
  },
  {
   "cell_type": "code",
   "outputs": [
    {
     "data": {
      "text/plain": "   체육  미술   국어  수학  총합\n0  77  44  100  77   0\n2  33  66   88  66   0\n4  77  50  100  60   0\n1  22  55   99  44   0\n3  44  75   57  22   0\n5  87  87  100  77   0",
      "text/html": "<div>\n<style scoped>\n    .dataframe tbody tr th:only-of-type {\n        vertical-align: middle;\n    }\n\n    .dataframe tbody tr th {\n        vertical-align: top;\n    }\n\n    .dataframe thead th {\n        text-align: right;\n    }\n</style>\n<table border=\"1\" class=\"dataframe\">\n  <thead>\n    <tr style=\"text-align: right;\">\n      <th></th>\n      <th>체육</th>\n      <th>미술</th>\n      <th>국어</th>\n      <th>수학</th>\n      <th>총합</th>\n    </tr>\n  </thead>\n  <tbody>\n    <tr>\n      <th>0</th>\n      <td>77</td>\n      <td>44</td>\n      <td>100</td>\n      <td>77</td>\n      <td>0</td>\n    </tr>\n    <tr>\n      <th>2</th>\n      <td>33</td>\n      <td>66</td>\n      <td>88</td>\n      <td>66</td>\n      <td>0</td>\n    </tr>\n    <tr>\n      <th>4</th>\n      <td>77</td>\n      <td>50</td>\n      <td>100</td>\n      <td>60</td>\n      <td>0</td>\n    </tr>\n    <tr>\n      <th>1</th>\n      <td>22</td>\n      <td>55</td>\n      <td>99</td>\n      <td>44</td>\n      <td>0</td>\n    </tr>\n    <tr>\n      <th>3</th>\n      <td>44</td>\n      <td>75</td>\n      <td>57</td>\n      <td>22</td>\n      <td>0</td>\n    </tr>\n    <tr>\n      <th>5</th>\n      <td>87</td>\n      <td>87</td>\n      <td>100</td>\n      <td>77</td>\n      <td>0</td>\n    </tr>\n  </tbody>\n</table>\n</div>"
     },
     "execution_count": 25,
     "metadata": {},
     "output_type": "execute_result"
    }
   ],
   "source": [
    "examDF.reindex(index=[0,2,4,1,3,5], columns=['체육','미술','국어','수학','총합'], fill_value=0)"
   ],
   "metadata": {
    "collapsed": false,
    "ExecuteTime": {
     "end_time": "2024-01-12T04:59:13.467186400Z",
     "start_time": "2024-01-12T04:59:13.422254600Z"
    }
   },
   "execution_count": 25
  },
  {
   "cell_type": "code",
   "outputs": [],
   "source": [],
   "metadata": {
    "collapsed": false
   }
  }
 ],
 "metadata": {
  "kernelspec": {
   "display_name": "my_38",
   "language": "python",
   "name": "python3"
  },
  "language_info": {
   "codemirror_mode": {
    "name": "ipython",
    "version": 3
   },
   "file_extension": ".py",
   "mimetype": "text/x-python",
   "name": "python",
   "nbconvert_exporter": "python",
   "pygments_lexer": "ipython3",
   "version": "3.8.18"
  }
 },
 "nbformat": 4,
 "nbformat_minor": 2
}
