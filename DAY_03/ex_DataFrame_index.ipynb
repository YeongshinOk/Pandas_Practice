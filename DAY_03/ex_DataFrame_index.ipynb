{
 "cells": [
  {
   "cell_type": "markdown",
   "metadata": {},
   "source": [
    "## [ DataFrame 인덱스  다루기 ]"
   ]
  },
  {
   "cell_type": "markdown",
   "metadata": {},
   "source": [
    "- (1) 모듈 로딩 <hr>"
   ]
  },
  {
   "cell_type": "code",
   "execution_count": 1,
   "metadata": {
    "ExecuteTime": {
     "end_time": "2024-01-12T02:07:34.605970Z",
     "start_time": "2024-01-12T02:07:34.164230Z"
    }
   },
   "outputs": [],
   "source": [
    "import pandas as pd"
   ]
  },
  {
   "cell_type": "markdown",
   "metadata": {},
   "source": [
    "-(2) 데이터 준비 <hr>"
   ]
  },
  {
   "cell_type": "code",
   "execution_count": 2,
   "metadata": {
    "ExecuteTime": {
     "end_time": "2024-01-12T02:07:34.656973600Z",
     "start_time": "2024-01-12T02:07:34.585907700Z"
    }
   },
   "outputs": [],
   "source": [
    "#dict 타입의 데이터 생성\n",
    "exam = { '이름':['마징가','배트맨','슈퍼맨','그린랜턴'],\n",
    "         '국어':[100,99,88,77],\n",
    "         '미술':[44,55,66,77],\n",
    "         '수학':[55,44,66,22],\n",
    "         '체육':[11,22,33,44]}"
   ]
  },
  {
   "cell_type": "markdown",
   "metadata": {},
   "source": [
    "-(3) 데이터 저장"
   ]
  },
  {
   "cell_type": "code",
   "execution_count": 3,
   "metadata": {
    "ExecuteTime": {
     "end_time": "2024-01-12T02:07:34.801110100Z",
     "start_time": "2024-01-12T02:07:34.634943400Z"
    }
   },
   "outputs": [],
   "source": [
    "examDF=pd.DataFrame(exam)"
   ]
  },
  {
   "cell_type": "markdown",
   "metadata": {},
   "source": [
    "-(4) 데이터 확인"
   ]
  },
  {
   "cell_type": "code",
   "execution_count": 4,
   "metadata": {
    "ExecuteTime": {
     "end_time": "2024-01-12T02:07:34.855856400Z",
     "start_time": "2024-01-12T02:07:34.645216300Z"
    }
   },
   "outputs": [
    {
     "data": {
      "text/plain": "     이름   국어  미술  수학  체육\n0   마징가  100  44  55  11\n1   배트맨   99  55  44  22\n2   슈퍼맨   88  66  66  33\n3  그린랜턴   77  77  22  44",
      "text/html": "<div>\n<style scoped>\n    .dataframe tbody tr th:only-of-type {\n        vertical-align: middle;\n    }\n\n    .dataframe tbody tr th {\n        vertical-align: top;\n    }\n\n    .dataframe thead th {\n        text-align: right;\n    }\n</style>\n<table border=\"1\" class=\"dataframe\">\n  <thead>\n    <tr style=\"text-align: right;\">\n      <th></th>\n      <th>이름</th>\n      <th>국어</th>\n      <th>미술</th>\n      <th>수학</th>\n      <th>체육</th>\n    </tr>\n  </thead>\n  <tbody>\n    <tr>\n      <th>0</th>\n      <td>마징가</td>\n      <td>100</td>\n      <td>44</td>\n      <td>55</td>\n      <td>11</td>\n    </tr>\n    <tr>\n      <th>1</th>\n      <td>배트맨</td>\n      <td>99</td>\n      <td>55</td>\n      <td>44</td>\n      <td>22</td>\n    </tr>\n    <tr>\n      <th>2</th>\n      <td>슈퍼맨</td>\n      <td>88</td>\n      <td>66</td>\n      <td>66</td>\n      <td>33</td>\n    </tr>\n    <tr>\n      <th>3</th>\n      <td>그린랜턴</td>\n      <td>77</td>\n      <td>77</td>\n      <td>22</td>\n      <td>44</td>\n    </tr>\n  </tbody>\n</table>\n</div>"
     },
     "execution_count": 4,
     "metadata": {},
     "output_type": "execute_result"
    }
   ],
   "source": [
    "examDF"
   ]
  },
  {
   "cell_type": "markdown",
   "metadata": {},
   "source": [
    "-  (5)  새로운 인덱스 설정  : 컬럼 ==> 인덱스 설정 - 방법 1 : 인덱스 일부 변경 DF.rename()"
   ]
  },
  {
   "cell_type": "code",
   "execution_count": 5,
   "metadata": {
    "ExecuteTime": {
     "end_time": "2024-01-12T02:07:34.857860100Z",
     "start_time": "2024-01-12T02:07:34.704766500Z"
    }
   },
   "outputs": [],
   "source": [
    "# 행 인덱스 일부 변경 => {기존 인덱스 : 새로운 인덱스}\n",
    "# inplace 매개변수/파라미터 => 원본 DataFrame에 변경 여부 결정, 기본은 원본 변경 안함 False!!\n",
    "examDF.rename(index = {0:'Zero'}, inplace=True)"
   ]
  },
  {
   "cell_type": "code",
   "execution_count": 6,
   "metadata": {
    "ExecuteTime": {
     "end_time": "2024-01-12T02:07:34.938151200Z",
     "start_time": "2024-01-12T02:07:34.738695900Z"
    }
   },
   "outputs": [
    {
     "data": {
      "text/plain": "        이름   국어  미술  수학  체육\nZero   마징가  100  44  55  11\n1      배트맨   99  55  44  22\n2      슈퍼맨   88  66  66  33\n3     그린랜턴   77  77  22  44",
      "text/html": "<div>\n<style scoped>\n    .dataframe tbody tr th:only-of-type {\n        vertical-align: middle;\n    }\n\n    .dataframe tbody tr th {\n        vertical-align: top;\n    }\n\n    .dataframe thead th {\n        text-align: right;\n    }\n</style>\n<table border=\"1\" class=\"dataframe\">\n  <thead>\n    <tr style=\"text-align: right;\">\n      <th></th>\n      <th>이름</th>\n      <th>국어</th>\n      <th>미술</th>\n      <th>수학</th>\n      <th>체육</th>\n    </tr>\n  </thead>\n  <tbody>\n    <tr>\n      <th>Zero</th>\n      <td>마징가</td>\n      <td>100</td>\n      <td>44</td>\n      <td>55</td>\n      <td>11</td>\n    </tr>\n    <tr>\n      <th>1</th>\n      <td>배트맨</td>\n      <td>99</td>\n      <td>55</td>\n      <td>44</td>\n      <td>22</td>\n    </tr>\n    <tr>\n      <th>2</th>\n      <td>슈퍼맨</td>\n      <td>88</td>\n      <td>66</td>\n      <td>66</td>\n      <td>33</td>\n    </tr>\n    <tr>\n      <th>3</th>\n      <td>그린랜턴</td>\n      <td>77</td>\n      <td>77</td>\n      <td>22</td>\n      <td>44</td>\n    </tr>\n  </tbody>\n</table>\n</div>"
     },
     "execution_count": 6,
     "metadata": {},
     "output_type": "execute_result"
    }
   ],
   "source": [
    "examDF"
   ]
  },
  {
   "cell_type": "code",
   "execution_count": 7,
   "metadata": {
    "ExecuteTime": {
     "end_time": "2024-01-12T02:07:34.958945400Z",
     "start_time": "2024-01-12T02:07:34.800107300Z"
    }
   },
   "outputs": [],
   "source": [
    "# 열 이름 인덱스 일부 변경 => column={기존인덱스:새로운인덱스}\n",
    "examDF.rename(columns={'체육':'음악'}, inplace=True)"
   ]
  },
  {
   "cell_type": "code",
   "execution_count": 8,
   "metadata": {
    "ExecuteTime": {
     "end_time": "2024-01-12T02:07:34.964270600Z",
     "start_time": "2024-01-12T02:07:34.843993300Z"
    }
   },
   "outputs": [
    {
     "data": {
      "text/plain": "        이름   국어  미술  수학  음악\nZero   마징가  100  44  55  11\n1      배트맨   99  55  44  22\n2      슈퍼맨   88  66  66  33\n3     그린랜턴   77  77  22  44",
      "text/html": "<div>\n<style scoped>\n    .dataframe tbody tr th:only-of-type {\n        vertical-align: middle;\n    }\n\n    .dataframe tbody tr th {\n        vertical-align: top;\n    }\n\n    .dataframe thead th {\n        text-align: right;\n    }\n</style>\n<table border=\"1\" class=\"dataframe\">\n  <thead>\n    <tr style=\"text-align: right;\">\n      <th></th>\n      <th>이름</th>\n      <th>국어</th>\n      <th>미술</th>\n      <th>수학</th>\n      <th>음악</th>\n    </tr>\n  </thead>\n  <tbody>\n    <tr>\n      <th>Zero</th>\n      <td>마징가</td>\n      <td>100</td>\n      <td>44</td>\n      <td>55</td>\n      <td>11</td>\n    </tr>\n    <tr>\n      <th>1</th>\n      <td>배트맨</td>\n      <td>99</td>\n      <td>55</td>\n      <td>44</td>\n      <td>22</td>\n    </tr>\n    <tr>\n      <th>2</th>\n      <td>슈퍼맨</td>\n      <td>88</td>\n      <td>66</td>\n      <td>66</td>\n      <td>33</td>\n    </tr>\n    <tr>\n      <th>3</th>\n      <td>그린랜턴</td>\n      <td>77</td>\n      <td>77</td>\n      <td>22</td>\n      <td>44</td>\n    </tr>\n  </tbody>\n</table>\n</div>"
     },
     "execution_count": 8,
     "metadata": {},
     "output_type": "execute_result"
    }
   ],
   "source": [
    "examDF"
   ]
  },
  {
   "cell_type": "markdown",
   "metadata": {},
   "source": [
    "-  (5)  새로운 인덱스 설정  : 컬럼 ==> 인덱스 설정 - 방법 2 : 특정 컬럼 => 인덱스 : "
   ]
  },
  {
   "cell_type": "code",
   "outputs": [
    {
     "data": {
      "text/plain": "Index(['Zero', 1, 2, 3], dtype='object')"
     },
     "execution_count": 13,
     "metadata": {},
     "output_type": "execute_result"
    }
   ],
   "source": [
    "# 현재 기본 0 ~ ==> 이름 컬럼\n",
    "examDF.index"
   ],
   "metadata": {
    "collapsed": false,
    "ExecuteTime": {
     "end_time": "2024-01-12T02:10:54.709730500Z",
     "start_time": "2024-01-12T02:10:54.662230100Z"
    }
   },
   "execution_count": 13
  },
  {
   "cell_type": "code",
   "outputs": [],
   "source": [
    "# 1개 컬럼을 인덱스로 설정 단, "
   ],
   "metadata": {
    "collapsed": false,
    "ExecuteTime": {
     "end_time": "2024-01-12T02:09:11.753599400Z",
     "start_time": "2024-01-12T02:09:11.734660700Z"
    }
   },
   "execution_count": 10
  },
  {
   "cell_type": "code",
   "outputs": [
    {
     "data": {
      "text/plain": "             미술  수학\n이름   국어  음악        \n마징가  100 11  44  55\n배트맨  99  22  55  44\n슈퍼맨  88  33  66  66\n그린랜턴 77  44  77  22",
      "text/html": "<div>\n<style scoped>\n    .dataframe tbody tr th:only-of-type {\n        vertical-align: middle;\n    }\n\n    .dataframe tbody tr th {\n        vertical-align: top;\n    }\n\n    .dataframe thead th {\n        text-align: right;\n    }\n</style>\n<table border=\"1\" class=\"dataframe\">\n  <thead>\n    <tr style=\"text-align: right;\">\n      <th></th>\n      <th></th>\n      <th></th>\n      <th>미술</th>\n      <th>수학</th>\n    </tr>\n    <tr>\n      <th>이름</th>\n      <th>국어</th>\n      <th>음악</th>\n      <th></th>\n      <th></th>\n    </tr>\n  </thead>\n  <tbody>\n    <tr>\n      <th>마징가</th>\n      <th>100</th>\n      <th>11</th>\n      <td>44</td>\n      <td>55</td>\n    </tr>\n    <tr>\n      <th>배트맨</th>\n      <th>99</th>\n      <th>22</th>\n      <td>55</td>\n      <td>44</td>\n    </tr>\n    <tr>\n      <th>슈퍼맨</th>\n      <th>88</th>\n      <th>33</th>\n      <td>66</td>\n      <td>66</td>\n    </tr>\n    <tr>\n      <th>그린랜턴</th>\n      <th>77</th>\n      <th>44</th>\n      <td>77</td>\n      <td>22</td>\n    </tr>\n  </tbody>\n</table>\n</div>"
     },
     "execution_count": 18,
     "metadata": {},
     "output_type": "execute_result"
    }
   ],
   "source": [
    "# 2개 컬럼을 행 인덱스 설정 단 ,inplace 파라메터가 False로 원본에 적용 안됨!\n",
    "examDF.set_index(['이름', '국어','음악'])"
   ],
   "metadata": {
    "collapsed": false,
    "ExecuteTime": {
     "end_time": "2024-01-12T02:13:50.316102200Z",
     "start_time": "2024-01-12T02:13:50.262851200Z"
    }
   },
   "execution_count": 18
  },
  {
   "cell_type": "code",
   "outputs": [
    {
     "data": {
      "text/plain": "        이름   국어  미술  수학  음악\nZero   마징가  100  44  55  11\n1      배트맨   99  55  44  22\n2      슈퍼맨   88  66  66  33\n3     그린랜턴   77  77  22  44",
      "text/html": "<div>\n<style scoped>\n    .dataframe tbody tr th:only-of-type {\n        vertical-align: middle;\n    }\n\n    .dataframe tbody tr th {\n        vertical-align: top;\n    }\n\n    .dataframe thead th {\n        text-align: right;\n    }\n</style>\n<table border=\"1\" class=\"dataframe\">\n  <thead>\n    <tr style=\"text-align: right;\">\n      <th></th>\n      <th>이름</th>\n      <th>국어</th>\n      <th>미술</th>\n      <th>수학</th>\n      <th>음악</th>\n    </tr>\n  </thead>\n  <tbody>\n    <tr>\n      <th>Zero</th>\n      <td>마징가</td>\n      <td>100</td>\n      <td>44</td>\n      <td>55</td>\n      <td>11</td>\n    </tr>\n    <tr>\n      <th>1</th>\n      <td>배트맨</td>\n      <td>99</td>\n      <td>55</td>\n      <td>44</td>\n      <td>22</td>\n    </tr>\n    <tr>\n      <th>2</th>\n      <td>슈퍼맨</td>\n      <td>88</td>\n      <td>66</td>\n      <td>66</td>\n      <td>33</td>\n    </tr>\n    <tr>\n      <th>3</th>\n      <td>그린랜턴</td>\n      <td>77</td>\n      <td>77</td>\n      <td>22</td>\n      <td>44</td>\n    </tr>\n  </tbody>\n</table>\n</div>"
     },
     "execution_count": 12,
     "metadata": {},
     "output_type": "execute_result"
    }
   ],
   "source": [
    "examDF"
   ],
   "metadata": {
    "collapsed": false,
    "ExecuteTime": {
     "end_time": "2024-01-12T02:10:32.554307700Z",
     "start_time": "2024-01-12T02:10:32.510364700Z"
    }
   },
   "execution_count": 12
  },
  {
   "cell_type": "code",
   "outputs": [],
   "source": [],
   "metadata": {
    "collapsed": false
   }
  }
 ],
 "metadata": {
  "kernelspec": {
   "display_name": "my_38",
   "language": "python",
   "name": "python3"
  },
  "language_info": {
   "codemirror_mode": {
    "name": "ipython",
    "version": 3
   },
   "file_extension": ".py",
   "mimetype": "text/x-python",
   "name": "python",
   "nbconvert_exporter": "python",
   "pygments_lexer": "ipython3",
   "version": "3.8.18"
  }
 },
 "nbformat": 4,
 "nbformat_minor": 2
}
