{
 "cells": [
  {
   "cell_type": "markdown",
   "source": [
    "## [ DataFrame 정렬 ]\n",
    "   - 종류 => 인덱스 기반 정렬, 데이터/값 기반 정렬"
   ],
   "metadata": {
    "collapsed": false
   },
   "id": "b541250d0cbe3ddc"
  },
  {
   "cell_type": "markdown",
   "source": [
    "-(1) 모듈 로딩"
   ],
   "metadata": {
    "collapsed": false
   },
   "id": "333f4c05e1aa8f12"
  },
  {
   "cell_type": "code",
   "outputs": [],
   "source": [
    "import pandas as pd"
   ],
   "metadata": {
    "collapsed": false,
    "ExecuteTime": {
     "end_time": "2024-01-12T05:19:37.680945300Z",
     "start_time": "2024-01-12T05:19:37.187332800Z"
    }
   },
   "id": "e08850d99a429b29",
   "execution_count": 2
  },
  {
   "cell_type": "markdown",
   "source": [
    "-(2) 데이터 준비"
   ],
   "metadata": {
    "collapsed": false
   },
   "id": "6b73bca35815699"
  },
  {
   "cell_type": "code",
   "outputs": [],
   "source": [
    "datafile='../Data/movies.csv'"
   ],
   "metadata": {
    "collapsed": false,
    "ExecuteTime": {
     "end_time": "2024-01-12T05:20:38.243637600Z",
     "start_time": "2024-01-12T05:20:38.232720Z"
    }
   },
   "id": "7558443332fb31d",
   "execution_count": 3
  },
  {
   "cell_type": "markdown",
   "source": [
    "-(3) 데이터 저장 => DataFrame\n",
    "    * 파일 데이터 읽어서 저장 => pandas.read_파일확장자() ==> 반환 : DataFrame"
   ],
   "metadata": {
    "collapsed": false
   },
   "id": "31c625cc72804fcb"
  },
  {
   "cell_type": "code",
   "outputs": [],
   "source": [
    "movieDF=pd.read_csv(datafile)"
   ],
   "metadata": {
    "collapsed": false,
    "ExecuteTime": {
     "end_time": "2024-01-12T05:22:13.873949900Z",
     "start_time": "2024-01-12T05:22:13.847920700Z"
    }
   },
   "id": "67e89cf17f156725",
   "execution_count": 4
  },
  {
   "cell_type": "markdown",
   "source": [
    "-(4) 데이터 확인"
   ],
   "metadata": {
    "collapsed": false
   },
   "id": "7f2ab6f73ad5fcfc"
  },
  {
   "cell_type": "code",
   "outputs": [
    {
     "data": {
      "text/plain": "     Rank                         Title           Studio       Gross  Year\n0       1             Avengers: Endgame      Buena Vista  $2,796.30   2019\n1       2                        Avatar              Fox  $2,789.70   2009\n2       3                       Titanic        Paramount  $2,187.50   1997\n3       4  Star Wars: The Force Awakens      Buena Vista  $2,068.20   2015\n4       5        Avengers: Infinity War      Buena Vista  $2,048.40   2018\n..    ...                           ...              ...         ...   ...\n777   778                     Yogi Bear  Warner Brothers    $201.60   2010\n778   779           Garfield: The Movie              Fox    $200.80   2004\n779   780                   Cats & Dogs  Warner Brothers    $200.70   2001\n780   781      The Hunt for Red October        Paramount    $200.50   1990\n781   782                      Valkyrie              MGM    $200.30   2008\n\n[782 rows x 5 columns]",
      "text/html": "<div>\n<style scoped>\n    .dataframe tbody tr th:only-of-type {\n        vertical-align: middle;\n    }\n\n    .dataframe tbody tr th {\n        vertical-align: top;\n    }\n\n    .dataframe thead th {\n        text-align: right;\n    }\n</style>\n<table border=\"1\" class=\"dataframe\">\n  <thead>\n    <tr style=\"text-align: right;\">\n      <th></th>\n      <th>Rank</th>\n      <th>Title</th>\n      <th>Studio</th>\n      <th>Gross</th>\n      <th>Year</th>\n    </tr>\n  </thead>\n  <tbody>\n    <tr>\n      <th>0</th>\n      <td>1</td>\n      <td>Avengers: Endgame</td>\n      <td>Buena Vista</td>\n      <td>$2,796.30</td>\n      <td>2019</td>\n    </tr>\n    <tr>\n      <th>1</th>\n      <td>2</td>\n      <td>Avatar</td>\n      <td>Fox</td>\n      <td>$2,789.70</td>\n      <td>2009</td>\n    </tr>\n    <tr>\n      <th>2</th>\n      <td>3</td>\n      <td>Titanic</td>\n      <td>Paramount</td>\n      <td>$2,187.50</td>\n      <td>1997</td>\n    </tr>\n    <tr>\n      <th>3</th>\n      <td>4</td>\n      <td>Star Wars: The Force Awakens</td>\n      <td>Buena Vista</td>\n      <td>$2,068.20</td>\n      <td>2015</td>\n    </tr>\n    <tr>\n      <th>4</th>\n      <td>5</td>\n      <td>Avengers: Infinity War</td>\n      <td>Buena Vista</td>\n      <td>$2,048.40</td>\n      <td>2018</td>\n    </tr>\n    <tr>\n      <th>...</th>\n      <td>...</td>\n      <td>...</td>\n      <td>...</td>\n      <td>...</td>\n      <td>...</td>\n    </tr>\n    <tr>\n      <th>777</th>\n      <td>778</td>\n      <td>Yogi Bear</td>\n      <td>Warner Brothers</td>\n      <td>$201.60</td>\n      <td>2010</td>\n    </tr>\n    <tr>\n      <th>778</th>\n      <td>779</td>\n      <td>Garfield: The Movie</td>\n      <td>Fox</td>\n      <td>$200.80</td>\n      <td>2004</td>\n    </tr>\n    <tr>\n      <th>779</th>\n      <td>780</td>\n      <td>Cats &amp; Dogs</td>\n      <td>Warner Brothers</td>\n      <td>$200.70</td>\n      <td>2001</td>\n    </tr>\n    <tr>\n      <th>780</th>\n      <td>781</td>\n      <td>The Hunt for Red October</td>\n      <td>Paramount</td>\n      <td>$200.50</td>\n      <td>1990</td>\n    </tr>\n    <tr>\n      <th>781</th>\n      <td>782</td>\n      <td>Valkyrie</td>\n      <td>MGM</td>\n      <td>$200.30</td>\n      <td>2008</td>\n    </tr>\n  </tbody>\n</table>\n<p>782 rows × 5 columns</p>\n</div>"
     },
     "execution_count": 6,
     "metadata": {},
     "output_type": "execute_result"
    }
   ],
   "source": [
    "movieDF"
   ],
   "metadata": {
    "collapsed": false,
    "ExecuteTime": {
     "end_time": "2024-01-12T05:23:12.384045500Z",
     "start_time": "2024-01-12T05:23:12.339332Z"
    }
   },
   "id": "33d6a4818b78b73f",
   "execution_count": 6
  },
  {
   "cell_type": "markdown",
   "source": [
    "-(5) 데이터 확인 관련 메서드"
   ],
   "metadata": {
    "collapsed": false
   },
   "id": "e101af2e2f52b506"
  },
  {
   "cell_type": "code",
   "outputs": [
    {
     "name": "stdout",
     "output_type": "stream",
     "text": [
      "<class 'pandas.core.frame.DataFrame'>\n",
      "RangeIndex: 782 entries, 0 to 781\n",
      "Data columns (total 5 columns):\n",
      " #   Column  Non-Null Count  Dtype \n",
      "---  ------  --------------  ----- \n",
      " 0   Rank    782 non-null    int64 \n",
      " 1   Title   782 non-null    object\n",
      " 2   Studio  782 non-null    object\n",
      " 3   Gross   782 non-null    object\n",
      " 4   Year    782 non-null    int64 \n",
      "dtypes: int64(2), object(3)\n",
      "memory usage: 30.7+ KB\n"
     ]
    }
   ],
   "source": [
    "# 데이터의 전체적인 구조 및 데이터 종류 요약\n",
    "movieDF.info()"
   ],
   "metadata": {
    "collapsed": false,
    "ExecuteTime": {
     "end_time": "2024-01-12T05:24:09.206370600Z",
     "start_time": "2024-01-12T05:24:09.194386300Z"
    }
   },
   "id": "7d619d1c68215a3f",
   "execution_count": 7
  },
  {
   "cell_type": "code",
   "outputs": [
    {
     "data": {
      "text/plain": "              Rank                 Title           Studio     Gross  \\\ncount   782.000000                   782              782       782   \nunique         NaN                   773               37       701   \ntop            NaN  Beauty and the Beast  Warner Brothers  $225.90    \nfreq           NaN                     2              132         3   \nmean    391.500000                   NaN              NaN       NaN   \nstd     225.888247                   NaN              NaN       NaN   \nmin       1.000000                   NaN              NaN       NaN   \n25%     196.250000                   NaN              NaN       NaN   \n50%     391.500000                   NaN              NaN       NaN   \n75%     586.750000                   NaN              NaN       NaN   \nmax     782.000000                   NaN              NaN       NaN   \n\n               Year  \ncount    782.000000  \nunique          NaN  \ntop             NaN  \nfreq            NaN  \nmean    2006.620205  \nstd       10.026227  \nmin     1939.000000  \n25%     2001.000000  \n50%     2009.000000  \n75%     2014.000000  \nmax     2019.000000  ",
      "text/html": "<div>\n<style scoped>\n    .dataframe tbody tr th:only-of-type {\n        vertical-align: middle;\n    }\n\n    .dataframe tbody tr th {\n        vertical-align: top;\n    }\n\n    .dataframe thead th {\n        text-align: right;\n    }\n</style>\n<table border=\"1\" class=\"dataframe\">\n  <thead>\n    <tr style=\"text-align: right;\">\n      <th></th>\n      <th>Rank</th>\n      <th>Title</th>\n      <th>Studio</th>\n      <th>Gross</th>\n      <th>Year</th>\n    </tr>\n  </thead>\n  <tbody>\n    <tr>\n      <th>count</th>\n      <td>782.000000</td>\n      <td>782</td>\n      <td>782</td>\n      <td>782</td>\n      <td>782.000000</td>\n    </tr>\n    <tr>\n      <th>unique</th>\n      <td>NaN</td>\n      <td>773</td>\n      <td>37</td>\n      <td>701</td>\n      <td>NaN</td>\n    </tr>\n    <tr>\n      <th>top</th>\n      <td>NaN</td>\n      <td>Beauty and the Beast</td>\n      <td>Warner Brothers</td>\n      <td>$225.90</td>\n      <td>NaN</td>\n    </tr>\n    <tr>\n      <th>freq</th>\n      <td>NaN</td>\n      <td>2</td>\n      <td>132</td>\n      <td>3</td>\n      <td>NaN</td>\n    </tr>\n    <tr>\n      <th>mean</th>\n      <td>391.500000</td>\n      <td>NaN</td>\n      <td>NaN</td>\n      <td>NaN</td>\n      <td>2006.620205</td>\n    </tr>\n    <tr>\n      <th>std</th>\n      <td>225.888247</td>\n      <td>NaN</td>\n      <td>NaN</td>\n      <td>NaN</td>\n      <td>10.026227</td>\n    </tr>\n    <tr>\n      <th>min</th>\n      <td>1.000000</td>\n      <td>NaN</td>\n      <td>NaN</td>\n      <td>NaN</td>\n      <td>1939.000000</td>\n    </tr>\n    <tr>\n      <th>25%</th>\n      <td>196.250000</td>\n      <td>NaN</td>\n      <td>NaN</td>\n      <td>NaN</td>\n      <td>2001.000000</td>\n    </tr>\n    <tr>\n      <th>50%</th>\n      <td>391.500000</td>\n      <td>NaN</td>\n      <td>NaN</td>\n      <td>NaN</td>\n      <td>2009.000000</td>\n    </tr>\n    <tr>\n      <th>75%</th>\n      <td>586.750000</td>\n      <td>NaN</td>\n      <td>NaN</td>\n      <td>NaN</td>\n      <td>2014.000000</td>\n    </tr>\n    <tr>\n      <th>max</th>\n      <td>782.000000</td>\n      <td>NaN</td>\n      <td>NaN</td>\n      <td>NaN</td>\n      <td>2019.000000</td>\n    </tr>\n  </tbody>\n</table>\n</div>"
     },
     "execution_count": 28,
     "metadata": {},
     "output_type": "execute_result"
    }
   ],
   "source": [
    "# 컬럼별 통계적인 데이터 정보 제공\n",
    "twoDF=movieDF.describe(include='all')\n",
    "twoDF"
   ],
   "metadata": {
    "collapsed": false,
    "ExecuteTime": {
     "end_time": "2024-01-12T05:44:15.264050700Z",
     "start_time": "2024-01-12T05:44:15.233186700Z"
    }
   },
   "id": "3dd642b6c54f16fd",
   "execution_count": 28
  },
  {
   "cell_type": "code",
   "outputs": [
    {
     "data": {
      "text/plain": "       Rank         Year\nmin     1.0  1939.000000\nmax   782.0  2019.000000\nmean  391.5  2006.620205",
      "text/html": "<div>\n<style scoped>\n    .dataframe tbody tr th:only-of-type {\n        vertical-align: middle;\n    }\n\n    .dataframe tbody tr th {\n        vertical-align: top;\n    }\n\n    .dataframe thead th {\n        text-align: right;\n    }\n</style>\n<table border=\"1\" class=\"dataframe\">\n  <thead>\n    <tr style=\"text-align: right;\">\n      <th></th>\n      <th>Rank</th>\n      <th>Year</th>\n    </tr>\n  </thead>\n  <tbody>\n    <tr>\n      <th>min</th>\n      <td>1.0</td>\n      <td>1939.000000</td>\n    </tr>\n    <tr>\n      <th>max</th>\n      <td>782.0</td>\n      <td>2019.000000</td>\n    </tr>\n    <tr>\n      <th>mean</th>\n      <td>391.5</td>\n      <td>2006.620205</td>\n    </tr>\n  </tbody>\n</table>\n</div>"
     },
     "execution_count": 16,
     "metadata": {},
     "output_type": "execute_result"
    }
   ],
   "source": [
    "#수치 컬럼의 최소, 최대, 평균 데이터 추출\n",
    "twoDF.loc[['min','max','mean']]"
   ],
   "metadata": {
    "collapsed": false,
    "ExecuteTime": {
     "end_time": "2024-01-12T05:33:20.502024700Z",
     "start_time": "2024-01-12T05:33:20.487704600Z"
    }
   },
   "id": "4a94a2fc4af89dd3",
   "execution_count": 16
  },
  {
   "cell_type": "code",
   "outputs": [
    {
     "data": {
      "text/plain": "      count         mean         std     min      25%     50%      75%     max\nRank  782.0   391.500000  225.888247     1.0   196.25   391.5   586.75   782.0\nYear  782.0  2006.620205   10.026227  1939.0  2001.00  2009.0  2014.00  2019.0",
      "text/html": "<div>\n<style scoped>\n    .dataframe tbody tr th:only-of-type {\n        vertical-align: middle;\n    }\n\n    .dataframe tbody tr th {\n        vertical-align: top;\n    }\n\n    .dataframe thead th {\n        text-align: right;\n    }\n</style>\n<table border=\"1\" class=\"dataframe\">\n  <thead>\n    <tr style=\"text-align: right;\">\n      <th></th>\n      <th>count</th>\n      <th>mean</th>\n      <th>std</th>\n      <th>min</th>\n      <th>25%</th>\n      <th>50%</th>\n      <th>75%</th>\n      <th>max</th>\n    </tr>\n  </thead>\n  <tbody>\n    <tr>\n      <th>Rank</th>\n      <td>782.0</td>\n      <td>391.500000</td>\n      <td>225.888247</td>\n      <td>1.0</td>\n      <td>196.25</td>\n      <td>391.5</td>\n      <td>586.75</td>\n      <td>782.0</td>\n    </tr>\n    <tr>\n      <th>Year</th>\n      <td>782.0</td>\n      <td>2006.620205</td>\n      <td>10.026227</td>\n      <td>1939.0</td>\n      <td>2001.00</td>\n      <td>2009.0</td>\n      <td>2014.00</td>\n      <td>2019.0</td>\n    </tr>\n  </tbody>\n</table>\n</div>"
     },
     "execution_count": 21,
     "metadata": {},
     "output_type": "execute_result"
    }
   ],
   "source": [
    "pd.DataFrame([twoDF.Rank.values, twoDF.Year.values],\n",
    "             columns=twoDF.index,\n",
    "             index=twoDF.columns)"
   ],
   "metadata": {
    "collapsed": false,
    "ExecuteTime": {
     "end_time": "2024-01-12T05:37:57.936058300Z",
     "start_time": "2024-01-12T05:37:57.923340400Z"
    }
   },
   "id": "45b9ddf1ab224552",
   "execution_count": 21
  },
  {
   "cell_type": "markdown",
   "source": [
    "## 행 => 열, 열 => 행 치환 기능 속성 및 메서드"
   ],
   "metadata": {
    "collapsed": false
   },
   "id": "1dabbd60c98dd5cf"
  },
  {
   "cell_type": "code",
   "outputs": [
    {
     "data": {
      "text/plain": "      count         mean         std     min      25%     50%      75%     max\nRank  782.0   391.500000  225.888247     1.0   196.25   391.5   586.75   782.0\nYear  782.0  2006.620205   10.026227  1939.0  2001.00  2009.0  2014.00  2019.0",
      "text/html": "<div>\n<style scoped>\n    .dataframe tbody tr th:only-of-type {\n        vertical-align: middle;\n    }\n\n    .dataframe tbody tr th {\n        vertical-align: top;\n    }\n\n    .dataframe thead th {\n        text-align: right;\n    }\n</style>\n<table border=\"1\" class=\"dataframe\">\n  <thead>\n    <tr style=\"text-align: right;\">\n      <th></th>\n      <th>count</th>\n      <th>mean</th>\n      <th>std</th>\n      <th>min</th>\n      <th>25%</th>\n      <th>50%</th>\n      <th>75%</th>\n      <th>max</th>\n    </tr>\n  </thead>\n  <tbody>\n    <tr>\n      <th>Rank</th>\n      <td>782.0</td>\n      <td>391.500000</td>\n      <td>225.888247</td>\n      <td>1.0</td>\n      <td>196.25</td>\n      <td>391.5</td>\n      <td>586.75</td>\n      <td>782.0</td>\n    </tr>\n    <tr>\n      <th>Year</th>\n      <td>782.0</td>\n      <td>2006.620205</td>\n      <td>10.026227</td>\n      <td>1939.0</td>\n      <td>2001.00</td>\n      <td>2009.0</td>\n      <td>2014.00</td>\n      <td>2019.0</td>\n    </tr>\n  </tbody>\n</table>\n</div>"
     },
     "execution_count": 22,
     "metadata": {},
     "output_type": "execute_result"
    }
   ],
   "source": [
    "pd.DataFrame([twoDF.Rank.values, twoDF.Year.values],\n",
    "             columns=twoDF.index,\n",
    "             index=twoDF.columns)"
   ],
   "metadata": {
    "collapsed": false,
    "ExecuteTime": {
     "end_time": "2024-01-12T05:39:35.484270400Z",
     "start_time": "2024-01-12T05:39:35.469129400Z"
    }
   },
   "id": "9a4c9b5e029c92e9",
   "execution_count": 22
  },
  {
   "cell_type": "markdown",
   "source": [
    "-속성 : DF객체변수명.T => 원본 데이터 변경 안됨!"
   ],
   "metadata": {
    "collapsed": false
   },
   "id": "172c35d2932e9bd3"
  },
  {
   "cell_type": "code",
   "outputs": [
    {
     "data": {
      "text/plain": "      count         mean         std     min      25%     50%      75%     max\nRank  782.0   391.500000  225.888247     1.0   196.25   391.5   586.75   782.0\nYear  782.0  2006.620205   10.026227  1939.0  2001.00  2009.0  2014.00  2019.0",
      "text/html": "<div>\n<style scoped>\n    .dataframe tbody tr th:only-of-type {\n        vertical-align: middle;\n    }\n\n    .dataframe tbody tr th {\n        vertical-align: top;\n    }\n\n    .dataframe thead th {\n        text-align: right;\n    }\n</style>\n<table border=\"1\" class=\"dataframe\">\n  <thead>\n    <tr style=\"text-align: right;\">\n      <th></th>\n      <th>count</th>\n      <th>mean</th>\n      <th>std</th>\n      <th>min</th>\n      <th>25%</th>\n      <th>50%</th>\n      <th>75%</th>\n      <th>max</th>\n    </tr>\n  </thead>\n  <tbody>\n    <tr>\n      <th>Rank</th>\n      <td>782.0</td>\n      <td>391.500000</td>\n      <td>225.888247</td>\n      <td>1.0</td>\n      <td>196.25</td>\n      <td>391.5</td>\n      <td>586.75</td>\n      <td>782.0</td>\n    </tr>\n    <tr>\n      <th>Year</th>\n      <td>782.0</td>\n      <td>2006.620205</td>\n      <td>10.026227</td>\n      <td>1939.0</td>\n      <td>2001.00</td>\n      <td>2009.0</td>\n      <td>2014.00</td>\n      <td>2019.0</td>\n    </tr>\n  </tbody>\n</table>\n</div>"
     },
     "execution_count": 24,
     "metadata": {},
     "output_type": "execute_result"
    }
   ],
   "source": [
    "twoDF.T"
   ],
   "metadata": {
    "collapsed": false,
    "ExecuteTime": {
     "end_time": "2024-01-12T05:40:10.065545600Z",
     "start_time": "2024-01-12T05:40:10.036289Z"
    }
   },
   "id": "4c07984f829b913c",
   "execution_count": 24
  },
  {
   "cell_type": "code",
   "outputs": [
    {
     "data": {
      "text/plain": "             Rank         Year\ncount  782.000000   782.000000\nmean   391.500000  2006.620205\nstd    225.888247    10.026227\nmin      1.000000  1939.000000\n25%    196.250000  2001.000000\n50%    391.500000  2009.000000\n75%    586.750000  2014.000000\nmax    782.000000  2019.000000",
      "text/html": "<div>\n<style scoped>\n    .dataframe tbody tr th:only-of-type {\n        vertical-align: middle;\n    }\n\n    .dataframe tbody tr th {\n        vertical-align: top;\n    }\n\n    .dataframe thead th {\n        text-align: right;\n    }\n</style>\n<table border=\"1\" class=\"dataframe\">\n  <thead>\n    <tr style=\"text-align: right;\">\n      <th></th>\n      <th>Rank</th>\n      <th>Year</th>\n    </tr>\n  </thead>\n  <tbody>\n    <tr>\n      <th>count</th>\n      <td>782.000000</td>\n      <td>782.000000</td>\n    </tr>\n    <tr>\n      <th>mean</th>\n      <td>391.500000</td>\n      <td>2006.620205</td>\n    </tr>\n    <tr>\n      <th>std</th>\n      <td>225.888247</td>\n      <td>10.026227</td>\n    </tr>\n    <tr>\n      <th>min</th>\n      <td>1.000000</td>\n      <td>1939.000000</td>\n    </tr>\n    <tr>\n      <th>25%</th>\n      <td>196.250000</td>\n      <td>2001.000000</td>\n    </tr>\n    <tr>\n      <th>50%</th>\n      <td>391.500000</td>\n      <td>2009.000000</td>\n    </tr>\n    <tr>\n      <th>75%</th>\n      <td>586.750000</td>\n      <td>2014.000000</td>\n    </tr>\n    <tr>\n      <th>max</th>\n      <td>782.000000</td>\n      <td>2019.000000</td>\n    </tr>\n  </tbody>\n</table>\n</div>"
     },
     "execution_count": 25,
     "metadata": {},
     "output_type": "execute_result"
    }
   ],
   "source": [
    "twoDF"
   ],
   "metadata": {
    "collapsed": false,
    "ExecuteTime": {
     "end_time": "2024-01-12T05:40:29.242989600Z",
     "start_time": "2024-01-12T05:40:29.224229900Z"
    }
   },
   "id": "12fa60ee6884a4c1",
   "execution_count": 25
  },
  {
   "cell_type": "code",
   "outputs": [
    {
     "ename": "NameError",
     "evalue": "name 'tt' is not defined",
     "output_type": "error",
     "traceback": [
      "\u001B[1;31m---------------------------------------------------------------------------\u001B[0m",
      "\u001B[1;31mNameError\u001B[0m                                 Traceback (most recent call last)",
      "Cell \u001B[1;32mIn[26], line 1\u001B[0m\n\u001B[1;32m----> 1\u001B[0m \u001B[43mtt\u001B[49m\n",
      "\u001B[1;31mNameError\u001B[0m: name 'tt' is not defined"
     ]
    }
   ],
   "source": [
    "tt"
   ],
   "metadata": {
    "collapsed": false,
    "ExecuteTime": {
     "end_time": "2024-01-12T05:41:00.914907600Z",
     "start_time": "2024-01-12T05:41:00.876067200Z"
    }
   },
   "id": "dfff36152f13dd",
   "execution_count": 26
  },
  {
   "cell_type": "markdown",
   "source": [
    "-메서드 : DF객체변수명.transpose()"
   ],
   "metadata": {
    "collapsed": false
   },
   "id": "5ff607f0e681252a"
  },
  {
   "cell_type": "code",
   "outputs": [],
   "source": [
    "twoDF=twoDF.transpose()"
   ],
   "metadata": {
    "collapsed": false,
    "ExecuteTime": {
     "end_time": "2024-01-12T05:42:42.772676Z",
     "start_time": "2024-01-12T05:42:42.752250200Z"
    }
   },
   "id": "5001c019b33b06f",
   "execution_count": 27
  },
  {
   "cell_type": "markdown",
   "source": [
    "-(5) 데이터 정렬\n",
    "    * 인덱스 기반 정렬 => 행인덱스 / 열인덱스"
   ],
   "metadata": {
    "collapsed": false
   },
   "id": "4c37558384eb28dc"
  },
  {
   "cell_type": "code",
   "outputs": [
    {
     "data": {
      "text/plain": "     Rank                         Title           Studio       Gross  Year\n781   782                      Valkyrie              MGM    $200.30   2008\n780   781      The Hunt for Red October        Paramount    $200.50   1990\n779   780                   Cats & Dogs  Warner Brothers    $200.70   2001\n778   779           Garfield: The Movie              Fox    $200.80   2004\n777   778                     Yogi Bear  Warner Brothers    $201.60   2010\n..    ...                           ...              ...         ...   ...\n4       5        Avengers: Infinity War      Buena Vista  $2,048.40   2018\n3       4  Star Wars: The Force Awakens      Buena Vista  $2,068.20   2015\n2       3                       Titanic        Paramount  $2,187.50   1997\n1       2                        Avatar              Fox  $2,789.70   2009\n0       1             Avengers: Endgame      Buena Vista  $2,796.30   2019\n\n[782 rows x 5 columns]",
      "text/html": "<div>\n<style scoped>\n    .dataframe tbody tr th:only-of-type {\n        vertical-align: middle;\n    }\n\n    .dataframe tbody tr th {\n        vertical-align: top;\n    }\n\n    .dataframe thead th {\n        text-align: right;\n    }\n</style>\n<table border=\"1\" class=\"dataframe\">\n  <thead>\n    <tr style=\"text-align: right;\">\n      <th></th>\n      <th>Rank</th>\n      <th>Title</th>\n      <th>Studio</th>\n      <th>Gross</th>\n      <th>Year</th>\n    </tr>\n  </thead>\n  <tbody>\n    <tr>\n      <th>781</th>\n      <td>782</td>\n      <td>Valkyrie</td>\n      <td>MGM</td>\n      <td>$200.30</td>\n      <td>2008</td>\n    </tr>\n    <tr>\n      <th>780</th>\n      <td>781</td>\n      <td>The Hunt for Red October</td>\n      <td>Paramount</td>\n      <td>$200.50</td>\n      <td>1990</td>\n    </tr>\n    <tr>\n      <th>779</th>\n      <td>780</td>\n      <td>Cats &amp; Dogs</td>\n      <td>Warner Brothers</td>\n      <td>$200.70</td>\n      <td>2001</td>\n    </tr>\n    <tr>\n      <th>778</th>\n      <td>779</td>\n      <td>Garfield: The Movie</td>\n      <td>Fox</td>\n      <td>$200.80</td>\n      <td>2004</td>\n    </tr>\n    <tr>\n      <th>777</th>\n      <td>778</td>\n      <td>Yogi Bear</td>\n      <td>Warner Brothers</td>\n      <td>$201.60</td>\n      <td>2010</td>\n    </tr>\n    <tr>\n      <th>...</th>\n      <td>...</td>\n      <td>...</td>\n      <td>...</td>\n      <td>...</td>\n      <td>...</td>\n    </tr>\n    <tr>\n      <th>4</th>\n      <td>5</td>\n      <td>Avengers: Infinity War</td>\n      <td>Buena Vista</td>\n      <td>$2,048.40</td>\n      <td>2018</td>\n    </tr>\n    <tr>\n      <th>3</th>\n      <td>4</td>\n      <td>Star Wars: The Force Awakens</td>\n      <td>Buena Vista</td>\n      <td>$2,068.20</td>\n      <td>2015</td>\n    </tr>\n    <tr>\n      <th>2</th>\n      <td>3</td>\n      <td>Titanic</td>\n      <td>Paramount</td>\n      <td>$2,187.50</td>\n      <td>1997</td>\n    </tr>\n    <tr>\n      <th>1</th>\n      <td>2</td>\n      <td>Avatar</td>\n      <td>Fox</td>\n      <td>$2,789.70</td>\n      <td>2009</td>\n    </tr>\n    <tr>\n      <th>0</th>\n      <td>1</td>\n      <td>Avengers: Endgame</td>\n      <td>Buena Vista</td>\n      <td>$2,796.30</td>\n      <td>2019</td>\n    </tr>\n  </tbody>\n</table>\n<p>782 rows × 5 columns</p>\n</div>"
     },
     "execution_count": 31,
     "metadata": {},
     "output_type": "execute_result"
    }
   ],
   "source": [
    "# 행 인덱스 기반 정렬 => DF.sort_index()\n",
    "movieDF.sort_index(ascending=False)"
   ],
   "metadata": {
    "collapsed": false,
    "ExecuteTime": {
     "end_time": "2024-01-12T05:53:22.364920500Z",
     "start_time": "2024-01-12T05:53:22.334986200Z"
    }
   },
   "id": "f49b5e9e95a147ea",
   "execution_count": 31
  },
  {
   "cell_type": "code",
   "outputs": [
    {
     "data": {
      "text/plain": "          Gross  Rank           Studio                         Title  Year\n0    $2,796.30      1      Buena Vista             Avengers: Endgame  2019\n1    $2,789.70      2              Fox                        Avatar  2009\n2    $2,187.50      3        Paramount                       Titanic  1997\n3    $2,068.20      4      Buena Vista  Star Wars: The Force Awakens  2015\n4    $2,048.40      5      Buena Vista        Avengers: Infinity War  2018\n..          ...   ...              ...                           ...   ...\n777    $201.60    778  Warner Brothers                     Yogi Bear  2010\n778    $200.80    779              Fox           Garfield: The Movie  2004\n779    $200.70    780  Warner Brothers                   Cats & Dogs  2001\n780    $200.50    781        Paramount      The Hunt for Red October  1990\n781    $200.30    782              MGM                      Valkyrie  2008\n\n[782 rows x 5 columns]",
      "text/html": "<div>\n<style scoped>\n    .dataframe tbody tr th:only-of-type {\n        vertical-align: middle;\n    }\n\n    .dataframe tbody tr th {\n        vertical-align: top;\n    }\n\n    .dataframe thead th {\n        text-align: right;\n    }\n</style>\n<table border=\"1\" class=\"dataframe\">\n  <thead>\n    <tr style=\"text-align: right;\">\n      <th></th>\n      <th>Gross</th>\n      <th>Rank</th>\n      <th>Studio</th>\n      <th>Title</th>\n      <th>Year</th>\n    </tr>\n  </thead>\n  <tbody>\n    <tr>\n      <th>0</th>\n      <td>$2,796.30</td>\n      <td>1</td>\n      <td>Buena Vista</td>\n      <td>Avengers: Endgame</td>\n      <td>2019</td>\n    </tr>\n    <tr>\n      <th>1</th>\n      <td>$2,789.70</td>\n      <td>2</td>\n      <td>Fox</td>\n      <td>Avatar</td>\n      <td>2009</td>\n    </tr>\n    <tr>\n      <th>2</th>\n      <td>$2,187.50</td>\n      <td>3</td>\n      <td>Paramount</td>\n      <td>Titanic</td>\n      <td>1997</td>\n    </tr>\n    <tr>\n      <th>3</th>\n      <td>$2,068.20</td>\n      <td>4</td>\n      <td>Buena Vista</td>\n      <td>Star Wars: The Force Awakens</td>\n      <td>2015</td>\n    </tr>\n    <tr>\n      <th>4</th>\n      <td>$2,048.40</td>\n      <td>5</td>\n      <td>Buena Vista</td>\n      <td>Avengers: Infinity War</td>\n      <td>2018</td>\n    </tr>\n    <tr>\n      <th>...</th>\n      <td>...</td>\n      <td>...</td>\n      <td>...</td>\n      <td>...</td>\n      <td>...</td>\n    </tr>\n    <tr>\n      <th>777</th>\n      <td>$201.60</td>\n      <td>778</td>\n      <td>Warner Brothers</td>\n      <td>Yogi Bear</td>\n      <td>2010</td>\n    </tr>\n    <tr>\n      <th>778</th>\n      <td>$200.80</td>\n      <td>779</td>\n      <td>Fox</td>\n      <td>Garfield: The Movie</td>\n      <td>2004</td>\n    </tr>\n    <tr>\n      <th>779</th>\n      <td>$200.70</td>\n      <td>780</td>\n      <td>Warner Brothers</td>\n      <td>Cats &amp; Dogs</td>\n      <td>2001</td>\n    </tr>\n    <tr>\n      <th>780</th>\n      <td>$200.50</td>\n      <td>781</td>\n      <td>Paramount</td>\n      <td>The Hunt for Red October</td>\n      <td>1990</td>\n    </tr>\n    <tr>\n      <th>781</th>\n      <td>$200.30</td>\n      <td>782</td>\n      <td>MGM</td>\n      <td>Valkyrie</td>\n      <td>2008</td>\n    </tr>\n  </tbody>\n</table>\n<p>782 rows × 5 columns</p>\n</div>"
     },
     "execution_count": 36,
     "metadata": {},
     "output_type": "execute_result"
    }
   ],
   "source": [
    "# 컬럼 인덱스 기반 정렬 => 내림차순\n",
    "movieDF.sort_index(axis='columns')"
   ],
   "metadata": {
    "collapsed": false,
    "ExecuteTime": {
     "end_time": "2024-01-12T05:57:35.277780900Z",
     "start_time": "2024-01-12T05:57:35.252669500Z"
    }
   },
   "id": "e2dec82fd28ba10f",
   "execution_count": 36
  },
  {
   "cell_type": "markdown",
   "source": [
    "- (5) 데이터 정렬\n",
    "        * 데이터/값 기반 정렬"
   ],
   "metadata": {
    "collapsed": false
   },
   "id": "34d5a385949f6be9"
  },
  {
   "cell_type": "code",
   "outputs": [
    {
     "data": {
      "text/plain": "     Rank                      Title                  Studio     Gross  Year\n287   288         Gone with the Wind                     MGM  $402.40   1939\n539   540                      Bambi                     RKO  $267.40   1942\n707   708             101 Dalmatians             Buena Vista  $215.90   1961\n754   755            The Jungle Book             Buena Vista  $205.80   1967\n603   604              The Godfather               Paramount  $245.10   1972\n..    ...                        ...                     ...       ...   ...\n339   340                    Shazam!         Warner Brothers  $364.10   2019\n669   670  The Secret Life of Pets 2               Universal  $225.90   2019\n113   114        The Wandering Earth  China Film Corporation  $699.80   2019\n197   198                Toy Story 4             Buena Vista  $519.80   2019\n571   572                         Us               Universal  $254.70   2019\n\n[782 rows x 5 columns]",
      "text/html": "<div>\n<style scoped>\n    .dataframe tbody tr th:only-of-type {\n        vertical-align: middle;\n    }\n\n    .dataframe tbody tr th {\n        vertical-align: top;\n    }\n\n    .dataframe thead th {\n        text-align: right;\n    }\n</style>\n<table border=\"1\" class=\"dataframe\">\n  <thead>\n    <tr style=\"text-align: right;\">\n      <th></th>\n      <th>Rank</th>\n      <th>Title</th>\n      <th>Studio</th>\n      <th>Gross</th>\n      <th>Year</th>\n    </tr>\n  </thead>\n  <tbody>\n    <tr>\n      <th>287</th>\n      <td>288</td>\n      <td>Gone with the Wind</td>\n      <td>MGM</td>\n      <td>$402.40</td>\n      <td>1939</td>\n    </tr>\n    <tr>\n      <th>539</th>\n      <td>540</td>\n      <td>Bambi</td>\n      <td>RKO</td>\n      <td>$267.40</td>\n      <td>1942</td>\n    </tr>\n    <tr>\n      <th>707</th>\n      <td>708</td>\n      <td>101 Dalmatians</td>\n      <td>Buena Vista</td>\n      <td>$215.90</td>\n      <td>1961</td>\n    </tr>\n    <tr>\n      <th>754</th>\n      <td>755</td>\n      <td>The Jungle Book</td>\n      <td>Buena Vista</td>\n      <td>$205.80</td>\n      <td>1967</td>\n    </tr>\n    <tr>\n      <th>603</th>\n      <td>604</td>\n      <td>The Godfather</td>\n      <td>Paramount</td>\n      <td>$245.10</td>\n      <td>1972</td>\n    </tr>\n    <tr>\n      <th>...</th>\n      <td>...</td>\n      <td>...</td>\n      <td>...</td>\n      <td>...</td>\n      <td>...</td>\n    </tr>\n    <tr>\n      <th>339</th>\n      <td>340</td>\n      <td>Shazam!</td>\n      <td>Warner Brothers</td>\n      <td>$364.10</td>\n      <td>2019</td>\n    </tr>\n    <tr>\n      <th>669</th>\n      <td>670</td>\n      <td>The Secret Life of Pets 2</td>\n      <td>Universal</td>\n      <td>$225.90</td>\n      <td>2019</td>\n    </tr>\n    <tr>\n      <th>113</th>\n      <td>114</td>\n      <td>The Wandering Earth</td>\n      <td>China Film Corporation</td>\n      <td>$699.80</td>\n      <td>2019</td>\n    </tr>\n    <tr>\n      <th>197</th>\n      <td>198</td>\n      <td>Toy Story 4</td>\n      <td>Buena Vista</td>\n      <td>$519.80</td>\n      <td>2019</td>\n    </tr>\n    <tr>\n      <th>571</th>\n      <td>572</td>\n      <td>Us</td>\n      <td>Universal</td>\n      <td>$254.70</td>\n      <td>2019</td>\n    </tr>\n  </tbody>\n</table>\n<p>782 rows × 5 columns</p>\n</div>"
     },
     "execution_count": 40,
     "metadata": {},
     "output_type": "execute_result"
    }
   ],
   "source": [
    "movieDF.sort_values(by=['Year','Title'])"
   ],
   "metadata": {
    "collapsed": false,
    "ExecuteTime": {
     "end_time": "2024-01-12T06:04:12.518597300Z",
     "start_time": "2024-01-12T06:04:12.500127500Z"
    }
   },
   "id": "de5db57f32306dc4",
   "execution_count": 40
  },
  {
   "cell_type": "markdown",
   "source": [
    "-실습 다양한 정렬"
   ],
   "metadata": {
    "collapsed": false
   },
   "id": "df3d26d2dee19abd"
  },
  {
   "cell_type": "code",
   "outputs": [
    {
     "data": {
      "text/plain": "  col1  col2  col3 col4\n0    A     2     0    a\n1    A     1     1    B\n2    B     9     9    c\n3  NaN     8     4    D\n4    D     7     2    e\n5    C     4     3    F",
      "text/html": "<div>\n<style scoped>\n    .dataframe tbody tr th:only-of-type {\n        vertical-align: middle;\n    }\n\n    .dataframe tbody tr th {\n        vertical-align: top;\n    }\n\n    .dataframe thead th {\n        text-align: right;\n    }\n</style>\n<table border=\"1\" class=\"dataframe\">\n  <thead>\n    <tr style=\"text-align: right;\">\n      <th></th>\n      <th>col1</th>\n      <th>col2</th>\n      <th>col3</th>\n      <th>col4</th>\n    </tr>\n  </thead>\n  <tbody>\n    <tr>\n      <th>0</th>\n      <td>A</td>\n      <td>2</td>\n      <td>0</td>\n      <td>a</td>\n    </tr>\n    <tr>\n      <th>1</th>\n      <td>A</td>\n      <td>1</td>\n      <td>1</td>\n      <td>B</td>\n    </tr>\n    <tr>\n      <th>2</th>\n      <td>B</td>\n      <td>9</td>\n      <td>9</td>\n      <td>c</td>\n    </tr>\n    <tr>\n      <th>3</th>\n      <td>NaN</td>\n      <td>8</td>\n      <td>4</td>\n      <td>D</td>\n    </tr>\n    <tr>\n      <th>4</th>\n      <td>D</td>\n      <td>7</td>\n      <td>2</td>\n      <td>e</td>\n    </tr>\n    <tr>\n      <th>5</th>\n      <td>C</td>\n      <td>4</td>\n      <td>3</td>\n      <td>F</td>\n    </tr>\n  </tbody>\n</table>\n</div>"
     },
     "execution_count": 41,
     "metadata": {},
     "output_type": "execute_result"
    }
   ],
   "source": [
    "import numpy as np\n",
    "from math import nan\n",
    "data={'col1':['A','A','B',nan,'D','C'],\n",
    "      'col2':[2,1,9,8,7,4],\n",
    "      'col3':[0,1,9,4,2,3],\n",
    "      'col4':['a','B','c','D','e','F'],}"
   ],
   "metadata": {
    "collapsed": false,
    "ExecuteTime": {
     "end_time": "2024-01-12T06:18:16.434375900Z",
     "start_time": "2024-01-12T06:18:16.405095900Z"
    }
   },
   "id": "7c05fa6fa040b206",
   "execution_count": 41
  },
  {
   "cell_type": "code",
   "outputs": [
    {
     "data": {
      "text/plain": "  col1  col2  col3 col4\n0    A     2     0    a\n1    A     1     1    B\n2    B     9     9    c\n3  NaN     8     4    D\n4    D     7     2    e\n5    C     4     3    F",
      "text/html": "<div>\n<style scoped>\n    .dataframe tbody tr th:only-of-type {\n        vertical-align: middle;\n    }\n\n    .dataframe tbody tr th {\n        vertical-align: top;\n    }\n\n    .dataframe thead th {\n        text-align: right;\n    }\n</style>\n<table border=\"1\" class=\"dataframe\">\n  <thead>\n    <tr style=\"text-align: right;\">\n      <th></th>\n      <th>col1</th>\n      <th>col2</th>\n      <th>col3</th>\n      <th>col4</th>\n    </tr>\n  </thead>\n  <tbody>\n    <tr>\n      <th>0</th>\n      <td>A</td>\n      <td>2</td>\n      <td>0</td>\n      <td>a</td>\n    </tr>\n    <tr>\n      <th>1</th>\n      <td>A</td>\n      <td>1</td>\n      <td>1</td>\n      <td>B</td>\n    </tr>\n    <tr>\n      <th>2</th>\n      <td>B</td>\n      <td>9</td>\n      <td>9</td>\n      <td>c</td>\n    </tr>\n    <tr>\n      <th>3</th>\n      <td>NaN</td>\n      <td>8</td>\n      <td>4</td>\n      <td>D</td>\n    </tr>\n    <tr>\n      <th>4</th>\n      <td>D</td>\n      <td>7</td>\n      <td>2</td>\n      <td>e</td>\n    </tr>\n    <tr>\n      <th>5</th>\n      <td>C</td>\n      <td>4</td>\n      <td>3</td>\n      <td>F</td>\n    </tr>\n  </tbody>\n</table>\n</div>"
     },
     "execution_count": 42,
     "metadata": {},
     "output_type": "execute_result"
    }
   ],
   "source": [
    "dataDF=pd.DataFrame(data)\n",
    "dataDF"
   ],
   "metadata": {
    "collapsed": false,
    "ExecuteTime": {
     "end_time": "2024-01-12T06:18:40.311298100Z",
     "start_time": "2024-01-12T06:18:40.285159900Z"
    }
   },
   "id": "af789e3040beaa96",
   "execution_count": 42
  },
  {
   "cell_type": "markdown",
   "source": [
    "- col1 컬럼을 기준으로 오름차순 정렬"
   ],
   "metadata": {
    "collapsed": false
   },
   "id": "996c9a89c786179c"
  },
  {
   "cell_type": "code",
   "outputs": [
    {
     "data": {
      "text/plain": "  col1  col2  col3 col4\n0    A     2     0    a\n1    A     1     1    B\n2    B     9     9    c\n5    C     4     3    F\n4    D     7     2    e\n3  NaN     8     4    D",
      "text/html": "<div>\n<style scoped>\n    .dataframe tbody tr th:only-of-type {\n        vertical-align: middle;\n    }\n\n    .dataframe tbody tr th {\n        vertical-align: top;\n    }\n\n    .dataframe thead th {\n        text-align: right;\n    }\n</style>\n<table border=\"1\" class=\"dataframe\">\n  <thead>\n    <tr style=\"text-align: right;\">\n      <th></th>\n      <th>col1</th>\n      <th>col2</th>\n      <th>col3</th>\n      <th>col4</th>\n    </tr>\n  </thead>\n  <tbody>\n    <tr>\n      <th>0</th>\n      <td>A</td>\n      <td>2</td>\n      <td>0</td>\n      <td>a</td>\n    </tr>\n    <tr>\n      <th>1</th>\n      <td>A</td>\n      <td>1</td>\n      <td>1</td>\n      <td>B</td>\n    </tr>\n    <tr>\n      <th>2</th>\n      <td>B</td>\n      <td>9</td>\n      <td>9</td>\n      <td>c</td>\n    </tr>\n    <tr>\n      <th>5</th>\n      <td>C</td>\n      <td>4</td>\n      <td>3</td>\n      <td>F</td>\n    </tr>\n    <tr>\n      <th>4</th>\n      <td>D</td>\n      <td>7</td>\n      <td>2</td>\n      <td>e</td>\n    </tr>\n    <tr>\n      <th>3</th>\n      <td>NaN</td>\n      <td>8</td>\n      <td>4</td>\n      <td>D</td>\n    </tr>\n  </tbody>\n</table>\n</div>"
     },
     "execution_count": 43,
     "metadata": {},
     "output_type": "execute_result"
    }
   ],
   "source": [
    "# NaN 즉, 빈칸 데이터 (결측치) 값의 위치 : (기) 제일 마지막\n",
    "dataDF.sort_values(by='col1')"
   ],
   "metadata": {
    "collapsed": false,
    "ExecuteTime": {
     "end_time": "2024-01-12T06:21:12.409806200Z",
     "start_time": "2024-01-12T06:21:12.389223600Z"
    }
   },
   "id": "f9fad0db833be129",
   "execution_count": 43
  },
  {
   "cell_type": "code",
   "outputs": [
    {
     "data": {
      "text/plain": "  col1  col2  col3 col4\n3  NaN     8     4    D\n0    A     2     0    a\n1    A     1     1    B\n2    B     9     9    c\n5    C     4     3    F\n4    D     7     2    e",
      "text/html": "<div>\n<style scoped>\n    .dataframe tbody tr th:only-of-type {\n        vertical-align: middle;\n    }\n\n    .dataframe tbody tr th {\n        vertical-align: top;\n    }\n\n    .dataframe thead th {\n        text-align: right;\n    }\n</style>\n<table border=\"1\" class=\"dataframe\">\n  <thead>\n    <tr style=\"text-align: right;\">\n      <th></th>\n      <th>col1</th>\n      <th>col2</th>\n      <th>col3</th>\n      <th>col4</th>\n    </tr>\n  </thead>\n  <tbody>\n    <tr>\n      <th>3</th>\n      <td>NaN</td>\n      <td>8</td>\n      <td>4</td>\n      <td>D</td>\n    </tr>\n    <tr>\n      <th>0</th>\n      <td>A</td>\n      <td>2</td>\n      <td>0</td>\n      <td>a</td>\n    </tr>\n    <tr>\n      <th>1</th>\n      <td>A</td>\n      <td>1</td>\n      <td>1</td>\n      <td>B</td>\n    </tr>\n    <tr>\n      <th>2</th>\n      <td>B</td>\n      <td>9</td>\n      <td>9</td>\n      <td>c</td>\n    </tr>\n    <tr>\n      <th>5</th>\n      <td>C</td>\n      <td>4</td>\n      <td>3</td>\n      <td>F</td>\n    </tr>\n    <tr>\n      <th>4</th>\n      <td>D</td>\n      <td>7</td>\n      <td>2</td>\n      <td>e</td>\n    </tr>\n  </tbody>\n</table>\n</div>"
     },
     "execution_count": 46,
     "metadata": {},
     "output_type": "execute_result"
    }
   ],
   "source": [
    "# NaN 즉, 빈칸 데이터 (결측치) 값의 위치 => na_position 파라미터\n",
    "dataDF.sort_values(by='col1', na_position='first')"
   ],
   "metadata": {
    "collapsed": false,
    "ExecuteTime": {
     "end_time": "2024-01-12T06:24:25.001335600Z",
     "start_time": "2024-01-12T06:24:24.981799800Z"
    }
   },
   "id": "13689dc0dabcec52",
   "execution_count": 46
  },
  {
   "cell_type": "code",
   "outputs": [
    {
     "data": {
      "text/plain": "  col1  col2  col3 col4\n1    A     1     1    B\n3  NaN     8     4    D\n5    C     4     3    F\n0    A     2     0    a\n2    B     9     9    c\n4    D     7     2    e",
      "text/html": "<div>\n<style scoped>\n    .dataframe tbody tr th:only-of-type {\n        vertical-align: middle;\n    }\n\n    .dataframe tbody tr th {\n        vertical-align: top;\n    }\n\n    .dataframe thead th {\n        text-align: right;\n    }\n</style>\n<table border=\"1\" class=\"dataframe\">\n  <thead>\n    <tr style=\"text-align: right;\">\n      <th></th>\n      <th>col1</th>\n      <th>col2</th>\n      <th>col3</th>\n      <th>col4</th>\n    </tr>\n  </thead>\n  <tbody>\n    <tr>\n      <th>1</th>\n      <td>A</td>\n      <td>1</td>\n      <td>1</td>\n      <td>B</td>\n    </tr>\n    <tr>\n      <th>3</th>\n      <td>NaN</td>\n      <td>8</td>\n      <td>4</td>\n      <td>D</td>\n    </tr>\n    <tr>\n      <th>5</th>\n      <td>C</td>\n      <td>4</td>\n      <td>3</td>\n      <td>F</td>\n    </tr>\n    <tr>\n      <th>0</th>\n      <td>A</td>\n      <td>2</td>\n      <td>0</td>\n      <td>a</td>\n    </tr>\n    <tr>\n      <th>2</th>\n      <td>B</td>\n      <td>9</td>\n      <td>9</td>\n      <td>c</td>\n    </tr>\n    <tr>\n      <th>4</th>\n      <td>D</td>\n      <td>7</td>\n      <td>2</td>\n      <td>e</td>\n    </tr>\n  </tbody>\n</table>\n</div>"
     },
     "execution_count": 47,
     "metadata": {},
     "output_type": "execute_result"
    }
   ],
   "source": [
    "# col4 컬럼을 기준으로 오름차순 정렬\n",
    "dataDF.sort_values(by='col4')"
   ],
   "metadata": {
    "collapsed": false,
    "ExecuteTime": {
     "end_time": "2024-01-12T06:28:37.618109500Z",
     "start_time": "2024-01-12T06:28:37.597668500Z"
    }
   },
   "id": "d6c856b219d3a216",
   "execution_count": 47
  },
  {
   "cell_type": "code",
   "outputs": [
    {
     "data": {
      "text/plain": "  col1  col2  col3 col4\n0    A     2     0    a\n1    A     1     1    B\n2    B     9     9    c\n3  NaN     8     4    D\n4    D     7     2    e\n5    C     4     3    F",
      "text/html": "<div>\n<style scoped>\n    .dataframe tbody tr th:only-of-type {\n        vertical-align: middle;\n    }\n\n    .dataframe tbody tr th {\n        vertical-align: top;\n    }\n\n    .dataframe thead th {\n        text-align: right;\n    }\n</style>\n<table border=\"1\" class=\"dataframe\">\n  <thead>\n    <tr style=\"text-align: right;\">\n      <th></th>\n      <th>col1</th>\n      <th>col2</th>\n      <th>col3</th>\n      <th>col4</th>\n    </tr>\n  </thead>\n  <tbody>\n    <tr>\n      <th>0</th>\n      <td>A</td>\n      <td>2</td>\n      <td>0</td>\n      <td>a</td>\n    </tr>\n    <tr>\n      <th>1</th>\n      <td>A</td>\n      <td>1</td>\n      <td>1</td>\n      <td>B</td>\n    </tr>\n    <tr>\n      <th>2</th>\n      <td>B</td>\n      <td>9</td>\n      <td>9</td>\n      <td>c</td>\n    </tr>\n    <tr>\n      <th>3</th>\n      <td>NaN</td>\n      <td>8</td>\n      <td>4</td>\n      <td>D</td>\n    </tr>\n    <tr>\n      <th>4</th>\n      <td>D</td>\n      <td>7</td>\n      <td>2</td>\n      <td>e</td>\n    </tr>\n    <tr>\n      <th>5</th>\n      <td>C</td>\n      <td>4</td>\n      <td>3</td>\n      <td>F</td>\n    </tr>\n  </tbody>\n</table>\n</div>"
     },
     "execution_count": 50,
     "metadata": {},
     "output_type": "execute_result"
    }
   ],
   "source": [
    "dataDF.sort_values(by='col4', key= lambda col: col.str.upper())"
   ],
   "metadata": {
    "collapsed": false,
    "ExecuteTime": {
     "end_time": "2024-01-12T06:31:18.569482900Z",
     "start_time": "2024-01-12T06:31:18.543432700Z"
    }
   },
   "id": "206898d08678ceb0",
   "execution_count": 50
  },
  {
   "cell_type": "code",
   "outputs": [],
   "source": [],
   "metadata": {
    "collapsed": false
   },
   "id": "96796dd7a9b4b90f"
  }
 ],
 "metadata": {
  "kernelspec": {
   "display_name": "Python 3",
   "language": "python",
   "name": "python3"
  },
  "language_info": {
   "codemirror_mode": {
    "name": "ipython",
    "version": 2
   },
   "file_extension": ".py",
   "mimetype": "text/x-python",
   "name": "python",
   "nbconvert_exporter": "python",
   "pygments_lexer": "ipython2",
   "version": "2.7.6"
  }
 },
 "nbformat": 4,
 "nbformat_minor": 5
}
