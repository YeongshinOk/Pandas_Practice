{
 "cells": [
  {
   "cell_type": "markdown",
   "source": [
    "## [Series 데이터 연산]"
   ],
   "metadata": {
    "collapsed": false
   },
   "id": "3e2043a8d861713"
  },
  {
   "cell_type": "markdown",
   "source": [],
   "metadata": {
    "collapsed": false
   },
   "id": "e6a70d92dd5cc2a2"
  },
  {
   "cell_type": "markdown",
   "source": [
    "- (1) 모듈 로딩"
   ],
   "metadata": {
    "collapsed": false
   },
   "id": "5fdc7d27e9b909c6"
  },
  {
   "cell_type": "code",
   "outputs": [],
   "source": [
    "import pandas as pd\n",
    "import numpy as np"
   ],
   "metadata": {
    "collapsed": false,
    "ExecuteTime": {
     "end_time": "2024-01-12T06:33:44.357443500Z",
     "start_time": "2024-01-12T06:33:43.891171800Z"
    }
   },
   "id": "5221defeb26e6957",
   "execution_count": 1
  },
  {
   "cell_type": "markdown",
   "source": [
    "- (2) 데이터 준비"
   ],
   "metadata": {
    "collapsed": false
   },
   "id": "4623b3851c82d81d"
  },
  {
   "cell_type": "code",
   "outputs": [],
   "source": [
    "data = [5, 7, np.nan, 9, 11]"
   ],
   "metadata": {
    "collapsed": false,
    "ExecuteTime": {
     "end_time": "2024-01-12T06:34:28.963454Z",
     "start_time": "2024-01-12T06:34:28.950412400Z"
    }
   },
   "id": "c999e5ea26aa86cf",
   "execution_count": 2
  },
  {
   "cell_type": "markdown",
   "source": [
    "- (3) 데이터 저장 => 1차원 데이터로 Series에 저장"
   ],
   "metadata": {
    "collapsed": false
   },
   "id": "be5a2c17a3201de8"
  },
  {
   "cell_type": "code",
   "outputs": [],
   "source": [
    "sr = pd.Series(data)"
   ],
   "metadata": {
    "collapsed": false,
    "ExecuteTime": {
     "end_time": "2024-01-12T06:35:55.353579900Z",
     "start_time": "2024-01-12T06:35:55.337454700Z"
    }
   },
   "id": "d242c49c5e84f67a",
   "execution_count": 3
  },
  {
   "cell_type": "markdown",
   "source": [
    "- (4) 데이터 확인"
   ],
   "metadata": {
    "collapsed": false
   },
   "id": "fbdb91d7b980a879"
  },
  {
   "cell_type": "code",
   "outputs": [
    {
     "data": {
      "text/plain": "(RangeIndex(start=0, stop=5, step=1), (5,), 1, dtype('float64'), 5)"
     },
     "execution_count": 5,
     "metadata": {},
     "output_type": "execute_result"
    }
   ],
   "source": [
    "sr.index, sr. shape, sr.ndim, sr.dtype, sr.size"
   ],
   "metadata": {
    "collapsed": false,
    "ExecuteTime": {
     "end_time": "2024-01-12T06:37:55.424272500Z",
     "start_time": "2024-01-12T06:37:55.408278Z"
    }
   },
   "id": "d172c4c771f22c89",
   "execution_count": 5
  },
  {
   "cell_type": "code",
   "outputs": [
    {
     "data": {
      "text/plain": "array([ 5.,  7., nan,  9., 11.])"
     },
     "execution_count": 6,
     "metadata": {},
     "output_type": "execute_result"
    }
   ],
   "source": [
    "sr.values"
   ],
   "metadata": {
    "collapsed": false,
    "ExecuteTime": {
     "end_time": "2024-01-12T06:38:01.887437300Z",
     "start_time": "2024-01-12T06:38:01.865262100Z"
    }
   },
   "id": "e7e1a9d0cecabb4b",
   "execution_count": 6
  },
  {
   "cell_type": "markdown",
   "source": [
    "-(5) 연산 수행 => Series 객체 - 연산자 - 숫자"
   ],
   "metadata": {
    "collapsed": false
   },
   "id": "b134eaf71ca83003"
  },
  {
   "cell_type": "code",
   "outputs": [
    {
     "data": {
      "text/plain": "0    10.0\n1    12.0\n2     NaN\n3    14.0\n4    16.0\ndtype: float64"
     },
     "execution_count": 7,
     "metadata": {},
     "output_type": "execute_result"
    }
   ],
   "source": [
    "sr + 5"
   ],
   "metadata": {
    "collapsed": false,
    "ExecuteTime": {
     "end_time": "2024-01-12T06:40:53.272328400Z",
     "start_time": "2024-01-12T06:40:53.253919Z"
    }
   },
   "id": "9b17327668049097",
   "execution_count": 7
  },
  {
   "cell_type": "code",
   "outputs": [
    {
     "data": {
      "text/plain": "0    0.0\n1    2.0\n2    NaN\n3    4.0\n4    6.0\ndtype: float64"
     },
     "execution_count": 8,
     "metadata": {},
     "output_type": "execute_result"
    }
   ],
   "source": [
    "sr - 5"
   ],
   "metadata": {
    "collapsed": false,
    "ExecuteTime": {
     "end_time": "2024-01-12T06:41:15.246490600Z",
     "start_time": "2024-01-12T06:41:15.237796400Z"
    }
   },
   "id": "12755a0707880829",
   "execution_count": 8
  },
  {
   "cell_type": "code",
   "outputs": [
    {
     "data": {
      "text/plain": "0    25.0\n1    35.0\n2     NaN\n3    45.0\n4    55.0\ndtype: float64"
     },
     "execution_count": 9,
     "metadata": {},
     "output_type": "execute_result"
    }
   ],
   "source": [
    "sr * 5"
   ],
   "metadata": {
    "collapsed": false,
    "ExecuteTime": {
     "end_time": "2024-01-12T06:41:21.874278300Z",
     "start_time": "2024-01-12T06:41:21.864487300Z"
    }
   },
   "id": "4df279e93467d70b",
   "execution_count": 9
  },
  {
   "cell_type": "code",
   "outputs": [
    {
     "data": {
      "text/plain": "0    1.0\n1    1.4\n2    NaN\n3    1.8\n4    2.2\ndtype: float64"
     },
     "execution_count": 10,
     "metadata": {},
     "output_type": "execute_result"
    }
   ],
   "source": [
    "sr / 5"
   ],
   "metadata": {
    "collapsed": false,
    "ExecuteTime": {
     "end_time": "2024-01-12T06:41:30.364415900Z",
     "start_time": "2024-01-12T06:41:30.338191700Z"
    }
   },
   "id": "9a09866e0264ca41",
   "execution_count": 10
  },
  {
   "cell_type": "code",
   "outputs": [
    {
     "data": {
      "text/plain": "0    1.0\n1    1.0\n2    NaN\n3    1.0\n4    2.0\ndtype: float64"
     },
     "execution_count": 11,
     "metadata": {},
     "output_type": "execute_result"
    }
   ],
   "source": [
    "sr // 5"
   ],
   "metadata": {
    "collapsed": false,
    "ExecuteTime": {
     "end_time": "2024-01-12T06:41:39.579561500Z",
     "start_time": "2024-01-12T06:41:39.552160100Z"
    }
   },
   "id": "1beb5445fbdb0eb2",
   "execution_count": 11
  },
  {
   "cell_type": "code",
   "outputs": [
    {
     "data": {
      "text/plain": "0    0.0\n1    2.0\n2    NaN\n3    4.0\n4    1.0\ndtype: float64"
     },
     "execution_count": 12,
     "metadata": {},
     "output_type": "execute_result"
    }
   ],
   "source": [
    "sr % 5"
   ],
   "metadata": {
    "collapsed": false,
    "ExecuteTime": {
     "end_time": "2024-01-12T06:41:47.638174400Z",
     "start_time": "2024-01-12T06:41:47.613623700Z"
    }
   },
   "id": "b8bc11698f949938",
   "execution_count": 12
  },
  {
   "cell_type": "code",
   "outputs": [
    {
     "data": {
      "text/plain": "0    False\n1     True\n2    False\n3     True\n4     True\ndtype: bool"
     },
     "execution_count": 13,
     "metadata": {},
     "output_type": "execute_result"
    }
   ],
   "source": [
    "sr > 5"
   ],
   "metadata": {
    "collapsed": false,
    "ExecuteTime": {
     "end_time": "2024-01-12T06:41:56.591033800Z",
     "start_time": "2024-01-12T06:41:56.571840300Z"
    }
   },
   "id": "6292e1f1188b1bfa",
   "execution_count": 13
  },
  {
   "cell_type": "code",
   "outputs": [
    {
     "data": {
      "text/plain": "0     True\n1     True\n2    False\n3     True\n4    False\ndtype: bool"
     },
     "execution_count": 14,
     "metadata": {},
     "output_type": "execute_result"
    }
   ],
   "source": [
    "sr < 10"
   ],
   "metadata": {
    "collapsed": false,
    "ExecuteTime": {
     "end_time": "2024-01-12T06:43:44.866510700Z",
     "start_time": "2024-01-12T06:43:44.837574500Z"
    }
   },
   "id": "777f6bf46024ba6c",
   "execution_count": 14
  },
  {
   "cell_type": "code",
   "outputs": [
    {
     "data": {
      "text/plain": "0    False\n1     True\n2    False\n3     True\n4    False\ndtype: bool"
     },
     "execution_count": 19,
     "metadata": {},
     "output_type": "execute_result"
    }
   ],
   "source": [
    "(sr > 5) & (sr < 10)"
   ],
   "metadata": {
    "collapsed": false,
    "ExecuteTime": {
     "end_time": "2024-01-12T06:44:57.813886700Z",
     "start_time": "2024-01-12T06:44:57.793494Z"
    }
   },
   "id": "d4ebf526e9c68f2f",
   "execution_count": 19
  },
  {
   "cell_type": "markdown",
   "source": [
    "- 논리연산 => & : and연산 | : or연산 ~ : not 연산"
   ],
   "metadata": {
    "collapsed": false
   },
   "id": "bf60fbc891b1e2e0"
  },
  {
   "cell_type": "code",
   "outputs": [
    {
     "ename": "SyntaxError",
     "evalue": "unmatched ')' (263320215.py, line 1)",
     "output_type": "error",
     "traceback": [
      "\u001B[1;36m  Cell \u001B[1;32mIn[20], line 1\u001B[1;36m\u001B[0m\n\u001B[1;33m    print(~(sr > 5),  sr > 5))\u001B[0m\n\u001B[1;37m                             ^\u001B[0m\n\u001B[1;31mSyntaxError\u001B[0m\u001B[1;31m:\u001B[0m unmatched ')'\n"
     ]
    }
   ],
   "source": [
    "print(~(sr > 5),  sr > 5))"
   ],
   "metadata": {
    "collapsed": false,
    "ExecuteTime": {
     "end_time": "2024-01-12T06:48:08.791160900Z",
     "start_time": "2024-01-12T06:48:08.750960100Z"
    }
   },
   "id": "3ce09e8cf3721848",
   "execution_count": 20
  },
  {
   "cell_type": "markdown",
   "source": [
    "- (5) 연산 수행 => Series객체 + Series객체"
   ],
   "metadata": {
    "collapsed": false
   },
   "id": "72a03c2f2b75c2af"
  },
  {
   "cell_type": "code",
   "outputs": [],
   "source": [
    "data2 = [2,4,6,8,9]\n",
    "\n",
    "sr2 = pd.Series(data2)"
   ],
   "metadata": {
    "collapsed": false,
    "ExecuteTime": {
     "end_time": "2024-01-12T06:50:10.474144500Z",
     "start_time": "2024-01-12T06:50:10.460603300Z"
    }
   },
   "id": "eb98d246b440c3c8",
   "execution_count": 21
  },
  {
   "cell_type": "code",
   "outputs": [
    {
     "data": {
      "text/plain": "0     7.0\n1    11.0\n2     NaN\n3    17.0\n4    20.0\ndtype: float64"
     },
     "execution_count": 22,
     "metadata": {},
     "output_type": "execute_result"
    }
   ],
   "source": [
    "sr+sr2"
   ],
   "metadata": {
    "collapsed": false,
    "ExecuteTime": {
     "end_time": "2024-01-12T06:50:21.897319900Z",
     "start_time": "2024-01-12T06:50:21.888836200Z"
    }
   },
   "id": "1d0abcda0c1bf820",
   "execution_count": 22
  },
  {
   "cell_type": "code",
   "outputs": [
    {
     "name": "stdout",
     "output_type": "stream",
     "text": [
      "0     7.0\n",
      "1    11.0\n",
      "2     NaN\n",
      "3    17.0\n",
      "4    20.0\n",
      "dtype: float64\n",
      "\n",
      "0    3.0\n",
      "1    3.0\n",
      "2    NaN\n",
      "3    1.0\n",
      "4    2.0\n",
      "dtype: float64\n",
      "\n",
      "0    10.0\n",
      "1    28.0\n",
      "2     NaN\n",
      "3    72.0\n",
      "4    99.0\n",
      "dtype: float64\n",
      "\n",
      "0    2.500000\n",
      "1    1.750000\n",
      "2         NaN\n",
      "3    1.125000\n",
      "4    1.222222\n",
      "dtype: float64\n",
      "\n",
      "0    2.0\n",
      "1    1.0\n",
      "2    NaN\n",
      "3    1.0\n",
      "4    1.0\n",
      "dtype: float64\n",
      "\n",
      "0    1.0\n",
      "1    3.0\n",
      "2    NaN\n",
      "3    1.0\n",
      "4    2.0\n",
      "dtype: float64\n"
     ]
    }
   ],
   "source": [
    "print(sr+sr2, sr-sr2,sr*sr2,sr/sr2,sr//sr2,sr%sr2, sep='\\n\\n')"
   ],
   "metadata": {
    "collapsed": false,
    "ExecuteTime": {
     "end_time": "2024-01-12T06:51:41.913708600Z",
     "start_time": "2024-01-12T06:51:41.884142100Z"
    }
   },
   "id": "56d9f7a76d6487c",
   "execution_count": 24
  },
  {
   "cell_type": "code",
   "outputs": [
    {
     "name": "stdout",
     "output_type": "stream",
     "text": [
      "0     True\n",
      "1     True\n",
      "2    False\n",
      "3     True\n",
      "4     True\n",
      "dtype: bool\n",
      "\n",
      "0    False\n",
      "1    False\n",
      "2    False\n",
      "3    False\n",
      "4    False\n",
      "dtype: bool\n"
     ]
    }
   ],
   "source": [
    "print(sr>sr2, sr<sr2,sep='\\n\\n')"
   ],
   "metadata": {
    "collapsed": false,
    "ExecuteTime": {
     "end_time": "2024-01-12T06:52:29.085373800Z",
     "start_time": "2024-01-12T06:52:29.064301600Z"
    }
   },
   "id": "ad6c65302d45188c",
   "execution_count": 25
  },
  {
   "cell_type": "code",
   "outputs": [
    {
     "data": {
      "text/plain": "2    2\n3    4\n4    6\n5    8\n6    9\ndtype: int64"
     },
     "execution_count": 26,
     "metadata": {},
     "output_type": "execute_result"
    }
   ],
   "source": [
    "sr2.index = [2,3,4,5,6]\n",
    "sr2"
   ],
   "metadata": {
    "collapsed": false,
    "ExecuteTime": {
     "end_time": "2024-01-12T06:53:08.986665300Z",
     "start_time": "2024-01-12T06:53:08.958072500Z"
    }
   },
   "id": "d9b884a0d8e251f1",
   "execution_count": 26
  },
  {
   "cell_type": "code",
   "outputs": [
    {
     "name": "stdout",
     "output_type": "stream",
     "text": [
      "0     NaN\n",
      "1     NaN\n",
      "2     NaN\n",
      "3    13.0\n",
      "4    17.0\n",
      "5     NaN\n",
      "6     NaN\n",
      "dtype: float64\n",
      "\n",
      "0    NaN\n",
      "1    NaN\n",
      "2    NaN\n",
      "3    5.0\n",
      "4    5.0\n",
      "5    NaN\n",
      "6    NaN\n",
      "dtype: float64\n",
      "\n",
      "0     NaN\n",
      "1     NaN\n",
      "2     NaN\n",
      "3    36.0\n",
      "4    66.0\n",
      "5     NaN\n",
      "6     NaN\n",
      "dtype: float64\n",
      "\n",
      "0         NaN\n",
      "1         NaN\n",
      "2         NaN\n",
      "3    2.250000\n",
      "4    1.833333\n",
      "5         NaN\n",
      "6         NaN\n",
      "dtype: float64\n",
      "\n",
      "0    NaN\n",
      "1    NaN\n",
      "2    NaN\n",
      "3    2.0\n",
      "4    1.0\n",
      "5    NaN\n",
      "6    NaN\n",
      "dtype: float64\n",
      "\n",
      "0    NaN\n",
      "1    NaN\n",
      "2    NaN\n",
      "3    1.0\n",
      "4    5.0\n",
      "5    NaN\n",
      "6    NaN\n",
      "dtype: float64\n"
     ]
    }
   ],
   "source": [
    "print(sr+sr2, sr-sr2,sr*sr2,sr/sr2,sr//sr2,sr%sr2, sep='\\n\\n')"
   ],
   "metadata": {
    "collapsed": false,
    "ExecuteTime": {
     "end_time": "2024-01-12T06:54:52.963775500Z",
     "start_time": "2024-01-12T06:54:52.942635700Z"
    }
   },
   "id": "989d56d8a997b57c",
   "execution_count": 27
  },
  {
   "cell_type": "code",
   "outputs": [
    {
     "name": "stdout",
     "output_type": "stream",
     "text": [
      "   index  0\n",
      "0      2  2\n",
      "1      3  4\n",
      "2      4  6\n",
      "3      5  8\n",
      "4      6  9\n",
      "\n",
      "0    2\n",
      "1    4\n",
      "2    6\n",
      "3    8\n",
      "4    9\n",
      "dtype: int64\n"
     ]
    }
   ],
   "source": [
    "print(sr2.reset_index(), sr2.reset_index(drop=True), sep='\\n\\n')"
   ],
   "metadata": {
    "collapsed": false,
    "ExecuteTime": {
     "end_time": "2024-01-12T06:57:57.266856700Z",
     "start_time": "2024-01-12T06:57:57.238926300Z"
    }
   },
   "id": "695f8985eec4076",
   "execution_count": 31
  },
  {
   "cell_type": "markdown",
   "source": [
    "- (5) Series 연산수행 => 전용 메서드"
   ],
   "metadata": {
    "collapsed": false
   },
   "id": "1843fdfc4ec0bd1b"
  },
  {
   "cell_type": "code",
   "outputs": [
    {
     "name": "stdout",
     "output_type": "stream",
     "text": [
      "0    10.0\n",
      "1    12.0\n",
      "2     NaN\n",
      "3    14.0\n",
      "4    16.0\n",
      "dtype: float64\n",
      "\n",
      "0    10.0\n",
      "1    12.0\n",
      "2     5.0\n",
      "3    14.0\n",
      "4    16.0\n",
      "dtype: float64\n"
     ]
    }
   ],
   "source": [
    "print(sr.add(5), sr.add(5, fill_value=0), sep='\\n\\n')"
   ],
   "metadata": {
    "collapsed": false,
    "ExecuteTime": {
     "end_time": "2024-01-12T07:01:33.958119800Z",
     "start_time": "2024-01-12T07:01:33.946337300Z"
    }
   },
   "id": "be008e04dc9f36f1",
   "execution_count": 32
  },
  {
   "cell_type": "code",
   "outputs": [
    {
     "name": "stdout",
     "output_type": "stream",
     "text": [
      "0    NaN\n",
      "1    NaN\n",
      "2    NaN\n",
      "3    5.0\n",
      "4    5.0\n",
      "5    NaN\n",
      "6    NaN\n",
      "dtype: float64\n",
      "\n",
      "0    5.0\n",
      "1    7.0\n",
      "2   -2.0\n",
      "3    5.0\n",
      "4    5.0\n",
      "5   -8.0\n",
      "6   -9.0\n",
      "dtype: float64\n"
     ]
    }
   ],
   "source": [
    "print(sr.sub(sr2), sr.sub(sr2, fill_value=0), sep='\\n\\n')"
   ],
   "metadata": {
    "collapsed": false,
    "ExecuteTime": {
     "end_time": "2024-01-12T07:02:42.838530100Z",
     "start_time": "2024-01-12T07:02:42.824527400Z"
    }
   },
   "id": "e386b633d2593aaf",
   "execution_count": 33
  },
  {
   "cell_type": "code",
   "outputs": [],
   "source": [
    "addSR=sr.add(sr2, fill_value=0)\n",
    "subSR=sr.sub(sr2, fill_value=0)\n",
    "mulSR=sr.mul(sr2, fill_value=0)\n",
    "divSR=sr.div(sr2, fill_value=0)"
   ],
   "metadata": {
    "collapsed": false,
    "ExecuteTime": {
     "end_time": "2024-01-12T07:06:13.644137800Z",
     "start_time": "2024-01-12T07:06:13.638390300Z"
    }
   },
   "id": "17afa77f8ccaec4e",
   "execution_count": 35
  },
  {
   "cell_type": "code",
   "outputs": [
    {
     "data": {
      "text/plain": "(0     5.0\n 1     7.0\n 2     2.0\n 3    13.0\n 4    17.0\n 5     8.0\n 6     9.0\n dtype: float64,\n 0    5.0\n 1    7.0\n 2   -2.0\n 3    5.0\n 4    5.0\n 5   -8.0\n 6   -9.0\n dtype: float64,\n 0     0.0\n 1     0.0\n 2     0.0\n 3    36.0\n 4    66.0\n 5     0.0\n 6     0.0\n dtype: float64,\n 0         inf\n 1         inf\n 2    0.000000\n 3    2.250000\n 4    1.833333\n 5    0.000000\n 6    0.000000\n dtype: float64)"
     },
     "execution_count": 36,
     "metadata": {},
     "output_type": "execute_result"
    }
   ],
   "source": [
    "addSR, subSR, mulSR,divSR"
   ],
   "metadata": {
    "collapsed": false,
    "ExecuteTime": {
     "end_time": "2024-01-12T07:06:27.687622600Z",
     "start_time": "2024-01-12T07:06:27.665313700Z"
    }
   },
   "id": "f9d2b65207816ee5",
   "execution_count": 36
  },
  {
   "cell_type": "code",
   "outputs": [],
   "source": [
    "df = pd.DataFrame([])"
   ],
   "metadata": {
    "collapsed": false,
    "ExecuteTime": {
     "end_time": "2024-01-12T07:36:03.524360900Z",
     "start_time": "2024-01-12T07:36:03.499910600Z"
    }
   },
   "id": "197a44256def708a",
   "execution_count": 37
  },
  {
   "cell_type": "markdown",
   "source": [
    "- DataFrame과 DataFrame 연산 수행 => 동일 위치에 원소끼리 연산 수행"
   ],
   "metadata": {
    "collapsed": false
   },
   "id": "d7140d50c6af1082"
  },
  {
   "cell_type": "markdown",
   "source": [
    "- 연산 수행 메소드 활용 => 결측치 즉 NaN 빈칸에 대한 처리를 수행 가능\n",
    "-   * fill_value 파라미터에 값 설정"
   ],
   "metadata": {
    "collapsed": false
   },
   "id": "ff01c6583e80c327"
  },
  {
   "cell_type": "code",
   "outputs": [],
   "source": [],
   "metadata": {
    "collapsed": false
   },
   "id": "18f8254427d57b2c"
  }
 ],
 "metadata": {
  "kernelspec": {
   "display_name": "Python 3",
   "language": "python",
   "name": "python3"
  },
  "language_info": {
   "codemirror_mode": {
    "name": "ipython",
    "version": 2
   },
   "file_extension": ".py",
   "mimetype": "text/x-python",
   "name": "python",
   "nbconvert_exporter": "python",
   "pygments_lexer": "ipython2",
   "version": "2.7.6"
  }
 },
 "nbformat": 4,
 "nbformat_minor": 5
}
