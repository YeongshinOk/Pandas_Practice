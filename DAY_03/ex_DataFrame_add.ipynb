{
 "cells": [
  {
   "cell_type": "markdown",
   "id": "4fed8ac7",
   "metadata": {},
   "source": [
    "# [DataFrame 행/열 추가]"
   ]
  },
  {
   "cell_type": "markdown",
   "id": "a7b9a538",
   "metadata": {},
   "source": [
    "(1) 모듈 로딩 ----------------------------------------------"
   ]
  },
  {
   "cell_type": "code",
   "execution_count": 17,
   "id": "4abdc7d6",
   "metadata": {},
   "outputs": [],
   "source": [
    "import pandas as pd"
   ]
  },
  {
   "cell_type": "markdown",
   "id": "5c9525e0",
   "metadata": {},
   "source": [
    "(2) 데이터 준비 ----------------------------------"
   ]
  },
  {
   "cell_type": "code",
   "execution_count": 18,
   "id": "78aeb34e",
   "metadata": {},
   "outputs": [],
   "source": [
    "#dict 타입의 데이터 생성\n",
    "exam = { '이름':['마징가','배트맨','슈퍼맨','그린랜턴'],\n",
    "         '국어':[100,99,88,77],\n",
    "         '미술':[44,55,66,77],\n",
    "         '수학':[55,44,66,22],\n",
    "         '체육':[11,22,33,44]}"
   ]
  },
  {
   "cell_type": "markdown",
   "id": "5f625e98",
   "metadata": {},
   "source": [
    "(3) "
   ]
  },
  {
   "cell_type": "code",
   "execution_count": 19,
   "id": "154e0e1b",
   "metadata": {},
   "outputs": [],
   "source": [
    "examDF=pd.DataFrame(exam)"
   ]
  },
  {
   "cell_type": "code",
   "execution_count": 20,
   "id": "833f4ade",
   "metadata": {},
   "outputs": [
    {
     "data": {
      "text/html": [
       "<div>\n",
       "<style scoped>\n",
       "    .dataframe tbody tr th:only-of-type {\n",
       "        vertical-align: middle;\n",
       "    }\n",
       "\n",
       "    .dataframe tbody tr th {\n",
       "        vertical-align: top;\n",
       "    }\n",
       "\n",
       "    .dataframe thead th {\n",
       "        text-align: right;\n",
       "    }\n",
       "</style>\n",
       "<table border=\"1\" class=\"dataframe\">\n",
       "  <thead>\n",
       "    <tr style=\"text-align: right;\">\n",
       "      <th></th>\n",
       "      <th>이름</th>\n",
       "      <th>국어</th>\n",
       "      <th>미술</th>\n",
       "      <th>수학</th>\n",
       "      <th>체육</th>\n",
       "    </tr>\n",
       "  </thead>\n",
       "  <tbody>\n",
       "    <tr>\n",
       "      <th>0</th>\n",
       "      <td>마징가</td>\n",
       "      <td>100</td>\n",
       "      <td>44</td>\n",
       "      <td>55</td>\n",
       "      <td>11</td>\n",
       "    </tr>\n",
       "    <tr>\n",
       "      <th>1</th>\n",
       "      <td>배트맨</td>\n",
       "      <td>99</td>\n",
       "      <td>55</td>\n",
       "      <td>44</td>\n",
       "      <td>22</td>\n",
       "    </tr>\n",
       "    <tr>\n",
       "      <th>2</th>\n",
       "      <td>슈퍼맨</td>\n",
       "      <td>88</td>\n",
       "      <td>66</td>\n",
       "      <td>66</td>\n",
       "      <td>33</td>\n",
       "    </tr>\n",
       "    <tr>\n",
       "      <th>3</th>\n",
       "      <td>그린랜턴</td>\n",
       "      <td>77</td>\n",
       "      <td>77</td>\n",
       "      <td>22</td>\n",
       "      <td>44</td>\n",
       "    </tr>\n",
       "  </tbody>\n",
       "</table>\n",
       "</div>"
      ],
      "text/plain": [
       "     이름   국어  미술  수학  체육\n",
       "0   마징가  100  44  55  11\n",
       "1   배트맨   99  55  44  22\n",
       "2   슈퍼맨   88  66  66  33\n",
       "3  그린랜턴   77  77  22  44"
      ]
     },
     "execution_count": 20,
     "metadata": {},
     "output_type": "execute_result"
    }
   ],
   "source": [
    "examDF"
   ]
  },
  {
   "cell_type": "code",
   "execution_count": null,
   "id": "ee5cee12",
   "metadata": {},
   "outputs": [],
   "source": []
  },
  {
   "cell_type": "code",
   "execution_count": 21,
   "id": "d2e14146",
   "metadata": {},
   "outputs": [],
   "source": [
    "def printAttribute(df, dfname):\n",
    "    print(f'[{dfname} Attributes]')\n",
    "    print(f'index\\n ===> {examDF.index}')\n",
    "    print(f'columns\\n ===> {examDF.columns}')\n",
    "    print(f'shape ===> {examDF.shape}')\n",
    "    print(f'ndim ===> {examDF.ndim}')\n",
    "    print(f'dtypes ===> {examDF.dtypes}')"
   ]
  },
  {
   "cell_type": "code",
   "execution_count": 22,
   "id": "811357f5",
   "metadata": {},
   "outputs": [
    {
     "name": "stdout",
     "output_type": "stream",
     "text": [
      "[examDF Attributes]\n",
      "index\n",
      " ===> RangeIndex(start=0, stop=4, step=1)\n",
      "columns\n",
      " ===> Index(['이름', '국어', '미술', '수학', '체육'], dtype='object')\n",
      "shape ===> (4, 5)\n",
      "ndim ===> 2\n",
      "dtypes ===> 이름    object\n",
      "국어     int64\n",
      "미술     int64\n",
      "수학     int64\n",
      "체육     int64\n",
      "dtype: object\n"
     ]
    }
   ],
   "source": [
    "printAttribute(examDF, 'examDF')"
   ]
  },
  {
   "cell_type": "markdown",
   "id": "da32c6f1",
   "metadata": {},
   "source": [
    "(4) 저장된 데이터 속성 확인"
   ]
  },
  {
   "cell_type": "code",
   "execution_count": 23,
   "id": "e6f716d2",
   "metadata": {},
   "outputs": [
    {
     "name": "stdout",
     "output_type": "stream",
     "text": [
      "index ===> RangeIndex(start=0, stop=4, step=1)\n",
      "columns ===> Index(['이름', '국어', '미술', '수학', '체육'], dtype='object')\n",
      "shape ===> (4, 5)\n",
      "ndim ===> 2\n",
      "dtypes ===> 이름    object\n",
      "국어     int64\n",
      "미술     int64\n",
      "수학     int64\n",
      "체육     int64\n",
      "dtype: object\n"
     ]
    }
   ],
   "source": [
    "print(f'index ===> {examDF.index}')\n",
    "print(f'columns ===> {examDF.columns}')\n",
    "print(f'shape ===> {examDF.shape}')\n",
    "print(f'ndim ===> {examDF.ndim}')\n",
    "print(f'dtypes ===> {examDF.dtypes}')"
   ]
  },
  {
   "cell_type": "markdown",
   "id": "d34d179e",
   "metadata": {},
   "source": [
    "(5) DataFrame에 컬럼(column) 추가 <hr>\n",
    "- 방법 : DF객체변수명[새로운컬럼명]=값"
   ]
  },
  {
   "cell_type": "code",
   "execution_count": 26,
   "id": "0b4749af",
   "metadata": {},
   "outputs": [
    {
     "data": {
      "text/plain": [
       "Index(['이름', '국어', '미술', '수학', '체육'], dtype='object')"
      ]
     },
     "execution_count": 26,
     "metadata": {},
     "output_type": "execute_result"
    }
   ],
   "source": [
    "examDF.columns"
   ]
  },
  {
   "cell_type": "code",
   "execution_count": 27,
   "id": "c0d25121",
   "metadata": {},
   "outputs": [],
   "source": [
    "#행 갯수 만큼 값 추가\n",
    "examDF['영어'] = [90,99,86,66]"
   ]
  },
  {
   "cell_type": "code",
   "execution_count": 28,
   "id": "6e35409f",
   "metadata": {},
   "outputs": [
    {
     "data": {
      "text/html": [
       "<div>\n",
       "<style scoped>\n",
       "    .dataframe tbody tr th:only-of-type {\n",
       "        vertical-align: middle;\n",
       "    }\n",
       "\n",
       "    .dataframe tbody tr th {\n",
       "        vertical-align: top;\n",
       "    }\n",
       "\n",
       "    .dataframe thead th {\n",
       "        text-align: right;\n",
       "    }\n",
       "</style>\n",
       "<table border=\"1\" class=\"dataframe\">\n",
       "  <thead>\n",
       "    <tr style=\"text-align: right;\">\n",
       "      <th></th>\n",
       "      <th>이름</th>\n",
       "      <th>국어</th>\n",
       "      <th>미술</th>\n",
       "      <th>수학</th>\n",
       "      <th>체육</th>\n",
       "      <th>영어</th>\n",
       "    </tr>\n",
       "  </thead>\n",
       "  <tbody>\n",
       "    <tr>\n",
       "      <th>0</th>\n",
       "      <td>마징가</td>\n",
       "      <td>100</td>\n",
       "      <td>44</td>\n",
       "      <td>55</td>\n",
       "      <td>11</td>\n",
       "      <td>90</td>\n",
       "    </tr>\n",
       "    <tr>\n",
       "      <th>1</th>\n",
       "      <td>배트맨</td>\n",
       "      <td>99</td>\n",
       "      <td>55</td>\n",
       "      <td>44</td>\n",
       "      <td>22</td>\n",
       "      <td>99</td>\n",
       "    </tr>\n",
       "    <tr>\n",
       "      <th>2</th>\n",
       "      <td>슈퍼맨</td>\n",
       "      <td>88</td>\n",
       "      <td>66</td>\n",
       "      <td>66</td>\n",
       "      <td>33</td>\n",
       "      <td>86</td>\n",
       "    </tr>\n",
       "    <tr>\n",
       "      <th>3</th>\n",
       "      <td>그린랜턴</td>\n",
       "      <td>77</td>\n",
       "      <td>77</td>\n",
       "      <td>22</td>\n",
       "      <td>44</td>\n",
       "      <td>66</td>\n",
       "    </tr>\n",
       "  </tbody>\n",
       "</table>\n",
       "</div>"
      ],
      "text/plain": [
       "     이름   국어  미술  수학  체육  영어\n",
       "0   마징가  100  44  55  11  90\n",
       "1   배트맨   99  55  44  22  99\n",
       "2   슈퍼맨   88  66  66  33  86\n",
       "3  그린랜턴   77  77  22  44  66"
      ]
     },
     "execution_count": 28,
     "metadata": {},
     "output_type": "execute_result"
    }
   ],
   "source": [
    "examDF"
   ]
  },
  {
   "cell_type": "code",
   "execution_count": 33,
   "id": "0c252949",
   "metadata": {},
   "outputs": [
    {
     "data": {
      "text/html": [
       "<div>\n",
       "<style scoped>\n",
       "    .dataframe tbody tr th:only-of-type {\n",
       "        vertical-align: middle;\n",
       "    }\n",
       "\n",
       "    .dataframe tbody tr th {\n",
       "        vertical-align: top;\n",
       "    }\n",
       "\n",
       "    .dataframe thead th {\n",
       "        text-align: right;\n",
       "    }\n",
       "</style>\n",
       "<table border=\"1\" class=\"dataframe\">\n",
       "  <thead>\n",
       "    <tr style=\"text-align: right;\">\n",
       "      <th></th>\n",
       "      <th>이름</th>\n",
       "      <th>국어</th>\n",
       "      <th>미술</th>\n",
       "      <th>수학</th>\n",
       "      <th>체육</th>\n",
       "      <th>영어</th>\n",
       "      <th>과학</th>\n",
       "    </tr>\n",
       "  </thead>\n",
       "  <tbody>\n",
       "    <tr>\n",
       "      <th>0</th>\n",
       "      <td>마징가</td>\n",
       "      <td>100</td>\n",
       "      <td>44</td>\n",
       "      <td>55</td>\n",
       "      <td>11</td>\n",
       "      <td>90</td>\n",
       "      <td>10</td>\n",
       "    </tr>\n",
       "    <tr>\n",
       "      <th>1</th>\n",
       "      <td>배트맨</td>\n",
       "      <td>99</td>\n",
       "      <td>55</td>\n",
       "      <td>44</td>\n",
       "      <td>22</td>\n",
       "      <td>99</td>\n",
       "      <td>10</td>\n",
       "    </tr>\n",
       "    <tr>\n",
       "      <th>2</th>\n",
       "      <td>슈퍼맨</td>\n",
       "      <td>88</td>\n",
       "      <td>66</td>\n",
       "      <td>66</td>\n",
       "      <td>33</td>\n",
       "      <td>86</td>\n",
       "      <td>10</td>\n",
       "    </tr>\n",
       "    <tr>\n",
       "      <th>3</th>\n",
       "      <td>그린랜턴</td>\n",
       "      <td>77</td>\n",
       "      <td>77</td>\n",
       "      <td>22</td>\n",
       "      <td>44</td>\n",
       "      <td>66</td>\n",
       "      <td>10</td>\n",
       "    </tr>\n",
       "  </tbody>\n",
       "</table>\n",
       "</div>"
      ],
      "text/plain": [
       "     이름   국어  미술  수학  체육  영어  과학\n",
       "0   마징가  100  44  55  11  90  10\n",
       "1   배트맨   99  55  44  22  99  10\n",
       "2   슈퍼맨   88  66  66  33  86  10\n",
       "3  그린랜턴   77  77  22  44  66  10"
      ]
     },
     "execution_count": 33,
     "metadata": {},
     "output_type": "execute_result"
    }
   ],
   "source": [
    "examDF['과학'] = 10\n",
    "examDF"
   ]
  },
  {
   "cell_type": "code",
   "execution_count": 36,
   "id": "ba7dcc3a",
   "metadata": {},
   "outputs": [
    {
     "data": {
      "text/html": [
       "<div>\n",
       "<style scoped>\n",
       "    .dataframe tbody tr th:only-of-type {\n",
       "        vertical-align: middle;\n",
       "    }\n",
       "\n",
       "    .dataframe tbody tr th {\n",
       "        vertical-align: top;\n",
       "    }\n",
       "\n",
       "    .dataframe thead th {\n",
       "        text-align: right;\n",
       "    }\n",
       "</style>\n",
       "<table border=\"1\" class=\"dataframe\">\n",
       "  <thead>\n",
       "    <tr style=\"text-align: right;\">\n",
       "      <th></th>\n",
       "      <th>이름</th>\n",
       "      <th>국어</th>\n",
       "      <th>미술</th>\n",
       "      <th>수학</th>\n",
       "      <th>체육</th>\n",
       "      <th>영어</th>\n",
       "      <th>과학</th>\n",
       "      <th>6</th>\n",
       "    </tr>\n",
       "  </thead>\n",
       "  <tbody>\n",
       "    <tr>\n",
       "      <th>0</th>\n",
       "      <td>마징가</td>\n",
       "      <td>100</td>\n",
       "      <td>44</td>\n",
       "      <td>55</td>\n",
       "      <td>11</td>\n",
       "      <td>90</td>\n",
       "      <td>10</td>\n",
       "      <td>0</td>\n",
       "    </tr>\n",
       "    <tr>\n",
       "      <th>1</th>\n",
       "      <td>배트맨</td>\n",
       "      <td>99</td>\n",
       "      <td>55</td>\n",
       "      <td>44</td>\n",
       "      <td>22</td>\n",
       "      <td>99</td>\n",
       "      <td>10</td>\n",
       "      <td>0</td>\n",
       "    </tr>\n",
       "    <tr>\n",
       "      <th>2</th>\n",
       "      <td>슈퍼맨</td>\n",
       "      <td>88</td>\n",
       "      <td>66</td>\n",
       "      <td>66</td>\n",
       "      <td>33</td>\n",
       "      <td>86</td>\n",
       "      <td>10</td>\n",
       "      <td>0</td>\n",
       "    </tr>\n",
       "    <tr>\n",
       "      <th>3</th>\n",
       "      <td>그린랜턴</td>\n",
       "      <td>77</td>\n",
       "      <td>77</td>\n",
       "      <td>22</td>\n",
       "      <td>44</td>\n",
       "      <td>66</td>\n",
       "      <td>10</td>\n",
       "      <td>0</td>\n",
       "    </tr>\n",
       "  </tbody>\n",
       "</table>\n",
       "</div>"
      ],
      "text/plain": [
       "     이름   국어  미술  수학  체육  영어  과학  6\n",
       "0   마징가  100  44  55  11  90  10  0\n",
       "1   배트맨   99  55  44  22  99  10  0\n",
       "2   슈퍼맨   88  66  66  33  86  10  0\n",
       "3  그린랜턴   77  77  22  44  66  10  0"
      ]
     },
     "execution_count": 36,
     "metadata": {},
     "output_type": "execute_result"
    }
   ],
   "source": [
    "# 1개의 데이터 즉 값 추가 시 모든 행에 동일  값으로 저장\n",
    "examDF[6] = 0\n",
    "examDF"
   ]
  },
  {
   "cell_type": "code",
   "execution_count": 35,
   "id": "530d4707",
   "metadata": {},
   "outputs": [
    {
     "data": {
      "text/plain": [
       "Index(['이름', '국어', '미술', '수학', '체육', '영어', '과학', 6], dtype='object')"
      ]
     },
     "execution_count": 35,
     "metadata": {},
     "output_type": "execute_result"
    }
   ],
   "source": [
    "examDF.columns"
   ]
  },
  {
   "cell_type": "markdown",
   "id": "582faa4a",
   "metadata": {},
   "source": [
    "(6) DataFrame의 행 (row) cnrk <hr>\n",
    "- 방법 : DF객체변수명.loc[새로운 행인덱스] = [컬럼수 만큼 데이터]\n",
    "- 방법 : DF객체변수명.loc[새로운 행인덱스] = 데이터\n",
    "- 불가 방법 : DF객체변수명.iloc[새로운 행인덱스] = 데이터 => 데이터 존재해야지 인덱스 할당됨"
   ]
  },
  {
   "cell_type": "code",
   "execution_count": 37,
   "id": "3a7630a1",
   "metadata": {},
   "outputs": [
    {
     "data": {
      "text/plain": [
       "RangeIndex(start=0, stop=4, step=1)"
      ]
     },
     "execution_count": 37,
     "metadata": {},
     "output_type": "execute_result"
    }
   ],
   "source": [
    "examDF.index"
   ]
  },
  {
   "cell_type": "code",
   "execution_count": 38,
   "id": "e498672c",
   "metadata": {},
   "outputs": [],
   "source": [
    "# 컬럼 수 만큼의 데이터를 가진 행 추가\n",
    "examDF.loc[4] = ['원더우먼', 90,87,11,55,66,44,100]"
   ]
  },
  {
   "cell_type": "code",
   "execution_count": 39,
   "id": "99e16b02",
   "metadata": {},
   "outputs": [
    {
     "data": {
      "text/html": [
       "<div>\n",
       "<style scoped>\n",
       "    .dataframe tbody tr th:only-of-type {\n",
       "        vertical-align: middle;\n",
       "    }\n",
       "\n",
       "    .dataframe tbody tr th {\n",
       "        vertical-align: top;\n",
       "    }\n",
       "\n",
       "    .dataframe thead th {\n",
       "        text-align: right;\n",
       "    }\n",
       "</style>\n",
       "<table border=\"1\" class=\"dataframe\">\n",
       "  <thead>\n",
       "    <tr style=\"text-align: right;\">\n",
       "      <th></th>\n",
       "      <th>이름</th>\n",
       "      <th>국어</th>\n",
       "      <th>미술</th>\n",
       "      <th>수학</th>\n",
       "      <th>체육</th>\n",
       "      <th>영어</th>\n",
       "      <th>과학</th>\n",
       "      <th>6</th>\n",
       "    </tr>\n",
       "  </thead>\n",
       "  <tbody>\n",
       "    <tr>\n",
       "      <th>0</th>\n",
       "      <td>마징가</td>\n",
       "      <td>100</td>\n",
       "      <td>44</td>\n",
       "      <td>55</td>\n",
       "      <td>11</td>\n",
       "      <td>90</td>\n",
       "      <td>10</td>\n",
       "      <td>0</td>\n",
       "    </tr>\n",
       "    <tr>\n",
       "      <th>1</th>\n",
       "      <td>배트맨</td>\n",
       "      <td>99</td>\n",
       "      <td>55</td>\n",
       "      <td>44</td>\n",
       "      <td>22</td>\n",
       "      <td>99</td>\n",
       "      <td>10</td>\n",
       "      <td>0</td>\n",
       "    </tr>\n",
       "    <tr>\n",
       "      <th>2</th>\n",
       "      <td>슈퍼맨</td>\n",
       "      <td>88</td>\n",
       "      <td>66</td>\n",
       "      <td>66</td>\n",
       "      <td>33</td>\n",
       "      <td>86</td>\n",
       "      <td>10</td>\n",
       "      <td>0</td>\n",
       "    </tr>\n",
       "    <tr>\n",
       "      <th>3</th>\n",
       "      <td>그린랜턴</td>\n",
       "      <td>77</td>\n",
       "      <td>77</td>\n",
       "      <td>22</td>\n",
       "      <td>44</td>\n",
       "      <td>66</td>\n",
       "      <td>10</td>\n",
       "      <td>0</td>\n",
       "    </tr>\n",
       "    <tr>\n",
       "      <th>4</th>\n",
       "      <td>원더우먼</td>\n",
       "      <td>90</td>\n",
       "      <td>87</td>\n",
       "      <td>11</td>\n",
       "      <td>55</td>\n",
       "      <td>66</td>\n",
       "      <td>44</td>\n",
       "      <td>100</td>\n",
       "    </tr>\n",
       "  </tbody>\n",
       "</table>\n",
       "</div>"
      ],
      "text/plain": [
       "     이름   국어  미술  수학  체육  영어  과학    6\n",
       "0   마징가  100  44  55  11  90  10    0\n",
       "1   배트맨   99  55  44  22  99  10    0\n",
       "2   슈퍼맨   88  66  66  33  86  10    0\n",
       "3  그린랜턴   77  77  22  44  66  10    0\n",
       "4  원더우먼   90  87  11  55  66  44  100"
      ]
     },
     "execution_count": 39,
     "metadata": {},
     "output_type": "execute_result"
    }
   ],
   "source": [
    "examDF"
   ]
  },
  {
   "cell_type": "code",
   "execution_count": 42,
   "id": "410069e2",
   "metadata": {},
   "outputs": [
    {
     "data": {
      "text/html": [
       "<div>\n",
       "<style scoped>\n",
       "    .dataframe tbody tr th:only-of-type {\n",
       "        vertical-align: middle;\n",
       "    }\n",
       "\n",
       "    .dataframe tbody tr th {\n",
       "        vertical-align: top;\n",
       "    }\n",
       "\n",
       "    .dataframe thead th {\n",
       "        text-align: right;\n",
       "    }\n",
       "</style>\n",
       "<table border=\"1\" class=\"dataframe\">\n",
       "  <thead>\n",
       "    <tr style=\"text-align: right;\">\n",
       "      <th></th>\n",
       "      <th>이름</th>\n",
       "      <th>국어</th>\n",
       "      <th>미술</th>\n",
       "      <th>수학</th>\n",
       "      <th>체육</th>\n",
       "      <th>영어</th>\n",
       "      <th>과학</th>\n",
       "      <th>6</th>\n",
       "    </tr>\n",
       "  </thead>\n",
       "  <tbody>\n",
       "    <tr>\n",
       "      <th>0</th>\n",
       "      <td>마징가</td>\n",
       "      <td>100</td>\n",
       "      <td>44</td>\n",
       "      <td>55</td>\n",
       "      <td>11</td>\n",
       "      <td>90</td>\n",
       "      <td>10</td>\n",
       "      <td>0</td>\n",
       "    </tr>\n",
       "    <tr>\n",
       "      <th>1</th>\n",
       "      <td>배트맨</td>\n",
       "      <td>99</td>\n",
       "      <td>55</td>\n",
       "      <td>44</td>\n",
       "      <td>22</td>\n",
       "      <td>99</td>\n",
       "      <td>10</td>\n",
       "      <td>0</td>\n",
       "    </tr>\n",
       "    <tr>\n",
       "      <th>2</th>\n",
       "      <td>슈퍼맨</td>\n",
       "      <td>88</td>\n",
       "      <td>66</td>\n",
       "      <td>66</td>\n",
       "      <td>33</td>\n",
       "      <td>86</td>\n",
       "      <td>10</td>\n",
       "      <td>0</td>\n",
       "    </tr>\n",
       "    <tr>\n",
       "      <th>3</th>\n",
       "      <td>그린랜턴</td>\n",
       "      <td>77</td>\n",
       "      <td>77</td>\n",
       "      <td>22</td>\n",
       "      <td>44</td>\n",
       "      <td>66</td>\n",
       "      <td>10</td>\n",
       "      <td>0</td>\n",
       "    </tr>\n",
       "    <tr>\n",
       "      <th>4</th>\n",
       "      <td>원더우먼</td>\n",
       "      <td>90</td>\n",
       "      <td>87</td>\n",
       "      <td>11</td>\n",
       "      <td>55</td>\n",
       "      <td>66</td>\n",
       "      <td>44</td>\n",
       "      <td>100</td>\n",
       "    </tr>\n",
       "    <tr>\n",
       "      <th>5</th>\n",
       "      <td>슈퍼맨</td>\n",
       "      <td>90</td>\n",
       "      <td>87</td>\n",
       "      <td>11</td>\n",
       "      <td>55</td>\n",
       "      <td>66</td>\n",
       "      <td>44</td>\n",
       "      <td>100</td>\n",
       "    </tr>\n",
       "  </tbody>\n",
       "</table>\n",
       "</div>"
      ],
      "text/plain": [
       "     이름   국어  미술  수학  체육  영어  과학    6\n",
       "0   마징가  100  44  55  11  90  10    0\n",
       "1   배트맨   99  55  44  22  99  10    0\n",
       "2   슈퍼맨   88  66  66  33  86  10    0\n",
       "3  그린랜턴   77  77  22  44  66  10    0\n",
       "4  원더우먼   90  87  11  55  66  44  100\n",
       "5   슈퍼맨   90  87  11  55  66  44  100"
      ]
     },
     "execution_count": 42,
     "metadata": {},
     "output_type": "execute_result"
    }
   ],
   "source": [
    "# 행 추가 시 iloc은 사용불가 => why? 데이터 수에 맞게 인덱스 범위 지정이 되기 때문에\n",
    "# 현재 인덱스에 없는 인덱스로 불가\n",
    "examDF.loc[5] = ['슈퍼맨', 90,87,11,55,66,44,100]\n",
    "examDF"
   ]
  },
  {
   "cell_type": "code",
   "execution_count": 44,
   "id": "f374ea0b",
   "metadata": {},
   "outputs": [
    {
     "data": {
      "text/html": [
       "<div>\n",
       "<style scoped>\n",
       "    .dataframe tbody tr th:only-of-type {\n",
       "        vertical-align: middle;\n",
       "    }\n",
       "\n",
       "    .dataframe tbody tr th {\n",
       "        vertical-align: top;\n",
       "    }\n",
       "\n",
       "    .dataframe thead th {\n",
       "        text-align: right;\n",
       "    }\n",
       "</style>\n",
       "<table border=\"1\" class=\"dataframe\">\n",
       "  <thead>\n",
       "    <tr style=\"text-align: right;\">\n",
       "      <th></th>\n",
       "      <th>이름</th>\n",
       "      <th>국어</th>\n",
       "      <th>미술</th>\n",
       "      <th>수학</th>\n",
       "      <th>체육</th>\n",
       "      <th>영어</th>\n",
       "      <th>과학</th>\n",
       "      <th>6</th>\n",
       "    </tr>\n",
       "  </thead>\n",
       "  <tbody>\n",
       "    <tr>\n",
       "      <th>0</th>\n",
       "      <td>마징가</td>\n",
       "      <td>100</td>\n",
       "      <td>44</td>\n",
       "      <td>55</td>\n",
       "      <td>11</td>\n",
       "      <td>90</td>\n",
       "      <td>10</td>\n",
       "      <td>0</td>\n",
       "    </tr>\n",
       "    <tr>\n",
       "      <th>1</th>\n",
       "      <td>배트맨</td>\n",
       "      <td>99</td>\n",
       "      <td>55</td>\n",
       "      <td>44</td>\n",
       "      <td>22</td>\n",
       "      <td>99</td>\n",
       "      <td>10</td>\n",
       "      <td>0</td>\n",
       "    </tr>\n",
       "    <tr>\n",
       "      <th>2</th>\n",
       "      <td>슈퍼맨</td>\n",
       "      <td>88</td>\n",
       "      <td>66</td>\n",
       "      <td>66</td>\n",
       "      <td>33</td>\n",
       "      <td>86</td>\n",
       "      <td>10</td>\n",
       "      <td>0</td>\n",
       "    </tr>\n",
       "    <tr>\n",
       "      <th>3</th>\n",
       "      <td>그린랜턴</td>\n",
       "      <td>77</td>\n",
       "      <td>77</td>\n",
       "      <td>22</td>\n",
       "      <td>44</td>\n",
       "      <td>66</td>\n",
       "      <td>10</td>\n",
       "      <td>0</td>\n",
       "    </tr>\n",
       "    <tr>\n",
       "      <th>4</th>\n",
       "      <td>원더우먼</td>\n",
       "      <td>90</td>\n",
       "      <td>87</td>\n",
       "      <td>11</td>\n",
       "      <td>55</td>\n",
       "      <td>66</td>\n",
       "      <td>44</td>\n",
       "      <td>100</td>\n",
       "    </tr>\n",
       "    <tr>\n",
       "      <th>5</th>\n",
       "      <td>슈퍼맨</td>\n",
       "      <td>90</td>\n",
       "      <td>87</td>\n",
       "      <td>11</td>\n",
       "      <td>55</td>\n",
       "      <td>66</td>\n",
       "      <td>44</td>\n",
       "      <td>100</td>\n",
       "    </tr>\n",
       "    <tr>\n",
       "      <th>6</th>\n",
       "      <td>원펀맨</td>\n",
       "      <td>원펀맨</td>\n",
       "      <td>원펀맨</td>\n",
       "      <td>원펀맨</td>\n",
       "      <td>원펀맨</td>\n",
       "      <td>원펀맨</td>\n",
       "      <td>원펀맨</td>\n",
       "      <td>원펀맨</td>\n",
       "    </tr>\n",
       "  </tbody>\n",
       "</table>\n",
       "</div>"
      ],
      "text/plain": [
       "     이름   국어   미술   수학   체육   영어   과학    6\n",
       "0   마징가  100   44   55   11   90   10    0\n",
       "1   배트맨   99   55   44   22   99   10    0\n",
       "2   슈퍼맨   88   66   66   33   86   10    0\n",
       "3  그린랜턴   77   77   22   44   66   10    0\n",
       "4  원더우먼   90   87   11   55   66   44  100\n",
       "5   슈퍼맨   90   87   11   55   66   44  100\n",
       "6   원펀맨  원펀맨  원펀맨  원펀맨  원펀맨  원펀맨  원펀맨  원펀맨"
      ]
     },
     "execution_count": 44,
     "metadata": {},
     "output_type": "execute_result"
    }
   ],
   "source": [
    "examDF.loc[6]='원펀맨'\n",
    "examDF"
   ]
  },
  {
   "cell_type": "code",
   "execution_count": null,
   "id": "19064a12",
   "metadata": {},
   "outputs": [],
   "source": []
  }
 ],
 "metadata": {
  "kernelspec": {
   "display_name": "Python 3 (ipykernel)",
   "language": "python",
   "name": "python3"
  },
  "language_info": {
   "codemirror_mode": {
    "name": "ipython",
    "version": 3
   },
   "file_extension": ".py",
   "mimetype": "text/x-python",
   "name": "python",
   "nbconvert_exporter": "python",
   "pygments_lexer": "ipython3",
   "version": "3.8.18"
  }
 },
 "nbformat": 4,
 "nbformat_minor": 5
}
