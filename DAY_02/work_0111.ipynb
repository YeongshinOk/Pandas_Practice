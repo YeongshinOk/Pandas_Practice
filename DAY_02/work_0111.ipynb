{
 "cells": [
  {
   "cell_type": "markdown",
   "id": "287e2b14",
   "metadata": {},
   "source": [
    "### [과제 및 복습]\n",
    "\n",
    "    * csv 데이터 파일 읽어와서 Series, DataFrame 속성 읽기, 속성 변경\n",
    "    * 원소 읽기, 원소값 변경\n",
    " "
   ]
  },
  {
   "cell_type": "markdown",
   "id": "53d70a35",
   "metadata": {},
   "source": [
    "(1) 모듈 로딩 --------------------------------"
   ]
  },
  {
   "cell_type": "code",
   "execution_count": 1,
   "id": "92707c6d",
   "metadata": {},
   "outputs": [],
   "source": [
    "from pandas import DataFrame, read_csv"
   ]
  },
  {
   "cell_type": "markdown",
   "id": "0f309ce3",
   "metadata": {},
   "source": [
    "(2) 데이터 파일 준비 -------------------------------"
   ]
  },
  {
   "cell_type": "code",
   "execution_count": 2,
   "id": "36c46a67",
   "metadata": {},
   "outputs": [],
   "source": [
    "dataFile='../DATA/movies.csv'"
   ]
  },
  {
   "cell_type": "markdown",
   "id": "3f949c6f",
   "metadata": {},
   "source": [
    "(3) 데이터 저장 ---------------------------------"
   ]
  },
  {
   "cell_type": "code",
   "execution_count": 3,
   "id": "fe379567",
   "metadata": {},
   "outputs": [],
   "source": [
    "movieDF = read_csv(dataFile)"
   ]
  },
  {
   "cell_type": "code",
   "execution_count": 4,
   "id": "73ba201a",
   "metadata": {},
   "outputs": [
    {
     "data": {
      "text/html": [
       "<div>\n",
       "<style scoped>\n",
       "    .dataframe tbody tr th:only-of-type {\n",
       "        vertical-align: middle;\n",
       "    }\n",
       "\n",
       "    .dataframe tbody tr th {\n",
       "        vertical-align: top;\n",
       "    }\n",
       "\n",
       "    .dataframe thead th {\n",
       "        text-align: right;\n",
       "    }\n",
       "</style>\n",
       "<table border=\"1\" class=\"dataframe\">\n",
       "  <thead>\n",
       "    <tr style=\"text-align: right;\">\n",
       "      <th></th>\n",
       "      <th>Rank</th>\n",
       "      <th>Title</th>\n",
       "      <th>Studio</th>\n",
       "      <th>Gross</th>\n",
       "      <th>Year</th>\n",
       "    </tr>\n",
       "  </thead>\n",
       "  <tbody>\n",
       "    <tr>\n",
       "      <th>0</th>\n",
       "      <td>1</td>\n",
       "      <td>Avengers: Endgame</td>\n",
       "      <td>Buena Vista</td>\n",
       "      <td>$2,796.30</td>\n",
       "      <td>2019</td>\n",
       "    </tr>\n",
       "    <tr>\n",
       "      <th>1</th>\n",
       "      <td>2</td>\n",
       "      <td>Avatar</td>\n",
       "      <td>Fox</td>\n",
       "      <td>$2,789.70</td>\n",
       "      <td>2009</td>\n",
       "    </tr>\n",
       "    <tr>\n",
       "      <th>2</th>\n",
       "      <td>3</td>\n",
       "      <td>Titanic</td>\n",
       "      <td>Paramount</td>\n",
       "      <td>$2,187.50</td>\n",
       "      <td>1997</td>\n",
       "    </tr>\n",
       "    <tr>\n",
       "      <th>3</th>\n",
       "      <td>4</td>\n",
       "      <td>Star Wars: The Force Awakens</td>\n",
       "      <td>Buena Vista</td>\n",
       "      <td>$2,068.20</td>\n",
       "      <td>2015</td>\n",
       "    </tr>\n",
       "    <tr>\n",
       "      <th>4</th>\n",
       "      <td>5</td>\n",
       "      <td>Avengers: Infinity War</td>\n",
       "      <td>Buena Vista</td>\n",
       "      <td>$2,048.40</td>\n",
       "      <td>2018</td>\n",
       "    </tr>\n",
       "    <tr>\n",
       "      <th>...</th>\n",
       "      <td>...</td>\n",
       "      <td>...</td>\n",
       "      <td>...</td>\n",
       "      <td>...</td>\n",
       "      <td>...</td>\n",
       "    </tr>\n",
       "    <tr>\n",
       "      <th>777</th>\n",
       "      <td>778</td>\n",
       "      <td>Yogi Bear</td>\n",
       "      <td>Warner Brothers</td>\n",
       "      <td>$201.60</td>\n",
       "      <td>2010</td>\n",
       "    </tr>\n",
       "    <tr>\n",
       "      <th>778</th>\n",
       "      <td>779</td>\n",
       "      <td>Garfield: The Movie</td>\n",
       "      <td>Fox</td>\n",
       "      <td>$200.80</td>\n",
       "      <td>2004</td>\n",
       "    </tr>\n",
       "    <tr>\n",
       "      <th>779</th>\n",
       "      <td>780</td>\n",
       "      <td>Cats &amp; Dogs</td>\n",
       "      <td>Warner Brothers</td>\n",
       "      <td>$200.70</td>\n",
       "      <td>2001</td>\n",
       "    </tr>\n",
       "    <tr>\n",
       "      <th>780</th>\n",
       "      <td>781</td>\n",
       "      <td>The Hunt for Red October</td>\n",
       "      <td>Paramount</td>\n",
       "      <td>$200.50</td>\n",
       "      <td>1990</td>\n",
       "    </tr>\n",
       "    <tr>\n",
       "      <th>781</th>\n",
       "      <td>782</td>\n",
       "      <td>Valkyrie</td>\n",
       "      <td>MGM</td>\n",
       "      <td>$200.30</td>\n",
       "      <td>2008</td>\n",
       "    </tr>\n",
       "  </tbody>\n",
       "</table>\n",
       "<p>782 rows × 5 columns</p>\n",
       "</div>"
      ],
      "text/plain": [
       "     Rank                         Title           Studio       Gross  Year\n",
       "0       1             Avengers: Endgame      Buena Vista  $2,796.30   2019\n",
       "1       2                        Avatar              Fox  $2,789.70   2009\n",
       "2       3                       Titanic        Paramount  $2,187.50   1997\n",
       "3       4  Star Wars: The Force Awakens      Buena Vista  $2,068.20   2015\n",
       "4       5        Avengers: Infinity War      Buena Vista  $2,048.40   2018\n",
       "..    ...                           ...              ...         ...   ...\n",
       "777   778                     Yogi Bear  Warner Brothers    $201.60   2010\n",
       "778   779           Garfield: The Movie              Fox    $200.80   2004\n",
       "779   780                   Cats & Dogs  Warner Brothers    $200.70   2001\n",
       "780   781      The Hunt for Red October        Paramount    $200.50   1990\n",
       "781   782                      Valkyrie              MGM    $200.30   2008\n",
       "\n",
       "[782 rows x 5 columns]"
      ]
     },
     "execution_count": 4,
     "metadata": {},
     "output_type": "execute_result"
    }
   ],
   "source": [
    "movieDF"
   ]
  },
  {
   "cell_type": "markdown",
   "id": "d42dfc1f",
   "metadata": {},
   "source": [
    "(4) DataFrame의 속성들 출력"
   ]
  },
  {
   "cell_type": "code",
   "execution_count": 17,
   "id": "fe866f5f",
   "metadata": {},
   "outputs": [
    {
     "data": {
      "text/plain": [
       "(RangeIndex(start=0, stop=782, step=1),\n",
       " Index(['Rank', 'Title', 'Studio', 'Gross', 'Year'], dtype='object'),\n",
       " array([[1, 'Avengers: Endgame', 'Buena Vista', '$2,796.30 ', 2019],\n",
       "        [2, 'Avatar', 'Fox', '$2,789.70 ', 2009],\n",
       "        [3, 'Titanic', 'Paramount', '$2,187.50 ', 1997],\n",
       "        ...,\n",
       "        [780, 'Cats & Dogs', 'Warner Brothers', '$200.70 ', 2001],\n",
       "        [781, 'The Hunt for Red October', 'Paramount', '$200.50 ', 1990],\n",
       "        [782, 'Valkyrie', 'MGM', '$200.30 ', 2008]], dtype=object),\n",
       " (782, 5),\n",
       " 2,\n",
       " Rank       int64\n",
       " Title     object\n",
       " Studio    object\n",
       " Gross     object\n",
       " Year       int64\n",
       " dtype: object)"
      ]
     },
     "execution_count": 17,
     "metadata": {},
     "output_type": "execute_result"
    }
   ],
   "source": [
    "movieDF.index, movieDF.columns, movieDF.values, movieDF.shape, movieDF.ndim, movieDF.dtypes"
   ]
  },
  {
   "cell_type": "markdown",
   "id": "454455dc",
   "metadata": {},
   "source": [
    "(5) DataFrame의 컬럼별로 따로 저장하기"
   ]
  },
  {
   "cell_type": "code",
   "execution_count": 21,
   "id": "d547edcb",
   "metadata": {},
   "outputs": [
    {
     "ename": "NameError",
     "evalue": "name 'movie' is not defined",
     "output_type": "error",
     "traceback": [
      "\u001b[1;31m---------------------------------------------------------------------------\u001b[0m",
      "\u001b[1;31mNameError\u001b[0m                                 Traceback (most recent call last)",
      "Cell \u001b[1;32mIn[21], line 1\u001b[0m\n\u001b[1;32m----> 1\u001b[0m \u001b[38;5;28;01mfor\u001b[39;00m movie\u001b[38;5;241m.\u001b[39mcolumns \u001b[38;5;129;01min\u001b[39;00m movieDF\u001b[38;5;241m.\u001b[39mindex:\n\u001b[0;32m      2\u001b[0m         \u001b[38;5;28mprint\u001b[39m(col)\n",
      "\u001b[1;31mNameError\u001b[0m: name 'movie' is not defined"
     ]
    }
   ],
   "source": [
    "col = \n",
    "\n",
    "for i in movieDF.columns:\n",
    "        i.append()"
   ]
  },
  {
   "cell_type": "markdown",
   "id": "130101a9",
   "metadata": {},
   "source": [
    "(6) 컬럼별 데이터들의 속성 즉, index, values, shape, ndim, dtype 정보 출력 "
   ]
  },
  {
   "cell_type": "code",
   "execution_count": null,
   "id": "0f8046ea",
   "metadata": {},
   "outputs": [],
   "source": []
  },
  {
   "cell_type": "markdown",
   "id": "7d216caf",
   "metadata": {},
   "source": [
    "(7) 컬럼별 인덱스를 변경 실습"
   ]
  },
  {
   "cell_type": "code",
   "execution_count": null,
   "id": "9eb5a098",
   "metadata": {},
   "outputs": [],
   "source": []
  },
  {
   "cell_type": "markdown",
   "id": "8d116a23",
   "metadata": {},
   "source": [
    "(8) 컬럼별 데이터 즉 값 변경"
   ]
  },
  {
   "cell_type": "code",
   "execution_count": null,
   "id": "38459833",
   "metadata": {},
   "outputs": [],
   "source": []
  },
  {
   "cell_type": "markdown",
   "id": "6269c5d5",
   "metadata": {},
   "source": [
    "(9) DataFrame의 원소들 모두 출력 단, 2가지 방법 사용"
   ]
  },
  {
   "cell_type": "code",
   "execution_count": null,
   "id": "3d12d3e0",
   "metadata": {},
   "outputs": [],
   "source": []
  },
  {
   "cell_type": "code",
   "execution_count": null,
   "id": "2b3badab",
   "metadata": {},
   "outputs": [],
   "source": []
  }
 ],
 "metadata": {
  "kernelspec": {
   "display_name": "Python 3 (ipykernel)",
   "language": "python",
   "name": "python3"
  },
  "language_info": {
   "codemirror_mode": {
    "name": "ipython",
    "version": 3
   },
   "file_extension": ".py",
   "mimetype": "text/x-python",
   "name": "python",
   "nbconvert_exporter": "python",
   "pygments_lexer": "ipython3",
   "version": "3.11.5"
  }
 },
 "nbformat": 4,
 "nbformat_minor": 5
}
