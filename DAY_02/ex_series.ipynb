{
 "cells": [
  {
   "cell_type": "markdown",
   "id": "76c70d3b-6e2c-43ed-9f92-f50d7ad84c2a",
   "metadata": {},
   "source": [
    "<h1>시리즈(series) 살펴보기</h1>\n",
    "\n",
    "- 판다스에서 데이터를 저장하는 자료 구조 중 하나\n",
    "- 동일한 타입의 데이터를 연속된 메모리 공간에 저장 함\n",
    "- 구성 : 인덱스 + 데이터\n",
    "- 생성 : Series() 생성자 메서드"
   ]
  },
  {
   "cell_type": "code",
   "execution_count": 2,
   "id": "3c848866-42ed-4292-b4c3-5512549fc362",
   "metadata": {},
   "outputs": [],
   "source": [
    "### (1) 모듈 로딩 ----------------------------------------------------------"
   ]
  },
  {
   "cell_type": "code",
   "execution_count": 3,
   "id": "b82bc2fa-4af2-4654-bd04-01de765350d7",
   "metadata": {},
   "outputs": [],
   "source": [
    "import pandas as pd"
   ]
  },
  {
   "cell_type": "markdown",
   "id": "6bc718e2-77af-435d-bb0d-7a7b9856cc2e",
   "metadata": {},
   "source": [
    "#### (2) 시리즈 객체 생성 ----------------------------------------------------"
   ]
  },
  {
   "cell_type": "code",
   "execution_count": 4,
   "id": "7fdc6db7-290e-4d41-8545-3f2c04870cd0",
   "metadata": {},
   "outputs": [],
   "source": [
    "# 객체 생성에 사용되는 메서드 => 생성자(Constructor)\n",
    "# 데이터 타입과 동일한 이름의 메서드 => Series()\n",
    "sr=pd.Series([11,22.,'33'])"
   ]
  },
  {
   "cell_type": "code",
   "execution_count": 5,
   "id": "e0c9bd4e-afe5-4a9c-83f1-aa37e89b4bec",
   "metadata": {},
   "outputs": [
    {
     "data": {
      "text/plain": [
       "0      11\n",
       "1    22.0\n",
       "2      33\n",
       "dtype: object"
      ]
     },
     "execution_count": 5,
     "metadata": {},
     "output_type": "execute_result"
    }
   ],
   "source": [
    "sr"
   ]
  },
  {
   "cell_type": "code",
   "execution_count": 6,
   "id": "60371b18-d8e4-4737-b9c5-3ca76a548dfa",
   "metadata": {},
   "outputs": [
    {
     "data": {
      "text/plain": [
       "pandas.core.series.Series"
      ]
     },
     "execution_count": 6,
     "metadata": {},
     "output_type": "execute_result"
    }
   ],
   "source": [
    "type(sr)"
   ]
  },
  {
   "cell_type": "markdown",
   "id": "aa80aa5a-1e06-48c8-be18-675e32602d70",
   "metadata": {},
   "source": [
    "- Series 객체의 속성(attributes)/필드(field) 살펴보기\n",
    "    * 기본: data, index, dtype\n",
    "    * 읽기 : 객체변수명.속성명\n",
    "    * 쓰기 : 객체변수명.속성명 = 새로운 값 [모든 속성이 가능한 것은 아님!!!]"
   ]
  },
  {
   "cell_type": "code",
   "execution_count": 7,
   "id": "db8e9588-6047-431d-ae2d-f409cc595d9e",
   "metadata": {},
   "outputs": [
    {
     "data": {
      "text/plain": [
       "RangeIndex(start=0, stop=3, step=1)"
      ]
     },
     "execution_count": 7,
     "metadata": {},
     "output_type": "execute_result"
    }
   ],
   "source": [
    "# 현재 시리즈 객체에 저장된 인덱스 속성 확인\n",
    "sr.index"
   ]
  },
  {
   "cell_type": "code",
   "execution_count": 8,
   "id": "f933d419-eb47-4e9e-b70b-f0a739db8344",
   "metadata": {},
   "outputs": [
    {
     "data": {
      "text/plain": [
       "array([11, 22.0, '33'], dtype=object)"
      ]
     },
     "execution_count": 8,
     "metadata": {},
     "output_type": "execute_result"
    }
   ],
   "source": [
    "# 현재 시리즈 객체에 저장된 데이터 즉 값 확인\n",
    "sr.values"
   ]
  },
  {
   "cell_type": "code",
   "execution_count": 9,
   "id": "d6aa3f68-a8ef-4788-a371-8e8235f8c4fc",
   "metadata": {},
   "outputs": [],
   "source": [
    "# 시리즈 객체의 인덱스 변경\n",
    "sr.index = [100, 200,300]"
   ]
  },
  {
   "cell_type": "code",
   "execution_count": 10,
   "id": "155ed4a8-4f22-4039-9bc0-5b7dd9baee8c",
   "metadata": {},
   "outputs": [
    {
     "data": {
      "text/plain": [
       "100      11\n",
       "200    22.0\n",
       "300      33\n",
       "dtype: object"
      ]
     },
     "execution_count": 10,
     "metadata": {},
     "output_type": "execute_result"
    }
   ],
   "source": [
    "sr"
   ]
  },
  {
   "cell_type": "code",
   "execution_count": 11,
   "id": "bc6d95b3-3e81-4ec0-b090-f41216a651c7",
   "metadata": {},
   "outputs": [
    {
     "data": {
      "text/plain": [
       "A      11\n",
       "B    22.0\n",
       "C      33\n",
       "dtype: object"
      ]
     },
     "execution_count": 11,
     "metadata": {},
     "output_type": "execute_result"
    }
   ],
   "source": [
    "sr.index=['A','B','C']\n",
    "sr"
   ]
  },
  {
   "cell_type": "code",
   "execution_count": 12,
   "id": "b4003467-8b94-457e-bee9-6896c0814e9a",
   "metadata": {},
   "outputs": [
    {
     "ename": "AttributeError",
     "evalue": "can't set attribute",
     "output_type": "error",
     "traceback": [
      "\u001b[1;31m---------------------------------------------------------------------------\u001b[0m",
      "\u001b[1;31mAttributeError\u001b[0m                            Traceback (most recent call last)",
      "\u001b[1;32mc:\\ProgramData\\anaconda3\\envs\\my_38\\lib\\site-packages\\pandas\\core\\generic.py\u001b[0m in \u001b[0;36m?\u001b[1;34m(self, name, value)\u001b[0m\n\u001b[0;32m   6028\u001b[0m                         \u001b[0mstacklevel\u001b[0m\u001b[1;33m=\u001b[0m\u001b[0mfind_stack_level\u001b[0m\u001b[1;33m(\u001b[0m\u001b[1;33m)\u001b[0m\u001b[1;33m,\u001b[0m\u001b[1;33m\u001b[0m\u001b[1;33m\u001b[0m\u001b[0m\n\u001b[0;32m   6029\u001b[0m                     )\n\u001b[1;32m-> 6030\u001b[1;33m                 \u001b[0mobject\u001b[0m\u001b[1;33m.\u001b[0m\u001b[0m__setattr__\u001b[0m\u001b[1;33m(\u001b[0m\u001b[0mself\u001b[0m\u001b[1;33m,\u001b[0m \u001b[0mname\u001b[0m\u001b[1;33m,\u001b[0m \u001b[0mvalue\u001b[0m\u001b[1;33m)\u001b[0m\u001b[1;33m\u001b[0m\u001b[1;33m\u001b[0m\u001b[0m\n\u001b[0m",
      "\u001b[1;31mAttributeError\u001b[0m: can't set attribute",
      "\nDuring handling of the above exception, another exception occurred:\n",
      "\u001b[1;31mAttributeError\u001b[0m                            Traceback (most recent call last)",
      "\u001b[1;32m~\\AppData\\Local\\Temp\\ipykernel_13224\\4030765689.py\u001b[0m in \u001b[0;36m?\u001b[1;34m()\u001b[0m\n\u001b[1;32m----> 2\u001b[1;33m \u001b[1;31m# values 속성은 속성방식으로 변경 불가!!!\u001b[0m\u001b[1;33m\u001b[0m\u001b[1;33m\u001b[0m\u001b[1;33m\u001b[0m\u001b[0m\n\u001b[0m\u001b[0;32m      3\u001b[0m \u001b[0msr\u001b[0m\u001b[1;33m.\u001b[0m\u001b[0mvalues\u001b[0m\u001b[1;33m=\u001b[0m\u001b[1;33m[\u001b[0m\u001b[1;36m777\u001b[0m\u001b[1;33m,\u001b[0m\u001b[1;36m888\u001b[0m\u001b[1;33m,\u001b[0m\u001b[1;36m999\u001b[0m\u001b[1;33m]\u001b[0m\u001b[1;33m\u001b[0m\u001b[1;33m\u001b[0m\u001b[0m\n",
      "\u001b[1;32mc:\\ProgramData\\anaconda3\\envs\\my_38\\lib\\site-packages\\pandas\\core\\generic.py\u001b[0m in \u001b[0;36m?\u001b[1;34m(self, name, value)\u001b[0m\n\u001b[0;32m   6026\u001b[0m                         \u001b[1;34m\"https://pandas.pydata.org/pandas-docs/\"\u001b[0m\u001b[1;33m\u001b[0m\u001b[1;33m\u001b[0m\u001b[0m\n\u001b[0;32m   6027\u001b[0m                         \u001b[1;34m\"stable/indexing.html#attribute-access\"\u001b[0m\u001b[1;33m,\u001b[0m\u001b[1;33m\u001b[0m\u001b[1;33m\u001b[0m\u001b[0m\n\u001b[0;32m   6028\u001b[0m                         \u001b[0mstacklevel\u001b[0m\u001b[1;33m=\u001b[0m\u001b[0mfind_stack_level\u001b[0m\u001b[1;33m(\u001b[0m\u001b[1;33m)\u001b[0m\u001b[1;33m,\u001b[0m\u001b[1;33m\u001b[0m\u001b[1;33m\u001b[0m\u001b[0m\n\u001b[0;32m   6029\u001b[0m                     )\n\u001b[1;32m-> 6030\u001b[1;33m                 \u001b[0mobject\u001b[0m\u001b[1;33m.\u001b[0m\u001b[0m__setattr__\u001b[0m\u001b[1;33m(\u001b[0m\u001b[0mself\u001b[0m\u001b[1;33m,\u001b[0m \u001b[0mname\u001b[0m\u001b[1;33m,\u001b[0m \u001b[0mvalue\u001b[0m\u001b[1;33m)\u001b[0m\u001b[1;33m\u001b[0m\u001b[1;33m\u001b[0m\u001b[0m\n\u001b[0m",
      "\u001b[1;31mAttributeError\u001b[0m: can't set attribute"
     ]
    }
   ],
   "source": [
    "# values 속성은 속성방식으로 변경 불가!!!\n",
    "sr.values=[777,888,999]"
   ]
  },
  {
   "cell_type": "markdown",
   "id": "6dd89972-fa55-4e0e-82c4-32bbecc8bfa2",
   "metadata": {},
   "source": [
    "- 시리즈 객체의 요소 데이터/값 읽기\n",
    "    * 읽기 : 객체변수명[인덱스]\n",
    "    * 쓰기 : 객체변수명[인덱스] = 새로운 값"
   ]
  },
  {
   "cell_type": "code",
   "execution_count": null,
   "id": "3f985784-1fb8-4137-a0e1-036cbcc149f9",
   "metadata": {},
   "outputs": [
    {
     "data": {
      "text/plain": [
       "11"
      ]
     },
     "execution_count": 49,
     "metadata": {},
     "output_type": "execute_result"
    }
   ],
   "source": [
    "sr['A']"
   ]
  },
  {
   "cell_type": "code",
   "execution_count": null,
   "id": "cc162c6c-2a98-49fa-88e2-663868f98f16",
   "metadata": {},
   "outputs": [],
   "source": [
    "sr['A'] = 2024"
   ]
  },
  {
   "cell_type": "code",
   "execution_count": null,
   "id": "df3461ce-0902-47fa-a8e1-30ac8fae55fb",
   "metadata": {},
   "outputs": [
    {
     "data": {
      "text/plain": [
       "A    2024\n",
       "B    22.0\n",
       "C      33\n",
       "dtype: object"
      ]
     },
     "execution_count": 51,
     "metadata": {},
     "output_type": "execute_result"
    }
   ],
   "source": [
    "sr"
   ]
  },
  {
   "cell_type": "code",
   "execution_count": null,
   "id": "07ce6e70-2b9f-4877-b29b-d6e082104325",
   "metadata": {},
   "outputs": [
    {
     "data": {
      "text/plain": [
       "Index(['A', 'B', 'C'], dtype='object')"
      ]
     },
     "execution_count": 52,
     "metadata": {},
     "output_type": "execute_result"
    }
   ],
   "source": [
    "sr.index"
   ]
  },
  {
   "cell_type": "code",
   "execution_count": null,
   "id": "6678e012-1d8e-4890-a2c0-227e8c94c42b",
   "metadata": {},
   "outputs": [
    {
     "name": "stderr",
     "output_type": "stream",
     "text": [
      "C:\\Users\\KDP-26\\AppData\\Local\\Temp\\ipykernel_2324\\4192044602.py:1: FutureWarning: Series.__getitem__ treating keys as positions is deprecated. In a future version, integer keys will always be treated as labels (consistent with DataFrame behavior). To access a value by position, use `ser.iloc[pos]`\n",
      "  sr[0], sr['A']\n"
     ]
    },
    {
     "data": {
      "text/plain": [
       "(2024, 2024)"
      ]
     },
     "execution_count": 54,
     "metadata": {},
     "output_type": "execute_result"
    }
   ],
   "source": [
    "sr[0], sr['A']"
   ]
  },
  {
   "cell_type": "code",
   "execution_count": null,
   "id": "f0f1e2fc-67c5-425d-b7da-25b7fb3a7eef",
   "metadata": {},
   "outputs": [],
   "source": [
    "sr.index=[11,22,33]"
   ]
  },
  {
   "cell_type": "code",
   "execution_count": null,
   "id": "44af77b0-7c55-4e26-a664-ecb3d8cc57bf",
   "metadata": {},
   "outputs": [
    {
     "data": {
      "text/plain": [
       "Index([11, 22, 33], dtype='int64')"
      ]
     },
     "execution_count": 56,
     "metadata": {},
     "output_type": "execute_result"
    }
   ],
   "source": [
    "sr.index"
   ]
  },
  {
   "cell_type": "code",
   "execution_count": null,
   "id": "ce7a790d-7dac-4c7e-9116-e6e95a890a8c",
   "metadata": {},
   "outputs": [
    {
     "data": {
      "text/plain": [
       "2024"
      ]
     },
     "execution_count": 57,
     "metadata": {},
     "output_type": "execute_result"
    }
   ],
   "source": [
    "sr[11]"
   ]
  },
  {
   "cell_type": "code",
   "execution_count": 13,
   "id": "e535f74a-e521-4670-940a-69fe5f23c7ad",
   "metadata": {},
   "outputs": [
    {
     "data": {
      "text/plain": [
       "11"
      ]
     },
     "execution_count": 13,
     "metadata": {},
     "output_type": "execute_result"
    }
   ],
   "source": [
    "# sr[0]\n",
    "sr.iloc[0]\n",
    "# 요렇게 쓰라는 말이에요"
   ]
  },
  {
   "cell_type": "code",
   "execution_count": null,
   "id": "5a7fb8ad-1f65-4a26-a943-5f288b3a56b0",
   "metadata": {},
   "outputs": [
    {
     "name": "stdout",
     "output_type": "stream",
     "text": [
      "11 2024\n",
      "22 22.0\n",
      "33 33\n"
     ]
    }
   ],
   "source": [
    "for idx in sr.index:\n",
    "    print(idx, sr[idx])\n",
    "    sr[idx] = sr[idx]"
   ]
  },
  {
   "cell_type": "code",
   "execution_count": null,
   "id": "37d5a140-939e-4ff3-8091-10f2823c8e0d",
   "metadata": {},
   "outputs": [],
   "source": [
    "#문자열"
   ]
  }
 ],
 "metadata": {
  "kernelspec": {
   "display_name": "Python 3 (ipykernel)",
   "language": "python",
   "name": "python3"
  },
  "language_info": {
   "codemirror_mode": {
    "name": "ipython",
    "version": 3
   },
   "file_extension": ".py",
   "mimetype": "text/x-python",
   "name": "python",
   "nbconvert_exporter": "python",
   "pygments_lexer": "ipython3",
   "version": "3.8.18"
  }
 },
 "nbformat": 4,
 "nbformat_minor": 5
}
