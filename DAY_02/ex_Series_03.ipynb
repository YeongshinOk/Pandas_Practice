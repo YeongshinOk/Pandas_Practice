{
 "cells": [
  {
   "cell_type": "markdown",
   "id": "c3b3ed53",
   "metadata": {},
   "source": [
    "## [Series 객체 원소 인덱싱 & 슬라이싱]"
   ]
  },
  {
   "cell_type": "markdown",
   "id": "68e8d55f",
   "metadata": {},
   "source": [
    "### (1) 모듈 로딩 ----------------------------------------------------------------"
   ]
  },
  {
   "cell_type": "code",
   "execution_count": 1,
   "id": "b4d0379d",
   "metadata": {},
   "outputs": [],
   "source": [
    "from pandas import Series"
   ]
  },
  {
   "cell_type": "markdown",
   "id": "f549a370",
   "metadata": {},
   "source": [
    "### (2) 데이터 준비 ------------------------------"
   ]
  },
  {
   "cell_type": "code",
   "execution_count": 20,
   "id": "e89c71d5",
   "metadata": {},
   "outputs": [],
   "source": [
    "datas = {'name':'홍길동','age':12 , 'job':'도적'}"
   ]
  },
  {
   "cell_type": "markdown",
   "id": "931ca440",
   "metadata": {},
   "source": [
    "## Series 객체 생성"
   ]
  },
  {
   "cell_type": "code",
   "execution_count": 21,
   "id": "61706978",
   "metadata": {},
   "outputs": [],
   "source": [
    "sr1 = Series(datas)"
   ]
  },
  {
   "cell_type": "code",
   "execution_count": 22,
   "id": "3cfe84ab",
   "metadata": {},
   "outputs": [
    {
     "data": {
      "text/plain": [
       "name    홍길동\n",
       "age      12\n",
       "job      도적\n",
       "dtype: object"
      ]
     },
     "execution_count": 22,
     "metadata": {},
     "output_type": "execute_result"
    }
   ],
   "source": [
    "sr1"
   ]
  },
  {
   "cell_type": "markdown",
   "id": "2b2bae3c",
   "metadata": {},
   "source": [
    "#### (3) 인덱싱으로 원소 읽기 ------------------------------"
   ]
  },
  {
   "cell_type": "markdown",
   "id": "7ab79a38",
   "metadata": {},
   "source": [
    "#### 1개 원소 읽기"
   ]
  },
  {
   "cell_type": "code",
   "execution_count": 23,
   "id": "ef7911fd",
   "metadata": {},
   "outputs": [
    {
     "data": {
      "text/plain": [
       "(12, 12, Index(['name', 'age', 'job'], dtype='object'))"
      ]
     },
     "execution_count": 23,
     "metadata": {},
     "output_type": "execute_result"
    }
   ],
   "source": [
    "sr1['age'], sr1[1], sr1.index"
   ]
  },
  {
   "cell_type": "markdown",
   "id": "8edcfd7e",
   "metadata": {},
   "source": [
    "#### 2개 원소 읽기"
   ]
  },
  {
   "cell_type": "code",
   "execution_count": 24,
   "id": "6d04379c",
   "metadata": {},
   "outputs": [
    {
     "data": {
      "text/plain": [
       "('홍길동', '도적', '홍길동', '도적', str)"
      ]
     },
     "execution_count": 24,
     "metadata": {},
     "output_type": "execute_result"
    }
   ],
   "source": [
    "#이름과 직업 데이터 읽기\n",
    "sr1['name'], sr1['job'], sr1[0], sr1[2], type(sr1[0])"
   ]
  },
  {
   "cell_type": "code",
   "execution_count": 25,
   "id": "c88ad3b7",
   "metadata": {},
   "outputs": [],
   "source": [
    "a=[1,2,3]\n",
    "b=(11,22,33)"
   ]
  },
  {
   "cell_type": "code",
   "execution_count": 26,
   "id": "3dc5ac56",
   "metadata": {},
   "outputs": [
    {
     "data": {
      "text/plain": [
       "(1, int, [1, 2, 3])"
      ]
     },
     "execution_count": 26,
     "metadata": {},
     "output_type": "execute_result"
    }
   ],
   "source": [
    "a[0], type(a[0]), a"
   ]
  },
  {
   "cell_type": "code",
   "execution_count": 27,
   "id": "40af0aaf",
   "metadata": {},
   "outputs": [
    {
     "data": {
      "text/plain": [
       "(pandas.core.series.Series,\n",
       " name    홍길동\n",
       " job      도적\n",
       " dtype: object)"
      ]
     },
     "execution_count": 27,
     "metadata": {},
     "output_type": "execute_result"
    }
   ],
   "source": [
    "# 이름과 직업 데이터 읽기 ==> 리스트 단위로 읽기\n",
    "ret = sr1[['name','job']]\n",
    "ret2 = sr1[[0, 2]]\n",
    "type(ret), ret"
   ]
  },
  {
   "cell_type": "code",
   "execution_count": 28,
   "id": "88966d33",
   "metadata": {},
   "outputs": [
    {
     "data": {
      "text/plain": [
       "(pandas.core.series.Series,\n",
       " name    홍길동\n",
       " job      도적\n",
       " dtype: object)"
      ]
     },
     "execution_count": 28,
     "metadata": {},
     "output_type": "execute_result"
    }
   ],
   "source": [
    "type(ret2), ret2"
   ]
  },
  {
   "cell_type": "markdown",
   "id": "bf4cd527",
   "metadata": {},
   "source": [
    "### (4) 슬라이싱으로 원소 읽기 -------------------------------------------"
   ]
  },
  {
   "cell_type": "code",
   "execution_count": 29,
   "id": "b0abd4f0",
   "metadata": {},
   "outputs": [
    {
     "data": {
      "text/plain": [
       "name    홍길동\n",
       "age      12\n",
       "dtype: object"
      ]
     },
     "execution_count": 29,
     "metadata": {},
     "output_type": "execute_result"
    }
   ],
   "source": [
    "# 위치 인덱스로 슬라이싱 ------------------------------------------\n",
    "sr1[:2]                 # 시작<= ~ < 끝"
   ]
  },
  {
   "cell_type": "code",
   "execution_count": 30,
   "id": "870f2958",
   "metadata": {},
   "outputs": [
    {
     "data": {
      "text/plain": [
       "name    홍길동\n",
       "age      12\n",
       "job      도적\n",
       "dtype: object"
      ]
     },
     "execution_count": 30,
     "metadata": {},
     "output_type": "execute_result"
    }
   ],
   "source": [
    "sr1[:]                 # 시작<= ~ < 끝"
   ]
  },
  {
   "cell_type": "code",
   "execution_count": 31,
   "id": "15c1e872",
   "metadata": {},
   "outputs": [
    {
     "data": {
      "text/plain": [
       "name    홍길동\n",
       "age      12\n",
       "dtype: object"
      ]
     },
     "execution_count": 31,
     "metadata": {},
     "output_type": "execute_result"
    }
   ],
   "source": [
    "sr1[:-1]                 # 시작<= ~ < 끝"
   ]
  },
  {
   "cell_type": "code",
   "execution_count": 32,
   "id": "b5782466",
   "metadata": {},
   "outputs": [
    {
     "data": {
      "text/plain": [
       "name    홍길동\n",
       "dtype: object"
      ]
     },
     "execution_count": 32,
     "metadata": {},
     "output_type": "execute_result"
    }
   ],
   "source": [
    "sr1[:-2]                 # 시작<= ~ < 끝"
   ]
  },
  {
   "cell_type": "markdown",
   "id": "1560bd2d",
   "metadata": {},
   "source": [
    "# 레이블 인덱스로 슬라이싱 -----------------------"
   ]
  },
  {
   "cell_type": "code",
   "execution_count": 33,
   "id": "df438344",
   "metadata": {},
   "outputs": [
    {
     "data": {
      "text/plain": [
       "name    홍길동\n",
       "age      12\n",
       "job      도적\n",
       "dtype: object"
      ]
     },
     "execution_count": 33,
     "metadata": {},
     "output_type": "execute_result"
    }
   ],
   "source": [
    "sr1['name':'job']           # 시작<= ~ <=끝"
   ]
  },
  {
   "cell_type": "code",
   "execution_count": 34,
   "id": "1d0cb0c0",
   "metadata": {},
   "outputs": [
    {
     "data": {
      "text/plain": [
       "name    홍길동\n",
       "age      12\n",
       "dtype: object"
      ]
     },
     "execution_count": 34,
     "metadata": {},
     "output_type": "execute_result"
    }
   ],
   "source": [
    "sr1['name':'age']           # 시작<= ~ <=끝 == sr1[:2]"
   ]
  },
  {
   "cell_type": "code",
   "execution_count": null,
   "id": "56919553",
   "metadata": {},
   "outputs": [],
   "source": []
  }
 ],
 "metadata": {
  "kernelspec": {
   "display_name": "Python 3 (ipykernel)",
   "language": "python",
   "name": "python3"
  },
  "language_info": {
   "codemirror_mode": {
    "name": "ipython",
    "version": 3
   },
   "file_extension": ".py",
   "mimetype": "text/x-python",
   "name": "python",
   "nbconvert_exporter": "python",
   "pygments_lexer": "ipython3",
   "version": "3.11.5"
  }
 },
 "nbformat": 4,
 "nbformat_minor": 5
}
