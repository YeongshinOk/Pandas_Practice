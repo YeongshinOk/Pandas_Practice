{
 "cells": [
  {
   "cell_type": "markdown",
   "id": "838f3df3",
   "metadata": {},
   "source": [
    "### [다양한 Series 객체 생성]"
   ]
  },
  {
   "cell_type": "markdown",
   "id": "08589542",
   "metadata": {},
   "source": [
    "#### (1) 모듈 로딩"
   ]
  },
  {
   "cell_type": "code",
   "execution_count": 1,
   "id": "404be27e",
   "metadata": {},
   "outputs": [],
   "source": [
    "import pandas as pd"
   ]
  },
  {
   "cell_type": "markdown",
   "id": "0a515bf9",
   "metadata": {},
   "source": [
    "#### (2) Series 객체 생성 - 방법 1\n",
    "- Series(data, index=지정)"
   ]
  },
  {
   "cell_type": "code",
   "execution_count": 2,
   "id": "1499140b",
   "metadata": {},
   "outputs": [],
   "source": [
    "sr1 = pd.Series([11,22,33], index=['one', 'two', 'three'])"
   ]
  },
  {
   "cell_type": "code",
   "execution_count": 3,
   "id": "cc6a87fe",
   "metadata": {},
   "outputs": [
    {
     "data": {
      "text/plain": [
       "one      11\n",
       "two      22\n",
       "three    33\n",
       "dtype: int64"
      ]
     },
     "execution_count": 3,
     "metadata": {},
     "output_type": "execute_result"
    }
   ],
   "source": [
    "sr1"
   ]
  },
  {
   "cell_type": "markdown",
   "id": "86cee095",
   "metadata": {},
   "source": [
    "#### (2) Series 객체 생성 - 방법 2"
   ]
  },
  {
   "cell_type": "code",
   "execution_count": 4,
   "id": "8ae3eab5",
   "metadata": {},
   "outputs": [
    {
     "data": {
      "text/plain": [
       "one      11\n",
       "two      22\n",
       "three    33\n",
       "Name: jumsu, dtype: int64"
      ]
     },
     "execution_count": 4,
     "metadata": {},
     "output_type": "execute_result"
    }
   ],
   "source": [
    "sr1 = pd.Series([11,22,33], index=['one', 'two', 'three'], name = 'jumsu')\n",
    "sr1"
   ]
  },
  {
   "cell_type": "markdown",
   "id": "bfc67858",
   "metadata": {},
   "source": [
    "#### (2) Series 객체 생성 - 방법 3"
   ]
  },
  {
   "cell_type": "code",
   "execution_count": 6,
   "id": "e2f13673",
   "metadata": {},
   "outputs": [
    {
     "data": {
      "text/plain": [
       "one      11\n",
       "two      22\n",
       "three    33\n",
       "Name: jumsu, dtype: uint8"
      ]
     },
     "execution_count": 6,
     "metadata": {},
     "output_type": "execute_result"
    }
   ],
   "source": [
    "sr1 = pd.Series([11,22,33], index=['one', 'two', 'three'], name = 'jumsu', dtype='uint8')\n",
    "sr1"
   ]
  },
  {
   "cell_type": "markdown",
   "id": "b7627c9f",
   "metadata": {},
   "source": [
    "#### (2) Series 객체 생성 - 방법 4 => 저장되는 데이터 dict"
   ]
  },
  {
   "cell_type": "code",
   "execution_count": 10,
   "id": "ea0b15a6",
   "metadata": {},
   "outputs": [
    {
     "data": {
      "text/plain": [
       "name    홍길동\n",
       "age      12\n",
       "job      도적\n",
       "dtype: object"
      ]
     },
     "execution_count": 10,
     "metadata": {},
     "output_type": "execute_result"
    }
   ],
   "source": [
    "data = {'name' : '홍길동', 'age':12, 'job':'도적'}\n",
    "\n",
    "sr1 = pd.Series(data)\n",
    "sr1"
   ]
  },
  {
   "cell_type": "code",
   "execution_count": 9,
   "id": "b2099381",
   "metadata": {},
   "outputs": [
    {
     "name": "stdout",
     "output_type": "stream",
     "text": [
      "Index(['one', 'two', 'three'], dtype='object')\n",
      "[11 22 33]\n"
     ]
    }
   ],
   "source": [
    "# 속성 확인하기\n",
    "print(sr1.index, sr1.values, sep='\\n')"
   ]
  },
  {
   "cell_type": "code",
   "execution_count": null,
   "id": "10053245",
   "metadata": {},
   "outputs": [],
   "source": []
  },
  {
   "cell_type": "markdown",
   "id": "3ba98ecb",
   "metadata": {},
   "source": [
    "#### (2) Series 객체 생성 - 방법 5 => 저장되는 데이터 set"
   ]
  },
  {
   "cell_type": "code",
   "execution_count": 11,
   "id": "fd355f65",
   "metadata": {},
   "outputs": [
    {
     "data": {
      "text/plain": [
       "1    홍길동\n",
       "2     12\n",
       "3     도적\n",
       "dtype: object"
      ]
     },
     "execution_count": 11,
     "metadata": {},
     "output_type": "execute_result"
    }
   ],
   "source": [
    "data = {'홍길동', 12, '도적'}  # 순서없는 데이터, 중복 불허\n",
    "\n",
    "# 형변환 후 객체 생성 가능\n",
    "sr1 = pd.Series(list(data), index=[1,2,3])\n",
    "sr1"
   ]
  },
  {
   "cell_type": "code",
   "execution_count": null,
   "id": "b3dd5371",
   "metadata": {},
   "outputs": [],
   "source": []
  }
 ],
 "metadata": {
  "kernelspec": {
   "display_name": "Python 3 (ipykernel)",
   "language": "python",
   "name": "python3"
  },
  "language_info": {
   "codemirror_mode": {
    "name": "ipython",
    "version": 3
   },
   "file_extension": ".py",
   "mimetype": "text/x-python",
   "name": "python",
   "nbconvert_exporter": "python",
   "pygments_lexer": "ipython3",
   "version": "3.11.5"
  }
 },
 "nbformat": 4,
 "nbformat_minor": 5
}
