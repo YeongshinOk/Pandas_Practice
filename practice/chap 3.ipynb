{
 "cells": [
  {
   "cell_type": "code",
   "execution_count": 235,
   "id": "initial_id",
   "metadata": {
    "collapsed": true,
    "ExecuteTime": {
     "end_time": "2024-01-15T11:48:32.448584500Z",
     "start_time": "2024-01-15T11:48:32.168316600Z"
    }
   },
   "outputs": [],
   "source": [
    "import pandas as pd"
   ]
  },
  {
   "cell_type": "code",
   "outputs": [],
   "source": [
    "# 다음 두 줄은 결과가 동일합니다.\n",
    "# pd.read_csv(filepath_or_buffer = \"pokemon.csv\")\n",
    "# pd.read_csv(\"pokemon.csv\")\n",
    "file='../DATA/pokemon.csv'"
   ],
   "metadata": {
    "collapsed": false,
    "ExecuteTime": {
     "end_time": "2024-01-15T11:48:32.452695200Z",
     "start_time": "2024-01-15T11:48:32.216369300Z"
    }
   },
   "id": "a55cfbeed15c951c",
   "execution_count": 236
  },
  {
   "cell_type": "code",
   "outputs": [
    {
     "data": {
      "text/plain": "         Pokemon            Type\n0      Bulbasaur  Grass / Poison\n1        Ivysaur  Grass / Poison\n2       Venusaur  Grass / Poison\n3     Charmander            Fire\n4     Charmeleon            Fire\n..           ...             ...\n804    Stakataka    Rock / Steel\n805  Blacephalon    Fire / Ghost\n806      Zeraora        Electric\n807       Meltan           Steel\n808     Melmetal           Steel\n\n[809 rows x 2 columns]",
      "text/html": "<div>\n<style scoped>\n    .dataframe tbody tr th:only-of-type {\n        vertical-align: middle;\n    }\n\n    .dataframe tbody tr th {\n        vertical-align: top;\n    }\n\n    .dataframe thead th {\n        text-align: right;\n    }\n</style>\n<table border=\"1\" class=\"dataframe\">\n  <thead>\n    <tr style=\"text-align: right;\">\n      <th></th>\n      <th>Pokemon</th>\n      <th>Type</th>\n    </tr>\n  </thead>\n  <tbody>\n    <tr>\n      <th>0</th>\n      <td>Bulbasaur</td>\n      <td>Grass / Poison</td>\n    </tr>\n    <tr>\n      <th>1</th>\n      <td>Ivysaur</td>\n      <td>Grass / Poison</td>\n    </tr>\n    <tr>\n      <th>2</th>\n      <td>Venusaur</td>\n      <td>Grass / Poison</td>\n    </tr>\n    <tr>\n      <th>3</th>\n      <td>Charmander</td>\n      <td>Fire</td>\n    </tr>\n    <tr>\n      <th>4</th>\n      <td>Charmeleon</td>\n      <td>Fire</td>\n    </tr>\n    <tr>\n      <th>...</th>\n      <td>...</td>\n      <td>...</td>\n    </tr>\n    <tr>\n      <th>804</th>\n      <td>Stakataka</td>\n      <td>Rock / Steel</td>\n    </tr>\n    <tr>\n      <th>805</th>\n      <td>Blacephalon</td>\n      <td>Fire / Ghost</td>\n    </tr>\n    <tr>\n      <th>806</th>\n      <td>Zeraora</td>\n      <td>Electric</td>\n    </tr>\n    <tr>\n      <th>807</th>\n      <td>Meltan</td>\n      <td>Steel</td>\n    </tr>\n    <tr>\n      <th>808</th>\n      <td>Melmetal</td>\n      <td>Steel</td>\n    </tr>\n  </tbody>\n</table>\n<p>809 rows × 2 columns</p>\n</div>"
     },
     "execution_count": 237,
     "metadata": {},
     "output_type": "execute_result"
    }
   ],
   "source": [
    "pd.read_csv(file)"
   ],
   "metadata": {
    "collapsed": false,
    "ExecuteTime": {
     "end_time": "2024-01-15T11:48:32.547565Z",
     "start_time": "2024-01-15T11:48:32.457613900Z"
    }
   },
   "id": "6ac7a92878e990ea",
   "execution_count": 237
  },
  {
   "cell_type": "code",
   "outputs": [
    {
     "data": {
      "text/plain": "                       Type\nPokemon                    \nBulbasaur    Grass / Poison\nIvysaur      Grass / Poison\nVenusaur     Grass / Poison\nCharmander             Fire\nCharmeleon             Fire\n...                     ...\nStakataka      Rock / Steel\nBlacephalon    Fire / Ghost\nZeraora            Electric\nMeltan                Steel\nMelmetal              Steel\n\n[809 rows x 1 columns]",
      "text/html": "<div>\n<style scoped>\n    .dataframe tbody tr th:only-of-type {\n        vertical-align: middle;\n    }\n\n    .dataframe tbody tr th {\n        vertical-align: top;\n    }\n\n    .dataframe thead th {\n        text-align: right;\n    }\n</style>\n<table border=\"1\" class=\"dataframe\">\n  <thead>\n    <tr style=\"text-align: right;\">\n      <th></th>\n      <th>Type</th>\n    </tr>\n    <tr>\n      <th>Pokemon</th>\n      <th></th>\n    </tr>\n  </thead>\n  <tbody>\n    <tr>\n      <th>Bulbasaur</th>\n      <td>Grass / Poison</td>\n    </tr>\n    <tr>\n      <th>Ivysaur</th>\n      <td>Grass / Poison</td>\n    </tr>\n    <tr>\n      <th>Venusaur</th>\n      <td>Grass / Poison</td>\n    </tr>\n    <tr>\n      <th>Charmander</th>\n      <td>Fire</td>\n    </tr>\n    <tr>\n      <th>Charmeleon</th>\n      <td>Fire</td>\n    </tr>\n    <tr>\n      <th>...</th>\n      <td>...</td>\n    </tr>\n    <tr>\n      <th>Stakataka</th>\n      <td>Rock / Steel</td>\n    </tr>\n    <tr>\n      <th>Blacephalon</th>\n      <td>Fire / Ghost</td>\n    </tr>\n    <tr>\n      <th>Zeraora</th>\n      <td>Electric</td>\n    </tr>\n    <tr>\n      <th>Meltan</th>\n      <td>Steel</td>\n    </tr>\n    <tr>\n      <th>Melmetal</th>\n      <td>Steel</td>\n    </tr>\n  </tbody>\n</table>\n<p>809 rows × 1 columns</p>\n</div>"
     },
     "execution_count": 238,
     "metadata": {},
     "output_type": "execute_result"
    }
   ],
   "source": [
    "pd.read_csv(file, index_col='Pokemon')"
   ],
   "metadata": {
    "collapsed": false,
    "ExecuteTime": {
     "end_time": "2024-01-15T11:48:32.576396400Z",
     "start_time": "2024-01-15T11:48:32.527368400Z"
    }
   },
   "id": "be727c19c18aeb5",
   "execution_count": 238
  },
  {
   "cell_type": "code",
   "outputs": [
    {
     "data": {
      "text/plain": "Pokemon\nBulbasaur      Grass / Poison\nIvysaur        Grass / Poison\nVenusaur       Grass / Poison\nCharmander               Fire\nCharmeleon               Fire\n                    ...      \nStakataka        Rock / Steel\nBlacephalon      Fire / Ghost\nZeraora              Electric\nMeltan                  Steel\nMelmetal                Steel\nName: Type, Length: 809, dtype: object"
     },
     "execution_count": 239,
     "metadata": {},
     "output_type": "execute_result"
    }
   ],
   "source": [
    "pd.read_csv(file, index_col='Pokemon').squeeze() # 시리즈로 강제 변환 됨 .squeeze()"
   ],
   "metadata": {
    "collapsed": false,
    "ExecuteTime": {
     "end_time": "2024-01-15T11:48:32.646796300Z",
     "start_time": "2024-01-15T11:48:32.557131100Z"
    }
   },
   "id": "b823ee311edbb35c",
   "execution_count": 239
  },
  {
   "cell_type": "code",
   "outputs": [],
   "source": [
    "pokemon = pd.read_csv(file, index_col='Pokemon').squeeze()"
   ],
   "metadata": {
    "collapsed": false,
    "ExecuteTime": {
     "end_time": "2024-01-15T11:48:32.650960700Z",
     "start_time": "2024-01-15T11:48:32.585853500Z"
    }
   },
   "id": "94cec0dcc52a890b",
   "execution_count": 240
  },
  {
   "cell_type": "code",
   "outputs": [
    {
     "name": "stdout",
     "output_type": "stream",
     "text": [
      "Pokemon\n",
      "Bulbasaur      Grass / Poison\n",
      "Ivysaur        Grass / Poison\n",
      "Venusaur       Grass / Poison\n",
      "Charmander               Fire\n",
      "Charmeleon               Fire\n",
      "                    ...      \n",
      "Stakataka        Rock / Steel\n",
      "Blacephalon      Fire / Ghost\n",
      "Zeraora              Electric\n",
      "Meltan                  Steel\n",
      "Melmetal                Steel\n",
      "Name: Type, Length: 809, dtype: object\n"
     ]
    }
   ],
   "source": [
    "print(pokemon)"
   ],
   "metadata": {
    "collapsed": false,
    "ExecuteTime": {
     "end_time": "2024-01-15T11:48:32.749154700Z",
     "start_time": "2024-01-15T11:48:32.655116Z"
    }
   },
   "id": "82805558d6d7ea3",
   "execution_count": 241
  },
  {
   "cell_type": "code",
   "outputs": [],
   "source": [
    "file2='../DATA/google_stocks.csv'"
   ],
   "metadata": {
    "collapsed": false,
    "ExecuteTime": {
     "end_time": "2024-01-15T11:48:32.783787300Z",
     "start_time": "2024-01-15T11:48:32.700832500Z"
    }
   },
   "id": "d0237b88f337ad6c",
   "execution_count": 242
  },
  {
   "cell_type": "code",
   "outputs": [
    {
     "data": {
      "text/plain": "         Date  Close\n0  2004-08-19  49.98\n1  2004-08-20  53.95\n2  2004-08-23  54.50\n3  2004-08-24  52.24\n4  2004-08-25  52.80",
      "text/html": "<div>\n<style scoped>\n    .dataframe tbody tr th:only-of-type {\n        vertical-align: middle;\n    }\n\n    .dataframe tbody tr th {\n        vertical-align: top;\n    }\n\n    .dataframe thead th {\n        text-align: right;\n    }\n</style>\n<table border=\"1\" class=\"dataframe\">\n  <thead>\n    <tr style=\"text-align: right;\">\n      <th></th>\n      <th>Date</th>\n      <th>Close</th>\n    </tr>\n  </thead>\n  <tbody>\n    <tr>\n      <th>0</th>\n      <td>2004-08-19</td>\n      <td>49.98</td>\n    </tr>\n    <tr>\n      <th>1</th>\n      <td>2004-08-20</td>\n      <td>53.95</td>\n    </tr>\n    <tr>\n      <th>2</th>\n      <td>2004-08-23</td>\n      <td>54.50</td>\n    </tr>\n    <tr>\n      <th>3</th>\n      <td>2004-08-24</td>\n      <td>52.24</td>\n    </tr>\n    <tr>\n      <th>4</th>\n      <td>2004-08-25</td>\n      <td>52.80</td>\n    </tr>\n  </tbody>\n</table>\n</div>"
     },
     "execution_count": 243,
     "metadata": {},
     "output_type": "execute_result"
    }
   ],
   "source": [
    "pd.read_csv(file2).head()"
   ],
   "metadata": {
    "collapsed": false,
    "ExecuteTime": {
     "end_time": "2024-01-15T11:48:32.842437900Z",
     "start_time": "2024-01-15T11:48:32.788830500Z"
    }
   },
   "id": "8b8ab95b7072ea00",
   "execution_count": 243
  },
  {
   "cell_type": "code",
   "outputs": [
    {
     "data": {
      "text/plain": "        Date  Close\n0 2004-08-19  49.98\n1 2004-08-20  53.95\n2 2004-08-23  54.50\n3 2004-08-24  52.24\n4 2004-08-25  52.80",
      "text/html": "<div>\n<style scoped>\n    .dataframe tbody tr th:only-of-type {\n        vertical-align: middle;\n    }\n\n    .dataframe tbody tr th {\n        vertical-align: top;\n    }\n\n    .dataframe thead th {\n        text-align: right;\n    }\n</style>\n<table border=\"1\" class=\"dataframe\">\n  <thead>\n    <tr style=\"text-align: right;\">\n      <th></th>\n      <th>Date</th>\n      <th>Close</th>\n    </tr>\n  </thead>\n  <tbody>\n    <tr>\n      <th>0</th>\n      <td>2004-08-19</td>\n      <td>49.98</td>\n    </tr>\n    <tr>\n      <th>1</th>\n      <td>2004-08-20</td>\n      <td>53.95</td>\n    </tr>\n    <tr>\n      <th>2</th>\n      <td>2004-08-23</td>\n      <td>54.50</td>\n    </tr>\n    <tr>\n      <th>3</th>\n      <td>2004-08-24</td>\n      <td>52.24</td>\n    </tr>\n    <tr>\n      <th>4</th>\n      <td>2004-08-25</td>\n      <td>52.80</td>\n    </tr>\n  </tbody>\n</table>\n</div>"
     },
     "execution_count": 244,
     "metadata": {},
     "output_type": "execute_result"
    }
   ],
   "source": [
    "pd.read_csv(file2, parse_dates=['Date']).head()"
   ],
   "metadata": {
    "collapsed": false,
    "ExecuteTime": {
     "end_time": "2024-01-15T11:48:32.886343800Z",
     "start_time": "2024-01-15T11:48:32.817031400Z"
    }
   },
   "id": "4f187e70f31162f4",
   "execution_count": 244
  },
  {
   "cell_type": "code",
   "outputs": [],
   "source": [
    "google = pd.read_csv(file2, parse_dates=['Date'], index_col='Date').squeeze()"
   ],
   "metadata": {
    "collapsed": false,
    "ExecuteTime": {
     "end_time": "2024-01-15T11:48:32.938810400Z",
     "start_time": "2024-01-15T11:48:32.875515600Z"
    }
   },
   "id": "f8ef97d7e4465e79",
   "execution_count": 245
  },
  {
   "cell_type": "code",
   "outputs": [
    {
     "name": "stdout",
     "output_type": "stream",
     "text": [
      "Date\n",
      "2004-08-19      49.98\n",
      "2004-08-20      53.95\n",
      "2004-08-23      54.50\n",
      "2004-08-24      52.24\n",
      "2004-08-25      52.80\n",
      "               ...   \n",
      "2019-10-21    1246.15\n",
      "2019-10-22    1242.80\n",
      "2019-10-23    1259.13\n",
      "2019-10-24    1260.99\n",
      "2019-10-25    1265.13\n",
      "Name: Close, Length: 3824, dtype: float64\n"
     ]
    }
   ],
   "source": [
    "print(google)"
   ],
   "metadata": {
    "collapsed": false,
    "ExecuteTime": {
     "end_time": "2024-01-15T11:48:33.012570300Z",
     "start_time": "2024-01-15T11:48:32.910378800Z"
    }
   },
   "id": "ef91d1318cf716e",
   "execution_count": 246
  },
  {
   "cell_type": "code",
   "outputs": [],
   "source": [
    "file3='../DATA/revolutionary_war.csv'"
   ],
   "metadata": {
    "collapsed": false,
    "ExecuteTime": {
     "end_time": "2024-01-15T11:48:33.074669100Z",
     "start_time": "2024-01-15T11:48:32.979011900Z"
    }
   },
   "id": "49e46216d1197f2f",
   "execution_count": 247
  },
  {
   "cell_type": "code",
   "outputs": [
    {
     "data": {
      "text/plain": "                         Battle  Start Date     State\n227         Siege of Fort Henry   9/11/1782  Virginia\n228  Grand Assault on Gibraltar   9/13/1782       NaN\n229   Action of 18 October 1782  10/18/1782       NaN\n230   Action of 6 December 1782   12/6/1782       NaN\n231   Action of 22 January 1783   1/22/1783  Virginia",
      "text/html": "<div>\n<style scoped>\n    .dataframe tbody tr th:only-of-type {\n        vertical-align: middle;\n    }\n\n    .dataframe tbody tr th {\n        vertical-align: top;\n    }\n\n    .dataframe thead th {\n        text-align: right;\n    }\n</style>\n<table border=\"1\" class=\"dataframe\">\n  <thead>\n    <tr style=\"text-align: right;\">\n      <th></th>\n      <th>Battle</th>\n      <th>Start Date</th>\n      <th>State</th>\n    </tr>\n  </thead>\n  <tbody>\n    <tr>\n      <th>227</th>\n      <td>Siege of Fort Henry</td>\n      <td>9/11/1782</td>\n      <td>Virginia</td>\n    </tr>\n    <tr>\n      <th>228</th>\n      <td>Grand Assault on Gibraltar</td>\n      <td>9/13/1782</td>\n      <td>NaN</td>\n    </tr>\n    <tr>\n      <th>229</th>\n      <td>Action of 18 October 1782</td>\n      <td>10/18/1782</td>\n      <td>NaN</td>\n    </tr>\n    <tr>\n      <th>230</th>\n      <td>Action of 6 December 1782</td>\n      <td>12/6/1782</td>\n      <td>NaN</td>\n    </tr>\n    <tr>\n      <th>231</th>\n      <td>Action of 22 January 1783</td>\n      <td>1/22/1783</td>\n      <td>Virginia</td>\n    </tr>\n  </tbody>\n</table>\n</div>"
     },
     "execution_count": 248,
     "metadata": {},
     "output_type": "execute_result"
    }
   ],
   "source": [
    "pd.read_csv(file3).tail()"
   ],
   "metadata": {
    "collapsed": false,
    "ExecuteTime": {
     "end_time": "2024-01-15T11:48:33.136715Z",
     "start_time": "2024-01-15T11:48:33.055148800Z"
    }
   },
   "id": "b6dbc5b3b9355a0f",
   "execution_count": 248
  },
  {
   "cell_type": "code",
   "outputs": [
    {
     "data": {
      "text/plain": "                                Battle     State\nStart Date                                      \n1782-09-11         Siege of Fort Henry  Virginia\n1782-09-13  Grand Assault on Gibraltar       NaN\n1782-10-18   Action of 18 October 1782       NaN\n1782-12-06   Action of 6 December 1782       NaN\n1783-01-22   Action of 22 January 1783  Virginia",
      "text/html": "<div>\n<style scoped>\n    .dataframe tbody tr th:only-of-type {\n        vertical-align: middle;\n    }\n\n    .dataframe tbody tr th {\n        vertical-align: top;\n    }\n\n    .dataframe thead th {\n        text-align: right;\n    }\n</style>\n<table border=\"1\" class=\"dataframe\">\n  <thead>\n    <tr style=\"text-align: right;\">\n      <th></th>\n      <th>Battle</th>\n      <th>State</th>\n    </tr>\n    <tr>\n      <th>Start Date</th>\n      <th></th>\n      <th></th>\n    </tr>\n  </thead>\n  <tbody>\n    <tr>\n      <th>1782-09-11</th>\n      <td>Siege of Fort Henry</td>\n      <td>Virginia</td>\n    </tr>\n    <tr>\n      <th>1782-09-13</th>\n      <td>Grand Assault on Gibraltar</td>\n      <td>NaN</td>\n    </tr>\n    <tr>\n      <th>1782-10-18</th>\n      <td>Action of 18 October 1782</td>\n      <td>NaN</td>\n    </tr>\n    <tr>\n      <th>1782-12-06</th>\n      <td>Action of 6 December 1782</td>\n      <td>NaN</td>\n    </tr>\n    <tr>\n      <th>1783-01-22</th>\n      <td>Action of 22 January 1783</td>\n      <td>Virginia</td>\n    </tr>\n  </tbody>\n</table>\n</div>"
     },
     "execution_count": 249,
     "metadata": {},
     "output_type": "execute_result"
    }
   ],
   "source": [
    "pd.read_csv(file3, parse_dates=['Start Date'], index_col='Start Date').tail()"
   ],
   "metadata": {
    "collapsed": false,
    "ExecuteTime": {
     "end_time": "2024-01-15T11:48:33.191197900Z",
     "start_time": "2024-01-15T11:48:33.104143200Z"
    }
   },
   "id": "7049c8310ba17ab6",
   "execution_count": 249
  },
  {
   "cell_type": "code",
   "outputs": [
    {
     "data": {
      "text/plain": "Start Date\n1782-09-11    Virginia\n1782-09-13         NaN\n1782-10-18         NaN\n1782-12-06         NaN\n1783-01-22    Virginia\nName: State, dtype: object"
     },
     "execution_count": 250,
     "metadata": {},
     "output_type": "execute_result"
    }
   ],
   "source": [
    "pd.read_csv(file3, index_col='Start Date', parse_dates=['Start Date'], usecols=['State', \"Start Date\"]).tail().squeeze()"
   ],
   "metadata": {
    "collapsed": false,
    "ExecuteTime": {
     "end_time": "2024-01-15T11:48:33.241235800Z",
     "start_time": "2024-01-15T11:48:33.159592Z"
    }
   },
   "id": "fa3e5b534d422492",
   "execution_count": 250
  },
  {
   "cell_type": "code",
   "outputs": [],
   "source": [
    "battles = pd.read_csv(file3, index_col='Start Date', parse_dates=['Start Date'], usecols=['State', \"Start Date\"]).squeeze()"
   ],
   "metadata": {
    "collapsed": false,
    "ExecuteTime": {
     "end_time": "2024-01-15T11:48:33.277760900Z",
     "start_time": "2024-01-15T11:48:33.200583100Z"
    }
   },
   "id": "de3dc8c66cc17962",
   "execution_count": 251
  },
  {
   "cell_type": "code",
   "outputs": [
    {
     "data": {
      "text/plain": "Date\n2004-09-03      49.82\n2004-09-01      49.94\n2004-08-19      49.98\n2004-09-02      50.57\n2004-09-07      50.60\n               ...   \n2019-04-23    1264.55\n2019-10-25    1265.13\n2018-07-26    1268.33\n2019-04-26    1272.18\n2019-04-29    1287.58\nName: Close, Length: 3824, dtype: float64"
     },
     "execution_count": 252,
     "metadata": {},
     "output_type": "execute_result"
    }
   ],
   "source": [
    "google.sort_values()"
   ],
   "metadata": {
    "collapsed": false,
    "ExecuteTime": {
     "end_time": "2024-01-15T11:48:33.372271900Z",
     "start_time": "2024-01-15T11:48:33.282916300Z"
    }
   },
   "id": "df362e0e1dee5714",
   "execution_count": 252
  },
  {
   "cell_type": "code",
   "outputs": [
    {
     "data": {
      "text/plain": "Pokemon\nIllumise                Bug\nSilcoon                 Bug\nPinsir                  Bug\nBurmy                   Bug\nWurmple                 Bug\n                  ...      \nTirtouga       Water / Rock\nRelicanth      Water / Rock\nCorsola        Water / Rock\nCarracosta     Water / Rock\nEmpoleon      Water / Steel\nName: Type, Length: 809, dtype: object"
     },
     "execution_count": 253,
     "metadata": {},
     "output_type": "execute_result"
    }
   ],
   "source": [
    "pokemon.sort_values()"
   ],
   "metadata": {
    "collapsed": false,
    "ExecuteTime": {
     "end_time": "2024-01-15T11:48:33.377011100Z",
     "start_time": "2024-01-15T11:48:33.332206400Z"
    }
   },
   "id": "5a78decc829f24e6",
   "execution_count": 253
  },
  {
   "cell_type": "code",
   "outputs": [
    {
     "data": {
      "text/plain": "0    Adam\n2     Ben\n1    adam\ndtype: object"
     },
     "execution_count": 254,
     "metadata": {},
     "output_type": "execute_result"
    }
   ],
   "source": [
    "pd.Series(data= [\"Adam\", 'adam', 'Ben']).sort_values()"
   ],
   "metadata": {
    "collapsed": false,
    "ExecuteTime": {
     "end_time": "2024-01-15T11:48:33.434616600Z",
     "start_time": "2024-01-15T11:48:33.384049200Z"
    }
   },
   "id": "fa362e91bb48968",
   "execution_count": 254
  },
  {
   "cell_type": "code",
   "outputs": [
    {
     "data": {
      "text/plain": "Date\n2019-04-29    1287.58\n2019-04-26    1272.18\n2018-07-26    1268.33\n2019-10-25    1265.13\n2019-04-23    1264.55\n               ...   \n2004-09-07      50.60\n2004-09-02      50.57\n2004-08-19      49.98\n2004-09-01      49.94\n2004-09-03      49.82\nName: Close, Length: 3824, dtype: float64"
     },
     "execution_count": 255,
     "metadata": {},
     "output_type": "execute_result"
    }
   ],
   "source": [
    "google.sort_values(ascending=False)"
   ],
   "metadata": {
    "collapsed": false,
    "ExecuteTime": {
     "end_time": "2024-01-15T11:48:33.467089600Z",
     "start_time": "2024-01-15T11:48:33.437721600Z"
    }
   },
   "id": "47640e4f3cf989e2",
   "execution_count": 255
  },
  {
   "cell_type": "code",
   "outputs": [
    {
     "data": {
      "text/plain": "Pokemon\nEmpoleon      Water / Steel\nCorsola        Water / Rock\nRelicanth      Water / Rock\nCarracosta     Water / Rock\nTirtouga       Water / Rock\nName: Type, dtype: object"
     },
     "execution_count": 256,
     "metadata": {},
     "output_type": "execute_result"
    }
   ],
   "source": [
    "pokemon.sort_values(ascending=False).head()"
   ],
   "metadata": {
    "collapsed": false,
    "ExecuteTime": {
     "end_time": "2024-01-15T11:48:33.505627600Z",
     "start_time": "2024-01-15T11:48:33.460478100Z"
    }
   },
   "id": "ce38eda90e08ef96",
   "execution_count": 256
  },
  {
   "cell_type": "code",
   "outputs": [
    {
     "data": {
      "text/plain": "Start Date\n1775-09-17            NaN\n1775-12-31            NaN\n1776-03-03            NaN\n1776-03-25            NaN\n1776-05-18            NaN\n                 ...     \n1777-05-17        Florida\n1777-09-03       Delaware\n1781-09-06    Connecticut\n1779-07-05    Connecticut\n1777-04-27    Connecticut\nName: State, Length: 232, dtype: object"
     },
     "execution_count": 257,
     "metadata": {},
     "output_type": "execute_result"
    }
   ],
   "source": [
    "battles.sort_values(ascending=False,na_position='first')"
   ],
   "metadata": {
    "collapsed": false,
    "ExecuteTime": {
     "end_time": "2024-01-15T11:48:33.526796100Z",
     "start_time": "2024-01-15T11:48:33.473461Z"
    }
   },
   "id": "39170226c7243016",
   "execution_count": 257
  },
  {
   "cell_type": "code",
   "outputs": [
    {
     "data": {
      "text/plain": "Start Date\n1781-09-06    Connecticut\n1779-07-05    Connecticut\n1777-04-27    Connecticut\n1777-09-03       Delaware\n1777-05-17        Florida\n                 ...     \n1782-08-08            NaN\n1782-08-25            NaN\n1782-09-13            NaN\n1782-10-18            NaN\n1782-12-06            NaN\nName: State, Length: 232, dtype: object"
     },
     "execution_count": 258,
     "metadata": {},
     "output_type": "execute_result"
    }
   ],
   "source": [
    "battles.sort_values()"
   ],
   "metadata": {
    "collapsed": false,
    "ExecuteTime": {
     "end_time": "2024-01-15T11:48:33.564969200Z",
     "start_time": "2024-01-15T11:48:33.513143500Z"
    }
   },
   "id": "76f450f61bcdaa16",
   "execution_count": 258
  },
  {
   "cell_type": "code",
   "outputs": [
    {
     "data": {
      "text/plain": "Start Date\n1781-09-06    Connecticut\n1779-07-05    Connecticut\n1777-04-27    Connecticut\n1777-09-03       Delaware\n1777-05-17        Florida\n                 ...     \n1781-07-06       Virginia\n1781-07-01       Virginia\n1781-06-26       Virginia\n1781-04-25       Virginia\n1783-01-22       Virginia\nName: State, Length: 162, dtype: object"
     },
     "execution_count": 259,
     "metadata": {},
     "output_type": "execute_result"
    }
   ],
   "source": [
    "battles.dropna().sort_values()"
   ],
   "metadata": {
    "collapsed": false,
    "ExecuteTime": {
     "end_time": "2024-01-15T11:48:33.618194500Z",
     "start_time": "2024-01-15T11:48:33.560474600Z"
    }
   },
   "id": "1ce7a11b2718e8dd",
   "execution_count": 259
  },
  {
   "cell_type": "code",
   "outputs": [
    {
     "data": {
      "text/plain": "Pokemon\nAbomasnow        Grass / Ice\nAbra                 Psychic\nAbsol                   Dark\nAccelgor                 Bug\nAegislash      Steel / Ghost\n                  ...       \nZoroark                 Dark\nZorua                   Dark\nZubat        Poison / Flying\nZweilous       Dark / Dragon\nZygarde      Dragon / Ground\nName: Type, Length: 809, dtype: object"
     },
     "execution_count": 260,
     "metadata": {},
     "output_type": "execute_result"
    }
   ],
   "source": [
    "# 다음 두 줄은 결과가 동일합니다.\n",
    "pokemon.sort_index()\n",
    "pokemon.sort_index(ascending=True)"
   ],
   "metadata": {
    "collapsed": false,
    "ExecuteTime": {
     "end_time": "2024-01-15T11:48:33.633466800Z",
     "start_time": "2024-01-15T11:48:33.579211400Z"
    }
   },
   "id": "5a47c7280b1d19a9",
   "execution_count": 260
  },
  {
   "cell_type": "code",
   "outputs": [
    {
     "data": {
      "text/plain": "Start Date\n1774-09-01    Massachusetts\n1774-12-14    New Hampshire\n1775-04-19    Massachusetts\n1775-04-19    Massachusetts\n1775-04-20         Virginia\n                  ...      \n1783-01-22         Virginia\nNaT              New Jersey\nNaT                Virginia\nNaT                     NaN\nNaT                     NaN\nName: State, Length: 232, dtype: object"
     },
     "execution_count": 261,
     "metadata": {},
     "output_type": "execute_result"
    }
   ],
   "source": [
    "battles.sort_index()"
   ],
   "metadata": {
    "collapsed": false,
    "ExecuteTime": {
     "end_time": "2024-01-15T11:48:33.635564400Z",
     "start_time": "2024-01-15T11:48:33.595161700Z"
    }
   },
   "id": "8b06ebe5478351fe",
   "execution_count": 261
  },
  {
   "cell_type": "code",
   "outputs": [
    {
     "data": {
      "text/plain": "Start Date\nNaT              New Jersey\nNaT                Virginia\nNaT                     NaN\nNaT                     NaN\n1774-09-01    Massachusetts\n                  ...      \n1782-09-11         Virginia\n1782-09-13              NaN\n1782-10-18              NaN\n1782-12-06              NaN\n1783-01-22         Virginia\nName: State, Length: 232, dtype: object"
     },
     "execution_count": 262,
     "metadata": {},
     "output_type": "execute_result"
    }
   ],
   "source": [
    "battles.sort_index(na_position='first')"
   ],
   "metadata": {
    "collapsed": false,
    "ExecuteTime": {
     "end_time": "2024-01-15T11:48:33.691958400Z",
     "start_time": "2024-01-15T11:48:33.639872100Z"
    }
   },
   "id": "a2e60dd74062215a",
   "execution_count": 262
  },
  {
   "cell_type": "code",
   "outputs": [
    {
     "data": {
      "text/plain": "Date\n2019-04-29    1287.58\n2019-04-26    1272.18\n2018-07-26    1268.33\n2019-10-25    1265.13\n2019-04-23    1264.55\n               ...   \n2004-09-07      50.60\n2004-09-02      50.57\n2004-08-19      49.98\n2004-09-01      49.94\n2004-09-03      49.82\nName: Close, Length: 3824, dtype: float64"
     },
     "execution_count": 263,
     "metadata": {},
     "output_type": "execute_result"
    }
   ],
   "source": [
    "google.sort_values(ascending=False)"
   ],
   "metadata": {
    "collapsed": false,
    "ExecuteTime": {
     "end_time": "2024-01-15T11:48:33.712625900Z",
     "start_time": "2024-01-15T11:48:33.678016100Z"
    }
   },
   "id": "af18255ed41f8e2b",
   "execution_count": 263
  },
  {
   "cell_type": "code",
   "outputs": [
    {
     "data": {
      "text/plain": "Date\n2019-04-29    1287.58\n2019-04-26    1272.18\n2018-07-26    1268.33\n2019-10-25    1265.13\n2019-04-23    1264.55\nName: Close, dtype: float64"
     },
     "execution_count": 264,
     "metadata": {},
     "output_type": "execute_result"
    }
   ],
   "source": [
    "# 다음 두 줄은 결과가 동일합니다.\n",
    "google.nlargest(n = 5)"
   ],
   "metadata": {
    "collapsed": false,
    "ExecuteTime": {
     "end_time": "2024-01-15T11:48:33.759206300Z",
     "start_time": "2024-01-15T11:48:33.716820800Z"
    }
   },
   "id": "d54b707008a83706",
   "execution_count": 264
  },
  {
   "cell_type": "code",
   "outputs": [
    {
     "data": {
      "text/plain": "Date\n2019-04-29    1287.58\n2019-04-26    1272.18\n2018-07-26    1268.33\n2019-10-25    1265.13\n2019-04-23    1264.55\nName: Close, dtype: float64"
     },
     "execution_count": 265,
     "metadata": {},
     "output_type": "execute_result"
    }
   ],
   "source": [
    "google.nlargest()"
   ],
   "metadata": {
    "collapsed": false,
    "ExecuteTime": {
     "end_time": "2024-01-15T11:48:33.780476300Z",
     "start_time": "2024-01-15T11:48:33.734475100Z"
    }
   },
   "id": "4e3907f3d63cdf3d",
   "execution_count": 265
  },
  {
   "cell_type": "code",
   "outputs": [],
   "source": [],
   "metadata": {
    "collapsed": false,
    "ExecuteTime": {
     "end_time": "2024-01-15T11:48:33.791452100Z",
     "start_time": "2024-01-15T11:48:33.762376600Z"
    }
   },
   "id": "42178f256e18056",
   "execution_count": 265
  },
  {
   "cell_type": "code",
   "outputs": [
    {
     "data": {
      "text/plain": "Date\n2004-09-03    49.82\n2004-09-01    49.94\n2004-08-19    49.98\n2004-09-02    50.57\n2004-09-07    50.60\nName: Close, dtype: float64"
     },
     "execution_count": 266,
     "metadata": {},
     "output_type": "execute_result"
    }
   ],
   "source": [
    "# next two lines deliver the same result.\n",
    "google.nsmallest(n = 5)\n",
    "google.nsmallest(5)"
   ],
   "metadata": {
    "collapsed": false,
    "ExecuteTime": {
     "end_time": "2024-01-15T11:48:33.834337500Z",
     "start_time": "2024-01-15T11:48:33.790359Z"
    }
   },
   "id": "5713d9caacc0e64",
   "execution_count": 266
  },
  {
   "cell_type": "code",
   "outputs": [
    {
     "data": {
      "text/plain": "Start Date\n1774-09-01    Massachusetts\n1774-12-14    New Hampshire\n1775-04-19    Massachusetts\nName: State, dtype: object"
     },
     "execution_count": 267,
     "metadata": {},
     "output_type": "execute_result"
    }
   ],
   "source": [
    "battles.head(3)"
   ],
   "metadata": {
    "collapsed": false,
    "ExecuteTime": {
     "end_time": "2024-01-15T11:48:33.846699300Z",
     "start_time": "2024-01-15T11:48:33.812033700Z"
    }
   },
   "id": "1465e952888ce052",
   "execution_count": 267
  },
  {
   "cell_type": "code",
   "outputs": [
    {
     "data": {
      "text/plain": "Start Date\n1781-09-06    Connecticut\n1779-07-05    Connecticut\n1777-04-27    Connecticut\nName: State, dtype: object"
     },
     "execution_count": 268,
     "metadata": {},
     "output_type": "execute_result"
    }
   ],
   "source": [
    "battles.sort_values().head(3)"
   ],
   "metadata": {
    "collapsed": false,
    "ExecuteTime": {
     "end_time": "2024-01-15T11:48:33.893353400Z",
     "start_time": "2024-01-15T11:48:33.840041Z"
    }
   },
   "id": "87b1d221a5adf5ff",
   "execution_count": 268
  },
  {
   "cell_type": "code",
   "outputs": [
    {
     "data": {
      "text/plain": "Start Date\n1774-09-01    Massachusetts\n1774-12-14    New Hampshire\n1775-04-19    Massachusetts\nName: State, dtype: object"
     },
     "execution_count": 269,
     "metadata": {},
     "output_type": "execute_result"
    }
   ],
   "source": [
    "battles.head(3)"
   ],
   "metadata": {
    "collapsed": false,
    "ExecuteTime": {
     "end_time": "2024-01-15T11:48:33.898734Z",
     "start_time": "2024-01-15T11:48:33.880477Z"
    }
   },
   "id": "63bd2a6e82b8def4",
   "execution_count": 269
  },
  {
   "cell_type": "code",
   "outputs": [],
   "source": [
    "battles = battles.sort_values()"
   ],
   "metadata": {
    "collapsed": false,
    "ExecuteTime": {
     "end_time": "2024-01-15T11:48:33.946513500Z",
     "start_time": "2024-01-15T11:48:33.902214200Z"
    }
   },
   "id": "e8529aa71b87b4e6",
   "execution_count": 270
  },
  {
   "cell_type": "code",
   "outputs": [
    {
     "name": "stdout",
     "output_type": "stream",
     "text": [
      "Start Date\n",
      "1781-09-06    Connecticut\n",
      "1779-07-05    Connecticut\n",
      "1777-04-27    Connecticut\n",
      "1777-09-03       Delaware\n",
      "1777-05-17        Florida\n",
      "                 ...     \n",
      "1782-08-08            NaN\n",
      "1782-08-25            NaN\n",
      "1782-09-13            NaN\n",
      "1782-10-18            NaN\n",
      "1782-12-06            NaN\n",
      "Name: State, Length: 232, dtype: object\n"
     ]
    }
   ],
   "source": [
    "print(battles)"
   ],
   "metadata": {
    "collapsed": false,
    "ExecuteTime": {
     "end_time": "2024-01-15T11:48:33.947680Z",
     "start_time": "2024-01-15T11:48:33.919643700Z"
    }
   },
   "id": "8561096740727dc6",
   "execution_count": 271
  },
  {
   "cell_type": "code",
   "outputs": [
    {
     "data": {
      "text/plain": "Pokemon\nBulbasaur     Grass / Poison\nIvysaur       Grass / Poison\nVenusaur      Grass / Poison\nCharmander              Fire\nCharmeleon              Fire\nName: Type, dtype: object"
     },
     "execution_count": 272,
     "metadata": {},
     "output_type": "execute_result"
    }
   ],
   "source": [
    "pokemon.head()"
   ],
   "metadata": {
    "collapsed": false,
    "ExecuteTime": {
     "end_time": "2024-01-15T11:49:28.221700900Z",
     "start_time": "2024-01-15T11:49:28.182599600Z"
    }
   },
   "id": "7e4a5fe6bfa5370b",
   "execution_count": 272
  },
  {
   "cell_type": "code",
   "outputs": [
    {
     "data": {
      "text/plain": "Type\nNormal                65\nWater                 61\nGrass                 38\nPsychic               35\nFire                  30\n                      ..\nFire / Psychic         1\nNormal / Ground        1\nPsychic / Fighting     1\nDark / Ghost           1\nFire / Ghost           1\nName: count, Length: 159, dtype: int64"
     },
     "execution_count": 273,
     "metadata": {},
     "output_type": "execute_result"
    }
   ],
   "source": [
    "pokemon.value_counts()"
   ],
   "metadata": {
    "collapsed": false,
    "ExecuteTime": {
     "end_time": "2024-01-15T11:50:10.671094700Z",
     "start_time": "2024-01-15T11:50:10.635503700Z"
    }
   },
   "id": "d0cab0b4ef8a77fe",
   "execution_count": 273
  },
  {
   "cell_type": "code",
   "outputs": [
    {
     "data": {
      "text/plain": "159"
     },
     "execution_count": 274,
     "metadata": {},
     "output_type": "execute_result"
    }
   ],
   "source": [
    "len(pokemon.value_counts())"
   ],
   "metadata": {
    "collapsed": false,
    "ExecuteTime": {
     "end_time": "2024-01-15T11:53:01.394333600Z",
     "start_time": "2024-01-15T11:53:01.355502200Z"
    }
   },
   "id": "14a73e78e2fec740",
   "execution_count": 274
  },
  {
   "cell_type": "code",
   "outputs": [
    {
     "data": {
      "text/plain": "159"
     },
     "execution_count": 275,
     "metadata": {},
     "output_type": "execute_result"
    }
   ],
   "source": [
    "pokemon.nunique()"
   ],
   "metadata": {
    "collapsed": false,
    "ExecuteTime": {
     "end_time": "2024-01-15T11:53:14.979444700Z",
     "start_time": "2024-01-15T11:53:14.948557100Z"
    }
   },
   "id": "4bb35fa2bc379c2a",
   "execution_count": 275
  },
  {
   "cell_type": "code",
   "outputs": [
    {
     "data": {
      "text/plain": "Type\nFire / Ghost         1\nFighting / Dark      1\nFighting / Steel     1\nNormal / Ground      1\nFire / Psychic       1\n                    ..\nFire                30\nPsychic             35\nGrass               38\nWater               61\nNormal              65\nName: count, Length: 159, dtype: int64"
     },
     "execution_count": 281,
     "metadata": {},
     "output_type": "execute_result"
    }
   ],
   "source": [
    "pokemon.value_counts(ascending=True)"
   ],
   "metadata": {
    "collapsed": false,
    "ExecuteTime": {
     "end_time": "2024-01-15T11:59:19.237256200Z",
     "start_time": "2024-01-15T11:59:19.205696800Z"
    }
   },
   "id": "4d2a2908166e79e3",
   "execution_count": 281
  },
  {
   "cell_type": "code",
   "outputs": [],
   "source": [],
   "metadata": {
    "collapsed": false
   },
   "id": "55c1edbd6c35e46f"
  }
 ],
 "metadata": {
  "kernelspec": {
   "display_name": "Python 3",
   "language": "python",
   "name": "python3"
  },
  "language_info": {
   "codemirror_mode": {
    "name": "ipython",
    "version": 2
   },
   "file_extension": ".py",
   "mimetype": "text/x-python",
   "name": "python",
   "nbconvert_exporter": "python",
   "pygments_lexer": "ipython2",
   "version": "2.7.6"
  }
 },
 "nbformat": 4,
 "nbformat_minor": 5
}
