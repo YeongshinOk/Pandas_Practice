{
 "cells": [
  {
   "cell_type": "code",
   "execution_count": 1,
   "id": "initial_id",
   "metadata": {
    "collapsed": true,
    "ExecuteTime": {
     "end_time": "2024-01-16T08:16:55.130760Z",
     "start_time": "2024-01-16T08:16:54.655900Z"
    }
   },
   "outputs": [],
   "source": [
    "import pandas as pd"
   ]
  },
  {
   "cell_type": "code",
   "outputs": [],
   "source": [
    "# 다음 두 줄은 결과가 동일합니다.\n",
    "# pd.read_csv(filepath_or_buffer = \"pokemon.csv\")\n",
    "# pd.read_csv(\"pokemon.csv\")\n",
    "file='../DATA/pokemon.csv'"
   ],
   "metadata": {
    "collapsed": false,
    "ExecuteTime": {
     "end_time": "2024-01-16T08:16:55.155533900Z",
     "start_time": "2024-01-16T08:16:55.131830100Z"
    }
   },
   "id": "a55cfbeed15c951c",
   "execution_count": 2
  },
  {
   "cell_type": "code",
   "outputs": [
    {
     "data": {
      "text/plain": "         Pokemon            Type\n0      Bulbasaur  Grass / Poison\n1        Ivysaur  Grass / Poison\n2       Venusaur  Grass / Poison\n3     Charmander            Fire\n4     Charmeleon            Fire\n..           ...             ...\n804    Stakataka    Rock / Steel\n805  Blacephalon    Fire / Ghost\n806      Zeraora        Electric\n807       Meltan           Steel\n808     Melmetal           Steel\n\n[809 rows x 2 columns]",
      "text/html": "<div>\n<style scoped>\n    .dataframe tbody tr th:only-of-type {\n        vertical-align: middle;\n    }\n\n    .dataframe tbody tr th {\n        vertical-align: top;\n    }\n\n    .dataframe thead th {\n        text-align: right;\n    }\n</style>\n<table border=\"1\" class=\"dataframe\">\n  <thead>\n    <tr style=\"text-align: right;\">\n      <th></th>\n      <th>Pokemon</th>\n      <th>Type</th>\n    </tr>\n  </thead>\n  <tbody>\n    <tr>\n      <th>0</th>\n      <td>Bulbasaur</td>\n      <td>Grass / Poison</td>\n    </tr>\n    <tr>\n      <th>1</th>\n      <td>Ivysaur</td>\n      <td>Grass / Poison</td>\n    </tr>\n    <tr>\n      <th>2</th>\n      <td>Venusaur</td>\n      <td>Grass / Poison</td>\n    </tr>\n    <tr>\n      <th>3</th>\n      <td>Charmander</td>\n      <td>Fire</td>\n    </tr>\n    <tr>\n      <th>4</th>\n      <td>Charmeleon</td>\n      <td>Fire</td>\n    </tr>\n    <tr>\n      <th>...</th>\n      <td>...</td>\n      <td>...</td>\n    </tr>\n    <tr>\n      <th>804</th>\n      <td>Stakataka</td>\n      <td>Rock / Steel</td>\n    </tr>\n    <tr>\n      <th>805</th>\n      <td>Blacephalon</td>\n      <td>Fire / Ghost</td>\n    </tr>\n    <tr>\n      <th>806</th>\n      <td>Zeraora</td>\n      <td>Electric</td>\n    </tr>\n    <tr>\n      <th>807</th>\n      <td>Meltan</td>\n      <td>Steel</td>\n    </tr>\n    <tr>\n      <th>808</th>\n      <td>Melmetal</td>\n      <td>Steel</td>\n    </tr>\n  </tbody>\n</table>\n<p>809 rows × 2 columns</p>\n</div>"
     },
     "execution_count": 3,
     "metadata": {},
     "output_type": "execute_result"
    }
   ],
   "source": [
    "pd.read_csv(file)"
   ],
   "metadata": {
    "collapsed": false,
    "ExecuteTime": {
     "end_time": "2024-01-16T08:16:55.194358200Z",
     "start_time": "2024-01-16T08:16:55.147039100Z"
    }
   },
   "id": "6ac7a92878e990ea",
   "execution_count": 3
  },
  {
   "cell_type": "code",
   "outputs": [
    {
     "data": {
      "text/plain": "                       Type\nPokemon                    \nBulbasaur    Grass / Poison\nIvysaur      Grass / Poison\nVenusaur     Grass / Poison\nCharmander             Fire\nCharmeleon             Fire\n...                     ...\nStakataka      Rock / Steel\nBlacephalon    Fire / Ghost\nZeraora            Electric\nMeltan                Steel\nMelmetal              Steel\n\n[809 rows x 1 columns]",
      "text/html": "<div>\n<style scoped>\n    .dataframe tbody tr th:only-of-type {\n        vertical-align: middle;\n    }\n\n    .dataframe tbody tr th {\n        vertical-align: top;\n    }\n\n    .dataframe thead th {\n        text-align: right;\n    }\n</style>\n<table border=\"1\" class=\"dataframe\">\n  <thead>\n    <tr style=\"text-align: right;\">\n      <th></th>\n      <th>Type</th>\n    </tr>\n    <tr>\n      <th>Pokemon</th>\n      <th></th>\n    </tr>\n  </thead>\n  <tbody>\n    <tr>\n      <th>Bulbasaur</th>\n      <td>Grass / Poison</td>\n    </tr>\n    <tr>\n      <th>Ivysaur</th>\n      <td>Grass / Poison</td>\n    </tr>\n    <tr>\n      <th>Venusaur</th>\n      <td>Grass / Poison</td>\n    </tr>\n    <tr>\n      <th>Charmander</th>\n      <td>Fire</td>\n    </tr>\n    <tr>\n      <th>Charmeleon</th>\n      <td>Fire</td>\n    </tr>\n    <tr>\n      <th>...</th>\n      <td>...</td>\n    </tr>\n    <tr>\n      <th>Stakataka</th>\n      <td>Rock / Steel</td>\n    </tr>\n    <tr>\n      <th>Blacephalon</th>\n      <td>Fire / Ghost</td>\n    </tr>\n    <tr>\n      <th>Zeraora</th>\n      <td>Electric</td>\n    </tr>\n    <tr>\n      <th>Meltan</th>\n      <td>Steel</td>\n    </tr>\n    <tr>\n      <th>Melmetal</th>\n      <td>Steel</td>\n    </tr>\n  </tbody>\n</table>\n<p>809 rows × 1 columns</p>\n</div>"
     },
     "execution_count": 4,
     "metadata": {},
     "output_type": "execute_result"
    }
   ],
   "source": [
    "pd.read_csv(file, index_col='Pokemon')"
   ],
   "metadata": {
    "collapsed": false,
    "ExecuteTime": {
     "end_time": "2024-01-16T08:16:55.212097700Z",
     "start_time": "2024-01-16T08:16:55.162879Z"
    }
   },
   "id": "be727c19c18aeb5",
   "execution_count": 4
  },
  {
   "cell_type": "code",
   "outputs": [
    {
     "data": {
      "text/plain": "Pokemon\nBulbasaur      Grass / Poison\nIvysaur        Grass / Poison\nVenusaur       Grass / Poison\nCharmander               Fire\nCharmeleon               Fire\n                    ...      \nStakataka        Rock / Steel\nBlacephalon      Fire / Ghost\nZeraora              Electric\nMeltan                  Steel\nMelmetal                Steel\nName: Type, Length: 809, dtype: object"
     },
     "execution_count": 5,
     "metadata": {},
     "output_type": "execute_result"
    }
   ],
   "source": [
    "pd.read_csv(file, index_col='Pokemon').squeeze() # 시리즈로 강제 변환 됨 .squeeze()"
   ],
   "metadata": {
    "collapsed": false,
    "ExecuteTime": {
     "end_time": "2024-01-16T08:16:55.213139400Z",
     "start_time": "2024-01-16T08:16:55.180269100Z"
    }
   },
   "id": "b823ee311edbb35c",
   "execution_count": 5
  },
  {
   "cell_type": "code",
   "outputs": [],
   "source": [
    "pokemon = pd.read_csv(file, index_col='Pokemon').squeeze()"
   ],
   "metadata": {
    "collapsed": false,
    "ExecuteTime": {
     "end_time": "2024-01-16T08:16:55.269801800Z",
     "start_time": "2024-01-16T08:16:55.191231400Z"
    }
   },
   "id": "94cec0dcc52a890b",
   "execution_count": 6
  },
  {
   "cell_type": "code",
   "outputs": [
    {
     "name": "stdout",
     "output_type": "stream",
     "text": [
      "Pokemon\n",
      "Bulbasaur      Grass / Poison\n",
      "Ivysaur        Grass / Poison\n",
      "Venusaur       Grass / Poison\n",
      "Charmander               Fire\n",
      "Charmeleon               Fire\n",
      "                    ...      \n",
      "Stakataka        Rock / Steel\n",
      "Blacephalon      Fire / Ghost\n",
      "Zeraora              Electric\n",
      "Meltan                  Steel\n",
      "Melmetal                Steel\n",
      "Name: Type, Length: 809, dtype: object\n"
     ]
    }
   ],
   "source": [
    "print(pokemon)"
   ],
   "metadata": {
    "collapsed": false,
    "ExecuteTime": {
     "end_time": "2024-01-16T08:16:55.293917300Z",
     "start_time": "2024-01-16T08:16:55.206921700Z"
    }
   },
   "id": "82805558d6d7ea3",
   "execution_count": 7
  },
  {
   "cell_type": "code",
   "outputs": [],
   "source": [
    "file2='../DATA/google_stocks.csv'"
   ],
   "metadata": {
    "collapsed": false,
    "ExecuteTime": {
     "end_time": "2024-01-16T08:16:55.294947300Z",
     "start_time": "2024-01-16T08:16:55.223508800Z"
    }
   },
   "id": "d0237b88f337ad6c",
   "execution_count": 8
  },
  {
   "cell_type": "code",
   "outputs": [
    {
     "data": {
      "text/plain": "         Date  Close\n0  2004-08-19  49.98\n1  2004-08-20  53.95\n2  2004-08-23  54.50\n3  2004-08-24  52.24\n4  2004-08-25  52.80",
      "text/html": "<div>\n<style scoped>\n    .dataframe tbody tr th:only-of-type {\n        vertical-align: middle;\n    }\n\n    .dataframe tbody tr th {\n        vertical-align: top;\n    }\n\n    .dataframe thead th {\n        text-align: right;\n    }\n</style>\n<table border=\"1\" class=\"dataframe\">\n  <thead>\n    <tr style=\"text-align: right;\">\n      <th></th>\n      <th>Date</th>\n      <th>Close</th>\n    </tr>\n  </thead>\n  <tbody>\n    <tr>\n      <th>0</th>\n      <td>2004-08-19</td>\n      <td>49.98</td>\n    </tr>\n    <tr>\n      <th>1</th>\n      <td>2004-08-20</td>\n      <td>53.95</td>\n    </tr>\n    <tr>\n      <th>2</th>\n      <td>2004-08-23</td>\n      <td>54.50</td>\n    </tr>\n    <tr>\n      <th>3</th>\n      <td>2004-08-24</td>\n      <td>52.24</td>\n    </tr>\n    <tr>\n      <th>4</th>\n      <td>2004-08-25</td>\n      <td>52.80</td>\n    </tr>\n  </tbody>\n</table>\n</div>"
     },
     "execution_count": 9,
     "metadata": {},
     "output_type": "execute_result"
    }
   ],
   "source": [
    "pd.read_csv(file2).head()"
   ],
   "metadata": {
    "collapsed": false,
    "ExecuteTime": {
     "end_time": "2024-01-16T08:16:55.312722700Z",
     "start_time": "2024-01-16T08:16:55.238054800Z"
    }
   },
   "id": "8b8ab95b7072ea00",
   "execution_count": 9
  },
  {
   "cell_type": "code",
   "outputs": [
    {
     "data": {
      "text/plain": "        Date  Close\n0 2004-08-19  49.98\n1 2004-08-20  53.95\n2 2004-08-23  54.50\n3 2004-08-24  52.24\n4 2004-08-25  52.80",
      "text/html": "<div>\n<style scoped>\n    .dataframe tbody tr th:only-of-type {\n        vertical-align: middle;\n    }\n\n    .dataframe tbody tr th {\n        vertical-align: top;\n    }\n\n    .dataframe thead th {\n        text-align: right;\n    }\n</style>\n<table border=\"1\" class=\"dataframe\">\n  <thead>\n    <tr style=\"text-align: right;\">\n      <th></th>\n      <th>Date</th>\n      <th>Close</th>\n    </tr>\n  </thead>\n  <tbody>\n    <tr>\n      <th>0</th>\n      <td>2004-08-19</td>\n      <td>49.98</td>\n    </tr>\n    <tr>\n      <th>1</th>\n      <td>2004-08-20</td>\n      <td>53.95</td>\n    </tr>\n    <tr>\n      <th>2</th>\n      <td>2004-08-23</td>\n      <td>54.50</td>\n    </tr>\n    <tr>\n      <th>3</th>\n      <td>2004-08-24</td>\n      <td>52.24</td>\n    </tr>\n    <tr>\n      <th>4</th>\n      <td>2004-08-25</td>\n      <td>52.80</td>\n    </tr>\n  </tbody>\n</table>\n</div>"
     },
     "execution_count": 10,
     "metadata": {},
     "output_type": "execute_result"
    }
   ],
   "source": [
    "pd.read_csv(file2, parse_dates=['Date']).head()"
   ],
   "metadata": {
    "collapsed": false,
    "ExecuteTime": {
     "end_time": "2024-01-16T08:16:55.314864800Z",
     "start_time": "2024-01-16T08:16:55.255282800Z"
    }
   },
   "id": "4f187e70f31162f4",
   "execution_count": 10
  },
  {
   "cell_type": "code",
   "outputs": [],
   "source": [
    "google = pd.read_csv(file2, parse_dates=['Date'], index_col='Date').squeeze()"
   ],
   "metadata": {
    "collapsed": false,
    "ExecuteTime": {
     "end_time": "2024-01-16T08:16:55.361591500Z",
     "start_time": "2024-01-16T08:16:55.278175200Z"
    }
   },
   "id": "f8ef97d7e4465e79",
   "execution_count": 11
  },
  {
   "cell_type": "code",
   "outputs": [
    {
     "name": "stdout",
     "output_type": "stream",
     "text": [
      "Date\n",
      "2004-08-19      49.98\n",
      "2004-08-20      53.95\n",
      "2004-08-23      54.50\n",
      "2004-08-24      52.24\n",
      "2004-08-25      52.80\n",
      "               ...   \n",
      "2019-10-21    1246.15\n",
      "2019-10-22    1242.80\n",
      "2019-10-23    1259.13\n",
      "2019-10-24    1260.99\n",
      "2019-10-25    1265.13\n",
      "Name: Close, Length: 3824, dtype: float64\n"
     ]
    }
   ],
   "source": [
    "print(google)"
   ],
   "metadata": {
    "collapsed": false,
    "ExecuteTime": {
     "end_time": "2024-01-16T08:16:55.414143300Z",
     "start_time": "2024-01-16T08:16:55.292886Z"
    }
   },
   "id": "ef91d1318cf716e",
   "execution_count": 12
  },
  {
   "cell_type": "code",
   "outputs": [],
   "source": [
    "file3='../DATA/revolutionary_war.csv'"
   ],
   "metadata": {
    "collapsed": false,
    "ExecuteTime": {
     "end_time": "2024-01-16T08:16:55.417251600Z",
     "start_time": "2024-01-16T08:16:55.309598100Z"
    }
   },
   "id": "49e46216d1197f2f",
   "execution_count": 13
  },
  {
   "cell_type": "code",
   "outputs": [
    {
     "data": {
      "text/plain": "                         Battle  Start Date     State\n227         Siege of Fort Henry   9/11/1782  Virginia\n228  Grand Assault on Gibraltar   9/13/1782       NaN\n229   Action of 18 October 1782  10/18/1782       NaN\n230   Action of 6 December 1782   12/6/1782       NaN\n231   Action of 22 January 1783   1/22/1783  Virginia",
      "text/html": "<div>\n<style scoped>\n    .dataframe tbody tr th:only-of-type {\n        vertical-align: middle;\n    }\n\n    .dataframe tbody tr th {\n        vertical-align: top;\n    }\n\n    .dataframe thead th {\n        text-align: right;\n    }\n</style>\n<table border=\"1\" class=\"dataframe\">\n  <thead>\n    <tr style=\"text-align: right;\">\n      <th></th>\n      <th>Battle</th>\n      <th>Start Date</th>\n      <th>State</th>\n    </tr>\n  </thead>\n  <tbody>\n    <tr>\n      <th>227</th>\n      <td>Siege of Fort Henry</td>\n      <td>9/11/1782</td>\n      <td>Virginia</td>\n    </tr>\n    <tr>\n      <th>228</th>\n      <td>Grand Assault on Gibraltar</td>\n      <td>9/13/1782</td>\n      <td>NaN</td>\n    </tr>\n    <tr>\n      <th>229</th>\n      <td>Action of 18 October 1782</td>\n      <td>10/18/1782</td>\n      <td>NaN</td>\n    </tr>\n    <tr>\n      <th>230</th>\n      <td>Action of 6 December 1782</td>\n      <td>12/6/1782</td>\n      <td>NaN</td>\n    </tr>\n    <tr>\n      <th>231</th>\n      <td>Action of 22 January 1783</td>\n      <td>1/22/1783</td>\n      <td>Virginia</td>\n    </tr>\n  </tbody>\n</table>\n</div>"
     },
     "execution_count": 14,
     "metadata": {},
     "output_type": "execute_result"
    }
   ],
   "source": [
    "pd.read_csv(file3).tail()"
   ],
   "metadata": {
    "collapsed": false,
    "ExecuteTime": {
     "end_time": "2024-01-16T08:16:55.481873400Z",
     "start_time": "2024-01-16T08:16:55.329379Z"
    }
   },
   "id": "b6dbc5b3b9355a0f",
   "execution_count": 14
  },
  {
   "cell_type": "code",
   "outputs": [
    {
     "data": {
      "text/plain": "                                Battle     State\nStart Date                                      \n1782-09-11         Siege of Fort Henry  Virginia\n1782-09-13  Grand Assault on Gibraltar       NaN\n1782-10-18   Action of 18 October 1782       NaN\n1782-12-06   Action of 6 December 1782       NaN\n1783-01-22   Action of 22 January 1783  Virginia",
      "text/html": "<div>\n<style scoped>\n    .dataframe tbody tr th:only-of-type {\n        vertical-align: middle;\n    }\n\n    .dataframe tbody tr th {\n        vertical-align: top;\n    }\n\n    .dataframe thead th {\n        text-align: right;\n    }\n</style>\n<table border=\"1\" class=\"dataframe\">\n  <thead>\n    <tr style=\"text-align: right;\">\n      <th></th>\n      <th>Battle</th>\n      <th>State</th>\n    </tr>\n    <tr>\n      <th>Start Date</th>\n      <th></th>\n      <th></th>\n    </tr>\n  </thead>\n  <tbody>\n    <tr>\n      <th>1782-09-11</th>\n      <td>Siege of Fort Henry</td>\n      <td>Virginia</td>\n    </tr>\n    <tr>\n      <th>1782-09-13</th>\n      <td>Grand Assault on Gibraltar</td>\n      <td>NaN</td>\n    </tr>\n    <tr>\n      <th>1782-10-18</th>\n      <td>Action of 18 October 1782</td>\n      <td>NaN</td>\n    </tr>\n    <tr>\n      <th>1782-12-06</th>\n      <td>Action of 6 December 1782</td>\n      <td>NaN</td>\n    </tr>\n    <tr>\n      <th>1783-01-22</th>\n      <td>Action of 22 January 1783</td>\n      <td>Virginia</td>\n    </tr>\n  </tbody>\n</table>\n</div>"
     },
     "execution_count": 15,
     "metadata": {},
     "output_type": "execute_result"
    }
   ],
   "source": [
    "pd.read_csv(file3, parse_dates=['Start Date'], index_col='Start Date').tail()"
   ],
   "metadata": {
    "collapsed": false,
    "ExecuteTime": {
     "end_time": "2024-01-16T08:16:55.530943800Z",
     "start_time": "2024-01-16T08:16:55.339695Z"
    }
   },
   "id": "7049c8310ba17ab6",
   "execution_count": 15
  },
  {
   "cell_type": "code",
   "outputs": [
    {
     "data": {
      "text/plain": "Start Date\n1782-09-11    Virginia\n1782-09-13         NaN\n1782-10-18         NaN\n1782-12-06         NaN\n1783-01-22    Virginia\nName: State, dtype: object"
     },
     "execution_count": 16,
     "metadata": {},
     "output_type": "execute_result"
    }
   ],
   "source": [
    "pd.read_csv(file3, index_col='Start Date', parse_dates=['Start Date'], usecols=['State', \"Start Date\"]).tail().squeeze()"
   ],
   "metadata": {
    "collapsed": false,
    "ExecuteTime": {
     "end_time": "2024-01-16T08:16:55.534111700Z",
     "start_time": "2024-01-16T08:16:55.358502700Z"
    }
   },
   "id": "fa3e5b534d422492",
   "execution_count": 16
  },
  {
   "cell_type": "code",
   "outputs": [],
   "source": [
    "battles = pd.read_csv(file3, index_col='Start Date', parse_dates=['Start Date'], usecols=['State', \"Start Date\"]).squeeze()"
   ],
   "metadata": {
    "collapsed": false,
    "ExecuteTime": {
     "end_time": "2024-01-16T08:16:55.551134900Z",
     "start_time": "2024-01-16T08:16:55.373088400Z"
    }
   },
   "id": "de3dc8c66cc17962",
   "execution_count": 17
  },
  {
   "cell_type": "code",
   "outputs": [
    {
     "data": {
      "text/plain": "Date\n2004-09-03      49.82\n2004-09-01      49.94\n2004-08-19      49.98\n2004-09-02      50.57\n2004-09-07      50.60\n               ...   \n2019-04-23    1264.55\n2019-10-25    1265.13\n2018-07-26    1268.33\n2019-04-26    1272.18\n2019-04-29    1287.58\nName: Close, Length: 3824, dtype: float64"
     },
     "execution_count": 18,
     "metadata": {},
     "output_type": "execute_result"
    }
   ],
   "source": [
    "google.sort_values()"
   ],
   "metadata": {
    "collapsed": false,
    "ExecuteTime": {
     "end_time": "2024-01-16T08:16:55.553687100Z",
     "start_time": "2024-01-16T08:16:55.388907800Z"
    }
   },
   "id": "df362e0e1dee5714",
   "execution_count": 18
  },
  {
   "cell_type": "code",
   "outputs": [
    {
     "data": {
      "text/plain": "Pokemon\nIllumise                Bug\nSilcoon                 Bug\nPinsir                  Bug\nBurmy                   Bug\nWurmple                 Bug\n                  ...      \nTirtouga       Water / Rock\nRelicanth      Water / Rock\nCorsola        Water / Rock\nCarracosta     Water / Rock\nEmpoleon      Water / Steel\nName: Type, Length: 809, dtype: object"
     },
     "execution_count": 19,
     "metadata": {},
     "output_type": "execute_result"
    }
   ],
   "source": [
    "pokemon.sort_values()"
   ],
   "metadata": {
    "collapsed": false,
    "ExecuteTime": {
     "end_time": "2024-01-16T08:16:55.602614800Z",
     "start_time": "2024-01-16T08:16:55.407823800Z"
    }
   },
   "id": "5a78decc829f24e6",
   "execution_count": 19
  },
  {
   "cell_type": "code",
   "outputs": [
    {
     "data": {
      "text/plain": "0    Adam\n2     Ben\n1    adam\ndtype: object"
     },
     "execution_count": 20,
     "metadata": {},
     "output_type": "execute_result"
    }
   ],
   "source": [
    "pd.Series(data= [\"Adam\", 'adam', 'Ben']).sort_values()"
   ],
   "metadata": {
    "collapsed": false,
    "ExecuteTime": {
     "end_time": "2024-01-16T08:16:55.623864Z",
     "start_time": "2024-01-16T08:16:55.426378800Z"
    }
   },
   "id": "fa362e91bb48968",
   "execution_count": 20
  },
  {
   "cell_type": "code",
   "outputs": [
    {
     "data": {
      "text/plain": "Date\n2019-04-29    1287.58\n2019-04-26    1272.18\n2018-07-26    1268.33\n2019-10-25    1265.13\n2019-04-23    1264.55\n               ...   \n2004-09-07      50.60\n2004-09-02      50.57\n2004-08-19      49.98\n2004-09-01      49.94\n2004-09-03      49.82\nName: Close, Length: 3824, dtype: float64"
     },
     "execution_count": 21,
     "metadata": {},
     "output_type": "execute_result"
    }
   ],
   "source": [
    "google.sort_values(ascending=False)"
   ],
   "metadata": {
    "collapsed": false,
    "ExecuteTime": {
     "end_time": "2024-01-16T08:16:55.764934600Z",
     "start_time": "2024-01-16T08:16:55.439881900Z"
    }
   },
   "id": "47640e4f3cf989e2",
   "execution_count": 21
  },
  {
   "cell_type": "code",
   "outputs": [
    {
     "data": {
      "text/plain": "Pokemon\nEmpoleon      Water / Steel\nCorsola        Water / Rock\nRelicanth      Water / Rock\nCarracosta     Water / Rock\nTirtouga       Water / Rock\nName: Type, dtype: object"
     },
     "execution_count": 22,
     "metadata": {},
     "output_type": "execute_result"
    }
   ],
   "source": [
    "pokemon.sort_values(ascending=False).head()"
   ],
   "metadata": {
    "collapsed": false,
    "ExecuteTime": {
     "end_time": "2024-01-16T08:16:55.766308800Z",
     "start_time": "2024-01-16T08:16:55.454416300Z"
    }
   },
   "id": "ce38eda90e08ef96",
   "execution_count": 22
  },
  {
   "cell_type": "code",
   "outputs": [
    {
     "data": {
      "text/plain": "Start Date\n1775-09-17            NaN\n1775-12-31            NaN\n1776-03-03            NaN\n1776-03-25            NaN\n1776-05-18            NaN\n                 ...     \n1777-05-17        Florida\n1777-09-03       Delaware\n1781-09-06    Connecticut\n1779-07-05    Connecticut\n1777-04-27    Connecticut\nName: State, Length: 232, dtype: object"
     },
     "execution_count": 23,
     "metadata": {},
     "output_type": "execute_result"
    }
   ],
   "source": [
    "battles.sort_values(ascending=False,na_position='first')"
   ],
   "metadata": {
    "collapsed": false,
    "ExecuteTime": {
     "end_time": "2024-01-16T08:16:55.785195800Z",
     "start_time": "2024-01-16T08:16:55.470053800Z"
    }
   },
   "id": "39170226c7243016",
   "execution_count": 23
  },
  {
   "cell_type": "code",
   "outputs": [
    {
     "data": {
      "text/plain": "Start Date\n1781-09-06    Connecticut\n1779-07-05    Connecticut\n1777-04-27    Connecticut\n1777-09-03       Delaware\n1777-05-17        Florida\n                 ...     \n1782-08-08            NaN\n1782-08-25            NaN\n1782-09-13            NaN\n1782-10-18            NaN\n1782-12-06            NaN\nName: State, Length: 232, dtype: object"
     },
     "execution_count": 24,
     "metadata": {},
     "output_type": "execute_result"
    }
   ],
   "source": [
    "battles.sort_values()"
   ],
   "metadata": {
    "collapsed": false,
    "ExecuteTime": {
     "end_time": "2024-01-16T08:16:55.787280700Z",
     "start_time": "2024-01-16T08:16:55.487070900Z"
    }
   },
   "id": "76f450f61bcdaa16",
   "execution_count": 24
  },
  {
   "cell_type": "code",
   "outputs": [
    {
     "data": {
      "text/plain": "Start Date\n1781-09-06    Connecticut\n1779-07-05    Connecticut\n1777-04-27    Connecticut\n1777-09-03       Delaware\n1777-05-17        Florida\n                 ...     \n1781-07-06       Virginia\n1781-07-01       Virginia\n1781-06-26       Virginia\n1781-04-25       Virginia\n1783-01-22       Virginia\nName: State, Length: 162, dtype: object"
     },
     "execution_count": 25,
     "metadata": {},
     "output_type": "execute_result"
    }
   ],
   "source": [
    "battles.dropna().sort_values()"
   ],
   "metadata": {
    "collapsed": false,
    "ExecuteTime": {
     "end_time": "2024-01-16T08:16:55.833537800Z",
     "start_time": "2024-01-16T08:16:55.502743600Z"
    }
   },
   "id": "1ce7a11b2718e8dd",
   "execution_count": 25
  },
  {
   "cell_type": "code",
   "outputs": [
    {
     "data": {
      "text/plain": "Pokemon\nAbomasnow        Grass / Ice\nAbra                 Psychic\nAbsol                   Dark\nAccelgor                 Bug\nAegislash      Steel / Ghost\n                  ...       \nZoroark                 Dark\nZorua                   Dark\nZubat        Poison / Flying\nZweilous       Dark / Dragon\nZygarde      Dragon / Ground\nName: Type, Length: 809, dtype: object"
     },
     "execution_count": 26,
     "metadata": {},
     "output_type": "execute_result"
    }
   ],
   "source": [
    "# 다음 두 줄은 결과가 동일합니다.\n",
    "pokemon.sort_index()\n",
    "pokemon.sort_index(ascending=True)"
   ],
   "metadata": {
    "collapsed": false,
    "ExecuteTime": {
     "end_time": "2024-01-16T08:16:55.883610700Z",
     "start_time": "2024-01-16T08:16:55.518381800Z"
    }
   },
   "id": "5a47c7280b1d19a9",
   "execution_count": 26
  },
  {
   "cell_type": "code",
   "outputs": [
    {
     "data": {
      "text/plain": "Start Date\n1774-09-01    Massachusetts\n1774-12-14    New Hampshire\n1775-04-19    Massachusetts\n1775-04-19    Massachusetts\n1775-04-20         Virginia\n                  ...      \n1783-01-22         Virginia\nNaT              New Jersey\nNaT                Virginia\nNaT                     NaN\nNaT                     NaN\nName: State, Length: 232, dtype: object"
     },
     "execution_count": 27,
     "metadata": {},
     "output_type": "execute_result"
    }
   ],
   "source": [
    "battles.sort_index()"
   ],
   "metadata": {
    "collapsed": false,
    "ExecuteTime": {
     "end_time": "2024-01-16T08:16:55.895059600Z",
     "start_time": "2024-01-16T08:16:55.533071900Z"
    }
   },
   "id": "8b06ebe5478351fe",
   "execution_count": 27
  },
  {
   "cell_type": "code",
   "outputs": [
    {
     "data": {
      "text/plain": "Start Date\nNaT              New Jersey\nNaT                Virginia\nNaT                     NaN\nNaT                     NaN\n1774-09-01    Massachusetts\n                  ...      \n1782-09-11         Virginia\n1782-09-13              NaN\n1782-10-18              NaN\n1782-12-06              NaN\n1783-01-22         Virginia\nName: State, Length: 232, dtype: object"
     },
     "execution_count": 28,
     "metadata": {},
     "output_type": "execute_result"
    }
   ],
   "source": [
    "battles.sort_index(na_position='first')"
   ],
   "metadata": {
    "collapsed": false,
    "ExecuteTime": {
     "end_time": "2024-01-16T08:16:55.898186300Z",
     "start_time": "2024-01-16T08:16:55.551134900Z"
    }
   },
   "id": "a2e60dd74062215a",
   "execution_count": 28
  },
  {
   "cell_type": "code",
   "outputs": [
    {
     "data": {
      "text/plain": "Date\n2019-04-29    1287.58\n2019-04-26    1272.18\n2018-07-26    1268.33\n2019-10-25    1265.13\n2019-04-23    1264.55\n               ...   \n2004-09-07      50.60\n2004-09-02      50.57\n2004-08-19      49.98\n2004-09-01      49.94\n2004-09-03      49.82\nName: Close, Length: 3824, dtype: float64"
     },
     "execution_count": 29,
     "metadata": {},
     "output_type": "execute_result"
    }
   ],
   "source": [
    "google.sort_values(ascending=False)"
   ],
   "metadata": {
    "collapsed": false,
    "ExecuteTime": {
     "end_time": "2024-01-16T08:16:55.899234500Z",
     "start_time": "2024-01-16T08:16:55.566828500Z"
    }
   },
   "id": "af18255ed41f8e2b",
   "execution_count": 29
  },
  {
   "cell_type": "code",
   "outputs": [
    {
     "data": {
      "text/plain": "Date\n2019-04-29    1287.58\n2019-04-26    1272.18\n2018-07-26    1268.33\n2019-10-25    1265.13\n2019-04-23    1264.55\nName: Close, dtype: float64"
     },
     "execution_count": 30,
     "metadata": {},
     "output_type": "execute_result"
    }
   ],
   "source": [
    "# 다음 두 줄은 결과가 동일합니다.\n",
    "google.nlargest(n = 5)"
   ],
   "metadata": {
    "collapsed": false,
    "ExecuteTime": {
     "end_time": "2024-01-16T08:16:55.919190300Z",
     "start_time": "2024-01-16T08:16:55.582900300Z"
    }
   },
   "id": "d54b707008a83706",
   "execution_count": 30
  },
  {
   "cell_type": "code",
   "outputs": [
    {
     "data": {
      "text/plain": "Date\n2019-04-29    1287.58\n2019-04-26    1272.18\n2018-07-26    1268.33\n2019-10-25    1265.13\n2019-04-23    1264.55\nName: Close, dtype: float64"
     },
     "execution_count": 31,
     "metadata": {},
     "output_type": "execute_result"
    }
   ],
   "source": [
    "google.nlargest()"
   ],
   "metadata": {
    "collapsed": false,
    "ExecuteTime": {
     "end_time": "2024-01-16T08:16:55.922428600Z",
     "start_time": "2024-01-16T08:16:55.595921100Z"
    }
   },
   "id": "4e3907f3d63cdf3d",
   "execution_count": 31
  },
  {
   "cell_type": "code",
   "outputs": [],
   "source": [],
   "metadata": {
    "collapsed": false,
    "ExecuteTime": {
     "end_time": "2024-01-16T08:16:55.923519Z",
     "start_time": "2024-01-16T08:16:55.611375400Z"
    }
   },
   "id": "42178f256e18056",
   "execution_count": 31
  },
  {
   "cell_type": "code",
   "outputs": [
    {
     "data": {
      "text/plain": "Date\n2004-09-03    49.82\n2004-09-01    49.94\n2004-08-19    49.98\n2004-09-02    50.57\n2004-09-07    50.60\nName: Close, dtype: float64"
     },
     "execution_count": 32,
     "metadata": {},
     "output_type": "execute_result"
    }
   ],
   "source": [
    "# next two lines deliver the same result.\n",
    "google.nsmallest(n = 5)\n",
    "google.nsmallest(5)"
   ],
   "metadata": {
    "collapsed": false,
    "ExecuteTime": {
     "end_time": "2024-01-16T08:16:55.924596400Z",
     "start_time": "2024-01-16T08:16:55.626928700Z"
    }
   },
   "id": "5713d9caacc0e64",
   "execution_count": 32
  },
  {
   "cell_type": "code",
   "outputs": [
    {
     "data": {
      "text/plain": "Start Date\n1774-09-01    Massachusetts\n1774-12-14    New Hampshire\n1775-04-19    Massachusetts\nName: State, dtype: object"
     },
     "execution_count": 33,
     "metadata": {},
     "output_type": "execute_result"
    }
   ],
   "source": [
    "battles.head(3)"
   ],
   "metadata": {
    "collapsed": false,
    "ExecuteTime": {
     "end_time": "2024-01-16T08:16:55.926729600Z",
     "start_time": "2024-01-16T08:16:55.642619900Z"
    }
   },
   "id": "1465e952888ce052",
   "execution_count": 33
  },
  {
   "cell_type": "code",
   "outputs": [
    {
     "data": {
      "text/plain": "Start Date\n1781-09-06    Connecticut\n1779-07-05    Connecticut\n1777-04-27    Connecticut\nName: State, dtype: object"
     },
     "execution_count": 34,
     "metadata": {},
     "output_type": "execute_result"
    }
   ],
   "source": [
    "battles.sort_values().head(3)"
   ],
   "metadata": {
    "collapsed": false,
    "ExecuteTime": {
     "end_time": "2024-01-16T08:16:55.927787200Z",
     "start_time": "2024-01-16T08:16:55.658190500Z"
    }
   },
   "id": "87b1d221a5adf5ff",
   "execution_count": 34
  },
  {
   "cell_type": "code",
   "outputs": [
    {
     "data": {
      "text/plain": "Start Date\n1774-09-01    Massachusetts\n1774-12-14    New Hampshire\n1775-04-19    Massachusetts\nName: State, dtype: object"
     },
     "execution_count": 35,
     "metadata": {},
     "output_type": "execute_result"
    }
   ],
   "source": [
    "battles.head(3)"
   ],
   "metadata": {
    "collapsed": false,
    "ExecuteTime": {
     "end_time": "2024-01-16T08:16:55.928805900Z",
     "start_time": "2024-01-16T08:16:55.672687900Z"
    }
   },
   "id": "63bd2a6e82b8def4",
   "execution_count": 35
  },
  {
   "cell_type": "code",
   "outputs": [],
   "source": [
    "battles = battles.sort_values()"
   ],
   "metadata": {
    "collapsed": false,
    "ExecuteTime": {
     "end_time": "2024-01-16T08:16:55.928805900Z",
     "start_time": "2024-01-16T08:16:55.689072300Z"
    }
   },
   "id": "e8529aa71b87b4e6",
   "execution_count": 36
  },
  {
   "cell_type": "code",
   "outputs": [
    {
     "name": "stdout",
     "output_type": "stream",
     "text": [
      "Start Date\n",
      "1781-09-06    Connecticut\n",
      "1779-07-05    Connecticut\n",
      "1777-04-27    Connecticut\n",
      "1777-09-03       Delaware\n",
      "1777-05-17        Florida\n",
      "                 ...     \n",
      "1782-08-08            NaN\n",
      "1782-08-25            NaN\n",
      "1782-09-13            NaN\n",
      "1782-10-18            NaN\n",
      "1782-12-06            NaN\n",
      "Name: State, Length: 232, dtype: object\n"
     ]
    }
   ],
   "source": [
    "print(battles)"
   ],
   "metadata": {
    "collapsed": false,
    "ExecuteTime": {
     "end_time": "2024-01-16T08:16:55.929902100Z",
     "start_time": "2024-01-16T08:16:55.704976100Z"
    }
   },
   "id": "8561096740727dc6",
   "execution_count": 37
  },
  {
   "cell_type": "code",
   "outputs": [
    {
     "data": {
      "text/plain": "Pokemon\nBulbasaur     Grass / Poison\nIvysaur       Grass / Poison\nVenusaur      Grass / Poison\nCharmander              Fire\nCharmeleon              Fire\nName: Type, dtype: object"
     },
     "execution_count": 38,
     "metadata": {},
     "output_type": "execute_result"
    }
   ],
   "source": [
    "pokemon.head()"
   ],
   "metadata": {
    "collapsed": false,
    "ExecuteTime": {
     "end_time": "2024-01-16T08:16:55.952081900Z",
     "start_time": "2024-01-16T08:16:55.720956800Z"
    }
   },
   "id": "7e4a5fe6bfa5370b",
   "execution_count": 38
  },
  {
   "cell_type": "code",
   "outputs": [
    {
     "data": {
      "text/plain": "Type\nNormal                65\nWater                 61\nGrass                 38\nPsychic               35\nFire                  30\n                      ..\nFire / Psychic         1\nNormal / Ground        1\nPsychic / Fighting     1\nDark / Ghost           1\nFire / Ghost           1\nName: count, Length: 159, dtype: int64"
     },
     "execution_count": 39,
     "metadata": {},
     "output_type": "execute_result"
    }
   ],
   "source": [
    "pokemon.value_counts()"
   ],
   "metadata": {
    "collapsed": false,
    "ExecuteTime": {
     "end_time": "2024-01-16T08:16:55.953217300Z",
     "start_time": "2024-01-16T08:16:55.737203100Z"
    }
   },
   "id": "d0cab0b4ef8a77fe",
   "execution_count": 39
  },
  {
   "cell_type": "code",
   "outputs": [
    {
     "data": {
      "text/plain": "159"
     },
     "execution_count": 40,
     "metadata": {},
     "output_type": "execute_result"
    }
   ],
   "source": [
    "len(pokemon.value_counts())"
   ],
   "metadata": {
    "collapsed": false,
    "ExecuteTime": {
     "end_time": "2024-01-16T08:16:55.957383600Z",
     "start_time": "2024-01-16T08:16:55.757485Z"
    }
   },
   "id": "14a73e78e2fec740",
   "execution_count": 40
  },
  {
   "cell_type": "code",
   "outputs": [
    {
     "data": {
      "text/plain": "159"
     },
     "execution_count": 41,
     "metadata": {},
     "output_type": "execute_result"
    }
   ],
   "source": [
    "pokemon.nunique()"
   ],
   "metadata": {
    "collapsed": false,
    "ExecuteTime": {
     "end_time": "2024-01-16T08:16:55.958433500Z",
     "start_time": "2024-01-16T08:16:55.768859400Z"
    }
   },
   "id": "4bb35fa2bc379c2a",
   "execution_count": 41
  },
  {
   "cell_type": "code",
   "outputs": [
    {
     "data": {
      "text/plain": "Type\nFire / Ghost         1\nFighting / Dark      1\nFighting / Steel     1\nNormal / Ground      1\nFire / Psychic       1\n                    ..\nFire                30\nPsychic             35\nGrass               38\nWater               61\nNormal              65\nName: count, Length: 159, dtype: int64"
     },
     "execution_count": 42,
     "metadata": {},
     "output_type": "execute_result"
    }
   ],
   "source": [
    "pokemon.value_counts(ascending=True)"
   ],
   "metadata": {
    "collapsed": false,
    "ExecuteTime": {
     "end_time": "2024-01-16T08:16:55.977172300Z",
     "start_time": "2024-01-16T08:16:55.785195800Z"
    }
   },
   "id": "4d2a2908166e79e3",
   "execution_count": 42
  },
  {
   "cell_type": "code",
   "outputs": [
    {
     "data": {
      "text/plain": "Type\nNormal                65\nWater                 61\nGrass                 38\nPsychic               35\nFire                  30\n                      ..\nFire / Psychic         1\nNormal / Ground        1\nPsychic / Fighting     1\nDark / Ghost           1\nFire / Ghost           1\nName: count, Length: 159, dtype: int64"
     },
     "execution_count": 43,
     "metadata": {},
     "output_type": "execute_result"
    }
   ],
   "source": [
    "pokemon.value_counts()"
   ],
   "metadata": {
    "collapsed": false,
    "ExecuteTime": {
     "end_time": "2024-01-16T08:21:20.688868600Z",
     "start_time": "2024-01-16T08:21:20.656466700Z"
    }
   },
   "id": "55c1edbd6c35e46f",
   "execution_count": 43
  },
  {
   "cell_type": "code",
   "outputs": [
    {
     "data": {
      "text/plain": "159"
     },
     "execution_count": 44,
     "metadata": {},
     "output_type": "execute_result"
    }
   ],
   "source": [
    "len(pokemon.value_counts())"
   ],
   "metadata": {
    "collapsed": false,
    "ExecuteTime": {
     "end_time": "2024-01-16T08:24:04.669901300Z",
     "start_time": "2024-01-16T08:24:04.617360900Z"
    }
   },
   "id": "f96cc3dd69cebdd1",
   "execution_count": 44
  },
  {
   "cell_type": "code",
   "outputs": [
    {
     "data": {
      "text/plain": "159"
     },
     "execution_count": 46,
     "metadata": {},
     "output_type": "execute_result"
    }
   ],
   "source": [
    "pokemon.nunique()"
   ],
   "metadata": {
    "collapsed": false,
    "ExecuteTime": {
     "end_time": "2024-01-16T08:25:38.385088100Z",
     "start_time": "2024-01-16T08:25:38.346585400Z"
    }
   },
   "id": "c9175fefd5aa4212",
   "execution_count": 46
  },
  {
   "cell_type": "code",
   "outputs": [
    {
     "data": {
      "text/plain": "Type\nFire / Ghost         1\nFighting / Dark      1\nFighting / Steel     1\nNormal / Ground      1\nFire / Psychic       1\n                    ..\nFire                30\nPsychic             35\nGrass               38\nWater               61\nNormal              65\nName: count, Length: 159, dtype: int64"
     },
     "execution_count": 47,
     "metadata": {},
     "output_type": "execute_result"
    }
   ],
   "source": [
    "pokemon.value_counts(ascending=True)"
   ],
   "metadata": {
    "collapsed": false,
    "ExecuteTime": {
     "end_time": "2024-01-16T08:27:40.922901800Z",
     "start_time": "2024-01-16T08:27:40.891563100Z"
    }
   },
   "id": "a26fe5d407c338c1",
   "execution_count": 47
  },
  {
   "cell_type": "code",
   "outputs": [
    {
     "data": {
      "text/plain": "Type\nNormal     0.080346\nWater      0.075402\nGrass      0.046972\nPsychic    0.043263\nFire       0.037083\nName: proportion, dtype: float64"
     },
     "execution_count": 48,
     "metadata": {},
     "output_type": "execute_result"
    }
   ],
   "source": [
    "pokemon.value_counts(normalize=True).head()"
   ],
   "metadata": {
    "collapsed": false,
    "ExecuteTime": {
     "end_time": "2024-01-16T08:29:18.369123100Z",
     "start_time": "2024-01-16T08:29:18.338122100Z"
    }
   },
   "id": "41e45da7fa4f7de5",
   "execution_count": 48
  },
  {
   "cell_type": "code",
   "outputs": [
    {
     "data": {
      "text/plain": "Type\nNormal                8.034611\nWater                 7.540173\nGrass                 4.697157\nPsychic               4.326329\nFire                  3.708282\n                        ...   \nFire / Psychic        0.123609\nNormal / Ground       0.123609\nPsychic / Fighting    0.123609\nDark / Ghost          0.123609\nFire / Ghost          0.123609\nName: proportion, Length: 159, dtype: float64"
     },
     "execution_count": 53,
     "metadata": {},
     "output_type": "execute_result"
    }
   ],
   "source": [
    "(pokemon.value_counts(normalize=True) * 100)"
   ],
   "metadata": {
    "collapsed": false,
    "ExecuteTime": {
     "end_time": "2024-01-16T08:31:11.224490900Z",
     "start_time": "2024-01-16T08:31:11.212499Z"
    }
   },
   "id": "355bfb78d77baa43",
   "execution_count": 53
  },
  {
   "cell_type": "code",
   "outputs": [
    {
     "data": {
      "text/plain": "Type\nNormal                8.03\nWater                 7.54\nGrass                 4.70\nPsychic               4.33\nFire                  3.71\n                      ... \nFire / Psychic        0.12\nNormal / Ground       0.12\nPsychic / Fighting    0.12\nDark / Ghost          0.12\nFire / Ghost          0.12\nName: proportion, Length: 159, dtype: float64"
     },
     "execution_count": 54,
     "metadata": {},
     "output_type": "execute_result"
    }
   ],
   "source": [
    "(pokemon.value_counts(normalize=True) * 100).round(2)"
   ],
   "metadata": {
    "collapsed": false,
    "ExecuteTime": {
     "end_time": "2024-01-16T08:42:56.883346900Z",
     "start_time": "2024-01-16T08:42:56.856221500Z"
    }
   },
   "id": "bca7898ce1245694",
   "execution_count": 54
  },
  {
   "cell_type": "code",
   "outputs": [
    {
     "data": {
      "text/plain": "Close\n287.68    3\n194.27    3\n307.10    3\n288.92    3\n290.41    3\nName: count, dtype: int64"
     },
     "execution_count": 55,
     "metadata": {},
     "output_type": "execute_result"
    }
   ],
   "source": [
    "google.value_counts().head()"
   ],
   "metadata": {
    "collapsed": false,
    "ExecuteTime": {
     "end_time": "2024-01-16T08:44:01.530369600Z",
     "start_time": "2024-01-16T08:44:01.496735200Z"
    }
   },
   "id": "2f4dc58ccac98ed4",
   "execution_count": 55
  },
  {
   "cell_type": "code",
   "outputs": [
    {
     "data": {
      "text/plain": "1287.58"
     },
     "execution_count": 56,
     "metadata": {},
     "output_type": "execute_result"
    }
   ],
   "source": [
    "google.max()"
   ],
   "metadata": {
    "collapsed": false,
    "ExecuteTime": {
     "end_time": "2024-01-16T08:45:10.173936800Z",
     "start_time": "2024-01-16T08:45:10.135946Z"
    }
   },
   "id": "e337b3c663553227",
   "execution_count": 56
  },
  {
   "cell_type": "code",
   "outputs": [
    {
     "data": {
      "text/plain": "49.82"
     },
     "execution_count": 57,
     "metadata": {},
     "output_type": "execute_result"
    }
   ],
   "source": [
    "google.min()"
   ],
   "metadata": {
    "collapsed": false,
    "ExecuteTime": {
     "end_time": "2024-01-16T08:45:43.663283100Z",
     "start_time": "2024-01-16T08:45:43.626298800Z"
    }
   },
   "id": "a9d4d15e591b5727",
   "execution_count": 57
  },
  {
   "cell_type": "code",
   "outputs": [
    {
     "data": {
      "text/plain": "Close\n(200.0, 400.0]      1568\n(-0.001, 200.0]      595\n(400.0, 600.0]       575\n(1000.0, 1200.0]     406\n(600.0, 800.0]       380\n(800.0, 1000.0]      207\n(1200.0, 1400.0]      93\nName: count, dtype: int64"
     },
     "execution_count": 58,
     "metadata": {},
     "output_type": "execute_result"
    }
   ],
   "source": [
    "buckets = [0, 200, 400, 600,800, 1000, 1200, 1400]\n",
    "google.value_counts(bins=buckets)"
   ],
   "metadata": {
    "collapsed": false,
    "ExecuteTime": {
     "end_time": "2024-01-16T08:47:28.127624500Z",
     "start_time": "2024-01-16T08:47:28.070399600Z"
    }
   },
   "id": "8a1af106f1cc76b5",
   "execution_count": 58
  },
  {
   "cell_type": "code",
   "outputs": [
    {
     "data": {
      "text/plain": "Close\n(-0.001, 200.0]      595\n(200.0, 400.0]      1568\n(400.0, 600.0]       575\n(600.0, 800.0]       380\n(800.0, 1000.0]      207\n(1000.0, 1200.0]     406\n(1200.0, 1400.0]      93\nName: count, dtype: int64"
     },
     "execution_count": 59,
     "metadata": {},
     "output_type": "execute_result"
    }
   ],
   "source": [
    "google.value_counts(bins=buckets).sort_index()"
   ],
   "metadata": {
    "collapsed": false,
    "ExecuteTime": {
     "end_time": "2024-01-16T08:50:24.236461100Z",
     "start_time": "2024-01-16T08:50:24.203384300Z"
    }
   },
   "id": "3230ec6676ad491c",
   "execution_count": 59
  },
  {
   "cell_type": "code",
   "outputs": [
    {
     "data": {
      "text/plain": "Close\n(-0.001, 200.0]      595\n(200.0, 400.0]      1568\n(400.0, 600.0]       575\n(600.0, 800.0]       380\n(800.0, 1000.0]      207\n(1000.0, 1200.0]     406\n(1200.0, 1400.0]      93\nName: count, dtype: int64"
     },
     "execution_count": 62,
     "metadata": {},
     "output_type": "execute_result"
    }
   ],
   "source": [
    "google.value_counts(bins=buckets, sort=False)"
   ],
   "metadata": {
    "collapsed": false,
    "ExecuteTime": {
     "end_time": "2024-01-16T08:52:54.477243700Z",
     "start_time": "2024-01-16T08:52:54.446123400Z"
    }
   },
   "id": "586091020eb802ff",
   "execution_count": 62
  },
  {
   "cell_type": "code",
   "outputs": [],
   "source": [],
   "metadata": {
    "collapsed": false
   },
   "id": "5a8548421fe5d474"
  }
 ],
 "metadata": {
  "kernelspec": {
   "display_name": "Python 3",
   "language": "python",
   "name": "python3"
  },
  "language_info": {
   "codemirror_mode": {
    "name": "ipython",
    "version": 2
   },
   "file_extension": ".py",
   "mimetype": "text/x-python",
   "name": "python",
   "nbconvert_exporter": "python",
   "pygments_lexer": "ipython2",
   "version": "2.7.6"
  }
 },
 "nbformat": 4,
 "nbformat_minor": 5
}
