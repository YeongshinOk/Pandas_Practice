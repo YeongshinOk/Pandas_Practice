{
 "cells": [
  {
   "cell_type": "code",
   "execution_count": 1,
   "id": "initial_id",
   "metadata": {
    "collapsed": true,
    "ExecuteTime": {
     "end_time": "2024-01-16T23:59:33.111177100Z",
     "start_time": "2024-01-16T23:59:32.597262200Z"
    }
   },
   "outputs": [],
   "source": [
    "import pandas as pd\n",
    "import numpy as np"
   ]
  },
  {
   "cell_type": "code",
   "outputs": [],
   "source": [
    "filename = '../DATA/남북한발전전력량.xlsx'\n",
    "test = pd.read_excel(filename, sheet_name=0, index_col=[0,1])"
   ],
   "metadata": {
    "collapsed": false,
    "ExecuteTime": {
     "end_time": "2024-01-17T00:00:36.434332500Z",
     "start_time": "2024-01-17T00:00:35.750229100Z"
    }
   },
   "id": "2f3b7a072ab0079f",
   "execution_count": 3
  },
  {
   "cell_type": "markdown",
   "source": [
    "test"
   ],
   "metadata": {
    "collapsed": false
   },
   "id": "8e15d9157359df2f"
  },
  {
   "cell_type": "code",
   "outputs": [
    {
     "data": {
      "text/plain": "                  1990  1991  1992  1993  1994  1995  1996  1997  1998  1999  \\\n전력량 (억㎾h) 발전 전력별                                                               \n남한        합계      1077  1186  1310  1444  1650  1847  2055  2244  2153  2393   \n          수력        64    51    49    60    41    55    52    54    61    61   \n          화력       484   573   696   803  1022  1122  1264  1420  1195  1302   \n          원자력      529   563   565   581   587   670   739   771   897  1031   \n          신재생        -     -     -     -     -     -     -     -     -     -   \n북한        합계       277   263   247   221   231   230   213   193   170   186   \n          수력       156   150   142   133   138   142   125   107   102   103   \n          화력       121   113   105    88    93    88    88    86    68    83   \n          원자력        -     -     -     -     -     -     -     -     -     -   \n\n                  ...  2007  2008  2009  2010  2011  2012  2013  2014  2015  \\\n전력량 (억㎾h) 발전 전력별  ...                                                         \n남한        합계      ...  4031  4224  4336  4747  4969  5096  5171  5220  5281   \n          수력      ...    50    56    56    65    78    77    84    78    58   \n          화력      ...  2551  2658  2802  3196  3343  3430  3581  3427  3402   \n          원자력     ...  1429  1510  1478  1486  1547  1503  1388  1564  1648   \n          신재생     ...     -     -     -     -     -    86   118   151   173   \n북한        합계      ...   236   255   235   237   211   215   221   216   190   \n          수력      ...   133   141   125   134   132   135   139   130   100   \n          화력      ...   103   114   110   103    79    80    82    86    90   \n          원자력     ...     -     -     -     -     -     -     -     -     -   \n\n                  2016  \n전력량 (억㎾h) 발전 전력별        \n남한        합계      5404  \n          수력        66  \n          화력      3523  \n          원자력     1620  \n          신재생      195  \n북한        합계       239  \n          수력       128  \n          화력       111  \n          원자력        -  \n\n[9 rows x 27 columns]",
      "text/html": "<div>\n<style scoped>\n    .dataframe tbody tr th:only-of-type {\n        vertical-align: middle;\n    }\n\n    .dataframe tbody tr th {\n        vertical-align: top;\n    }\n\n    .dataframe thead th {\n        text-align: right;\n    }\n</style>\n<table border=\"1\" class=\"dataframe\">\n  <thead>\n    <tr style=\"text-align: right;\">\n      <th></th>\n      <th></th>\n      <th>1990</th>\n      <th>1991</th>\n      <th>1992</th>\n      <th>1993</th>\n      <th>1994</th>\n      <th>1995</th>\n      <th>1996</th>\n      <th>1997</th>\n      <th>1998</th>\n      <th>1999</th>\n      <th>...</th>\n      <th>2007</th>\n      <th>2008</th>\n      <th>2009</th>\n      <th>2010</th>\n      <th>2011</th>\n      <th>2012</th>\n      <th>2013</th>\n      <th>2014</th>\n      <th>2015</th>\n      <th>2016</th>\n    </tr>\n    <tr>\n      <th>전력량 (억㎾h)</th>\n      <th>발전 전력별</th>\n      <th></th>\n      <th></th>\n      <th></th>\n      <th></th>\n      <th></th>\n      <th></th>\n      <th></th>\n      <th></th>\n      <th></th>\n      <th></th>\n      <th></th>\n      <th></th>\n      <th></th>\n      <th></th>\n      <th></th>\n      <th></th>\n      <th></th>\n      <th></th>\n      <th></th>\n      <th></th>\n      <th></th>\n    </tr>\n  </thead>\n  <tbody>\n    <tr>\n      <th rowspan=\"5\" valign=\"top\">남한</th>\n      <th>합계</th>\n      <td>1077</td>\n      <td>1186</td>\n      <td>1310</td>\n      <td>1444</td>\n      <td>1650</td>\n      <td>1847</td>\n      <td>2055</td>\n      <td>2244</td>\n      <td>2153</td>\n      <td>2393</td>\n      <td>...</td>\n      <td>4031</td>\n      <td>4224</td>\n      <td>4336</td>\n      <td>4747</td>\n      <td>4969</td>\n      <td>5096</td>\n      <td>5171</td>\n      <td>5220</td>\n      <td>5281</td>\n      <td>5404</td>\n    </tr>\n    <tr>\n      <th>수력</th>\n      <td>64</td>\n      <td>51</td>\n      <td>49</td>\n      <td>60</td>\n      <td>41</td>\n      <td>55</td>\n      <td>52</td>\n      <td>54</td>\n      <td>61</td>\n      <td>61</td>\n      <td>...</td>\n      <td>50</td>\n      <td>56</td>\n      <td>56</td>\n      <td>65</td>\n      <td>78</td>\n      <td>77</td>\n      <td>84</td>\n      <td>78</td>\n      <td>58</td>\n      <td>66</td>\n    </tr>\n    <tr>\n      <th>화력</th>\n      <td>484</td>\n      <td>573</td>\n      <td>696</td>\n      <td>803</td>\n      <td>1022</td>\n      <td>1122</td>\n      <td>1264</td>\n      <td>1420</td>\n      <td>1195</td>\n      <td>1302</td>\n      <td>...</td>\n      <td>2551</td>\n      <td>2658</td>\n      <td>2802</td>\n      <td>3196</td>\n      <td>3343</td>\n      <td>3430</td>\n      <td>3581</td>\n      <td>3427</td>\n      <td>3402</td>\n      <td>3523</td>\n    </tr>\n    <tr>\n      <th>원자력</th>\n      <td>529</td>\n      <td>563</td>\n      <td>565</td>\n      <td>581</td>\n      <td>587</td>\n      <td>670</td>\n      <td>739</td>\n      <td>771</td>\n      <td>897</td>\n      <td>1031</td>\n      <td>...</td>\n      <td>1429</td>\n      <td>1510</td>\n      <td>1478</td>\n      <td>1486</td>\n      <td>1547</td>\n      <td>1503</td>\n      <td>1388</td>\n      <td>1564</td>\n      <td>1648</td>\n      <td>1620</td>\n    </tr>\n    <tr>\n      <th>신재생</th>\n      <td>-</td>\n      <td>-</td>\n      <td>-</td>\n      <td>-</td>\n      <td>-</td>\n      <td>-</td>\n      <td>-</td>\n      <td>-</td>\n      <td>-</td>\n      <td>-</td>\n      <td>...</td>\n      <td>-</td>\n      <td>-</td>\n      <td>-</td>\n      <td>-</td>\n      <td>-</td>\n      <td>86</td>\n      <td>118</td>\n      <td>151</td>\n      <td>173</td>\n      <td>195</td>\n    </tr>\n    <tr>\n      <th rowspan=\"4\" valign=\"top\">북한</th>\n      <th>합계</th>\n      <td>277</td>\n      <td>263</td>\n      <td>247</td>\n      <td>221</td>\n      <td>231</td>\n      <td>230</td>\n      <td>213</td>\n      <td>193</td>\n      <td>170</td>\n      <td>186</td>\n      <td>...</td>\n      <td>236</td>\n      <td>255</td>\n      <td>235</td>\n      <td>237</td>\n      <td>211</td>\n      <td>215</td>\n      <td>221</td>\n      <td>216</td>\n      <td>190</td>\n      <td>239</td>\n    </tr>\n    <tr>\n      <th>수력</th>\n      <td>156</td>\n      <td>150</td>\n      <td>142</td>\n      <td>133</td>\n      <td>138</td>\n      <td>142</td>\n      <td>125</td>\n      <td>107</td>\n      <td>102</td>\n      <td>103</td>\n      <td>...</td>\n      <td>133</td>\n      <td>141</td>\n      <td>125</td>\n      <td>134</td>\n      <td>132</td>\n      <td>135</td>\n      <td>139</td>\n      <td>130</td>\n      <td>100</td>\n      <td>128</td>\n    </tr>\n    <tr>\n      <th>화력</th>\n      <td>121</td>\n      <td>113</td>\n      <td>105</td>\n      <td>88</td>\n      <td>93</td>\n      <td>88</td>\n      <td>88</td>\n      <td>86</td>\n      <td>68</td>\n      <td>83</td>\n      <td>...</td>\n      <td>103</td>\n      <td>114</td>\n      <td>110</td>\n      <td>103</td>\n      <td>79</td>\n      <td>80</td>\n      <td>82</td>\n      <td>86</td>\n      <td>90</td>\n      <td>111</td>\n    </tr>\n    <tr>\n      <th>원자력</th>\n      <td>-</td>\n      <td>-</td>\n      <td>-</td>\n      <td>-</td>\n      <td>-</td>\n      <td>-</td>\n      <td>-</td>\n      <td>-</td>\n      <td>-</td>\n      <td>-</td>\n      <td>...</td>\n      <td>-</td>\n      <td>-</td>\n      <td>-</td>\n      <td>-</td>\n      <td>-</td>\n      <td>-</td>\n      <td>-</td>\n      <td>-</td>\n      <td>-</td>\n      <td>-</td>\n    </tr>\n  </tbody>\n</table>\n<p>9 rows × 27 columns</p>\n</div>"
     },
     "execution_count": 4,
     "metadata": {},
     "output_type": "execute_result"
    }
   ],
   "source": [
    "test"
   ],
   "metadata": {
    "collapsed": false,
    "ExecuteTime": {
     "end_time": "2024-01-17T00:00:47.435406300Z",
     "start_time": "2024-01-17T00:00:47.390624600Z"
    }
   },
   "id": "3e4e624b0c9c7ee7",
   "execution_count": 4
  },
  {
   "cell_type": "code",
   "outputs": [],
   "source": [],
   "metadata": {
    "collapsed": false
   },
   "id": "b649e50925fbeb25"
  }
 ],
 "metadata": {
  "kernelspec": {
   "display_name": "Python 3",
   "language": "python",
   "name": "python3"
  },
  "language_info": {
   "codemirror_mode": {
    "name": "ipython",
    "version": 2
   },
   "file_extension": ".py",
   "mimetype": "text/x-python",
   "name": "python",
   "nbconvert_exporter": "python",
   "pygments_lexer": "ipython2",
   "version": "2.7.6"
  }
 },
 "nbformat": 4,
 "nbformat_minor": 5
}
