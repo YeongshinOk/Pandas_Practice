{
 "cells": [
  {
   "cell_type": "markdown",
   "id": "4ea0c66e-e763-4b1e-8a51-f783d73be47f",
   "metadata": {},
   "source": [
    "[문1] 아래 조건을 만족하는 Series를 생성하세요.\n",
    "1) 데이터 : 1~50 범위에서 7의 배수 정수\n",
    "2) 인덱스 : 'a~z' 범위에서 데이터 갯수 만큼의 알파벳\n",
    "3) 타  입 : 부호가 없는 1바이트 정수\n",
    "4) 이  름 : sevens\n",
    "5) 속  성 : index, values, dtype, ndim, shape, size"
   ]
  },
  {
   "cell_type": "code",
   "outputs": [],
   "source": [
    "import pandas as pd\n",
    "import numpy as np"
   ],
   "metadata": {
    "collapsed": false,
    "ExecuteTime": {
     "end_time": "2024-01-17T01:44:02.494441700Z",
     "start_time": "2024-01-17T01:44:02.419546600Z"
    }
   },
   "id": "58ca4b68ae8f0cfe",
   "execution_count": 8
  },
  {
   "cell_type": "code",
   "execution_count": 9,
   "id": "4de17faf-c756-4097-bfc0-79a85b573196",
   "metadata": {
    "ExecuteTime": {
     "end_time": "2024-01-17T01:44:02.515857300Z",
     "start_time": "2024-01-17T01:44:02.497552700Z"
    }
   },
   "outputs": [
    {
     "data": {
      "text/plain": "a     7\nb    14\nc    21\nd    28\ne    35\nf    42\ng    49\nName: sevens, dtype: int32"
     },
     "execution_count": 9,
     "metadata": {},
     "output_type": "execute_result"
    }
   ],
   "source": [
    "sevens = pd.Series(np.arange(7,51,7), index=list('abcdefghijklmnopqrstuvwxyz')[:7], name='sevens')\n",
    "sevens"
   ]
  },
  {
   "cell_type": "code",
   "execution_count": 10,
   "id": "ed3d967d-dcdb-430c-8cbc-2b29b34c5410",
   "metadata": {
    "ExecuteTime": {
     "end_time": "2024-01-17T01:44:02.550616500Z",
     "start_time": "2024-01-17T01:44:02.518974200Z"
    }
   },
   "outputs": [
    {
     "name": "stdout",
     "output_type": "stream",
     "text": [
      "Index(['a', 'b', 'c', 'd', 'e', 'f', 'g'], dtype='object')\n",
      "\n",
      "[ 7 14 21 28 35 42 49]\n",
      "\n",
      "int32\n",
      "\n",
      "1\n",
      "\n",
      "(7,)\n",
      "\n",
      "7\n"
     ]
    }
   ],
   "source": [
    "print(sevens.index, sevens.values, sevens.dtype, sevens.ndim, sevens.shape, sevens.size, sep='\\n\\n')"
   ]
  },
  {
   "cell_type": "markdown",
   "id": "6e816108-d335-45c5-bbc0-3ceeed3c7f60",
   "metadata": {},
   "source": [
    "[문2] 아래 조건을 만족하는 데이터 객체를 생성하세요.\n",
    "1) 데이터 : knu_data.csv\n",
    "2) 인덱스 : 컬럼 중 하나를 인덱스로 설정\n",
    "3) 속성 정보 출력 \n",
    "4) 데이터 확인 정보 출력\n",
    "5) 타입과 실제 데이터 타입 일치 "
   ]
  },
  {
   "cell_type": "code",
   "execution_count": 11,
   "id": "a76e542d-311c-4eda-914e-2f89eb182df3",
   "metadata": {
    "ExecuteTime": {
     "end_time": "2024-01-17T01:44:02.640263200Z",
     "start_time": "2024-01-17T01:44:02.553965100Z"
    }
   },
   "outputs": [
    {
     "name": "stdout",
     "output_type": "stream",
     "text": [
      "<class 'pandas.core.frame.DataFrame'>\n",
      "Index: 5 entries,  경영지원팀 to  경영지원팀\n",
      "Data columns (total 2 columns):\n",
      " #   Column  Non-Null Count  Dtype \n",
      "---  ------  --------------  ----- \n",
      " 0   mem_id  5 non-null      object\n",
      " 1   time    5 non-null      int64 \n",
      "dtypes: int64(1), object(1)\n",
      "memory usage: 120.0+ bytes\n"
     ]
    }
   ],
   "source": [
    "file ='../DATA/knu_data.csv'\n",
    "knuDF = pd.read_csv(file)\n",
    "knuDF.set_index('team', inplace=True)\n",
    "# print(knuDF.index, knuDF.values, knuDF.ndim, knuDF.shape,knuDF.size, sep='\\n\\n')\n",
    "knuDF.info()"
   ]
  },
  {
   "cell_type": "code",
   "outputs": [
    {
     "name": "stdout",
     "output_type": "stream",
     "text": [
      "mem_id            object\n",
      "time      datetime64[ns]\n",
      "dtype: object\n"
     ]
    }
   ],
   "source": [
    "knuDF['time'] = pd.to_datetime(knuDF['time'])\n",
    "print(knuDF.dtypes)"
   ],
   "metadata": {
    "collapsed": false,
    "ExecuteTime": {
     "end_time": "2024-01-17T01:44:02.643591300Z",
     "start_time": "2024-01-17T01:44:02.585964300Z"
    }
   },
   "id": "a817c45fd64d067b",
   "execution_count": 12
  },
  {
   "cell_type": "markdown",
   "id": "ed5b8afb-0d0e-4337-82a5-b74c857a5f67",
   "metadata": {},
   "source": [
    "[문3] 아래 조건을 만족하는 데이터 객체를 생성하세요.\n",
    "1) 데이터 : stats_100701.xlsx\n",
    "2) 년도별 인구가 가장 많은 지역과 가장 적은 지역 \n",
    "3) 6대 광역시에서 년도별 인구가 가장 많은 지역과 가장 적은 지역 \n",
    "4) 8도 중 7도에서 년도별 인구가 가장 많은 지역과 가장 적은 지역 "
   ]
  },
  {
   "cell_type": "code",
   "execution_count": 13,
   "id": "73024ecf47a28b92",
   "metadata": {
    "collapsed": false,
    "ExecuteTime": {
     "end_time": "2024-01-17T01:44:02.896662100Z",
     "start_time": "2024-01-17T01:44:02.605071700Z"
    }
   },
   "outputs": [
    {
     "data": {
      "text/plain": "0   NaN   2015   2016   2017   2018\n1     계  51015  51218  51362  51607\n2    서울   9941   9843   9766   9705\n3    부산   3452   3447   3424   3400\n4    대구   2469   2461   2458   2450\n5    인천   2883   2907   2924   2939\n6    광주   1506   1502   1495   1493\n7    대전   1542   1536   1528   1518\n8    울산   1164   1166   1159   1154\n9    세종    187    234    266    304\n10   경기  12423  12600  12786  13031\n11   강원   1517   1521   1521   1521\n12   충북   1589   1601   1609   1619\n13   충남   2103   2126   2153   2180\n14   전북   1835   1835   1829   1820\n15   전남   1797   1798   1795   1790\n16   경북   2678   2683   2675   2674\n17   경남   3330   3338   3339   3356\n18   제주    599    618    635    653\n19  수도권  25247  25350  25476  25675",
      "text/html": "<div>\n<style scoped>\n    .dataframe tbody tr th:only-of-type {\n        vertical-align: middle;\n    }\n\n    .dataframe tbody tr th {\n        vertical-align: top;\n    }\n\n    .dataframe thead th {\n        text-align: right;\n    }\n</style>\n<table border=\"1\" class=\"dataframe\">\n  <thead>\n    <tr style=\"text-align: right;\">\n      <th></th>\n      <th>NaN</th>\n      <th>2015</th>\n      <th>2016</th>\n      <th>2017</th>\n      <th>2018</th>\n    </tr>\n  </thead>\n  <tbody>\n    <tr>\n      <th>1</th>\n      <td>계</td>\n      <td>51015</td>\n      <td>51218</td>\n      <td>51362</td>\n      <td>51607</td>\n    </tr>\n    <tr>\n      <th>2</th>\n      <td>서울</td>\n      <td>9941</td>\n      <td>9843</td>\n      <td>9766</td>\n      <td>9705</td>\n    </tr>\n    <tr>\n      <th>3</th>\n      <td>부산</td>\n      <td>3452</td>\n      <td>3447</td>\n      <td>3424</td>\n      <td>3400</td>\n    </tr>\n    <tr>\n      <th>4</th>\n      <td>대구</td>\n      <td>2469</td>\n      <td>2461</td>\n      <td>2458</td>\n      <td>2450</td>\n    </tr>\n    <tr>\n      <th>5</th>\n      <td>인천</td>\n      <td>2883</td>\n      <td>2907</td>\n      <td>2924</td>\n      <td>2939</td>\n    </tr>\n    <tr>\n      <th>6</th>\n      <td>광주</td>\n      <td>1506</td>\n      <td>1502</td>\n      <td>1495</td>\n      <td>1493</td>\n    </tr>\n    <tr>\n      <th>7</th>\n      <td>대전</td>\n      <td>1542</td>\n      <td>1536</td>\n      <td>1528</td>\n      <td>1518</td>\n    </tr>\n    <tr>\n      <th>8</th>\n      <td>울산</td>\n      <td>1164</td>\n      <td>1166</td>\n      <td>1159</td>\n      <td>1154</td>\n    </tr>\n    <tr>\n      <th>9</th>\n      <td>세종</td>\n      <td>187</td>\n      <td>234</td>\n      <td>266</td>\n      <td>304</td>\n    </tr>\n    <tr>\n      <th>10</th>\n      <td>경기</td>\n      <td>12423</td>\n      <td>12600</td>\n      <td>12786</td>\n      <td>13031</td>\n    </tr>\n    <tr>\n      <th>11</th>\n      <td>강원</td>\n      <td>1517</td>\n      <td>1521</td>\n      <td>1521</td>\n      <td>1521</td>\n    </tr>\n    <tr>\n      <th>12</th>\n      <td>충북</td>\n      <td>1589</td>\n      <td>1601</td>\n      <td>1609</td>\n      <td>1619</td>\n    </tr>\n    <tr>\n      <th>13</th>\n      <td>충남</td>\n      <td>2103</td>\n      <td>2126</td>\n      <td>2153</td>\n      <td>2180</td>\n    </tr>\n    <tr>\n      <th>14</th>\n      <td>전북</td>\n      <td>1835</td>\n      <td>1835</td>\n      <td>1829</td>\n      <td>1820</td>\n    </tr>\n    <tr>\n      <th>15</th>\n      <td>전남</td>\n      <td>1797</td>\n      <td>1798</td>\n      <td>1795</td>\n      <td>1790</td>\n    </tr>\n    <tr>\n      <th>16</th>\n      <td>경북</td>\n      <td>2678</td>\n      <td>2683</td>\n      <td>2675</td>\n      <td>2674</td>\n    </tr>\n    <tr>\n      <th>17</th>\n      <td>경남</td>\n      <td>3330</td>\n      <td>3338</td>\n      <td>3339</td>\n      <td>3356</td>\n    </tr>\n    <tr>\n      <th>18</th>\n      <td>제주</td>\n      <td>599</td>\n      <td>618</td>\n      <td>635</td>\n      <td>653</td>\n    </tr>\n    <tr>\n      <th>19</th>\n      <td>수도권</td>\n      <td>25247</td>\n      <td>25350</td>\n      <td>25476</td>\n      <td>25675</td>\n    </tr>\n  </tbody>\n</table>\n</div>"
     },
     "execution_count": 13,
     "metadata": {},
     "output_type": "execute_result"
    }
   ],
   "source": [
    "file2 = '../DATA/stats_100701.xlsx'\n",
    "statsDF = pd.read_excel(file2)\n",
    "statsDF.columns = statsDF.iloc[0]\n",
    "statsDF = statsDF.drop(statsDF.index[0])\n",
    "statsDF"
   ]
  },
  {
   "cell_type": "code",
   "outputs": [
    {
     "name": "stdout",
     "output_type": "stream",
     "text": [
      "0   NaN   2015   2016   2017   2018\n",
      "1     계  51015  51218  51362  51607\n",
      "19  수도권  25247  25350  25476  25675\n",
      "0 NaN  2015  2016  2017  2018\n",
      "9  세종   187   234   266   304\n"
     ]
    }
   ],
   "source": [
    "print(statsDF.sort_values(by=[2015], ascending=False).head(2))\n",
    "print(statsDF.sort_values(by=[2015], ascending=False).tail(1))"
   ],
   "metadata": {
    "collapsed": false,
    "ExecuteTime": {
     "end_time": "2024-01-17T01:44:16.248296200Z",
     "start_time": "2024-01-17T01:44:16.219043400Z"
    }
   },
   "id": "b242a2feedc79310",
   "execution_count": 18
  },
  {
   "cell_type": "code",
   "outputs": [],
   "source": [],
   "metadata": {
    "ExecuteTime": {
     "end_time": "2024-01-17T01:44:02.964885Z",
     "start_time": "2024-01-17T01:44:02.901856400Z"
    }
   },
   "id": "07f3b5e3-f715-4766-95b1-3bd99a341bfb",
   "execution_count": 14
  },
  {
   "cell_type": "code",
   "execution_count": 14,
   "id": "70f87bd2-182d-4a9f-b184-db7e1905cf55",
   "metadata": {
    "ExecuteTime": {
     "end_time": "2024-01-17T01:44:03.004438400Z",
     "start_time": "2024-01-17T01:44:02.916798Z"
    }
   },
   "outputs": [],
   "source": []
  },
  {
   "cell_type": "markdown",
   "id": "6f694094-19ef-4c06-a0d2-2a547a29be4e",
   "metadata": {},
   "source": [
    "[문4] 아래 조건을 만족하는 데이터 객체를 생성하세요.\n",
    "1) 데이터 : stock price.xlsx\n",
    "2) 데이터 로딩 시 인덱스로 사용할 수 있는 컬럼 설정\n",
    "3) 결측치 처리 =>\n",
    "   (가) 1개라도 NaN이면 모두 제거 / price가 NaN이면 제거 / value가 10000이하면 제거\n",
    "   (나) 평균값으로 결측치 대체, 이전/이후 값으로 결측치 대체\n",
    "4) value가 1000이하 이거나 price가 90000이상인 데이터"
   ]
  },
  {
   "cell_type": "code",
   "execution_count": 15,
   "id": "fa648dd9-a90d-48cb-9080-ea3b1d3d539b",
   "metadata": {
    "ExecuteTime": {
     "end_time": "2024-01-17T01:44:03.074926200Z",
     "start_time": "2024-01-17T01:44:02.932838100Z"
    }
   },
   "outputs": [
    {
     "data": {
      "text/plain": "        id stock_name          value     price\n0   128940       한미약품   59385.666667  421000.0\n1   138040    메리츠금융지주     827.500000       NaN\n2   130960     CJ E&M   58540.666667   98900.0\n3   138250      엔에스쇼핑   14558.666667   13200.0\n4   139480        이마트  239230.833333  254500.0\n5   142280     녹십자엠에스     468.833333   10200.0\n6   145990        삼양사   82750.000000   82000.0\n7   181710  NHN엔터테인먼트            NaN       NaN\n8   185750        종근당   40293.666667  100500.0\n9   192400      쿠쿠홀딩스  179204.666667  177500.0\n10  199800         툴젠   -2514.333333  115400.0\n11  204210     모두투어리츠    3093.333333    3475.0\n12  207940   삼성바이오로직스            NaN   91900.0",
      "text/html": "<div>\n<style scoped>\n    .dataframe tbody tr th:only-of-type {\n        vertical-align: middle;\n    }\n\n    .dataframe tbody tr th {\n        vertical-align: top;\n    }\n\n    .dataframe thead th {\n        text-align: right;\n    }\n</style>\n<table border=\"1\" class=\"dataframe\">\n  <thead>\n    <tr style=\"text-align: right;\">\n      <th></th>\n      <th>id</th>\n      <th>stock_name</th>\n      <th>value</th>\n      <th>price</th>\n    </tr>\n  </thead>\n  <tbody>\n    <tr>\n      <th>0</th>\n      <td>128940</td>\n      <td>한미약품</td>\n      <td>59385.666667</td>\n      <td>421000.0</td>\n    </tr>\n    <tr>\n      <th>1</th>\n      <td>138040</td>\n      <td>메리츠금융지주</td>\n      <td>827.500000</td>\n      <td>NaN</td>\n    </tr>\n    <tr>\n      <th>2</th>\n      <td>130960</td>\n      <td>CJ E&amp;M</td>\n      <td>58540.666667</td>\n      <td>98900.0</td>\n    </tr>\n    <tr>\n      <th>3</th>\n      <td>138250</td>\n      <td>엔에스쇼핑</td>\n      <td>14558.666667</td>\n      <td>13200.0</td>\n    </tr>\n    <tr>\n      <th>4</th>\n      <td>139480</td>\n      <td>이마트</td>\n      <td>239230.833333</td>\n      <td>254500.0</td>\n    </tr>\n    <tr>\n      <th>5</th>\n      <td>142280</td>\n      <td>녹십자엠에스</td>\n      <td>468.833333</td>\n      <td>10200.0</td>\n    </tr>\n    <tr>\n      <th>6</th>\n      <td>145990</td>\n      <td>삼양사</td>\n      <td>82750.000000</td>\n      <td>82000.0</td>\n    </tr>\n    <tr>\n      <th>7</th>\n      <td>181710</td>\n      <td>NHN엔터테인먼트</td>\n      <td>NaN</td>\n      <td>NaN</td>\n    </tr>\n    <tr>\n      <th>8</th>\n      <td>185750</td>\n      <td>종근당</td>\n      <td>40293.666667</td>\n      <td>100500.0</td>\n    </tr>\n    <tr>\n      <th>9</th>\n      <td>192400</td>\n      <td>쿠쿠홀딩스</td>\n      <td>179204.666667</td>\n      <td>177500.0</td>\n    </tr>\n    <tr>\n      <th>10</th>\n      <td>199800</td>\n      <td>툴젠</td>\n      <td>-2514.333333</td>\n      <td>115400.0</td>\n    </tr>\n    <tr>\n      <th>11</th>\n      <td>204210</td>\n      <td>모두투어리츠</td>\n      <td>3093.333333</td>\n      <td>3475.0</td>\n    </tr>\n    <tr>\n      <th>12</th>\n      <td>207940</td>\n      <td>삼성바이오로직스</td>\n      <td>NaN</td>\n      <td>91900.0</td>\n    </tr>\n  </tbody>\n</table>\n</div>"
     },
     "execution_count": 15,
     "metadata": {},
     "output_type": "execute_result"
    }
   ],
   "source": [
    "file3='../DATA/stock price.xlsx'\n",
    "stockDF = pd.read_excel(file3)\n",
    "stockDF "
   ]
  },
  {
   "cell_type": "code",
   "execution_count": 16,
   "id": "a91524eb-e063-4fc2-9bb7-c39443d9ecdd",
   "metadata": {
    "ExecuteTime": {
     "end_time": "2024-01-17T01:44:03.077105700Z",
     "start_time": "2024-01-17T01:44:02.963849300Z"
    }
   },
   "outputs": [
    {
     "data": {
      "text/plain": "                id          value     price\nstock_name                                 \n한미약품        128940   59385.666667  421000.0\n메리츠금융지주     138040     827.500000       NaN\nCJ E&M      130960   58540.666667   98900.0\n엔에스쇼핑       138250   14558.666667   13200.0\n이마트         139480  239230.833333  254500.0\n녹십자엠에스      142280     468.833333   10200.0\n삼양사         145990   82750.000000   82000.0\nNHN엔터테인먼트   181710            NaN       NaN\n종근당         185750   40293.666667  100500.0\n쿠쿠홀딩스       192400  179204.666667  177500.0\n툴젠          199800   -2514.333333  115400.0\n모두투어리츠      204210    3093.333333    3475.0\n삼성바이오로직스    207940            NaN   91900.0",
      "text/html": "<div>\n<style scoped>\n    .dataframe tbody tr th:only-of-type {\n        vertical-align: middle;\n    }\n\n    .dataframe tbody tr th {\n        vertical-align: top;\n    }\n\n    .dataframe thead th {\n        text-align: right;\n    }\n</style>\n<table border=\"1\" class=\"dataframe\">\n  <thead>\n    <tr style=\"text-align: right;\">\n      <th></th>\n      <th>id</th>\n      <th>value</th>\n      <th>price</th>\n    </tr>\n    <tr>\n      <th>stock_name</th>\n      <th></th>\n      <th></th>\n      <th></th>\n    </tr>\n  </thead>\n  <tbody>\n    <tr>\n      <th>한미약품</th>\n      <td>128940</td>\n      <td>59385.666667</td>\n      <td>421000.0</td>\n    </tr>\n    <tr>\n      <th>메리츠금융지주</th>\n      <td>138040</td>\n      <td>827.500000</td>\n      <td>NaN</td>\n    </tr>\n    <tr>\n      <th>CJ E&amp;M</th>\n      <td>130960</td>\n      <td>58540.666667</td>\n      <td>98900.0</td>\n    </tr>\n    <tr>\n      <th>엔에스쇼핑</th>\n      <td>138250</td>\n      <td>14558.666667</td>\n      <td>13200.0</td>\n    </tr>\n    <tr>\n      <th>이마트</th>\n      <td>139480</td>\n      <td>239230.833333</td>\n      <td>254500.0</td>\n    </tr>\n    <tr>\n      <th>녹십자엠에스</th>\n      <td>142280</td>\n      <td>468.833333</td>\n      <td>10200.0</td>\n    </tr>\n    <tr>\n      <th>삼양사</th>\n      <td>145990</td>\n      <td>82750.000000</td>\n      <td>82000.0</td>\n    </tr>\n    <tr>\n      <th>NHN엔터테인먼트</th>\n      <td>181710</td>\n      <td>NaN</td>\n      <td>NaN</td>\n    </tr>\n    <tr>\n      <th>종근당</th>\n      <td>185750</td>\n      <td>40293.666667</td>\n      <td>100500.0</td>\n    </tr>\n    <tr>\n      <th>쿠쿠홀딩스</th>\n      <td>192400</td>\n      <td>179204.666667</td>\n      <td>177500.0</td>\n    </tr>\n    <tr>\n      <th>툴젠</th>\n      <td>199800</td>\n      <td>-2514.333333</td>\n      <td>115400.0</td>\n    </tr>\n    <tr>\n      <th>모두투어리츠</th>\n      <td>204210</td>\n      <td>3093.333333</td>\n      <td>3475.0</td>\n    </tr>\n    <tr>\n      <th>삼성바이오로직스</th>\n      <td>207940</td>\n      <td>NaN</td>\n      <td>91900.0</td>\n    </tr>\n  </tbody>\n</table>\n</div>"
     },
     "execution_count": 16,
     "metadata": {},
     "output_type": "execute_result"
    }
   ],
   "source": [
    "stockDF.set_index('stock_name', inplace=True)\n",
    "stockDF"
   ]
  },
  {
   "cell_type": "code",
   "execution_count": 17,
   "id": "5c537c8f0b1e16b8",
   "metadata": {
    "collapsed": false,
    "ExecuteTime": {
     "end_time": "2024-01-17T01:44:03.082351200Z",
     "start_time": "2024-01-17T01:44:02.981716100Z"
    }
   },
   "outputs": [
    {
     "data": {
      "text/plain": "                id          value     price\nstock_name                                 \n한미약품        128940   59385.666667  421000.0\nCJ E&M      130960   58540.666667   98900.0\n엔에스쇼핑       138250   14558.666667   13200.0\n이마트         139480  239230.833333  254500.0\n녹십자엠에스      142280     468.833333   10200.0\n삼양사         145990   82750.000000   82000.0\n종근당         185750   40293.666667  100500.0\n쿠쿠홀딩스       192400  179204.666667  177500.0\n툴젠          199800   -2514.333333  115400.0\n모두투어리츠      204210    3093.333333    3475.0",
      "text/html": "<div>\n<style scoped>\n    .dataframe tbody tr th:only-of-type {\n        vertical-align: middle;\n    }\n\n    .dataframe tbody tr th {\n        vertical-align: top;\n    }\n\n    .dataframe thead th {\n        text-align: right;\n    }\n</style>\n<table border=\"1\" class=\"dataframe\">\n  <thead>\n    <tr style=\"text-align: right;\">\n      <th></th>\n      <th>id</th>\n      <th>value</th>\n      <th>price</th>\n    </tr>\n    <tr>\n      <th>stock_name</th>\n      <th></th>\n      <th></th>\n      <th></th>\n    </tr>\n  </thead>\n  <tbody>\n    <tr>\n      <th>한미약품</th>\n      <td>128940</td>\n      <td>59385.666667</td>\n      <td>421000.0</td>\n    </tr>\n    <tr>\n      <th>CJ E&amp;M</th>\n      <td>130960</td>\n      <td>58540.666667</td>\n      <td>98900.0</td>\n    </tr>\n    <tr>\n      <th>엔에스쇼핑</th>\n      <td>138250</td>\n      <td>14558.666667</td>\n      <td>13200.0</td>\n    </tr>\n    <tr>\n      <th>이마트</th>\n      <td>139480</td>\n      <td>239230.833333</td>\n      <td>254500.0</td>\n    </tr>\n    <tr>\n      <th>녹십자엠에스</th>\n      <td>142280</td>\n      <td>468.833333</td>\n      <td>10200.0</td>\n    </tr>\n    <tr>\n      <th>삼양사</th>\n      <td>145990</td>\n      <td>82750.000000</td>\n      <td>82000.0</td>\n    </tr>\n    <tr>\n      <th>종근당</th>\n      <td>185750</td>\n      <td>40293.666667</td>\n      <td>100500.0</td>\n    </tr>\n    <tr>\n      <th>쿠쿠홀딩스</th>\n      <td>192400</td>\n      <td>179204.666667</td>\n      <td>177500.0</td>\n    </tr>\n    <tr>\n      <th>툴젠</th>\n      <td>199800</td>\n      <td>-2514.333333</td>\n      <td>115400.0</td>\n    </tr>\n    <tr>\n      <th>모두투어리츠</th>\n      <td>204210</td>\n      <td>3093.333333</td>\n      <td>3475.0</td>\n    </tr>\n  </tbody>\n</table>\n</div>"
     },
     "execution_count": 17,
     "metadata": {},
     "output_type": "execute_result"
    }
   ],
   "source": [
    "stockDF.dropna(inplace=True)\n",
    "stockDF"
   ]
  },
  {
   "cell_type": "code",
   "outputs": [],
   "source": [],
   "metadata": {
    "ExecuteTime": {
     "end_time": "2024-01-17T01:44:03.131369Z",
     "start_time": "2024-01-17T01:44:02.993620Z"
    }
   },
   "id": "dd69ae0e-a269-4457-8fc0-af8d0be3b4f5",
   "execution_count": 17
  }
 ],
 "metadata": {
  "kernelspec": {
   "display_name": "Python 3 (ipykernel)",
   "language": "python",
   "name": "python3"
  },
  "language_info": {
   "codemirror_mode": {
    "name": "ipython",
    "version": 3
   },
   "file_extension": ".py",
   "mimetype": "text/x-python",
   "name": "python",
   "nbconvert_exporter": "python",
   "pygments_lexer": "ipython3",
   "version": "3.8.18"
  }
 },
 "nbformat": 4,
 "nbformat_minor": 5
}
