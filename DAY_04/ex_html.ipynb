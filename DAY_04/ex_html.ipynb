{
 "cells": [
  {
   "cell_type": "markdown",
   "source": [
    "## [HTML ==> DataFrame으로 저장]"
   ],
   "metadata": {
    "collapsed": false
   },
   "id": "f0896f2052d7b1c5"
  },
  {
   "cell_type": "markdown",
   "source": [
    "### (1) 모듈 로딩"
   ],
   "metadata": {
    "collapsed": false
   },
   "id": "82130abff434e37e"
  },
  {
   "cell_type": "code",
   "outputs": [],
   "source": [
    "import pandas as pd"
   ],
   "metadata": {
    "collapsed": false,
    "ExecuteTime": {
     "end_time": "2024-01-15T05:30:26.971430500Z",
     "start_time": "2024-01-15T05:30:26.950265200Z"
    }
   },
   "id": "1e935cd17194459",
   "execution_count": 14
  },
  {
   "cell_type": "markdown",
   "source": [
    "### (2) 데이터 준비"
   ],
   "metadata": {
    "collapsed": false
   },
   "id": "8322031c237d8aa6"
  },
  {
   "cell_type": "code",
   "outputs": [],
   "source": [
    "file='../DATA/test.html'"
   ],
   "metadata": {
    "collapsed": false,
    "ExecuteTime": {
     "end_time": "2024-01-15T05:30:26.972469Z",
     "start_time": "2024-01-15T05:30:26.959939200Z"
    }
   },
   "id": "96f850197483711f",
   "execution_count": 15
  },
  {
   "cell_type": "code",
   "outputs": [],
   "source": [
    "testDF=pd.read_html(file, encoding='utf8')"
   ],
   "metadata": {
    "collapsed": false,
    "ExecuteTime": {
     "end_time": "2024-01-15T05:30:26.998788400Z",
     "start_time": "2024-01-15T05:30:26.974545200Z"
    }
   },
   "id": "6a21bde97d822bfb",
   "execution_count": 16
  },
  {
   "cell_type": "code",
   "outputs": [],
   "source": [
    "import lxml"
   ],
   "metadata": {
    "collapsed": false,
    "ExecuteTime": {
     "end_time": "2024-01-15T05:30:27.004832100Z",
     "start_time": "2024-01-15T05:30:26.991415100Z"
    }
   },
   "id": "fdf7bf6174daa9fe",
   "execution_count": 17
  },
  {
   "cell_type": "code",
   "outputs": [
    {
     "name": "stdout",
     "output_type": "stream",
     "text": [
      "<class 'list'>\n"
     ]
    }
   ],
   "source": [
    "print(type(testDF))"
   ],
   "metadata": {
    "collapsed": false,
    "ExecuteTime": {
     "end_time": "2024-01-15T05:33:21.186969900Z",
     "start_time": "2024-01-15T05:33:21.178605700Z"
    }
   },
   "id": "36d2ec33fbe0f47d",
   "execution_count": 19
  },
  {
   "cell_type": "code",
   "outputs": [],
   "source": [
    "testdf=testDF[0]"
   ],
   "metadata": {
    "collapsed": false,
    "ExecuteTime": {
     "end_time": "2024-01-15T05:30:27.040215300Z",
     "start_time": "2024-01-15T05:30:27.021207500Z"
    }
   },
   "id": "b3599cf6b9bbc61f",
   "execution_count": 18
  }
 ],
 "metadata": {
  "kernelspec": {
   "display_name": "Python 3",
   "language": "python",
   "name": "python3"
  },
  "language_info": {
   "codemirror_mode": {
    "name": "ipython",
    "version": 2
   },
   "file_extension": ".py",
   "mimetype": "text/x-python",
   "name": "python",
   "nbconvert_exporter": "python",
   "pygments_lexer": "ipython2",
   "version": "2.7.6"
  }
 },
 "nbformat": 4,
 "nbformat_minor": 5
}
