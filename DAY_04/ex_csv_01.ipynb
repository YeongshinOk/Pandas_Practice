{
 "cells": [
  {
   "cell_type": "markdown",
   "source": [
    "## [CSV 데이터 파일 다루기 ]"
   ],
   "metadata": {
    "collapsed": false
   },
   "id": "8e7c54986311a93f"
  },
  {
   "cell_type": "markdown",
   "source": [
    "(1) 모듈 로딩"
   ],
   "metadata": {
    "collapsed": false
   },
   "id": "7fd70a46b5fc1c42"
  },
  {
   "cell_type": "code",
   "outputs": [],
   "source": [
    "import pandas as pd"
   ],
   "metadata": {
    "collapsed": false,
    "ExecuteTime": {
     "end_time": "2024-01-15T00:50:42.217956900Z",
     "start_time": "2024-01-15T00:50:42.188971Z"
    }
   },
   "id": "ef2f76e0e9194bb5",
   "execution_count": 22
  },
  {
   "cell_type": "markdown",
   "source": [
    "(2) 데이터 준비 <hr>"
   ],
   "metadata": {
    "collapsed": false
   },
   "id": "f376affc91a1ef64"
  },
  {
   "cell_type": "markdown",
   "source": [
    "- 파일 이름 => 경로 + 파일명\n",
    "- 경로 => 2가지 종류\n",
    "    * 절대경로 : 드라이브부터 파일까지의 전체 경로 (ex: C:\\User\\data\\a.txt\n",
    "    * 상대경로 : 현재 파일을 기준으로 경로 설정\n",
    "        - ./  : 현재 위치 (예: ./a.csv, a. csv => 현재 파일과 동일한 폴더/위치에 존재)\n",
    "        - ../ : 한 단계 위로 의미 (예: ../Data/b.csv => 현재 파일이 존재하는 폴더 밖에 존재하는 파일)"
   ],
   "metadata": {
    "collapsed": false
   },
   "id": "226facff3e9ccdeb"
  },
  {
   "cell_type": "code",
   "outputs": [],
   "source": [
    "file='./test.csv'   #file = 'test.txt' 동일 의미"
   ],
   "metadata": {
    "collapsed": false,
    "ExecuteTime": {
     "end_time": "2024-01-15T00:50:42.242808400Z",
     "start_time": "2024-01-15T00:50:42.222095400Z"
    }
   },
   "id": "12997aead2b78ebd",
   "execution_count": 23
  },
  {
   "cell_type": "code",
   "outputs": [],
   "source": [
    "file2 = '../DATA/movies.csv'"
   ],
   "metadata": {
    "collapsed": false,
    "ExecuteTime": {
     "end_time": "2024-01-15T00:50:42.294464Z",
     "start_time": "2024-01-15T00:50:42.246933300Z"
    }
   },
   "id": "a27930452504d2a0",
   "execution_count": 24
  },
  {
   "cell_type": "markdown",
   "source": [
    "(3) 데이터 저장 : CSV => DataFrame"
   ],
   "metadata": {
    "collapsed": false
   },
   "id": "51273ae09ecde06"
  },
  {
   "cell_type": "code",
   "outputs": [],
   "source": [
    "movieDF = pd.read_csv(file2)"
   ],
   "metadata": {
    "collapsed": false,
    "ExecuteTime": {
     "end_time": "2024-01-15T00:50:42.294464Z",
     "start_time": "2024-01-15T00:50:42.254194Z"
    }
   },
   "id": "3596fa2ab180b7a9",
   "execution_count": 25
  },
  {
   "cell_type": "markdown",
   "source": [
    "(4) 데이터 확인"
   ],
   "metadata": {
    "collapsed": false
   },
   "id": "72951dff66f13add"
  },
  {
   "cell_type": "code",
   "outputs": [
    {
     "name": "stdout",
     "output_type": "stream",
     "text": [
      "<class 'pandas.core.frame.DataFrame'>\n",
      "RangeIndex: 782 entries, 0 to 781\n",
      "Data columns (total 5 columns):\n",
      " #   Column  Non-Null Count  Dtype \n",
      "---  ------  --------------  ----- \n",
      " 0   Rank    782 non-null    int64 \n",
      " 1   Title   782 non-null    object\n",
      " 2   Studio  782 non-null    object\n",
      " 3   Gross   782 non-null    object\n",
      " 4   Year    782 non-null    int64 \n",
      "dtypes: int64(2), object(3)\n",
      "memory usage: 30.7+ KB\n"
     ]
    }
   ],
   "source": [
    "# 전체적인 데이터 정보 확인 => info() 메서드\n",
    "movieDF.info()"
   ],
   "metadata": {
    "collapsed": false,
    "ExecuteTime": {
     "end_time": "2024-01-15T00:50:42.295495200Z",
     "start_time": "2024-01-15T00:50:42.275937700Z"
    }
   },
   "id": "980897db9b921685",
   "execution_count": 26
  },
  {
   "cell_type": "code",
   "outputs": [
    {
     "name": "stdout",
     "output_type": "stream",
     "text": [
      "   Rank                         Title       Studio       Gross  Year\n",
      "0     1             Avengers: Endgame  Buena Vista  $2,796.30   2019\n",
      "1     2                        Avatar          Fox  $2,789.70   2009\n",
      "2     3                       Titanic    Paramount  $2,187.50   1997\n",
      "3     4  Star Wars: The Force Awakens  Buena Vista  $2,068.20   2015\n",
      "4     5        Avengers: Infinity War  Buena Vista  $2,048.40   2018\n",
      "\n",
      "     Rank                     Title           Studio     Gross  Year\n",
      "777   778                 Yogi Bear  Warner Brothers  $201.60   2010\n",
      "778   779       Garfield: The Movie              Fox  $200.80   2004\n",
      "779   780               Cats & Dogs  Warner Brothers  $200.70   2001\n",
      "780   781  The Hunt for Red October        Paramount  $200.50   1990\n",
      "781   782                  Valkyrie              MGM  $200.30   2008\n"
     ]
    }
   ],
   "source": [
    "# 실제 저장된 데이터 확인 => head(), tail()\n",
    "print(movieDF.head(), movieDF.tail(), sep= '\\n\\n')"
   ],
   "metadata": {
    "collapsed": false,
    "ExecuteTime": {
     "end_time": "2024-01-15T00:50:42.349350Z",
     "start_time": "2024-01-15T00:50:42.286299600Z"
    }
   },
   "id": "22bd2b2b34283704",
   "execution_count": 27
  },
  {
   "cell_type": "markdown",
   "source": [
    "(5) read_csv 파일 매개변수 살펴보기"
   ],
   "metadata": {
    "collapsed": false
   },
   "id": "8678c3302c944269"
  },
  {
   "cell_type": "markdown",
   "source": [
    "- header 파라미터 : DataFrame의 컬럼명 설정하는 파라미터\n",
    "    * 기본값 : csv 파일의 첫번째 라인의 데이터를 컬럼명으로 설정\n",
    "    * None : csv 파일의 첫번째 라인이 컬럼명 아님을 의미 => 컬럼명 미지정\n",
    "    * 행번호 : csv 파일의 행번호 라인이 컬럼명으로 설정, 그 이전 행 번호 데이터는 사라짐!"
   ],
   "metadata": {
    "collapsed": false
   },
   "id": "659f5d74c944dca0"
  },
  {
   "cell_type": "code",
   "outputs": [
    {
     "data": {
      "text/plain": "       5    Avengers: Infinity War      Buena Vista  $2,048.40   2018\n0      6            Jurassic World        Universal  $1,671.70   2015\n1      7     Marvel's The Avengers      Buena Vista  $1,518.80   2012\n2      8                 Furious 7        Universal  $1,516.00   2015\n3      9   Avengers: Age of Ultron      Buena Vista  $1,405.40   2015\n4     10             Black Panther      Buena Vista  $1,346.90   2018\n..   ...                       ...              ...         ...   ...\n772  778                 Yogi Bear  Warner Brothers    $201.60   2010\n773  779       Garfield: The Movie              Fox    $200.80   2004\n774  780               Cats & Dogs  Warner Brothers    $200.70   2001\n775  781  The Hunt for Red October        Paramount    $200.50   1990\n776  782                  Valkyrie              MGM    $200.30   2008\n\n[777 rows x 5 columns]",
      "text/html": "<div>\n<style scoped>\n    .dataframe tbody tr th:only-of-type {\n        vertical-align: middle;\n    }\n\n    .dataframe tbody tr th {\n        vertical-align: top;\n    }\n\n    .dataframe thead th {\n        text-align: right;\n    }\n</style>\n<table border=\"1\" class=\"dataframe\">\n  <thead>\n    <tr style=\"text-align: right;\">\n      <th></th>\n      <th>5</th>\n      <th>Avengers: Infinity War</th>\n      <th>Buena Vista</th>\n      <th>$2,048.40</th>\n      <th>2018</th>\n    </tr>\n  </thead>\n  <tbody>\n    <tr>\n      <th>0</th>\n      <td>6</td>\n      <td>Jurassic World</td>\n      <td>Universal</td>\n      <td>$1,671.70</td>\n      <td>2015</td>\n    </tr>\n    <tr>\n      <th>1</th>\n      <td>7</td>\n      <td>Marvel's The Avengers</td>\n      <td>Buena Vista</td>\n      <td>$1,518.80</td>\n      <td>2012</td>\n    </tr>\n    <tr>\n      <th>2</th>\n      <td>8</td>\n      <td>Furious 7</td>\n      <td>Universal</td>\n      <td>$1,516.00</td>\n      <td>2015</td>\n    </tr>\n    <tr>\n      <th>3</th>\n      <td>9</td>\n      <td>Avengers: Age of Ultron</td>\n      <td>Buena Vista</td>\n      <td>$1,405.40</td>\n      <td>2015</td>\n    </tr>\n    <tr>\n      <th>4</th>\n      <td>10</td>\n      <td>Black Panther</td>\n      <td>Buena Vista</td>\n      <td>$1,346.90</td>\n      <td>2018</td>\n    </tr>\n    <tr>\n      <th>...</th>\n      <td>...</td>\n      <td>...</td>\n      <td>...</td>\n      <td>...</td>\n      <td>...</td>\n    </tr>\n    <tr>\n      <th>772</th>\n      <td>778</td>\n      <td>Yogi Bear</td>\n      <td>Warner Brothers</td>\n      <td>$201.60</td>\n      <td>2010</td>\n    </tr>\n    <tr>\n      <th>773</th>\n      <td>779</td>\n      <td>Garfield: The Movie</td>\n      <td>Fox</td>\n      <td>$200.80</td>\n      <td>2004</td>\n    </tr>\n    <tr>\n      <th>774</th>\n      <td>780</td>\n      <td>Cats &amp; Dogs</td>\n      <td>Warner Brothers</td>\n      <td>$200.70</td>\n      <td>2001</td>\n    </tr>\n    <tr>\n      <th>775</th>\n      <td>781</td>\n      <td>The Hunt for Red October</td>\n      <td>Paramount</td>\n      <td>$200.50</td>\n      <td>1990</td>\n    </tr>\n    <tr>\n      <th>776</th>\n      <td>782</td>\n      <td>Valkyrie</td>\n      <td>MGM</td>\n      <td>$200.30</td>\n      <td>2008</td>\n    </tr>\n  </tbody>\n</table>\n<p>777 rows × 5 columns</p>\n</div>"
     },
     "execution_count": 28,
     "metadata": {},
     "output_type": "execute_result"
    }
   ],
   "source": [
    "pd.read_csv(file2, header=5)"
   ],
   "metadata": {
    "collapsed": false,
    "ExecuteTime": {
     "end_time": "2024-01-15T00:50:42.349350Z",
     "start_time": "2024-01-15T00:50:42.302825700Z"
    }
   },
   "id": "5d738556aefc90dc",
   "execution_count": 28
  },
  {
   "cell_type": "markdown",
   "source": [
    "- index_col 파라미터 : 컬럼 중에서 행 인덱스로 설정, set_index()와 동일 역할"
   ],
   "metadata": {
    "collapsed": false
   },
   "id": "21c178bf83294d01"
  },
  {
   "cell_type": "code",
   "outputs": [
    {
     "data": {
      "text/plain": "                             Title           Studio       Gross  Year\nRank                                                                 \n1                Avengers: Endgame      Buena Vista  $2,796.30   2019\n2                           Avatar              Fox  $2,789.70   2009\n3                          Titanic        Paramount  $2,187.50   1997\n4     Star Wars: The Force Awakens      Buena Vista  $2,068.20   2015\n5           Avengers: Infinity War      Buena Vista  $2,048.40   2018\n...                            ...              ...         ...   ...\n778                      Yogi Bear  Warner Brothers    $201.60   2010\n779            Garfield: The Movie              Fox    $200.80   2004\n780                    Cats & Dogs  Warner Brothers    $200.70   2001\n781       The Hunt for Red October        Paramount    $200.50   1990\n782                       Valkyrie              MGM    $200.30   2008\n\n[782 rows x 4 columns]",
      "text/html": "<div>\n<style scoped>\n    .dataframe tbody tr th:only-of-type {\n        vertical-align: middle;\n    }\n\n    .dataframe tbody tr th {\n        vertical-align: top;\n    }\n\n    .dataframe thead th {\n        text-align: right;\n    }\n</style>\n<table border=\"1\" class=\"dataframe\">\n  <thead>\n    <tr style=\"text-align: right;\">\n      <th></th>\n      <th>Title</th>\n      <th>Studio</th>\n      <th>Gross</th>\n      <th>Year</th>\n    </tr>\n    <tr>\n      <th>Rank</th>\n      <th></th>\n      <th></th>\n      <th></th>\n      <th></th>\n    </tr>\n  </thead>\n  <tbody>\n    <tr>\n      <th>1</th>\n      <td>Avengers: Endgame</td>\n      <td>Buena Vista</td>\n      <td>$2,796.30</td>\n      <td>2019</td>\n    </tr>\n    <tr>\n      <th>2</th>\n      <td>Avatar</td>\n      <td>Fox</td>\n      <td>$2,789.70</td>\n      <td>2009</td>\n    </tr>\n    <tr>\n      <th>3</th>\n      <td>Titanic</td>\n      <td>Paramount</td>\n      <td>$2,187.50</td>\n      <td>1997</td>\n    </tr>\n    <tr>\n      <th>4</th>\n      <td>Star Wars: The Force Awakens</td>\n      <td>Buena Vista</td>\n      <td>$2,068.20</td>\n      <td>2015</td>\n    </tr>\n    <tr>\n      <th>5</th>\n      <td>Avengers: Infinity War</td>\n      <td>Buena Vista</td>\n      <td>$2,048.40</td>\n      <td>2018</td>\n    </tr>\n    <tr>\n      <th>...</th>\n      <td>...</td>\n      <td>...</td>\n      <td>...</td>\n      <td>...</td>\n    </tr>\n    <tr>\n      <th>778</th>\n      <td>Yogi Bear</td>\n      <td>Warner Brothers</td>\n      <td>$201.60</td>\n      <td>2010</td>\n    </tr>\n    <tr>\n      <th>779</th>\n      <td>Garfield: The Movie</td>\n      <td>Fox</td>\n      <td>$200.80</td>\n      <td>2004</td>\n    </tr>\n    <tr>\n      <th>780</th>\n      <td>Cats &amp; Dogs</td>\n      <td>Warner Brothers</td>\n      <td>$200.70</td>\n      <td>2001</td>\n    </tr>\n    <tr>\n      <th>781</th>\n      <td>The Hunt for Red October</td>\n      <td>Paramount</td>\n      <td>$200.50</td>\n      <td>1990</td>\n    </tr>\n    <tr>\n      <th>782</th>\n      <td>Valkyrie</td>\n      <td>MGM</td>\n      <td>$200.30</td>\n      <td>2008</td>\n    </tr>\n  </tbody>\n</table>\n<p>782 rows × 4 columns</p>\n</div>"
     },
     "execution_count": 29,
     "metadata": {},
     "output_type": "execute_result"
    }
   ],
   "source": [
    "pd.read_csv(file2, index_col=['Rank', 'Title']) # 멀티인덱스\n",
    "\n",
    "pd.read_csv(file2, index_col='Rank')            # 단일 인덱스"
   ],
   "metadata": {
    "collapsed": false,
    "ExecuteTime": {
     "end_time": "2024-01-15T00:50:42.351381300Z",
     "start_time": "2024-01-15T00:50:42.317381600Z"
    }
   },
   "id": "37d9f26daba0e102",
   "execution_count": 29
  },
  {
   "cell_type": "markdown",
   "source": [
    "- sep/ delimiter : CSV 파일에서 데이터 구분자 설정\n",
    "    * 기본값 : 쉼표( , )"
   ],
   "metadata": {
    "collapsed": false
   },
   "id": "d78cd648f59c64ee"
  },
  {
   "cell_type": "code",
   "outputs": [
    {
     "ename": "ParserError",
     "evalue": "Error tokenizing data. C error: Expected 1 fields in line 4, saw 4\n",
     "output_type": "error",
     "traceback": [
      "\u001B[1;31m---------------------------------------------------------------------------\u001B[0m",
      "\u001B[1;31mParserError\u001B[0m                               Traceback (most recent call last)",
      "Cell \u001B[1;32mIn[36], line 1\u001B[0m\n\u001B[1;32m----> 1\u001B[0m \u001B[43mpd\u001B[49m\u001B[38;5;241;43m.\u001B[39;49m\u001B[43mread_csv\u001B[49m\u001B[43m(\u001B[49m\u001B[43mfile\u001B[49m\u001B[43m,\u001B[49m\u001B[43m \u001B[49m\u001B[43mheader\u001B[49m\u001B[38;5;241;43m=\u001B[39;49m\u001B[38;5;28;43;01mNone\u001B[39;49;00m\u001B[43m,\u001B[49m\u001B[43m \u001B[49m\u001B[43msep\u001B[49m\u001B[38;5;241;43m=\u001B[39;49m\u001B[38;5;124;43m'\u001B[39;49m\u001B[38;5;124;43m;\u001B[39;49m\u001B[38;5;124;43m'\u001B[39;49m\u001B[43m)\u001B[49m\n",
      "File \u001B[1;32mC:\\ProgramData\\anaconda3\\envs\\my_38\\lib\\site-packages\\pandas\\io\\parsers\\readers.py:912\u001B[0m, in \u001B[0;36mread_csv\u001B[1;34m(filepath_or_buffer, sep, delimiter, header, names, index_col, usecols, dtype, engine, converters, true_values, false_values, skipinitialspace, skiprows, skipfooter, nrows, na_values, keep_default_na, na_filter, verbose, skip_blank_lines, parse_dates, infer_datetime_format, keep_date_col, date_parser, date_format, dayfirst, cache_dates, iterator, chunksize, compression, thousands, decimal, lineterminator, quotechar, quoting, doublequote, escapechar, comment, encoding, encoding_errors, dialect, on_bad_lines, delim_whitespace, low_memory, memory_map, float_precision, storage_options, dtype_backend)\u001B[0m\n\u001B[0;32m    899\u001B[0m kwds_defaults \u001B[38;5;241m=\u001B[39m _refine_defaults_read(\n\u001B[0;32m    900\u001B[0m     dialect,\n\u001B[0;32m    901\u001B[0m     delimiter,\n\u001B[1;32m   (...)\u001B[0m\n\u001B[0;32m    908\u001B[0m     dtype_backend\u001B[38;5;241m=\u001B[39mdtype_backend,\n\u001B[0;32m    909\u001B[0m )\n\u001B[0;32m    910\u001B[0m kwds\u001B[38;5;241m.\u001B[39mupdate(kwds_defaults)\n\u001B[1;32m--> 912\u001B[0m \u001B[38;5;28;01mreturn\u001B[39;00m \u001B[43m_read\u001B[49m\u001B[43m(\u001B[49m\u001B[43mfilepath_or_buffer\u001B[49m\u001B[43m,\u001B[49m\u001B[43m \u001B[49m\u001B[43mkwds\u001B[49m\u001B[43m)\u001B[49m\n",
      "File \u001B[1;32mC:\\ProgramData\\anaconda3\\envs\\my_38\\lib\\site-packages\\pandas\\io\\parsers\\readers.py:583\u001B[0m, in \u001B[0;36m_read\u001B[1;34m(filepath_or_buffer, kwds)\u001B[0m\n\u001B[0;32m    580\u001B[0m     \u001B[38;5;28;01mreturn\u001B[39;00m parser\n\u001B[0;32m    582\u001B[0m \u001B[38;5;28;01mwith\u001B[39;00m parser:\n\u001B[1;32m--> 583\u001B[0m     \u001B[38;5;28;01mreturn\u001B[39;00m \u001B[43mparser\u001B[49m\u001B[38;5;241;43m.\u001B[39;49m\u001B[43mread\u001B[49m\u001B[43m(\u001B[49m\u001B[43mnrows\u001B[49m\u001B[43m)\u001B[49m\n",
      "File \u001B[1;32mC:\\ProgramData\\anaconda3\\envs\\my_38\\lib\\site-packages\\pandas\\io\\parsers\\readers.py:1704\u001B[0m, in \u001B[0;36mTextFileReader.read\u001B[1;34m(self, nrows)\u001B[0m\n\u001B[0;32m   1697\u001B[0m nrows \u001B[38;5;241m=\u001B[39m validate_integer(\u001B[38;5;124m\"\u001B[39m\u001B[38;5;124mnrows\u001B[39m\u001B[38;5;124m\"\u001B[39m, nrows)\n\u001B[0;32m   1698\u001B[0m \u001B[38;5;28;01mtry\u001B[39;00m:\n\u001B[0;32m   1699\u001B[0m     \u001B[38;5;66;03m# error: \"ParserBase\" has no attribute \"read\"\u001B[39;00m\n\u001B[0;32m   1700\u001B[0m     (\n\u001B[0;32m   1701\u001B[0m         index,\n\u001B[0;32m   1702\u001B[0m         columns,\n\u001B[0;32m   1703\u001B[0m         col_dict,\n\u001B[1;32m-> 1704\u001B[0m     ) \u001B[38;5;241m=\u001B[39m \u001B[38;5;28;43mself\u001B[39;49m\u001B[38;5;241;43m.\u001B[39;49m\u001B[43m_engine\u001B[49m\u001B[38;5;241;43m.\u001B[39;49m\u001B[43mread\u001B[49m\u001B[43m(\u001B[49m\u001B[43m  \u001B[49m\u001B[38;5;66;43;03m# type: ignore[attr-defined]\u001B[39;49;00m\n\u001B[0;32m   1705\u001B[0m \u001B[43m        \u001B[49m\u001B[43mnrows\u001B[49m\n\u001B[0;32m   1706\u001B[0m \u001B[43m    \u001B[49m\u001B[43m)\u001B[49m\n\u001B[0;32m   1707\u001B[0m \u001B[38;5;28;01mexcept\u001B[39;00m \u001B[38;5;167;01mException\u001B[39;00m:\n\u001B[0;32m   1708\u001B[0m     \u001B[38;5;28mself\u001B[39m\u001B[38;5;241m.\u001B[39mclose()\n",
      "File \u001B[1;32mC:\\ProgramData\\anaconda3\\envs\\my_38\\lib\\site-packages\\pandas\\io\\parsers\\c_parser_wrapper.py:234\u001B[0m, in \u001B[0;36mCParserWrapper.read\u001B[1;34m(self, nrows)\u001B[0m\n\u001B[0;32m    232\u001B[0m \u001B[38;5;28;01mtry\u001B[39;00m:\n\u001B[0;32m    233\u001B[0m     \u001B[38;5;28;01mif\u001B[39;00m \u001B[38;5;28mself\u001B[39m\u001B[38;5;241m.\u001B[39mlow_memory:\n\u001B[1;32m--> 234\u001B[0m         chunks \u001B[38;5;241m=\u001B[39m \u001B[38;5;28;43mself\u001B[39;49m\u001B[38;5;241;43m.\u001B[39;49m\u001B[43m_reader\u001B[49m\u001B[38;5;241;43m.\u001B[39;49m\u001B[43mread_low_memory\u001B[49m\u001B[43m(\u001B[49m\u001B[43mnrows\u001B[49m\u001B[43m)\u001B[49m\n\u001B[0;32m    235\u001B[0m         \u001B[38;5;66;03m# destructive to chunks\u001B[39;00m\n\u001B[0;32m    236\u001B[0m         data \u001B[38;5;241m=\u001B[39m _concatenate_chunks(chunks)\n",
      "File \u001B[1;32mC:\\ProgramData\\anaconda3\\envs\\my_38\\lib\\site-packages\\pandas\\_libs\\parsers.pyx:814\u001B[0m, in \u001B[0;36mpandas._libs.parsers.TextReader.read_low_memory\u001B[1;34m()\u001B[0m\n",
      "File \u001B[1;32mC:\\ProgramData\\anaconda3\\envs\\my_38\\lib\\site-packages\\pandas\\_libs\\parsers.pyx:875\u001B[0m, in \u001B[0;36mpandas._libs.parsers.TextReader._read_rows\u001B[1;34m()\u001B[0m\n",
      "File \u001B[1;32mC:\\ProgramData\\anaconda3\\envs\\my_38\\lib\\site-packages\\pandas\\_libs\\parsers.pyx:850\u001B[0m, in \u001B[0;36mpandas._libs.parsers.TextReader._tokenize_rows\u001B[1;34m()\u001B[0m\n",
      "File \u001B[1;32mC:\\ProgramData\\anaconda3\\envs\\my_38\\lib\\site-packages\\pandas\\_libs\\parsers.pyx:861\u001B[0m, in \u001B[0;36mpandas._libs.parsers.TextReader._check_tokenize_status\u001B[1;34m()\u001B[0m\n",
      "File \u001B[1;32mC:\\ProgramData\\anaconda3\\envs\\my_38\\lib\\site-packages\\pandas\\_libs\\parsers.pyx:2029\u001B[0m, in \u001B[0;36mpandas._libs.parsers.raise_parser_error\u001B[1;34m()\u001B[0m\n",
      "\u001B[1;31mParserError\u001B[0m: Error tokenizing data. C error: Expected 1 fields in line 4, saw 4\n"
     ]
    }
   ],
   "source": [
    "pd.read_csv(file, header=None, sep=';')"
   ],
   "metadata": {
    "collapsed": false,
    "ExecuteTime": {
     "end_time": "2024-01-15T00:58:01.819913Z",
     "start_time": "2024-01-15T00:58:01.749219Z"
    }
   },
   "id": "8d6ffa31b3fea366",
   "execution_count": 36
  },
  {
   "cell_type": "markdown",
   "source": [
    "- skiprows : csv 파일에서 읽어 들이지 않을 행 갯수를 지정하기 => 앞부분\n",
    "- skipfooter : csv 파일에서 읽어 들이지 않을 행 갯수를 지정하기 => 뒷부분"
   ],
   "metadata": {
    "collapsed": false
   },
   "id": "fc1f917c4aa978de"
  },
  {
   "cell_type": "code",
   "outputs": [
    {
     "data": {
      "text/plain": "    0   1   2   3\n0  10  20  30  40\n1   1   2   3   4\n2  11  22  33  44",
      "text/html": "<div>\n<style scoped>\n    .dataframe tbody tr th:only-of-type {\n        vertical-align: middle;\n    }\n\n    .dataframe tbody tr th {\n        vertical-align: top;\n    }\n\n    .dataframe thead th {\n        text-align: right;\n    }\n</style>\n<table border=\"1\" class=\"dataframe\">\n  <thead>\n    <tr style=\"text-align: right;\">\n      <th></th>\n      <th>0</th>\n      <th>1</th>\n      <th>2</th>\n      <th>3</th>\n    </tr>\n  </thead>\n  <tbody>\n    <tr>\n      <th>0</th>\n      <td>10</td>\n      <td>20</td>\n      <td>30</td>\n      <td>40</td>\n    </tr>\n    <tr>\n      <th>1</th>\n      <td>1</td>\n      <td>2</td>\n      <td>3</td>\n      <td>4</td>\n    </tr>\n    <tr>\n      <th>2</th>\n      <td>11</td>\n      <td>22</td>\n      <td>33</td>\n      <td>44</td>\n    </tr>\n  </tbody>\n</table>\n</div>"
     },
     "execution_count": 35,
     "metadata": {},
     "output_type": "execute_result"
    }
   ],
   "source": [
    "pd.read_csv(file, sep=';', skiprows=3, header=None)"
   ],
   "metadata": {
    "collapsed": false,
    "ExecuteTime": {
     "end_time": "2024-01-15T00:55:42.397801100Z",
     "start_time": "2024-01-15T00:55:42.367672600Z"
    }
   },
   "id": "f4fc384bc5c3ca63",
   "execution_count": 35
  },
  {
   "cell_type": "code",
   "outputs": [
    {
     "data": {
      "text/plain": "    0   1   2   3\n0  10  20  30  40",
      "text/html": "<div>\n<style scoped>\n    .dataframe tbody tr th:only-of-type {\n        vertical-align: middle;\n    }\n\n    .dataframe tbody tr th {\n        vertical-align: top;\n    }\n\n    .dataframe thead th {\n        text-align: right;\n    }\n</style>\n<table border=\"1\" class=\"dataframe\">\n  <thead>\n    <tr style=\"text-align: right;\">\n      <th></th>\n      <th>0</th>\n      <th>1</th>\n      <th>2</th>\n      <th>3</th>\n    </tr>\n  </thead>\n  <tbody>\n    <tr>\n      <th>0</th>\n      <td>10</td>\n      <td>20</td>\n      <td>30</td>\n      <td>40</td>\n    </tr>\n  </tbody>\n</table>\n</div>"
     },
     "execution_count": 38,
     "metadata": {},
     "output_type": "execute_result"
    }
   ],
   "source": [
    "pd.read_csv(file, sep=';', skiprows=3, header=None, skipfooter=2, engine='python')"
   ],
   "metadata": {
    "collapsed": false,
    "ExecuteTime": {
     "end_time": "2024-01-15T00:59:29.506161500Z",
     "start_time": "2024-01-15T00:59:29.485511400Z"
    }
   },
   "id": "d14f54c3d163f577",
   "execution_count": 38
  },
  {
   "cell_type": "markdown",
   "source": [
    "- usecols :  컬럼에서 특정 컬럼만 선택해서 로딩함\n",
    "    * usecols=[0,2,...]\n",
    "    * usecols=['컬럼명1,'컬럼명n']"
   ],
   "metadata": {
    "collapsed": false
   },
   "id": "ffcaed5a27c4c703"
  },
  {
   "cell_type": "code",
   "outputs": [
    {
     "data": {
      "text/plain": "       0                2\n0      3        Paramount\n1      4      Buena Vista\n2      5      Buena Vista\n3      6        Universal\n4      7      Buena Vista\n..   ...              ...\n775  778  Warner Brothers\n776  779              Fox\n777  780  Warner Brothers\n778  781        Paramount\n779  782              MGM\n\n[780 rows x 2 columns]",
      "text/html": "<div>\n<style scoped>\n    .dataframe tbody tr th:only-of-type {\n        vertical-align: middle;\n    }\n\n    .dataframe tbody tr th {\n        vertical-align: top;\n    }\n\n    .dataframe thead th {\n        text-align: right;\n    }\n</style>\n<table border=\"1\" class=\"dataframe\">\n  <thead>\n    <tr style=\"text-align: right;\">\n      <th></th>\n      <th>0</th>\n      <th>2</th>\n    </tr>\n  </thead>\n  <tbody>\n    <tr>\n      <th>0</th>\n      <td>3</td>\n      <td>Paramount</td>\n    </tr>\n    <tr>\n      <th>1</th>\n      <td>4</td>\n      <td>Buena Vista</td>\n    </tr>\n    <tr>\n      <th>2</th>\n      <td>5</td>\n      <td>Buena Vista</td>\n    </tr>\n    <tr>\n      <th>3</th>\n      <td>6</td>\n      <td>Universal</td>\n    </tr>\n    <tr>\n      <th>4</th>\n      <td>7</td>\n      <td>Buena Vista</td>\n    </tr>\n    <tr>\n      <th>...</th>\n      <td>...</td>\n      <td>...</td>\n    </tr>\n    <tr>\n      <th>775</th>\n      <td>778</td>\n      <td>Warner Brothers</td>\n    </tr>\n    <tr>\n      <th>776</th>\n      <td>779</td>\n      <td>Fox</td>\n    </tr>\n    <tr>\n      <th>777</th>\n      <td>780</td>\n      <td>Warner Brothers</td>\n    </tr>\n    <tr>\n      <th>778</th>\n      <td>781</td>\n      <td>Paramount</td>\n    </tr>\n    <tr>\n      <th>779</th>\n      <td>782</td>\n      <td>MGM</td>\n    </tr>\n  </tbody>\n</table>\n<p>780 rows × 2 columns</p>\n</div>"
     },
     "execution_count": 43,
     "metadata": {},
     "output_type": "execute_result"
    }
   ],
   "source": [
    "pd.read_csv(file2, skiprows=3, header=None, usecols=[0, 2])"
   ],
   "metadata": {
    "collapsed": false,
    "ExecuteTime": {
     "end_time": "2024-01-15T01:21:24.146380100Z",
     "start_time": "2024-01-15T01:21:24.122012400Z"
    }
   },
   "id": "2f8735b6d33be8f4",
   "execution_count": 43
  },
  {
   "cell_type": "code",
   "outputs": [
    {
     "data": {
      "text/plain": "     Rank           Studio\n0       1      Buena Vista\n1       2              Fox\n2       3        Paramount\n3       4      Buena Vista\n4       5      Buena Vista\n..    ...              ...\n777   778  Warner Brothers\n778   779              Fox\n779   780  Warner Brothers\n780   781        Paramount\n781   782              MGM\n\n[782 rows x 2 columns]",
      "text/html": "<div>\n<style scoped>\n    .dataframe tbody tr th:only-of-type {\n        vertical-align: middle;\n    }\n\n    .dataframe tbody tr th {\n        vertical-align: top;\n    }\n\n    .dataframe thead th {\n        text-align: right;\n    }\n</style>\n<table border=\"1\" class=\"dataframe\">\n  <thead>\n    <tr style=\"text-align: right;\">\n      <th></th>\n      <th>Rank</th>\n      <th>Studio</th>\n    </tr>\n  </thead>\n  <tbody>\n    <tr>\n      <th>0</th>\n      <td>1</td>\n      <td>Buena Vista</td>\n    </tr>\n    <tr>\n      <th>1</th>\n      <td>2</td>\n      <td>Fox</td>\n    </tr>\n    <tr>\n      <th>2</th>\n      <td>3</td>\n      <td>Paramount</td>\n    </tr>\n    <tr>\n      <th>3</th>\n      <td>4</td>\n      <td>Buena Vista</td>\n    </tr>\n    <tr>\n      <th>4</th>\n      <td>5</td>\n      <td>Buena Vista</td>\n    </tr>\n    <tr>\n      <th>...</th>\n      <td>...</td>\n      <td>...</td>\n    </tr>\n    <tr>\n      <th>777</th>\n      <td>778</td>\n      <td>Warner Brothers</td>\n    </tr>\n    <tr>\n      <th>778</th>\n      <td>779</td>\n      <td>Fox</td>\n    </tr>\n    <tr>\n      <th>779</th>\n      <td>780</td>\n      <td>Warner Brothers</td>\n    </tr>\n    <tr>\n      <th>780</th>\n      <td>781</td>\n      <td>Paramount</td>\n    </tr>\n    <tr>\n      <th>781</th>\n      <td>782</td>\n      <td>MGM</td>\n    </tr>\n  </tbody>\n</table>\n<p>782 rows × 2 columns</p>\n</div>"
     },
     "execution_count": 42,
     "metadata": {},
     "output_type": "execute_result"
    }
   ],
   "source": [
    "pd.read_csv(file2, usecols=[0, 2])"
   ],
   "metadata": {
    "collapsed": false,
    "ExecuteTime": {
     "end_time": "2024-01-15T01:20:45.850981700Z",
     "start_time": "2024-01-15T01:20:45.828127700Z"
    }
   },
   "id": "55147be7474ab79c",
   "execution_count": 42
  },
  {
   "cell_type": "code",
   "outputs": [],
   "source": [],
   "metadata": {
    "collapsed": false
   },
   "id": "1ef3a21c8c963c23"
  }
 ],
 "metadata": {
  "kernelspec": {
   "display_name": "Python 3",
   "language": "python",
   "name": "python3"
  },
  "language_info": {
   "codemirror_mode": {
    "name": "ipython",
    "version": 2
   },
   "file_extension": ".py",
   "mimetype": "text/x-python",
   "name": "python",
   "nbconvert_exporter": "python",
   "pygments_lexer": "ipython2",
   "version": "2.7.6"
  }
 },
 "nbformat": 4,
 "nbformat_minor": 5
}
