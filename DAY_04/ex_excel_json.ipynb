{
 "cells": [
  {
   "cell_type": "markdown",
   "source": [
    "## [ Excel => DataFrame 저장 다루기 ]"
   ],
   "metadata": {
    "collapsed": false
   },
   "id": "40116da137df0740"
  },
  {
   "cell_type": "markdown",
   "source": [
    "(1) 모듈 로딩"
   ],
   "metadata": {
    "collapsed": false
   },
   "id": "406dc22c7f98ef96"
  },
  {
   "cell_type": "code",
   "outputs": [],
   "source": [
    "import pandas as pd"
   ],
   "metadata": {
    "collapsed": false,
    "ExecuteTime": {
     "end_time": "2024-01-15T04:32:51.018154600Z",
     "start_time": "2024-01-15T04:32:50.908775400Z"
    }
   },
   "id": "2b1dd1439d587fe6",
   "execution_count": 59
  },
  {
   "cell_type": "markdown",
   "source": [
    "(2) 데이터 준비"
   ],
   "metadata": {
    "collapsed": false
   },
   "id": "74c2edb55df827df"
  },
  {
   "cell_type": "code",
   "outputs": [],
   "source": [
    "file1='../DATA/Single Worksheet.xlsx'\n",
    "file2='../DATA/Multiple Worksheets.xlsx'"
   ],
   "metadata": {
    "collapsed": false,
    "ExecuteTime": {
     "end_time": "2024-01-15T04:32:51.039030700Z",
     "start_time": "2024-01-15T04:32:51.012612100Z"
    }
   },
   "id": "50aaf6f83e0eb64d",
   "execution_count": 60
  },
  {
   "cell_type": "markdown",
   "source": [
    "(3) Excel => DataFrame 저장하기"
   ],
   "metadata": {
    "collapsed": false
   },
   "id": "c4bddd70d9000d56"
  },
  {
   "cell_type": "code",
   "outputs": [
    {
     "data": {
      "text/plain": "                1\n3                \nGender  Last Name\nM           James\nM         Hawkins\nF             Day\nF            Ruiz\nF           Gomez",
      "text/html": "<div>\n<style scoped>\n    .dataframe tbody tr th:only-of-type {\n        vertical-align: middle;\n    }\n\n    .dataframe tbody tr th {\n        vertical-align: top;\n    }\n\n    .dataframe thead th {\n        text-align: right;\n    }\n</style>\n<table border=\"1\" class=\"dataframe\">\n  <thead>\n    <tr style=\"text-align: right;\">\n      <th></th>\n      <th>1</th>\n    </tr>\n    <tr>\n      <th>3</th>\n      <th></th>\n    </tr>\n  </thead>\n  <tbody>\n    <tr>\n      <th>Gender</th>\n      <td>Last Name</td>\n    </tr>\n    <tr>\n      <th>M</th>\n      <td>James</td>\n    </tr>\n    <tr>\n      <th>M</th>\n      <td>Hawkins</td>\n    </tr>\n    <tr>\n      <th>F</th>\n      <td>Day</td>\n    </tr>\n    <tr>\n      <th>F</th>\n      <td>Ruiz</td>\n    </tr>\n    <tr>\n      <th>F</th>\n      <td>Gomez</td>\n    </tr>\n  </tbody>\n</table>\n</div>"
     },
     "execution_count": 61,
     "metadata": {},
     "output_type": "execute_result"
    }
   ],
   "source": [
    "pd.read_excel(file1, header=None, usecols=[1,3], index_col=1)"
   ],
   "metadata": {
    "collapsed": false,
    "ExecuteTime": {
     "end_time": "2024-01-15T04:32:51.074735400Z",
     "start_time": "2024-01-15T04:32:51.030437Z"
    }
   },
   "id": "326d0a13a06c157",
   "execution_count": 61
  },
  {
   "cell_type": "code",
   "outputs": [
    {
     "data": {
      "text/plain": "  First Name  Last Name     City Gender\n0     Robert     Miller  Seattle      M\n1       Tara     Garcia  Phoenix      F\n2    Raphael  Rodriguez  Orlando      M",
      "text/html": "<div>\n<style scoped>\n    .dataframe tbody tr th:only-of-type {\n        vertical-align: middle;\n    }\n\n    .dataframe tbody tr th {\n        vertical-align: top;\n    }\n\n    .dataframe thead th {\n        text-align: right;\n    }\n</style>\n<table border=\"1\" class=\"dataframe\">\n  <thead>\n    <tr style=\"text-align: right;\">\n      <th></th>\n      <th>First Name</th>\n      <th>Last Name</th>\n      <th>City</th>\n      <th>Gender</th>\n    </tr>\n  </thead>\n  <tbody>\n    <tr>\n      <th>0</th>\n      <td>Robert</td>\n      <td>Miller</td>\n      <td>Seattle</td>\n      <td>M</td>\n    </tr>\n    <tr>\n      <th>1</th>\n      <td>Tara</td>\n      <td>Garcia</td>\n      <td>Phoenix</td>\n      <td>F</td>\n    </tr>\n    <tr>\n      <th>2</th>\n      <td>Raphael</td>\n      <td>Rodriguez</td>\n      <td>Orlando</td>\n      <td>M</td>\n    </tr>\n  </tbody>\n</table>\n</div>"
     },
     "execution_count": 62,
     "metadata": {},
     "output_type": "execute_result"
    }
   ],
   "source": [
    "pd.read_excel(file2, sheet_name=2)"
   ],
   "metadata": {
    "collapsed": false,
    "ExecuteTime": {
     "end_time": "2024-01-15T04:32:51.086198500Z",
     "start_time": "2024-01-15T04:32:51.059078900Z"
    }
   },
   "id": "c2c86e57adb97d77",
   "execution_count": 62
  },
  {
   "cell_type": "code",
   "outputs": [
    {
     "data": {
      "text/plain": "  First Name  Last Name     City Gender\n0     Robert     Miller  Seattle      M\n1       Tara     Garcia  Phoenix      F\n2    Raphael  Rodriguez  Orlando      M",
      "text/html": "<div>\n<style scoped>\n    .dataframe tbody tr th:only-of-type {\n        vertical-align: middle;\n    }\n\n    .dataframe tbody tr th {\n        vertical-align: top;\n    }\n\n    .dataframe thead th {\n        text-align: right;\n    }\n</style>\n<table border=\"1\" class=\"dataframe\">\n  <thead>\n    <tr style=\"text-align: right;\">\n      <th></th>\n      <th>First Name</th>\n      <th>Last Name</th>\n      <th>City</th>\n      <th>Gender</th>\n    </tr>\n  </thead>\n  <tbody>\n    <tr>\n      <th>0</th>\n      <td>Robert</td>\n      <td>Miller</td>\n      <td>Seattle</td>\n      <td>M</td>\n    </tr>\n    <tr>\n      <th>1</th>\n      <td>Tara</td>\n      <td>Garcia</td>\n      <td>Phoenix</td>\n      <td>F</td>\n    </tr>\n    <tr>\n      <th>2</th>\n      <td>Raphael</td>\n      <td>Rodriguez</td>\n      <td>Orlando</td>\n      <td>M</td>\n    </tr>\n  </tbody>\n</table>\n</div>"
     },
     "execution_count": 63,
     "metadata": {},
     "output_type": "execute_result"
    }
   ],
   "source": [
    "pd.read_excel(file2, sheet_name='Data 3')\n"
   ],
   "metadata": {
    "collapsed": false,
    "ExecuteTime": {
     "end_time": "2024-01-15T04:32:51.126868100Z",
     "start_time": "2024-01-15T04:32:51.077892200Z"
    }
   },
   "id": "44e2d6494891c1a8",
   "execution_count": 63
  },
  {
   "cell_type": "markdown",
   "source": [
    "## [JSON ==> DataFrame 저장하기]"
   ],
   "metadata": {
    "collapsed": false
   },
   "id": "254fad2263cc7b7f"
  },
  {
   "cell_type": "markdown",
   "source": [
    "### (1) 데이터 준비"
   ],
   "metadata": {
    "collapsed": false
   },
   "id": "f828f148c8c15a04"
  },
  {
   "cell_type": "code",
   "outputs": [],
   "source": [
    "file3 = '../DATA/nobel.json'"
   ],
   "metadata": {
    "collapsed": false,
    "ExecuteTime": {
     "end_time": "2024-01-15T04:32:51.192460Z",
     "start_time": "2024-01-15T04:32:51.104784300Z"
    }
   },
   "id": "8ca8dfd591ace406",
   "execution_count": 64
  },
  {
   "cell_type": "markdown",
   "source": [
    "### (2) JSON ==> DataFrame으로 저장"
   ],
   "metadata": {
    "collapsed": false
   },
   "id": "9177031939c1d481"
  },
  {
   "cell_type": "code",
   "outputs": [
    {
     "data": {
      "text/plain": "<bound method DataFrame.info of                                                 prizes\n0    {'year': '2019', 'category': 'chemistry', 'lau...\n1    {'year': '2019', 'category': 'economics', 'lau...\n2    {'year': '2019', 'category': 'literature', 'la...\n3    {'year': '2019', 'category': 'peace', 'laureat...\n4    {'year': '2019', 'category': 'physics', 'overa...\n..                                                 ...\n641  {'year': '1901', 'category': 'chemistry', 'lau...\n642  {'year': '1901', 'category': 'literature', 'la...\n643  {'year': '1901', 'category': 'peace', 'laureat...\n644  {'year': '1901', 'category': 'physics', 'laure...\n645  {'year': '1901', 'category': 'medicine', 'laur...\n\n[646 rows x 1 columns]>"
     },
     "execution_count": 65,
     "metadata": {},
     "output_type": "execute_result"
    }
   ],
   "source": [
    "nobelDF=pd.read_json(file3)\n",
    "nobelDF.info"
   ],
   "metadata": {
    "collapsed": false,
    "ExecuteTime": {
     "end_time": "2024-01-15T04:32:51.278365200Z",
     "start_time": "2024-01-15T04:32:51.131249500Z"
    }
   },
   "id": "78e0f327ca4a8aea",
   "execution_count": 65
  },
  {
   "cell_type": "markdown",
   "source": [
    "### (3) 데이터 확인"
   ],
   "metadata": {
    "collapsed": false
   },
   "id": "e82be18a445b672a"
  },
  {
   "cell_type": "code",
   "outputs": [
    {
     "name": "stdout",
     "output_type": "stream",
     "text": [
      "                                              prizes\n",
      "0  {'year': '2019', 'category': 'chemistry', 'lau...\n",
      "1  {'year': '2019', 'category': 'economics', 'lau...\n",
      "2  {'year': '2019', 'category': 'literature', 'la...\n",
      "\n",
      "                                                prizes\n",
      "643  {'year': '1901', 'category': 'peace', 'laureat...\n",
      "644  {'year': '1901', 'category': 'physics', 'laure...\n",
      "645  {'year': '1901', 'category': 'medicine', 'laur...\n"
     ]
    }
   ],
   "source": [
    "print(nobelDF.head(3), nobelDF.tail(3), sep='\\n\\n')"
   ],
   "metadata": {
    "collapsed": false,
    "ExecuteTime": {
     "end_time": "2024-01-15T04:32:51.347707700Z",
     "start_time": "2024-01-15T04:32:51.230382400Z"
    }
   },
   "id": "fbcd3cae0a8a80de",
   "execution_count": 66
  },
  {
   "cell_type": "markdown",
   "source": [
    "### (4) 데이터 추출"
   ],
   "metadata": {
    "collapsed": false
   },
   "id": "c035a5180923f82b"
  },
  {
   "cell_type": "code",
   "outputs": [
    {
     "data": {
      "text/plain": "(pandas.core.series.Series,\n prizes    {'year': '2019', 'category': 'chemistry', 'lau...\n Name: 0, dtype: object)"
     },
     "execution_count": 67,
     "metadata": {},
     "output_type": "execute_result"
    }
   ],
   "source": [
    "# 행 추출 => iloc[] / locp[]\n",
    "type(nobelDF.iloc[0]), nobelDF.iloc[0]"
   ],
   "metadata": {
    "collapsed": false,
    "ExecuteTime": {
     "end_time": "2024-01-15T04:32:51.436022400Z",
     "start_time": "2024-01-15T04:32:51.351867Z"
    }
   },
   "id": "f4d4f82eeca2b570",
   "execution_count": 67
  },
  {
   "cell_type": "code",
   "outputs": [
    {
     "data": {
      "text/plain": "{'year': '2019',\n 'category': 'chemistry',\n 'laureates': [{'id': '976',\n   'firstname': 'John',\n   'surname': 'Goodenough',\n   'motivation': '\"for the development of lithium-ion batteries\"',\n   'share': '3'},\n  {'id': '977',\n   'firstname': 'M. Stanley',\n   'surname': 'Whittingham',\n   'motivation': '\"for the development of lithium-ion batteries\"',\n   'share': '3'},\n  {'id': '978',\n   'firstname': 'Akira',\n   'surname': 'Yoshino',\n   'motivation': '\"for the development of lithium-ion batteries\"',\n   'share': '3'}]}"
     },
     "execution_count": 68,
     "metadata": {},
     "output_type": "execute_result"
    }
   ],
   "source": [
    "nobelDF.iloc[0]['prizes']"
   ],
   "metadata": {
    "collapsed": false,
    "ExecuteTime": {
     "end_time": "2024-01-15T04:32:51.492036Z",
     "start_time": "2024-01-15T04:32:51.437039700Z"
    }
   },
   "id": "2e01a38d659a1841",
   "execution_count": 68
  },
  {
   "cell_type": "code",
   "outputs": [
    {
     "data": {
      "text/plain": "dict"
     },
     "execution_count": 69,
     "metadata": {},
     "output_type": "execute_result"
    }
   ],
   "source": [
    "type(nobelDF.iloc[0]['prizes'])"
   ],
   "metadata": {
    "collapsed": false,
    "ExecuteTime": {
     "end_time": "2024-01-15T04:32:51.541144500Z",
     "start_time": "2024-01-15T04:32:51.481672800Z"
    }
   },
   "id": "26bbf041f212c537",
   "execution_count": 69
  },
  {
   "cell_type": "code",
   "outputs": [
    {
     "data": {
      "text/plain": "dict"
     },
     "execution_count": 70,
     "metadata": {},
     "output_type": "execute_result"
    }
   ],
   "source": [
    "oneData = nobelDF.iloc[0]['prizes']\n",
    "type(oneData)"
   ],
   "metadata": {
    "collapsed": false,
    "ExecuteTime": {
     "end_time": "2024-01-15T04:32:51.564941300Z",
     "start_time": "2024-01-15T04:32:51.523857200Z"
    }
   },
   "id": "d6c044ecc8539021",
   "execution_count": 70
  },
  {
   "cell_type": "code",
   "outputs": [
    {
     "data": {
      "text/plain": "(dict_keys(['year', 'category', 'laureates']),\n dict_items([('year', '2019'), ('category', 'chemistry'), ('laureates', [{'id': '976', 'firstname': 'John', 'surname': 'Goodenough', 'motivation': '\"for the development of lithium-ion batteries\"', 'share': '3'}, {'id': '977', 'firstname': 'M. Stanley', 'surname': 'Whittingham', 'motivation': '\"for the development of lithium-ion batteries\"', 'share': '3'}, {'id': '978', 'firstname': 'Akira', 'surname': 'Yoshino', 'motivation': '\"for the development of lithium-ion batteries\"', 'share': '3'}])]))"
     },
     "execution_count": 71,
     "metadata": {},
     "output_type": "execute_result"
    }
   ],
   "source": [
    "oneData.keys(), oneData.items()"
   ],
   "metadata": {
    "collapsed": false,
    "ExecuteTime": {
     "end_time": "2024-01-15T04:32:51.643312700Z",
     "start_time": "2024-01-15T04:32:51.569666300Z"
    }
   },
   "id": "622b7a355ddc247b",
   "execution_count": 71
  },
  {
   "cell_type": "code",
   "outputs": [
    {
     "name": "stdout",
     "output_type": "stream",
     "text": [
      "[year]\n",
      "===>2019\n",
      "[category]\n",
      "===>chemistry\n",
      "[laureates]\n",
      "===>[{'id': '976', 'firstname': 'John', 'surname': 'Goodenough', 'motivation': '\"for the development of lithium-ion batteries\"', 'share': '3'}, {'id': '977', 'firstname': 'M. Stanley', 'surname': 'Whittingham', 'motivation': '\"for the development of lithium-ion batteries\"', 'share': '3'}, {'id': '978', 'firstname': 'Akira', 'surname': 'Yoshino', 'motivation': '\"for the development of lithium-ion batteries\"', 'share': '3'}]\n",
      "- id 976\n",
      "- firstname John\n",
      "- surname Goodenough\n",
      "- motivation \"for the development of lithium-ion batteries\"\n",
      "- share 3\n",
      "- id 977\n",
      "- firstname M. Stanley\n",
      "- surname Whittingham\n",
      "- motivation \"for the development of lithium-ion batteries\"\n",
      "- share 3\n",
      "- id 978\n",
      "- firstname Akira\n",
      "- surname Yoshino\n",
      "- motivation \"for the development of lithium-ion batteries\"\n",
      "- share 3\n"
     ]
    }
   ],
   "source": [
    "for k, v in oneData.items():\n",
    "    print(f'[{k}]\\n===>{v}')\n",
    "    if k == 'laureates':\n",
    "        for d in v:\n",
    "            for k1, v1 in d.items():\n",
    "                print(\"-\", k1, v1)"
   ],
   "metadata": {
    "collapsed": false,
    "ExecuteTime": {
     "end_time": "2024-01-15T04:32:51.670218800Z",
     "start_time": "2024-01-15T04:32:51.632249500Z"
    }
   },
   "id": "4d3bd4370dac80ce",
   "execution_count": 72
  },
  {
   "cell_type": "markdown",
   "source": [
    "### - json 중첩 데이터의 다중 반복문 ==> 단일 리스트 형태 처리 : 평탕화 / 정규화"
   ],
   "metadata": {
    "collapsed": false
   },
   "id": "9beaaf7dd12020a8"
  },
  {
   "cell_type": "code",
   "outputs": [
    {
     "data": {
      "text/plain": "   year   category                                          laureates\n0  2019  chemistry  [{'id': '976', 'firstname': 'John', 'surname':...",
      "text/html": "<div>\n<style scoped>\n    .dataframe tbody tr th:only-of-type {\n        vertical-align: middle;\n    }\n\n    .dataframe tbody tr th {\n        vertical-align: top;\n    }\n\n    .dataframe thead th {\n        text-align: right;\n    }\n</style>\n<table border=\"1\" class=\"dataframe\">\n  <thead>\n    <tr style=\"text-align: right;\">\n      <th></th>\n      <th>year</th>\n      <th>category</th>\n      <th>laureates</th>\n    </tr>\n  </thead>\n  <tbody>\n    <tr>\n      <th>0</th>\n      <td>2019</td>\n      <td>chemistry</td>\n      <td>[{'id': '976', 'firstname': 'John', 'surname':...</td>\n    </tr>\n  </tbody>\n</table>\n</div>"
     },
     "execution_count": 73,
     "metadata": {},
     "output_type": "execute_result"
    }
   ],
   "source": [
    "pd.json_normalize(oneData)"
   ],
   "metadata": {
    "collapsed": false,
    "ExecuteTime": {
     "end_time": "2024-01-15T04:32:51.750123Z",
     "start_time": "2024-01-15T04:32:51.660657100Z"
    }
   },
   "id": "deb161556bff832b",
   "execution_count": 73
  },
  {
   "cell_type": "code",
   "outputs": [
    {
     "data": {
      "text/plain": "    id   firstname      surname  \\\n0  976        John   Goodenough   \n1  977  M. Stanley  Whittingham   \n2  978       Akira      Yoshino   \n\n                                       motivation share  \n0  \"for the development of lithium-ion batteries\"     3  \n1  \"for the development of lithium-ion batteries\"     3  \n2  \"for the development of lithium-ion batteries\"     3  ",
      "text/html": "<div>\n<style scoped>\n    .dataframe tbody tr th:only-of-type {\n        vertical-align: middle;\n    }\n\n    .dataframe tbody tr th {\n        vertical-align: top;\n    }\n\n    .dataframe thead th {\n        text-align: right;\n    }\n</style>\n<table border=\"1\" class=\"dataframe\">\n  <thead>\n    <tr style=\"text-align: right;\">\n      <th></th>\n      <th>id</th>\n      <th>firstname</th>\n      <th>surname</th>\n      <th>motivation</th>\n      <th>share</th>\n    </tr>\n  </thead>\n  <tbody>\n    <tr>\n      <th>0</th>\n      <td>976</td>\n      <td>John</td>\n      <td>Goodenough</td>\n      <td>\"for the development of lithium-ion batteries\"</td>\n      <td>3</td>\n    </tr>\n    <tr>\n      <th>1</th>\n      <td>977</td>\n      <td>M. Stanley</td>\n      <td>Whittingham</td>\n      <td>\"for the development of lithium-ion batteries\"</td>\n      <td>3</td>\n    </tr>\n    <tr>\n      <th>2</th>\n      <td>978</td>\n      <td>Akira</td>\n      <td>Yoshino</td>\n      <td>\"for the development of lithium-ion batteries\"</td>\n      <td>3</td>\n    </tr>\n  </tbody>\n</table>\n</div>"
     },
     "execution_count": 74,
     "metadata": {},
     "output_type": "execute_result"
    }
   ],
   "source": [
    "pd.json_normalize(oneData,record_path='laureates')"
   ],
   "metadata": {
    "collapsed": false,
    "ExecuteTime": {
     "end_time": "2024-01-15T04:32:51.752184800Z",
     "start_time": "2024-01-15T04:32:51.679017100Z"
    }
   },
   "id": "1a014c0ab047d7ad",
   "execution_count": 74
  },
  {
   "cell_type": "code",
   "outputs": [
    {
     "data": {
      "text/plain": "    id   firstname      surname  \\\n0  976        John   Goodenough   \n1  977  M. Stanley  Whittingham   \n2  978       Akira      Yoshino   \n\n                                       motivation share  year   category  \n0  \"for the development of lithium-ion batteries\"     3  2019  chemistry  \n1  \"for the development of lithium-ion batteries\"     3  2019  chemistry  \n2  \"for the development of lithium-ion batteries\"     3  2019  chemistry  ",
      "text/html": "<div>\n<style scoped>\n    .dataframe tbody tr th:only-of-type {\n        vertical-align: middle;\n    }\n\n    .dataframe tbody tr th {\n        vertical-align: top;\n    }\n\n    .dataframe thead th {\n        text-align: right;\n    }\n</style>\n<table border=\"1\" class=\"dataframe\">\n  <thead>\n    <tr style=\"text-align: right;\">\n      <th></th>\n      <th>id</th>\n      <th>firstname</th>\n      <th>surname</th>\n      <th>motivation</th>\n      <th>share</th>\n      <th>year</th>\n      <th>category</th>\n    </tr>\n  </thead>\n  <tbody>\n    <tr>\n      <th>0</th>\n      <td>976</td>\n      <td>John</td>\n      <td>Goodenough</td>\n      <td>\"for the development of lithium-ion batteries\"</td>\n      <td>3</td>\n      <td>2019</td>\n      <td>chemistry</td>\n    </tr>\n    <tr>\n      <th>1</th>\n      <td>977</td>\n      <td>M. Stanley</td>\n      <td>Whittingham</td>\n      <td>\"for the development of lithium-ion batteries\"</td>\n      <td>3</td>\n      <td>2019</td>\n      <td>chemistry</td>\n    </tr>\n    <tr>\n      <th>2</th>\n      <td>978</td>\n      <td>Akira</td>\n      <td>Yoshino</td>\n      <td>\"for the development of lithium-ion batteries\"</td>\n      <td>3</td>\n      <td>2019</td>\n      <td>chemistry</td>\n    </tr>\n  </tbody>\n</table>\n</div>"
     },
     "execution_count": 75,
     "metadata": {},
     "output_type": "execute_result"
    }
   ],
   "source": [
    "pd.json_normalize(oneData,record_path='laureates', meta=['year','category'])\n"
   ],
   "metadata": {
    "collapsed": false,
    "ExecuteTime": {
     "end_time": "2024-01-15T04:32:51.798202800Z",
     "start_time": "2024-01-15T04:32:51.742733Z"
    }
   },
   "id": "8e2c13b8ed2bdd9e",
   "execution_count": 75
  },
  {
   "cell_type": "markdown",
   "source": [
    "## - 모든 행에 대한 정구화 / 평탄화 진행"
   ],
   "metadata": {
    "collapsed": false
   },
   "id": "3998cb8cc41b55c7"
  },
  {
   "cell_type": "code",
   "outputs": [
    {
     "name": "stdout",
     "output_type": "stream",
     "text": [
      "<class 'dict'> dict_keys(['year', 'category', 'laureates'])\n",
      "\n",
      "<class 'dict'> dict_keys(['year', 'category', 'laureates'])\n",
      "\n",
      "<class 'dict'> dict_keys(['year', 'category', 'laureates'])\n",
      "\n",
      "<class 'dict'> dict_keys(['year', 'category', 'laureates'])\n",
      "\n",
      "<class 'dict'> dict_keys(['year', 'category', 'overallMotivation', 'laureates'])\n",
      "\n",
      "<class 'dict'> dict_keys(['year', 'category', 'laureates'])\n",
      "\n",
      "<class 'dict'> dict_keys(['year', 'category', 'laureates'])\n",
      "\n",
      "<class 'dict'> dict_keys(['year', 'category', 'laureates'])\n",
      "\n",
      "<class 'dict'> dict_keys(['year', 'category', 'laureates'])\n",
      "\n",
      "<class 'dict'> dict_keys(['year', 'category', 'laureates'])\n",
      "\n",
      "<class 'dict'> dict_keys(['year', 'category', 'overallMotivation', 'laureates'])\n",
      "\n",
      "<class 'dict'> dict_keys(['year', 'category', 'laureates'])\n",
      "\n",
      "<class 'dict'> dict_keys(['year', 'category', 'laureates'])\n",
      "\n",
      "<class 'dict'> dict_keys(['year', 'category', 'laureates'])\n",
      "\n",
      "<class 'dict'> dict_keys(['year', 'category', 'laureates'])\n",
      "\n",
      "<class 'dict'> dict_keys(['year', 'category', 'laureates'])\n",
      "\n",
      "<class 'dict'> dict_keys(['year', 'category', 'laureates'])\n",
      "\n",
      "<class 'dict'> dict_keys(['year', 'category', 'laureates'])\n",
      "\n",
      "<class 'dict'> dict_keys(['year', 'category', 'laureates'])\n",
      "\n",
      "<class 'dict'> dict_keys(['year', 'category', 'laureates'])\n",
      "\n",
      "<class 'dict'> dict_keys(['year', 'category', 'laureates'])\n",
      "\n",
      "<class 'dict'> dict_keys(['year', 'category', 'laureates'])\n",
      "\n",
      "<class 'dict'> dict_keys(['year', 'category', 'laureates'])\n",
      "\n",
      "<class 'dict'> dict_keys(['year', 'category', 'laureates'])\n",
      "\n",
      "<class 'dict'> dict_keys(['year', 'category', 'laureates'])\n",
      "\n",
      "<class 'dict'> dict_keys(['year', 'category', 'laureates'])\n",
      "\n",
      "<class 'dict'> dict_keys(['year', 'category', 'laureates'])\n",
      "\n",
      "<class 'dict'> dict_keys(['year', 'category', 'laureates'])\n",
      "\n",
      "<class 'dict'> dict_keys(['year', 'category', 'laureates'])\n",
      "\n",
      "<class 'dict'> dict_keys(['year', 'category', 'laureates'])\n",
      "\n",
      "<class 'dict'> dict_keys(['year', 'category', 'laureates'])\n",
      "\n",
      "<class 'dict'> dict_keys(['year', 'category', 'laureates'])\n",
      "\n",
      "<class 'dict'> dict_keys(['year', 'category', 'laureates'])\n",
      "\n",
      "<class 'dict'> dict_keys(['year', 'category', 'laureates'])\n",
      "\n",
      "<class 'dict'> dict_keys(['year', 'category', 'laureates'])\n",
      "\n",
      "<class 'dict'> dict_keys(['year', 'category', 'laureates'])\n",
      "\n",
      "<class 'dict'> dict_keys(['year', 'category', 'laureates'])\n",
      "\n",
      "<class 'dict'> dict_keys(['year', 'category', 'laureates'])\n",
      "\n",
      "<class 'dict'> dict_keys(['year', 'category', 'laureates'])\n",
      "\n",
      "<class 'dict'> dict_keys(['year', 'category', 'laureates'])\n",
      "\n",
      "<class 'dict'> dict_keys(['year', 'category', 'laureates'])\n",
      "\n",
      "<class 'dict'> dict_keys(['year', 'category', 'laureates'])\n",
      "\n",
      "<class 'dict'> dict_keys(['year', 'category', 'laureates'])\n",
      "\n",
      "<class 'dict'> dict_keys(['year', 'category', 'laureates'])\n",
      "\n",
      "<class 'dict'> dict_keys(['year', 'category', 'laureates'])\n",
      "\n",
      "<class 'dict'> dict_keys(['year', 'category', 'laureates'])\n",
      "\n",
      "<class 'dict'> dict_keys(['year', 'category', 'laureates'])\n",
      "\n",
      "<class 'dict'> dict_keys(['year', 'category', 'laureates'])\n",
      "\n",
      "<class 'dict'> dict_keys(['year', 'category', 'laureates'])\n",
      "\n",
      "<class 'dict'> dict_keys(['year', 'category', 'laureates'])\n",
      "\n",
      "<class 'dict'> dict_keys(['year', 'category', 'laureates'])\n",
      "\n",
      "<class 'dict'> dict_keys(['year', 'category', 'laureates'])\n",
      "\n",
      "<class 'dict'> dict_keys(['year', 'category', 'laureates'])\n",
      "\n",
      "<class 'dict'> dict_keys(['year', 'category', 'laureates'])\n",
      "\n",
      "<class 'dict'> dict_keys(['year', 'category', 'laureates'])\n",
      "\n",
      "<class 'dict'> dict_keys(['year', 'category', 'laureates'])\n",
      "\n",
      "<class 'dict'> dict_keys(['year', 'category', 'laureates'])\n",
      "\n",
      "<class 'dict'> dict_keys(['year', 'category', 'laureates'])\n",
      "\n",
      "<class 'dict'> dict_keys(['year', 'category', 'laureates'])\n",
      "\n",
      "<class 'dict'> dict_keys(['year', 'category', 'laureates'])\n",
      "\n",
      "<class 'dict'> dict_keys(['year', 'category', 'laureates'])\n",
      "\n",
      "<class 'dict'> dict_keys(['year', 'category', 'laureates'])\n",
      "\n",
      "<class 'dict'> dict_keys(['year', 'category', 'laureates'])\n",
      "\n",
      "<class 'dict'> dict_keys(['year', 'category', 'laureates'])\n",
      "\n",
      "<class 'dict'> dict_keys(['year', 'category', 'laureates'])\n",
      "\n",
      "<class 'dict'> dict_keys(['year', 'category', 'laureates'])\n",
      "\n",
      "<class 'dict'> dict_keys(['year', 'category', 'laureates'])\n",
      "\n",
      "<class 'dict'> dict_keys(['year', 'category', 'laureates'])\n",
      "\n",
      "<class 'dict'> dict_keys(['year', 'category', 'laureates'])\n",
      "\n",
      "<class 'dict'> dict_keys(['year', 'category', 'laureates'])\n",
      "\n",
      "<class 'dict'> dict_keys(['year', 'category', 'laureates'])\n",
      "\n",
      "<class 'dict'> dict_keys(['year', 'category', 'laureates'])\n",
      "\n",
      "<class 'dict'> dict_keys(['year', 'category', 'laureates'])\n",
      "\n",
      "<class 'dict'> dict_keys(['year', 'category', 'laureates'])\n",
      "\n",
      "<class 'dict'> dict_keys(['year', 'category', 'laureates'])\n",
      "\n",
      "<class 'dict'> dict_keys(['year', 'category', 'laureates'])\n",
      "\n",
      "<class 'dict'> dict_keys(['year', 'category', 'laureates'])\n",
      "\n",
      "<class 'dict'> dict_keys(['year', 'category', 'laureates'])\n",
      "\n",
      "<class 'dict'> dict_keys(['year', 'category', 'laureates'])\n",
      "\n",
      "<class 'dict'> dict_keys(['year', 'category', 'laureates'])\n",
      "\n",
      "<class 'dict'> dict_keys(['year', 'category', 'laureates'])\n",
      "\n",
      "<class 'dict'> dict_keys(['year', 'category', 'laureates'])\n",
      "\n",
      "<class 'dict'> dict_keys(['year', 'category', 'laureates'])\n",
      "\n",
      "<class 'dict'> dict_keys(['year', 'category', 'laureates'])\n",
      "\n",
      "<class 'dict'> dict_keys(['year', 'category', 'laureates'])\n",
      "\n",
      "<class 'dict'> dict_keys(['year', 'category', 'laureates'])\n",
      "\n",
      "<class 'dict'> dict_keys(['year', 'category', 'laureates'])\n",
      "\n",
      "<class 'dict'> dict_keys(['year', 'category', 'laureates'])\n",
      "\n",
      "<class 'dict'> dict_keys(['year', 'category', 'laureates'])\n",
      "\n",
      "<class 'dict'> dict_keys(['year', 'category', 'laureates'])\n",
      "\n",
      "<class 'dict'> dict_keys(['year', 'category', 'laureates'])\n",
      "\n",
      "<class 'dict'> dict_keys(['year', 'category', 'laureates'])\n",
      "\n",
      "<class 'dict'> dict_keys(['year', 'category', 'laureates'])\n",
      "\n",
      "<class 'dict'> dict_keys(['year', 'category', 'laureates'])\n",
      "\n",
      "<class 'dict'> dict_keys(['year', 'category', 'laureates'])\n",
      "\n",
      "<class 'dict'> dict_keys(['year', 'category', 'laureates'])\n",
      "\n",
      "<class 'dict'> dict_keys(['year', 'category', 'overallMotivation', 'laureates'])\n",
      "\n",
      "<class 'dict'> dict_keys(['year', 'category', 'laureates'])\n",
      "\n",
      "<class 'dict'> dict_keys(['year', 'category', 'laureates'])\n",
      "\n",
      "<class 'dict'> dict_keys(['year', 'category', 'laureates'])\n",
      "\n",
      "<class 'dict'> dict_keys(['year', 'category', 'laureates'])\n",
      "\n",
      "<class 'dict'> dict_keys(['year', 'category', 'laureates'])\n",
      "\n",
      "<class 'dict'> dict_keys(['year', 'category', 'overallMotivation', 'laureates'])\n",
      "\n",
      "<class 'dict'> dict_keys(['year', 'category', 'laureates'])\n",
      "\n",
      "<class 'dict'> dict_keys(['year', 'category', 'laureates'])\n",
      "\n",
      "<class 'dict'> dict_keys(['year', 'category', 'laureates'])\n",
      "\n",
      "<class 'dict'> dict_keys(['year', 'category', 'laureates'])\n",
      "\n",
      "<class 'dict'> dict_keys(['year', 'category', 'laureates'])\n",
      "\n",
      "<class 'dict'> dict_keys(['year', 'category', 'laureates'])\n",
      "\n",
      "<class 'dict'> dict_keys(['year', 'category', 'laureates'])\n",
      "\n",
      "<class 'dict'> dict_keys(['year', 'category', 'laureates'])\n",
      "\n",
      "<class 'dict'> dict_keys(['year', 'category', 'laureates'])\n",
      "\n",
      "<class 'dict'> dict_keys(['year', 'category', 'laureates'])\n",
      "\n",
      "<class 'dict'> dict_keys(['year', 'category', 'laureates'])\n",
      "\n",
      "<class 'dict'> dict_keys(['year', 'category', 'laureates'])\n",
      "\n",
      "<class 'dict'> dict_keys(['year', 'category', 'laureates'])\n",
      "\n",
      "<class 'dict'> dict_keys(['year', 'category', 'laureates'])\n",
      "\n",
      "<class 'dict'> dict_keys(['year', 'category', 'laureates'])\n",
      "\n",
      "<class 'dict'> dict_keys(['year', 'category', 'overallMotivation', 'laureates'])\n",
      "\n",
      "<class 'dict'> dict_keys(['year', 'category', 'laureates'])\n",
      "\n",
      "<class 'dict'> dict_keys(['year', 'category', 'laureates'])\n",
      "\n",
      "<class 'dict'> dict_keys(['year', 'category', 'laureates'])\n",
      "\n",
      "<class 'dict'> dict_keys(['year', 'category', 'laureates'])\n",
      "\n",
      "<class 'dict'> dict_keys(['year', 'category', 'laureates'])\n",
      "\n",
      "<class 'dict'> dict_keys(['year', 'category', 'laureates'])\n",
      "\n",
      "<class 'dict'> dict_keys(['year', 'category', 'laureates'])\n",
      "\n",
      "<class 'dict'> dict_keys(['year', 'category', 'laureates'])\n",
      "\n",
      "<class 'dict'> dict_keys(['year', 'category', 'laureates'])\n",
      "\n",
      "<class 'dict'> dict_keys(['year', 'category', 'laureates'])\n",
      "\n",
      "<class 'dict'> dict_keys(['year', 'category', 'laureates'])\n",
      "\n",
      "<class 'dict'> dict_keys(['year', 'category', 'laureates'])\n",
      "\n",
      "<class 'dict'> dict_keys(['year', 'category', 'laureates'])\n",
      "\n",
      "<class 'dict'> dict_keys(['year', 'category', 'laureates'])\n",
      "\n",
      "<class 'dict'> dict_keys(['year', 'category', 'laureates'])\n",
      "\n",
      "<class 'dict'> dict_keys(['year', 'category', 'laureates'])\n",
      "\n",
      "<class 'dict'> dict_keys(['year', 'category', 'laureates'])\n",
      "\n",
      "<class 'dict'> dict_keys(['year', 'category', 'laureates'])\n",
      "\n",
      "<class 'dict'> dict_keys(['year', 'category', 'laureates'])\n",
      "\n",
      "<class 'dict'> dict_keys(['year', 'category', 'laureates'])\n",
      "\n",
      "<class 'dict'> dict_keys(['year', 'category', 'laureates'])\n",
      "\n",
      "<class 'dict'> dict_keys(['year', 'category', 'laureates'])\n",
      "\n",
      "<class 'dict'> dict_keys(['year', 'category', 'laureates'])\n",
      "\n",
      "<class 'dict'> dict_keys(['year', 'category', 'laureates'])\n",
      "\n",
      "<class 'dict'> dict_keys(['year', 'category', 'laureates'])\n",
      "\n",
      "<class 'dict'> dict_keys(['year', 'category', 'laureates'])\n",
      "\n",
      "<class 'dict'> dict_keys(['year', 'category', 'laureates'])\n",
      "\n",
      "<class 'dict'> dict_keys(['year', 'category', 'laureates'])\n",
      "\n",
      "<class 'dict'> dict_keys(['year', 'category', 'laureates'])\n",
      "\n",
      "<class 'dict'> dict_keys(['year', 'category', 'overallMotivation', 'laureates'])\n",
      "\n",
      "<class 'dict'> dict_keys(['year', 'category', 'laureates'])\n",
      "\n",
      "<class 'dict'> dict_keys(['year', 'category', 'laureates'])\n",
      "\n",
      "<class 'dict'> dict_keys(['year', 'category', 'laureates'])\n",
      "\n",
      "<class 'dict'> dict_keys(['year', 'category', 'laureates'])\n",
      "\n",
      "<class 'dict'> dict_keys(['year', 'category', 'laureates'])\n",
      "\n",
      "<class 'dict'> dict_keys(['year', 'category', 'overallMotivation', 'laureates'])\n",
      "\n",
      "<class 'dict'> dict_keys(['year', 'category', 'laureates'])\n",
      "\n",
      "<class 'dict'> dict_keys(['year', 'category', 'overallMotivation', 'laureates'])\n",
      "\n",
      "<class 'dict'> dict_keys(['year', 'category', 'laureates'])\n",
      "\n",
      "<class 'dict'> dict_keys(['year', 'category', 'laureates'])\n",
      "\n",
      "<class 'dict'> dict_keys(['year', 'category', 'laureates'])\n",
      "\n",
      "<class 'dict'> dict_keys(['year', 'category', 'laureates'])\n",
      "\n",
      "<class 'dict'> dict_keys(['year', 'category', 'laureates'])\n",
      "\n",
      "<class 'dict'> dict_keys(['year', 'category', 'laureates'])\n",
      "\n",
      "<class 'dict'> dict_keys(['year', 'category', 'laureates'])\n",
      "\n",
      "<class 'dict'> dict_keys(['year', 'category', 'laureates'])\n",
      "\n",
      "<class 'dict'> dict_keys(['year', 'category', 'laureates'])\n",
      "\n",
      "<class 'dict'> dict_keys(['year', 'category', 'laureates'])\n",
      "\n",
      "<class 'dict'> dict_keys(['year', 'category', 'laureates'])\n",
      "\n",
      "<class 'dict'> dict_keys(['year', 'category', 'laureates'])\n",
      "\n",
      "<class 'dict'> dict_keys(['year', 'category', 'laureates'])\n",
      "\n",
      "<class 'dict'> dict_keys(['year', 'category', 'laureates'])\n",
      "\n",
      "<class 'dict'> dict_keys(['year', 'category', 'laureates'])\n",
      "\n",
      "<class 'dict'> dict_keys(['year', 'category', 'laureates'])\n",
      "\n",
      "<class 'dict'> dict_keys(['year', 'category', 'laureates'])\n",
      "\n",
      "<class 'dict'> dict_keys(['year', 'category', 'laureates'])\n",
      "\n",
      "<class 'dict'> dict_keys(['year', 'category', 'laureates'])\n",
      "\n",
      "<class 'dict'> dict_keys(['year', 'category', 'laureates'])\n",
      "\n",
      "<class 'dict'> dict_keys(['year', 'category', 'laureates'])\n",
      "\n",
      "<class 'dict'> dict_keys(['year', 'category', 'laureates'])\n",
      "\n",
      "<class 'dict'> dict_keys(['year', 'category', 'laureates'])\n",
      "\n",
      "<class 'dict'> dict_keys(['year', 'category', 'laureates'])\n",
      "\n",
      "<class 'dict'> dict_keys(['year', 'category', 'laureates'])\n",
      "\n",
      "<class 'dict'> dict_keys(['year', 'category', 'laureates'])\n",
      "\n",
      "<class 'dict'> dict_keys(['year', 'category', 'laureates'])\n",
      "\n",
      "<class 'dict'> dict_keys(['year', 'category', 'laureates'])\n",
      "\n",
      "<class 'dict'> dict_keys(['year', 'category', 'laureates'])\n",
      "\n",
      "<class 'dict'> dict_keys(['year', 'category', 'laureates'])\n",
      "\n",
      "<class 'dict'> dict_keys(['year', 'category', 'laureates'])\n",
      "\n",
      "<class 'dict'> dict_keys(['year', 'category', 'laureates'])\n",
      "\n",
      "<class 'dict'> dict_keys(['year', 'category', 'laureates'])\n",
      "\n",
      "<class 'dict'> dict_keys(['year', 'category', 'laureates'])\n",
      "\n",
      "<class 'dict'> dict_keys(['year', 'category', 'laureates'])\n",
      "\n",
      "<class 'dict'> dict_keys(['year', 'category', 'laureates'])\n",
      "\n",
      "<class 'dict'> dict_keys(['year', 'category', 'laureates'])\n",
      "\n",
      "<class 'dict'> dict_keys(['year', 'category', 'laureates'])\n",
      "\n",
      "<class 'dict'> dict_keys(['year', 'category', 'laureates'])\n",
      "\n",
      "<class 'dict'> dict_keys(['year', 'category', 'laureates'])\n",
      "\n",
      "<class 'dict'> dict_keys(['year', 'category', 'laureates'])\n",
      "\n",
      "<class 'dict'> dict_keys(['year', 'category', 'laureates'])\n",
      "\n",
      "<class 'dict'> dict_keys(['year', 'category', 'laureates'])\n",
      "\n",
      "<class 'dict'> dict_keys(['year', 'category', 'laureates'])\n",
      "\n",
      "<class 'dict'> dict_keys(['year', 'category', 'laureates'])\n",
      "\n",
      "<class 'dict'> dict_keys(['year', 'category', 'laureates'])\n",
      "\n",
      "<class 'dict'> dict_keys(['year', 'category', 'laureates'])\n",
      "\n",
      "<class 'dict'> dict_keys(['year', 'category', 'laureates'])\n",
      "\n",
      "<class 'dict'> dict_keys(['year', 'category', 'laureates'])\n",
      "\n",
      "<class 'dict'> dict_keys(['year', 'category', 'laureates'])\n",
      "\n",
      "<class 'dict'> dict_keys(['year', 'category', 'laureates'])\n",
      "\n",
      "<class 'dict'> dict_keys(['year', 'category', 'laureates'])\n",
      "\n",
      "<class 'dict'> dict_keys(['year', 'category', 'laureates'])\n",
      "\n",
      "<class 'dict'> dict_keys(['year', 'category', 'laureates'])\n",
      "\n",
      "<class 'dict'> dict_keys(['year', 'category', 'laureates'])\n",
      "\n",
      "<class 'dict'> dict_keys(['year', 'category', 'laureates'])\n",
      "\n",
      "<class 'dict'> dict_keys(['year', 'category', 'laureates'])\n",
      "\n",
      "<class 'dict'> dict_keys(['year', 'category', 'laureates'])\n",
      "\n",
      "<class 'dict'> dict_keys(['year', 'category', 'laureates'])\n",
      "\n",
      "<class 'dict'> dict_keys(['year', 'category', 'laureates'])\n",
      "\n",
      "<class 'dict'> dict_keys(['year', 'category', 'laureates'])\n",
      "\n",
      "<class 'dict'> dict_keys(['year', 'category', 'laureates'])\n",
      "\n",
      "<class 'dict'> dict_keys(['year', 'category', 'laureates'])\n",
      "\n",
      "<class 'dict'> dict_keys(['year', 'category', 'laureates'])\n",
      "\n",
      "<class 'dict'> dict_keys(['year', 'category', 'laureates'])\n",
      "\n",
      "<class 'dict'> dict_keys(['year', 'category', 'laureates'])\n",
      "\n",
      "<class 'dict'> dict_keys(['year', 'category', 'laureates'])\n",
      "\n",
      "<class 'dict'> dict_keys(['year', 'category', 'laureates'])\n",
      "\n",
      "<class 'dict'> dict_keys(['year', 'category', 'laureates'])\n",
      "\n",
      "<class 'dict'> dict_keys(['year', 'category', 'laureates'])\n",
      "\n",
      "<class 'dict'> dict_keys(['year', 'category', 'laureates'])\n",
      "\n",
      "<class 'dict'> dict_keys(['year', 'category', 'laureates'])\n",
      "\n",
      "<class 'dict'> dict_keys(['year', 'category', 'laureates'])\n",
      "\n",
      "<class 'dict'> dict_keys(['year', 'category', 'laureates'])\n",
      "\n",
      "<class 'dict'> dict_keys(['year', 'category', 'laureates'])\n",
      "\n",
      "<class 'dict'> dict_keys(['year', 'category', 'laureates'])\n",
      "\n",
      "<class 'dict'> dict_keys(['year', 'category', 'laureates'])\n",
      "\n",
      "<class 'dict'> dict_keys(['year', 'category', 'laureates'])\n",
      "\n",
      "<class 'dict'> dict_keys(['year', 'category', 'laureates'])\n",
      "\n",
      "<class 'dict'> dict_keys(['year', 'category', 'laureates'])\n",
      "\n",
      "<class 'dict'> dict_keys(['year', 'category', 'laureates'])\n",
      "\n",
      "<class 'dict'> dict_keys(['year', 'category', 'laureates'])\n",
      "\n",
      "<class 'dict'> dict_keys(['year', 'category', 'laureates'])\n",
      "\n",
      "<class 'dict'> dict_keys(['year', 'category', 'laureates'])\n",
      "\n",
      "<class 'dict'> dict_keys(['year', 'category', 'laureates'])\n",
      "\n",
      "<class 'dict'> dict_keys(['year', 'category', 'laureates'])\n",
      "\n",
      "<class 'dict'> dict_keys(['year', 'category', 'laureates'])\n",
      "\n",
      "<class 'dict'> dict_keys(['year', 'category', 'laureates'])\n",
      "\n",
      "<class 'dict'> dict_keys(['year', 'category', 'laureates'])\n",
      "\n",
      "<class 'dict'> dict_keys(['year', 'category', 'laureates'])\n",
      "\n",
      "<class 'dict'> dict_keys(['year', 'category', 'laureates'])\n",
      "\n",
      "<class 'dict'> dict_keys(['year', 'category', 'laureates'])\n",
      "\n",
      "<class 'dict'> dict_keys(['year', 'category', 'laureates'])\n",
      "\n",
      "<class 'dict'> dict_keys(['year', 'category', 'laureates'])\n",
      "\n",
      "<class 'dict'> dict_keys(['year', 'category', 'laureates'])\n",
      "\n",
      "<class 'dict'> dict_keys(['year', 'category', 'laureates'])\n",
      "\n",
      "<class 'dict'> dict_keys(['year', 'category', 'laureates'])\n",
      "\n",
      "<class 'dict'> dict_keys(['year', 'category', 'laureates'])\n",
      "\n",
      "<class 'dict'> dict_keys(['year', 'category', 'laureates'])\n",
      "\n",
      "<class 'dict'> dict_keys(['year', 'category', 'laureates'])\n",
      "\n",
      "<class 'dict'> dict_keys(['year', 'category', 'laureates'])\n",
      "\n",
      "<class 'dict'> dict_keys(['year', 'category', 'laureates'])\n",
      "\n",
      "<class 'dict'> dict_keys(['year', 'category', 'laureates'])\n",
      "\n",
      "<class 'dict'> dict_keys(['year', 'category', 'laureates'])\n",
      "\n",
      "<class 'dict'> dict_keys(['year', 'category', 'laureates'])\n",
      "\n",
      "<class 'dict'> dict_keys(['year', 'category', 'laureates'])\n",
      "\n",
      "<class 'dict'> dict_keys(['year', 'category', 'laureates'])\n",
      "\n",
      "<class 'dict'> dict_keys(['year', 'category', 'laureates'])\n",
      "\n",
      "<class 'dict'> dict_keys(['year', 'category', 'laureates'])\n",
      "\n",
      "<class 'dict'> dict_keys(['year', 'category', 'laureates'])\n",
      "\n",
      "<class 'dict'> dict_keys(['year', 'category', 'laureates'])\n",
      "\n",
      "<class 'dict'> dict_keys(['year', 'category', 'laureates'])\n",
      "\n",
      "<class 'dict'> dict_keys(['year', 'category', 'laureates'])\n",
      "\n",
      "<class 'dict'> dict_keys(['year', 'category', 'laureates'])\n",
      "\n",
      "<class 'dict'> dict_keys(['year', 'category', 'laureates'])\n",
      "\n",
      "<class 'dict'> dict_keys(['year', 'category', 'laureates'])\n",
      "\n",
      "<class 'dict'> dict_keys(['year', 'category', 'laureates'])\n",
      "\n",
      "<class 'dict'> dict_keys(['year', 'category', 'laureates'])\n",
      "\n",
      "<class 'dict'> dict_keys(['year', 'category', 'laureates'])\n",
      "\n",
      "<class 'dict'> dict_keys(['year', 'category', 'laureates'])\n",
      "\n",
      "<class 'dict'> dict_keys(['year', 'category', 'laureates'])\n",
      "\n",
      "<class 'dict'> dict_keys(['year', 'category', 'laureates'])\n",
      "\n",
      "<class 'dict'> dict_keys(['year', 'category', 'laureates'])\n",
      "\n",
      "<class 'dict'> dict_keys(['year', 'category', 'laureates'])\n",
      "\n",
      "<class 'dict'> dict_keys(['year', 'category', 'laureates'])\n",
      "\n",
      "<class 'dict'> dict_keys(['year', 'category', 'laureates'])\n",
      "\n",
      "<class 'dict'> dict_keys(['year', 'category', 'laureates'])\n",
      "\n",
      "<class 'dict'> dict_keys(['year', 'category', 'laureates'])\n",
      "\n",
      "<class 'dict'> dict_keys(['year', 'category', 'overallMotivation'])\n",
      "\n",
      "<class 'dict'> dict_keys(['year', 'category', 'laureates'])\n",
      "\n",
      "<class 'dict'> dict_keys(['year', 'category', 'laureates'])\n",
      "\n",
      "<class 'dict'> dict_keys(['year', 'category', 'laureates'])\n",
      "\n",
      "<class 'dict'> dict_keys(['year', 'category', 'laureates'])\n",
      "\n",
      "<class 'dict'> dict_keys(['year', 'category', 'laureates'])\n",
      "\n",
      "<class 'dict'> dict_keys(['year', 'category', 'laureates'])\n",
      "\n",
      "<class 'dict'> dict_keys(['year', 'category', 'laureates'])\n",
      "\n",
      "<class 'dict'> dict_keys(['year', 'category', 'laureates'])\n",
      "\n",
      "<class 'dict'> dict_keys(['year', 'category', 'laureates'])\n",
      "\n",
      "<class 'dict'> dict_keys(['year', 'category', 'laureates'])\n",
      "\n",
      "<class 'dict'> dict_keys(['year', 'category', 'laureates'])\n",
      "\n",
      "<class 'dict'> dict_keys(['year', 'category', 'laureates'])\n",
      "\n",
      "<class 'dict'> dict_keys(['year', 'category', 'laureates'])\n",
      "\n",
      "<class 'dict'> dict_keys(['year', 'category', 'laureates'])\n",
      "\n",
      "<class 'dict'> dict_keys(['year', 'category', 'laureates'])\n",
      "\n",
      "<class 'dict'> dict_keys(['year', 'category', 'laureates'])\n",
      "\n",
      "<class 'dict'> dict_keys(['year', 'category', 'laureates'])\n",
      "\n",
      "<class 'dict'> dict_keys(['year', 'category', 'laureates'])\n",
      "\n",
      "<class 'dict'> dict_keys(['year', 'category', 'laureates'])\n",
      "\n",
      "<class 'dict'> dict_keys(['year', 'category', 'laureates'])\n",
      "\n",
      "<class 'dict'> dict_keys(['year', 'category', 'laureates'])\n",
      "\n",
      "<class 'dict'> dict_keys(['year', 'category', 'laureates'])\n",
      "\n",
      "<class 'dict'> dict_keys(['year', 'category', 'laureates'])\n",
      "\n",
      "<class 'dict'> dict_keys(['year', 'category', 'laureates'])\n",
      "\n",
      "<class 'dict'> dict_keys(['year', 'category', 'laureates'])\n",
      "\n",
      "<class 'dict'> dict_keys(['year', 'category', 'laureates'])\n",
      "\n",
      "<class 'dict'> dict_keys(['year', 'category', 'laureates'])\n",
      "\n",
      "<class 'dict'> dict_keys(['year', 'category', 'overallMotivation'])\n",
      "\n",
      "<class 'dict'> dict_keys(['year', 'category', 'laureates'])\n",
      "\n",
      "<class 'dict'> dict_keys(['year', 'category', 'laureates'])\n",
      "\n",
      "<class 'dict'> dict_keys(['year', 'category', 'laureates'])\n",
      "\n",
      "<class 'dict'> dict_keys(['year', 'category', 'laureates'])\n",
      "\n",
      "<class 'dict'> dict_keys(['year', 'category', 'overallMotivation'])\n",
      "\n",
      "<class 'dict'> dict_keys(['year', 'category', 'laureates'])\n",
      "\n",
      "<class 'dict'> dict_keys(['year', 'category', 'laureates'])\n",
      "\n",
      "<class 'dict'> dict_keys(['year', 'category', 'laureates'])\n",
      "\n",
      "<class 'dict'> dict_keys(['year', 'category', 'laureates'])\n",
      "\n",
      "<class 'dict'> dict_keys(['year', 'category', 'laureates'])\n",
      "\n",
      "<class 'dict'> dict_keys(['year', 'category', 'laureates'])\n",
      "\n",
      "<class 'dict'> dict_keys(['year', 'category', 'laureates'])\n",
      "\n",
      "<class 'dict'> dict_keys(['year', 'category', 'laureates'])\n",
      "\n",
      "<class 'dict'> dict_keys(['year', 'category', 'laureates'])\n",
      "\n",
      "<class 'dict'> dict_keys(['year', 'category', 'laureates'])\n",
      "\n",
      "<class 'dict'> dict_keys(['year', 'category', 'laureates'])\n",
      "\n",
      "<class 'dict'> dict_keys(['year', 'category', 'laureates'])\n",
      "\n",
      "<class 'dict'> dict_keys(['year', 'category', 'laureates'])\n",
      "\n",
      "<class 'dict'> dict_keys(['year', 'category', 'laureates'])\n",
      "\n",
      "<class 'dict'> dict_keys(['year', 'category', 'laureates'])\n",
      "\n",
      "<class 'dict'> dict_keys(['year', 'category', 'laureates'])\n",
      "\n",
      "<class 'dict'> dict_keys(['year', 'category', 'laureates'])\n",
      "\n",
      "<class 'dict'> dict_keys(['year', 'category', 'laureates'])\n",
      "\n",
      "<class 'dict'> dict_keys(['year', 'category', 'laureates'])\n",
      "\n",
      "<class 'dict'> dict_keys(['year', 'category', 'laureates'])\n",
      "\n",
      "<class 'dict'> dict_keys(['year', 'category', 'laureates'])\n",
      "\n",
      "<class 'dict'> dict_keys(['year', 'category', 'laureates'])\n",
      "\n",
      "<class 'dict'> dict_keys(['year', 'category', 'laureates'])\n",
      "\n",
      "<class 'dict'> dict_keys(['year', 'category', 'laureates'])\n",
      "\n",
      "<class 'dict'> dict_keys(['year', 'category', 'laureates'])\n",
      "\n",
      "<class 'dict'> dict_keys(['year', 'category', 'laureates'])\n",
      "\n",
      "<class 'dict'> dict_keys(['year', 'category', 'laureates'])\n",
      "\n",
      "<class 'dict'> dict_keys(['year', 'category', 'laureates'])\n",
      "\n",
      "<class 'dict'> dict_keys(['year', 'category', 'laureates'])\n",
      "\n",
      "<class 'dict'> dict_keys(['year', 'category', 'laureates'])\n",
      "\n",
      "<class 'dict'> dict_keys(['year', 'category', 'laureates'])\n",
      "\n",
      "<class 'dict'> dict_keys(['year', 'category', 'laureates'])\n",
      "\n",
      "<class 'dict'> dict_keys(['year', 'category', 'laureates'])\n",
      "\n",
      "<class 'dict'> dict_keys(['year', 'category', 'laureates'])\n",
      "\n",
      "<class 'dict'> dict_keys(['year', 'category', 'laureates'])\n",
      "\n",
      "<class 'dict'> dict_keys(['year', 'category', 'laureates'])\n",
      "\n",
      "<class 'dict'> dict_keys(['year', 'category', 'laureates'])\n",
      "\n",
      "<class 'dict'> dict_keys(['year', 'category', 'laureates'])\n",
      "\n",
      "<class 'dict'> dict_keys(['year', 'category', 'laureates'])\n",
      "\n",
      "<class 'dict'> dict_keys(['year', 'category', 'laureates'])\n",
      "\n",
      "<class 'dict'> dict_keys(['year', 'category', 'laureates'])\n",
      "\n",
      "<class 'dict'> dict_keys(['year', 'category', 'laureates'])\n",
      "\n",
      "<class 'dict'> dict_keys(['year', 'category', 'laureates'])\n",
      "\n",
      "<class 'dict'> dict_keys(['year', 'category', 'laureates'])\n",
      "\n",
      "<class 'dict'> dict_keys(['year', 'category', 'laureates'])\n",
      "\n",
      "<class 'dict'> dict_keys(['year', 'category', 'laureates'])\n",
      "\n",
      "<class 'dict'> dict_keys(['year', 'category', 'laureates'])\n",
      "\n",
      "<class 'dict'> dict_keys(['year', 'category', 'laureates'])\n",
      "\n",
      "<class 'dict'> dict_keys(['year', 'category', 'laureates'])\n",
      "\n",
      "<class 'dict'> dict_keys(['year', 'category', 'overallMotivation'])\n",
      "\n",
      "<class 'dict'> dict_keys(['year', 'category', 'laureates'])\n",
      "\n",
      "<class 'dict'> dict_keys(['year', 'category', 'laureates'])\n",
      "\n",
      "<class 'dict'> dict_keys(['year', 'category', 'laureates'])\n",
      "\n",
      "<class 'dict'> dict_keys(['year', 'category', 'laureates'])\n",
      "\n",
      "<class 'dict'> dict_keys(['year', 'category', 'overallMotivation'])\n",
      "\n",
      "<class 'dict'> dict_keys(['year', 'category', 'laureates'])\n",
      "\n",
      "<class 'dict'> dict_keys(['year', 'category', 'laureates'])\n",
      "\n",
      "<class 'dict'> dict_keys(['year', 'category', 'laureates'])\n",
      "\n",
      "<class 'dict'> dict_keys(['year', 'category', 'laureates'])\n",
      "\n",
      "<class 'dict'> dict_keys(['year', 'category', 'laureates'])\n",
      "\n",
      "<class 'dict'> dict_keys(['year', 'category', 'laureates'])\n",
      "\n",
      "<class 'dict'> dict_keys(['year', 'category', 'laureates'])\n",
      "\n",
      "<class 'dict'> dict_keys(['year', 'category', 'laureates'])\n",
      "\n",
      "<class 'dict'> dict_keys(['year', 'category', 'laureates'])\n",
      "\n",
      "<class 'dict'> dict_keys(['year', 'category', 'laureates'])\n",
      "\n",
      "<class 'dict'> dict_keys(['year', 'category', 'laureates'])\n",
      "\n",
      "<class 'dict'> dict_keys(['year', 'category', 'laureates'])\n",
      "\n",
      "<class 'dict'> dict_keys(['year', 'category', 'laureates'])\n",
      "\n",
      "<class 'dict'> dict_keys(['year', 'category', 'laureates'])\n",
      "\n",
      "<class 'dict'> dict_keys(['year', 'category', 'laureates'])\n",
      "\n",
      "<class 'dict'> dict_keys(['year', 'category', 'laureates'])\n",
      "\n",
      "<class 'dict'> dict_keys(['year', 'category', 'laureates'])\n",
      "\n",
      "<class 'dict'> dict_keys(['year', 'category', 'laureates'])\n",
      "\n",
      "<class 'dict'> dict_keys(['year', 'category', 'laureates'])\n",
      "\n",
      "<class 'dict'> dict_keys(['year', 'category', 'laureates'])\n",
      "\n",
      "<class 'dict'> dict_keys(['year', 'category', 'laureates'])\n",
      "\n",
      "<class 'dict'> dict_keys(['year', 'category', 'laureates'])\n",
      "\n",
      "<class 'dict'> dict_keys(['year', 'category', 'laureates'])\n",
      "\n",
      "<class 'dict'> dict_keys(['year', 'category', 'laureates'])\n",
      "\n",
      "<class 'dict'> dict_keys(['year', 'category', 'laureates'])\n",
      "\n",
      "<class 'dict'> dict_keys(['year', 'category', 'laureates'])\n",
      "\n",
      "<class 'dict'> dict_keys(['year', 'category', 'laureates'])\n",
      "\n",
      "<class 'dict'> dict_keys(['year', 'category', 'laureates'])\n",
      "\n",
      "<class 'dict'> dict_keys(['year', 'category', 'laureates'])\n",
      "\n",
      "<class 'dict'> dict_keys(['year', 'category', 'laureates'])\n",
      "\n",
      "<class 'dict'> dict_keys(['year', 'category', 'laureates'])\n",
      "\n",
      "<class 'dict'> dict_keys(['year', 'category', 'laureates'])\n",
      "\n",
      "<class 'dict'> dict_keys(['year', 'category', 'laureates'])\n",
      "\n",
      "<class 'dict'> dict_keys(['year', 'category', 'laureates'])\n",
      "\n",
      "<class 'dict'> dict_keys(['year', 'category', 'overallMotivation'])\n",
      "\n",
      "<class 'dict'> dict_keys(['year', 'category', 'laureates'])\n",
      "\n",
      "<class 'dict'> dict_keys(['year', 'category', 'laureates'])\n",
      "\n",
      "<class 'dict'> dict_keys(['year', 'category', 'laureates'])\n",
      "\n",
      "<class 'dict'> dict_keys(['year', 'category', 'laureates'])\n",
      "\n",
      "<class 'dict'> dict_keys(['year', 'category', 'laureates'])\n",
      "\n",
      "<class 'dict'> dict_keys(['year', 'category', 'laureates'])\n",
      "\n",
      "<class 'dict'> dict_keys(['year', 'category', 'laureates'])\n",
      "\n",
      "<class 'dict'> dict_keys(['year', 'category', 'laureates'])\n",
      "\n",
      "<class 'dict'> dict_keys(['year', 'category', 'laureates'])\n",
      "\n",
      "<class 'dict'> dict_keys(['year', 'category', 'laureates'])\n",
      "\n",
      "<class 'dict'> dict_keys(['year', 'category', 'laureates'])\n",
      "\n",
      "<class 'dict'> dict_keys(['year', 'category', 'laureates'])\n",
      "\n",
      "<class 'dict'> dict_keys(['year', 'category', 'laureates'])\n",
      "\n",
      "<class 'dict'> dict_keys(['year', 'category', 'laureates'])\n",
      "\n",
      "<class 'dict'> dict_keys(['year', 'category', 'laureates'])\n",
      "\n",
      "<class 'dict'> dict_keys(['year', 'category', 'laureates'])\n",
      "\n",
      "<class 'dict'> dict_keys(['year', 'category', 'laureates'])\n",
      "\n",
      "<class 'dict'> dict_keys(['year', 'category', 'laureates'])\n",
      "\n",
      "<class 'dict'> dict_keys(['year', 'category', 'laureates'])\n",
      "\n",
      "<class 'dict'> dict_keys(['year', 'category', 'laureates'])\n",
      "\n",
      "<class 'dict'> dict_keys(['year', 'category', 'laureates'])\n",
      "\n",
      "<class 'dict'> dict_keys(['year', 'category', 'laureates'])\n",
      "\n",
      "<class 'dict'> dict_keys(['year', 'category', 'laureates'])\n",
      "\n",
      "<class 'dict'> dict_keys(['year', 'category', 'overallMotivation'])\n",
      "\n",
      "<class 'dict'> dict_keys(['year', 'category', 'overallMotivation'])\n",
      "\n",
      "<class 'dict'> dict_keys(['year', 'category', 'laureates'])\n",
      "\n",
      "<class 'dict'> dict_keys(['year', 'category', 'laureates'])\n",
      "\n",
      "<class 'dict'> dict_keys(['year', 'category', 'overallMotivation'])\n",
      "\n",
      "<class 'dict'> dict_keys(['year', 'category', 'overallMotivation'])\n",
      "\n",
      "<class 'dict'> dict_keys(['year', 'category', 'overallMotivation'])\n",
      "\n",
      "<class 'dict'> dict_keys(['year', 'category', 'overallMotivation'])\n",
      "\n",
      "<class 'dict'> dict_keys(['year', 'category', 'overallMotivation'])\n",
      "\n",
      "<class 'dict'> dict_keys(['year', 'category', 'overallMotivation'])\n",
      "\n",
      "<class 'dict'> dict_keys(['year', 'category', 'overallMotivation'])\n",
      "\n",
      "<class 'dict'> dict_keys(['year', 'category', 'overallMotivation'])\n",
      "\n",
      "<class 'dict'> dict_keys(['year', 'category', 'overallMotivation'])\n",
      "\n",
      "<class 'dict'> dict_keys(['year', 'category', 'overallMotivation'])\n",
      "\n",
      "<class 'dict'> dict_keys(['year', 'category', 'overallMotivation'])\n",
      "\n",
      "<class 'dict'> dict_keys(['year', 'category', 'overallMotivation'])\n",
      "\n",
      "<class 'dict'> dict_keys(['year', 'category', 'overallMotivation'])\n",
      "\n",
      "<class 'dict'> dict_keys(['year', 'category', 'overallMotivation'])\n",
      "\n",
      "<class 'dict'> dict_keys(['year', 'category', 'overallMotivation'])\n",
      "\n",
      "<class 'dict'> dict_keys(['year', 'category', 'laureates'])\n",
      "\n",
      "<class 'dict'> dict_keys(['year', 'category', 'laureates'])\n",
      "\n",
      "<class 'dict'> dict_keys(['year', 'category', 'overallMotivation'])\n",
      "\n",
      "<class 'dict'> dict_keys(['year', 'category', 'laureates'])\n",
      "\n",
      "<class 'dict'> dict_keys(['year', 'category', 'laureates'])\n",
      "\n",
      "<class 'dict'> dict_keys(['year', 'category', 'laureates'])\n",
      "\n",
      "<class 'dict'> dict_keys(['year', 'category', 'laureates'])\n",
      "\n",
      "<class 'dict'> dict_keys(['year', 'category', 'laureates'])\n",
      "\n",
      "<class 'dict'> dict_keys(['year', 'category', 'laureates'])\n",
      "\n",
      "<class 'dict'> dict_keys(['year', 'category', 'laureates'])\n",
      "\n",
      "<class 'dict'> dict_keys(['year', 'category', 'laureates'])\n",
      "\n",
      "<class 'dict'> dict_keys(['year', 'category', 'laureates'])\n",
      "\n",
      "<class 'dict'> dict_keys(['year', 'category', 'laureates'])\n",
      "\n",
      "<class 'dict'> dict_keys(['year', 'category', 'laureates'])\n",
      "\n",
      "<class 'dict'> dict_keys(['year', 'category', 'laureates'])\n",
      "\n",
      "<class 'dict'> dict_keys(['year', 'category', 'laureates'])\n",
      "\n",
      "<class 'dict'> dict_keys(['year', 'category', 'laureates'])\n",
      "\n",
      "<class 'dict'> dict_keys(['year', 'category', 'laureates'])\n",
      "\n",
      "<class 'dict'> dict_keys(['year', 'category', 'laureates'])\n",
      "\n",
      "<class 'dict'> dict_keys(['year', 'category', 'laureates'])\n",
      "\n",
      "<class 'dict'> dict_keys(['year', 'category', 'laureates'])\n",
      "\n",
      "<class 'dict'> dict_keys(['year', 'category', 'overallMotivation'])\n",
      "\n",
      "<class 'dict'> dict_keys(['year', 'category', 'laureates'])\n",
      "\n",
      "<class 'dict'> dict_keys(['year', 'category', 'laureates'])\n",
      "\n",
      "<class 'dict'> dict_keys(['year', 'category', 'laureates'])\n",
      "\n",
      "<class 'dict'> dict_keys(['year', 'category', 'laureates'])\n",
      "\n",
      "<class 'dict'> dict_keys(['year', 'category', 'laureates'])\n",
      "\n",
      "<class 'dict'> dict_keys(['year', 'category', 'laureates'])\n",
      "\n",
      "<class 'dict'> dict_keys(['year', 'category', 'overallMotivation'])\n",
      "\n",
      "<class 'dict'> dict_keys(['year', 'category', 'laureates'])\n",
      "\n",
      "<class 'dict'> dict_keys(['year', 'category', 'overallMotivation'])\n",
      "\n",
      "<class 'dict'> dict_keys(['year', 'category', 'laureates'])\n",
      "\n",
      "<class 'dict'> dict_keys(['year', 'category', 'laureates'])\n",
      "\n",
      "<class 'dict'> dict_keys(['year', 'category', 'laureates'])\n",
      "\n",
      "<class 'dict'> dict_keys(['year', 'category', 'laureates'])\n",
      "\n",
      "<class 'dict'> dict_keys(['year', 'category', 'laureates'])\n",
      "\n",
      "<class 'dict'> dict_keys(['year', 'category', 'laureates'])\n",
      "\n",
      "<class 'dict'> dict_keys(['year', 'category', 'overallMotivation'])\n",
      "\n",
      "<class 'dict'> dict_keys(['year', 'category', 'laureates'])\n",
      "\n",
      "<class 'dict'> dict_keys(['year', 'category', 'laureates'])\n",
      "\n",
      "<class 'dict'> dict_keys(['year', 'category', 'laureates'])\n",
      "\n",
      "<class 'dict'> dict_keys(['year', 'category', 'laureates'])\n",
      "\n",
      "<class 'dict'> dict_keys(['year', 'category', 'laureates'])\n",
      "\n",
      "<class 'dict'> dict_keys(['year', 'category', 'overallMotivation'])\n",
      "\n",
      "<class 'dict'> dict_keys(['year', 'category', 'laureates'])\n",
      "\n",
      "<class 'dict'> dict_keys(['year', 'category', 'laureates'])\n",
      "\n",
      "<class 'dict'> dict_keys(['year', 'category', 'laureates'])\n",
      "\n",
      "<class 'dict'> dict_keys(['year', 'category', 'laureates'])\n",
      "\n",
      "<class 'dict'> dict_keys(['year', 'category', 'laureates'])\n",
      "\n",
      "<class 'dict'> dict_keys(['year', 'category', 'laureates'])\n",
      "\n",
      "<class 'dict'> dict_keys(['year', 'category', 'laureates'])\n",
      "\n",
      "<class 'dict'> dict_keys(['year', 'category', 'laureates'])\n",
      "\n",
      "<class 'dict'> dict_keys(['year', 'category', 'laureates'])\n",
      "\n",
      "<class 'dict'> dict_keys(['year', 'category', 'laureates'])\n",
      "\n",
      "<class 'dict'> dict_keys(['year', 'category', 'laureates'])\n",
      "\n",
      "<class 'dict'> dict_keys(['year', 'category', 'laureates'])\n",
      "\n",
      "<class 'dict'> dict_keys(['year', 'category', 'laureates'])\n",
      "\n",
      "<class 'dict'> dict_keys(['year', 'category', 'overallMotivation'])\n",
      "\n",
      "<class 'dict'> dict_keys(['year', 'category', 'laureates'])\n",
      "\n",
      "<class 'dict'> dict_keys(['year', 'category', 'laureates'])\n",
      "\n",
      "<class 'dict'> dict_keys(['year', 'category', 'laureates'])\n",
      "\n",
      "<class 'dict'> dict_keys(['year', 'category', 'laureates'])\n",
      "\n",
      "<class 'dict'> dict_keys(['year', 'category', 'laureates'])\n",
      "\n",
      "<class 'dict'> dict_keys(['year', 'category', 'laureates'])\n",
      "\n",
      "<class 'dict'> dict_keys(['year', 'category', 'laureates'])\n",
      "\n",
      "<class 'dict'> dict_keys(['year', 'category', 'laureates'])\n",
      "\n",
      "<class 'dict'> dict_keys(['year', 'category', 'laureates'])\n",
      "\n",
      "<class 'dict'> dict_keys(['year', 'category', 'laureates'])\n",
      "\n",
      "<class 'dict'> dict_keys(['year', 'category', 'laureates'])\n",
      "\n",
      "<class 'dict'> dict_keys(['year', 'category', 'laureates'])\n",
      "\n",
      "<class 'dict'> dict_keys(['year', 'category', 'laureates'])\n",
      "\n",
      "<class 'dict'> dict_keys(['year', 'category', 'laureates'])\n",
      "\n",
      "<class 'dict'> dict_keys(['year', 'category', 'laureates'])\n",
      "\n",
      "<class 'dict'> dict_keys(['year', 'category', 'laureates'])\n",
      "\n",
      "<class 'dict'> dict_keys(['year', 'category', 'overallMotivation'])\n",
      "\n",
      "<class 'dict'> dict_keys(['year', 'category', 'overallMotivation'])\n",
      "\n",
      "<class 'dict'> dict_keys(['year', 'category', 'laureates'])\n",
      "\n",
      "<class 'dict'> dict_keys(['year', 'category', 'overallMotivation'])\n",
      "\n",
      "<class 'dict'> dict_keys(['year', 'category', 'laureates'])\n",
      "\n",
      "<class 'dict'> dict_keys(['year', 'category', 'laureates'])\n",
      "\n",
      "<class 'dict'> dict_keys(['year', 'category', 'laureates'])\n",
      "\n",
      "<class 'dict'> dict_keys(['year', 'category', 'laureates'])\n",
      "\n",
      "<class 'dict'> dict_keys(['year', 'category', 'overallMotivation'])\n",
      "\n",
      "<class 'dict'> dict_keys(['year', 'category', 'laureates'])\n",
      "\n",
      "<class 'dict'> dict_keys(['year', 'category', 'laureates'])\n",
      "\n",
      "<class 'dict'> dict_keys(['year', 'category', 'laureates'])\n",
      "\n",
      "<class 'dict'> dict_keys(['year', 'category', 'laureates'])\n",
      "\n",
      "<class 'dict'> dict_keys(['year', 'category', 'laureates'])\n",
      "\n",
      "<class 'dict'> dict_keys(['year', 'category', 'laureates'])\n",
      "\n",
      "<class 'dict'> dict_keys(['year', 'category', 'laureates'])\n",
      "\n",
      "<class 'dict'> dict_keys(['year', 'category', 'laureates'])\n",
      "\n",
      "<class 'dict'> dict_keys(['year', 'category', 'laureates'])\n",
      "\n",
      "<class 'dict'> dict_keys(['year', 'category', 'laureates'])\n",
      "\n",
      "<class 'dict'> dict_keys(['year', 'category', 'laureates'])\n",
      "\n",
      "<class 'dict'> dict_keys(['year', 'category', 'overallMotivation'])\n",
      "\n",
      "<class 'dict'> dict_keys(['year', 'category', 'laureates'])\n",
      "\n",
      "<class 'dict'> dict_keys(['year', 'category', 'laureates'])\n",
      "\n",
      "<class 'dict'> dict_keys(['year', 'category', 'laureates'])\n",
      "\n",
      "<class 'dict'> dict_keys(['year', 'category', 'laureates'])\n",
      "\n",
      "<class 'dict'> dict_keys(['year', 'category', 'laureates'])\n",
      "\n",
      "<class 'dict'> dict_keys(['year', 'category', 'overallMotivation'])\n",
      "\n",
      "<class 'dict'> dict_keys(['year', 'category', 'laureates'])\n",
      "\n",
      "<class 'dict'> dict_keys(['year', 'category', 'laureates'])\n",
      "\n",
      "<class 'dict'> dict_keys(['year', 'category', 'laureates'])\n",
      "\n",
      "<class 'dict'> dict_keys(['year', 'category', 'laureates'])\n",
      "\n",
      "<class 'dict'> dict_keys(['year', 'category', 'laureates'])\n",
      "\n",
      "<class 'dict'> dict_keys(['year', 'category', 'overallMotivation'])\n",
      "\n",
      "<class 'dict'> dict_keys(['year', 'category', 'overallMotivation'])\n",
      "\n",
      "<class 'dict'> dict_keys(['year', 'category', 'laureates'])\n",
      "\n",
      "<class 'dict'> dict_keys(['year', 'category', 'overallMotivation'])\n",
      "\n",
      "<class 'dict'> dict_keys(['year', 'category', 'overallMotivation'])\n",
      "\n",
      "<class 'dict'> dict_keys(['year', 'category', 'laureates'])\n",
      "\n",
      "<class 'dict'> dict_keys(['year', 'category', 'laureates'])\n",
      "\n",
      "<class 'dict'> dict_keys(['year', 'category', 'laureates'])\n",
      "\n",
      "<class 'dict'> dict_keys(['year', 'category', 'overallMotivation'])\n",
      "\n",
      "<class 'dict'> dict_keys(['year', 'category', 'overallMotivation'])\n",
      "\n",
      "<class 'dict'> dict_keys(['year', 'category', 'laureates'])\n",
      "\n",
      "<class 'dict'> dict_keys(['year', 'category', 'overallMotivation'])\n",
      "\n",
      "<class 'dict'> dict_keys(['year', 'category', 'overallMotivation'])\n",
      "\n",
      "<class 'dict'> dict_keys(['year', 'category', 'overallMotivation'])\n",
      "\n",
      "<class 'dict'> dict_keys(['year', 'category', 'laureates'])\n",
      "\n",
      "<class 'dict'> dict_keys(['year', 'category', 'laureates'])\n",
      "\n",
      "<class 'dict'> dict_keys(['year', 'category', 'overallMotivation'])\n",
      "\n",
      "<class 'dict'> dict_keys(['year', 'category', 'laureates'])\n",
      "\n",
      "<class 'dict'> dict_keys(['year', 'category', 'overallMotivation'])\n",
      "\n",
      "<class 'dict'> dict_keys(['year', 'category', 'laureates'])\n",
      "\n",
      "<class 'dict'> dict_keys(['year', 'category', 'overallMotivation'])\n",
      "\n",
      "<class 'dict'> dict_keys(['year', 'category', 'overallMotivation'])\n",
      "\n",
      "<class 'dict'> dict_keys(['year', 'category', 'laureates'])\n",
      "\n",
      "<class 'dict'> dict_keys(['year', 'category', 'laureates'])\n",
      "\n",
      "<class 'dict'> dict_keys(['year', 'category', 'laureates'])\n",
      "\n",
      "<class 'dict'> dict_keys(['year', 'category', 'laureates'])\n",
      "\n",
      "<class 'dict'> dict_keys(['year', 'category', 'laureates'])\n",
      "\n",
      "<class 'dict'> dict_keys(['year', 'category', 'laureates'])\n",
      "\n",
      "<class 'dict'> dict_keys(['year', 'category', 'laureates'])\n",
      "\n",
      "<class 'dict'> dict_keys(['year', 'category', 'laureates'])\n",
      "\n",
      "<class 'dict'> dict_keys(['year', 'category', 'laureates'])\n",
      "\n",
      "<class 'dict'> dict_keys(['year', 'category', 'laureates'])\n",
      "\n",
      "<class 'dict'> dict_keys(['year', 'category', 'laureates'])\n",
      "\n",
      "<class 'dict'> dict_keys(['year', 'category', 'laureates'])\n",
      "\n",
      "<class 'dict'> dict_keys(['year', 'category', 'laureates'])\n",
      "\n",
      "<class 'dict'> dict_keys(['year', 'category', 'laureates'])\n",
      "\n",
      "<class 'dict'> dict_keys(['year', 'category', 'laureates'])\n",
      "\n",
      "<class 'dict'> dict_keys(['year', 'category', 'laureates'])\n",
      "\n",
      "<class 'dict'> dict_keys(['year', 'category', 'laureates'])\n",
      "\n",
      "<class 'dict'> dict_keys(['year', 'category', 'laureates'])\n",
      "\n",
      "<class 'dict'> dict_keys(['year', 'category', 'laureates'])\n",
      "\n",
      "<class 'dict'> dict_keys(['year', 'category', 'laureates'])\n",
      "\n",
      "<class 'dict'> dict_keys(['year', 'category', 'laureates'])\n",
      "\n",
      "<class 'dict'> dict_keys(['year', 'category', 'laureates'])\n",
      "\n",
      "<class 'dict'> dict_keys(['year', 'category', 'laureates'])\n",
      "\n",
      "<class 'dict'> dict_keys(['year', 'category', 'laureates'])\n",
      "\n",
      "<class 'dict'> dict_keys(['year', 'category', 'laureates'])\n",
      "\n",
      "<class 'dict'> dict_keys(['year', 'category', 'laureates'])\n",
      "\n",
      "<class 'dict'> dict_keys(['year', 'category', 'laureates'])\n",
      "\n",
      "<class 'dict'> dict_keys(['year', 'category', 'laureates'])\n",
      "\n",
      "<class 'dict'> dict_keys(['year', 'category', 'laureates'])\n",
      "\n",
      "<class 'dict'> dict_keys(['year', 'category', 'laureates'])\n",
      "\n",
      "<class 'dict'> dict_keys(['year', 'category', 'laureates'])\n",
      "\n",
      "<class 'dict'> dict_keys(['year', 'category', 'laureates'])\n",
      "\n",
      "<class 'dict'> dict_keys(['year', 'category', 'laureates'])\n",
      "\n",
      "<class 'dict'> dict_keys(['year', 'category', 'laureates'])\n",
      "\n",
      "<class 'dict'> dict_keys(['year', 'category', 'laureates'])\n",
      "\n",
      "<class 'dict'> dict_keys(['year', 'category', 'laureates'])\n",
      "\n",
      "<class 'dict'> dict_keys(['year', 'category', 'laureates'])\n",
      "\n",
      "<class 'dict'> dict_keys(['year', 'category', 'laureates'])\n",
      "\n",
      "<class 'dict'> dict_keys(['year', 'category', 'laureates'])\n",
      "\n",
      "<class 'dict'> dict_keys(['year', 'category', 'laureates'])\n",
      "\n",
      "<class 'dict'> dict_keys(['year', 'category', 'laureates'])\n",
      "\n",
      "<class 'dict'> dict_keys(['year', 'category', 'laureates'])\n",
      "\n",
      "<class 'dict'> dict_keys(['year', 'category', 'laureates'])\n",
      "\n",
      "<class 'dict'> dict_keys(['year', 'category', 'laureates'])\n",
      "\n",
      "<class 'dict'> dict_keys(['year', 'category', 'laureates'])\n",
      "\n",
      "<class 'dict'> dict_keys(['year', 'category', 'laureates'])\n",
      "\n",
      "<class 'dict'> dict_keys(['year', 'category', 'laureates'])\n",
      "\n",
      "<class 'dict'> dict_keys(['year', 'category', 'laureates'])\n",
      "\n",
      "<class 'dict'> dict_keys(['year', 'category', 'laureates'])\n",
      "\n",
      "<class 'dict'> dict_keys(['year', 'category', 'laureates'])\n",
      "\n",
      "<class 'dict'> dict_keys(['year', 'category', 'laureates'])\n",
      "\n",
      "<class 'dict'> dict_keys(['year', 'category', 'laureates'])\n",
      "\n",
      "<class 'dict'> dict_keys(['year', 'category', 'laureates'])\n",
      "\n",
      "<class 'dict'> dict_keys(['year', 'category', 'laureates'])\n",
      "\n",
      "<class 'dict'> dict_keys(['year', 'category', 'laureates'])\n",
      "\n",
      "<class 'dict'> dict_keys(['year', 'category', 'laureates'])\n",
      "\n",
      "<class 'dict'> dict_keys(['year', 'category', 'laureates'])\n",
      "\n",
      "<class 'dict'> dict_keys(['year', 'category', 'laureates'])\n",
      "\n",
      "<class 'dict'> dict_keys(['year', 'category', 'laureates'])\n",
      "\n",
      "<class 'dict'> dict_keys(['year', 'category', 'laureates'])\n",
      "\n",
      "<class 'dict'> dict_keys(['year', 'category', 'laureates'])\n",
      "\n",
      "<class 'dict'> dict_keys(['year', 'category', 'laureates'])\n",
      "\n",
      "<class 'dict'> dict_keys(['year', 'category', 'laureates'])\n",
      "\n",
      "<class 'dict'> dict_keys(['year', 'category', 'laureates'])\n",
      "\n",
      "<class 'dict'> dict_keys(['year', 'category', 'laureates'])\n",
      "\n",
      "<class 'dict'> dict_keys(['year', 'category', 'laureates'])\n",
      "\n",
      "<class 'dict'> dict_keys(['year', 'category', 'laureates'])\n"
     ]
    }
   ],
   "source": [
    "# 컬럼 읽기 => DF객체변수명['컬럼명'], DF객체변수명.컬럼명\n",
    "# ===> 모든 행에 record_path에 해당하는 키(key)가 존재해야 함!!\n",
    "# ===> 없는 행에 record_path에 해당하는 키 추가\n",
    "for data in nobelDF.prizes:\n",
    "    print(type(data), data.keys(), end='\\n\\n')\n",
    "    # 해당 dict에 laureates 키가 없다면 추가\n",
    "    data.setdefault('laureates', [])\n"
   ],
   "metadata": {
    "collapsed": false,
    "ExecuteTime": {
     "end_time": "2024-01-15T04:32:51.878963Z",
     "start_time": "2024-01-15T04:32:51.788503200Z"
    }
   },
   "id": "4fa1be21b9ef0ff2",
   "execution_count": 76
  },
  {
   "cell_type": "code",
   "outputs": [
    {
     "name": "stdout",
     "output_type": "stream",
     "text": [
      "<class 'pandas.core.frame.DataFrame'>\n",
      "RangeIndex: 950 entries, 0 to 949\n",
      "Data columns (total 7 columns):\n",
      " #   Column      Non-Null Count  Dtype \n",
      "---  ------      --------------  ----- \n",
      " 0   id          950 non-null    object\n",
      " 1   firstname   950 non-null    object\n",
      " 2   surname     921 non-null    object\n",
      " 3   motivation  950 non-null    object\n",
      " 4   share       950 non-null    object\n",
      " 5   year        950 non-null    object\n",
      " 6   category    950 non-null    object\n",
      "dtypes: object(7)\n",
      "memory usage: 52.1+ KB\n"
     ]
    }
   ],
   "source": [
    "nobelDF2=pd.json_normalize(nobelDF.prizes, record_path='laureates', meta=['year','category'])\n",
    "nobelDF2.info()"
   ],
   "metadata": {
    "collapsed": false,
    "ExecuteTime": {
     "end_time": "2024-01-15T04:32:51.975690700Z",
     "start_time": "2024-01-15T04:32:51.867071700Z"
    }
   },
   "id": "fea99269b7fba143",
   "execution_count": 77
  },
  {
   "cell_type": "markdown",
   "source": [
    "### (7) JSON의 다양한 방식의 DataFrame 저장하기 => orient 파라미터"
   ],
   "metadata": {
    "collapsed": false
   },
   "id": "a14d962940cda833"
  },
  {
   "cell_type": "code",
   "outputs": [],
   "source": [
    "json_data ='''\n",
    "    [\n",
    "{ \"id\": \"1\", \"name\": \"sravan\" ,\"age\" : 22 },\n",
    "{ \"id\": \"2\", \"name\": \"harsha\",\"age\": 22 },\n",
    "{ \"id\": \"3\", \"name\": \"deepika\", \"age\" :21 },\n",
    "{ \"id\":\"4\" ,\"name\": \"jyothika\", \"age\" :23 }\n",
    "]\n",
    "'''"
   ],
   "metadata": {
    "collapsed": false,
    "ExecuteTime": {
     "end_time": "2024-01-15T04:50:47.781771100Z",
     "start_time": "2024-01-15T04:50:47.768437500Z"
    }
   },
   "id": "52b1bc236f33a872",
   "execution_count": 102
  },
  {
   "cell_type": "code",
   "outputs": [],
   "source": [],
   "metadata": {
    "collapsed": false,
    "ExecuteTime": {
     "end_time": "2024-01-15T04:50:48.978348Z",
     "start_time": "2024-01-15T04:50:48.961915900Z"
    }
   },
   "id": "8ffffe3700ec8b8",
   "execution_count": 102
  },
  {
   "cell_type": "code",
   "outputs": [
    {
     "name": "stdout",
     "output_type": "stream",
     "text": [
      "   id      name  age\n",
      "0   1    sravan   22\n",
      "1   2    harsha   22\n",
      "2   3   deepika   21\n",
      "3   4  jyothika   23\n"
     ]
    }
   ],
   "source": [
    "df = pd.read_json(json_data) # , orient='records')\n",
    "print(df)"
   ],
   "metadata": {
    "collapsed": false,
    "ExecuteTime": {
     "end_time": "2024-01-15T04:50:49.684772600Z",
     "start_time": "2024-01-15T04:50:49.654142500Z"
    }
   },
   "id": "e51745289a6a76bf",
   "execution_count": 103
  },
  {
   "cell_type": "code",
   "outputs": [],
   "source": [
    "# 데이터 => 키 : (값)\n",
    "json_data2 ='''\n",
    "    {\"student-1\" :{ \"id\": \"1\", \"name\": \"sravan\" ,\"age\" : 22 },\n",
    "\"student-2\" :{ \"id\": \"2\", \"name\": \"harsha\",\"age\": 22 },\n",
    "\"student-3\" :{ \"id\": \"3\", \"name\": \"deepika\", \"age\" :21 },\n",
    "\"student-4\" :{ \"id\":\"4\" , \"name\": \"jyothika\", \"age\" :23 }}\n",
    "'''"
   ],
   "metadata": {
    "collapsed": false,
    "ExecuteTime": {
     "end_time": "2024-01-15T04:52:42.905732900Z",
     "start_time": "2024-01-15T04:52:42.883771800Z"
    }
   },
   "id": "46c719cb2d2389a2",
   "execution_count": 105
  },
  {
   "cell_type": "code",
   "outputs": [
    {
     "name": "stdout",
     "output_type": "stream",
     "text": [
      "           id      name  age\n",
      "student-1   1    sravan   22\n",
      "student-2   2    harsha   22\n",
      "student-3   3   deepika   21\n",
      "student-4   4  jyothika   23\n"
     ]
    }
   ],
   "source": [
    "# 키 => 인덱스로 설정\n",
    "df = pd.read_json(json_data2, orient='index')\n",
    "print(df)"
   ],
   "metadata": {
    "collapsed": false,
    "ExecuteTime": {
     "end_time": "2024-01-15T04:52:43.495985300Z",
     "start_time": "2024-01-15T04:52:43.468930400Z"
    }
   },
   "id": "69e5f6800e859543",
   "execution_count": 106
  },
  {
   "cell_type": "code",
   "outputs": [
    {
     "name": "stdout",
     "output_type": "stream",
     "text": [
      "     student-1 student-2 student-3 student-4\n",
      "id           1         2         3         4\n",
      "name    sravan    harsha   deepika  jyothika\n",
      "age         22        22        21        23\n"
     ]
    }
   ],
   "source": [
    "# 키 => 컬럼으로 설정\n",
    "df = pd.read_json(json_data2, orient='columns')\n",
    "print(df)"
   ],
   "metadata": {
    "collapsed": false,
    "ExecuteTime": {
     "end_time": "2024-01-15T04:52:44.768112400Z",
     "start_time": "2024-01-15T04:52:44.733220400Z"
    }
   },
   "id": "dce98edf65bde9e2",
   "execution_count": 107
  },
  {
   "cell_type": "code",
   "outputs": [
    {
     "name": "stdout",
     "output_type": "stream",
     "text": [
      "          id      name age\n",
      "student-1  1    sravan  22\n",
      "student-2  2    harsha  22\n",
      "student-3  3   deepika  21\n",
      "student-4  4  jyothika  23\n"
     ]
    }
   ],
   "source": [
    "df=pd.read_json(json_data2).T\n",
    "print(df)"
   ],
   "metadata": {
    "collapsed": false,
    "ExecuteTime": {
     "end_time": "2024-01-15T04:52:46.799540Z",
     "start_time": "2024-01-15T04:52:46.770506Z"
    }
   },
   "id": "46bd37a71ba2faa5",
   "execution_count": 108
  },
  {
   "cell_type": "code",
   "outputs": [],
   "source": [
    "# JSON Format \n",
    "json_data3 = '''\n",
    "[\n",
    "    [ \"1\", \"sravan\",22 ],\n",
    "    [ \"2\", \"harsha\",22 ],\n",
    "    [ \"3\", \"deepika\",21 ],\n",
    "    [ \"4\", \"jyothika\",23 ]\n",
    "]\n",
    "'''"
   ],
   "metadata": {
    "collapsed": false,
    "ExecuteTime": {
     "end_time": "2024-01-15T04:52:49.259639Z",
     "start_time": "2024-01-15T04:52:49.239284Z"
    }
   },
   "id": "294467be74e0f0bd",
   "execution_count": 109
  },
  {
   "cell_type": "code",
   "outputs": [
    {
     "name": "stdout",
     "output_type": "stream",
     "text": [
      "   0         1   2\n",
      "0  1    sravan  22\n",
      "1  2    harsha  22\n",
      "2  3   deepika  21\n",
      "3  4  jyothika  23\n"
     ]
    }
   ],
   "source": [
    "df = pd.read_json(json_data3, orient='values')\n",
    "print(df)"
   ],
   "metadata": {
    "collapsed": false,
    "ExecuteTime": {
     "end_time": "2024-01-15T04:52:50.040530800Z",
     "start_time": "2024-01-15T04:52:50.009381600Z"
    }
   },
   "id": "be929dbb5979cd85",
   "execution_count": 110
  },
  {
   "cell_type": "code",
   "outputs": [],
   "source": [],
   "metadata": {
    "collapsed": false
   },
   "id": "4e428f79685e64f4"
  }
 ],
 "metadata": {
  "kernelspec": {
   "display_name": "Python 3",
   "language": "python",
   "name": "python3"
  },
  "language_info": {
   "codemirror_mode": {
    "name": "ipython",
    "version": 2
   },
   "file_extension": ".py",
   "mimetype": "text/x-python",
   "name": "python",
   "nbconvert_exporter": "python",
   "pygments_lexer": "ipython2",
   "version": "2.7.6"
  }
 },
 "nbformat": 4,
 "nbformat_minor": 5
}
