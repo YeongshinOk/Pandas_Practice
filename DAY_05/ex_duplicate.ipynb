{
 "cells": [
  {
   "cell_type": "markdown",
   "source": [
    "## [중복 데이터 처리]\n",
    "#### - 중복 데이터 기준 ==> 행(row)\n",
    "#### - 행 단위로 모든 컬럼의 값이 완전히 똑같은 데이터는 중복 데이터\n",
    "#### - 처리 => 제거"
   ],
   "metadata": {
    "collapsed": false
   },
   "id": "f7e746c42d5a0910"
  },
  {
   "cell_type": "markdown",
   "source": [
    "#### - (1) 모듈 로딩"
   ],
   "metadata": {
    "collapsed": false
   },
   "id": "8e69b86aaf8595d8"
  },
  {
   "cell_type": "code",
   "outputs": [],
   "source": [
    "import pandas as pd"
   ],
   "metadata": {
    "collapsed": false,
    "ExecuteTime": {
     "end_time": "2024-01-16T02:10:02.598508800Z",
     "start_time": "2024-01-16T02:10:02.240379500Z"
    }
   },
   "id": "35958a1539f20d1c",
   "execution_count": 1
  },
  {
   "cell_type": "markdown",
   "source": [
    "#### -(2) 데이터 준비"
   ],
   "metadata": {
    "collapsed": false
   },
   "id": "4a99e6f22632063c"
  },
  {
   "cell_type": "code",
   "outputs": [],
   "source": [
    "file = '../DATA/employees.csv'"
   ],
   "metadata": {
    "collapsed": false,
    "ExecuteTime": {
     "end_time": "2024-01-16T02:10:37.592271900Z",
     "start_time": "2024-01-16T02:10:37.581757Z"
    }
   },
   "id": "ab7e82738f4a48a4",
   "execution_count": 2
  },
  {
   "cell_type": "markdown",
   "source": [
    "#### -(3) 데이터 저장 : CSV => DF"
   ],
   "metadata": {
    "collapsed": false
   },
   "id": "e72c08d8777881f3"
  },
  {
   "cell_type": "code",
   "outputs": [],
   "source": [
    "empDF = pd.read_csv(file)"
   ],
   "metadata": {
    "collapsed": false,
    "ExecuteTime": {
     "end_time": "2024-01-16T02:11:12.607390600Z",
     "start_time": "2024-01-16T02:11:12.598647800Z"
    }
   },
   "id": "c6ce134c52d9887c",
   "execution_count": 3
  },
  {
   "cell_type": "markdown",
   "source": [
    "#### -(4) 데이터 확인"
   ],
   "metadata": {
    "collapsed": false
   },
   "id": "d1f8f4dffb0b0f7b"
  },
  {
   "cell_type": "code",
   "outputs": [
    {
     "name": "stdout",
     "output_type": "stream",
     "text": [
      "<class 'pandas.core.frame.DataFrame'>\n",
      "RangeIndex: 1001 entries, 0 to 1000\n",
      "Data columns (total 6 columns):\n",
      " #   Column      Non-Null Count  Dtype  \n",
      "---  ------      --------------  -----  \n",
      " 0   First Name  933 non-null    object \n",
      " 1   Gender      854 non-null    object \n",
      " 2   Start Date  999 non-null    object \n",
      " 3   Salary      999 non-null    float64\n",
      " 4   Mgmt        933 non-null    object \n",
      " 5   Team        957 non-null    object \n",
      "dtypes: float64(1), object(5)\n",
      "memory usage: 47.0+ KB\n"
     ]
    }
   ],
   "source": [
    "empDF.info()"
   ],
   "metadata": {
    "collapsed": false,
    "ExecuteTime": {
     "end_time": "2024-01-16T02:11:47.327851Z",
     "start_time": "2024-01-16T02:11:47.302625500Z"
    }
   },
   "id": "3efff10df5349487",
   "execution_count": 4
  },
  {
   "cell_type": "markdown",
   "source": [
    "#### -(5) 데이터 전처리 => 나. 중복 데이터 처리"
   ],
   "metadata": {
    "collapsed": false
   },
   "id": "f754acdadbe12447"
  },
  {
   "cell_type": "markdown",
   "source": [
    "#### - 중복 데이터 체크 => duplicated() : 중복이면 True\n",
    "#### - 중복 데이터 처리 => drop_duplicated() : 삭제"
   ],
   "metadata": {
    "collapsed": false
   },
   "id": "953fcf1e8ec2926a"
  },
  {
   "cell_type": "code",
   "outputs": [
    {
     "data": {
      "text/plain": "0"
     },
     "execution_count": 5,
     "metadata": {},
     "output_type": "execute_result"
    }
   ],
   "source": [
    "# 행 단위로 완전히 똑같은 행 검사 => 0개\n",
    "empDF.duplicated().sum()"
   ],
   "metadata": {
    "collapsed": false,
    "ExecuteTime": {
     "end_time": "2024-01-16T02:13:40.063615700Z",
     "start_time": "2024-01-16T02:13:40.018137200Z"
    }
   },
   "id": "af36867bf1081d",
   "execution_count": 5
  },
  {
   "cell_type": "code",
   "outputs": [
    {
     "data": {
      "text/plain": "(990, 10)"
     },
     "execution_count": 9,
     "metadata": {},
     "output_type": "execute_result"
    }
   ],
   "source": [
    "# Team 컬럼\n",
    "empDF.Team.duplicated().sum(), empDF.Team.nunique()"
   ],
   "metadata": {
    "collapsed": false,
    "ExecuteTime": {
     "end_time": "2024-01-16T02:16:31.168620600Z",
     "start_time": "2024-01-16T02:16:31.162319300Z"
    }
   },
   "id": "34a6b0e00f1a4f4a",
   "execution_count": 9
  },
  {
   "cell_type": "code",
   "outputs": [
    {
     "data": {
      "text/plain": "0        Marketing\n1              NaN\n2          Finance\n4               IT\n5            Legal\n6          Product\n8      Engineering\n9     Business Dev\n12              HR\n13           Sales\n40    Distribution\nName: Team, dtype: object"
     },
     "execution_count": 10,
     "metadata": {},
     "output_type": "execute_result"
    }
   ],
   "source": [
    "empDF.Team.drop_duplicates()\n",
    "empDF['Team'].drop_duplicates()"
   ],
   "metadata": {
    "collapsed": false,
    "ExecuteTime": {
     "end_time": "2024-01-16T02:16:47.824276600Z",
     "start_time": "2024-01-16T02:16:47.807510700Z"
    }
   },
   "id": "7c4c0f7eadcf2521",
   "execution_count": 10
  },
  {
   "cell_type": "code",
   "outputs": [],
   "source": [],
   "metadata": {
    "collapsed": false
   },
   "id": "5596f5d8505e5da4"
  }
 ],
 "metadata": {
  "kernelspec": {
   "display_name": "Python 3",
   "language": "python",
   "name": "python3"
  },
  "language_info": {
   "codemirror_mode": {
    "name": "ipython",
    "version": 2
   },
   "file_extension": ".py",
   "mimetype": "text/x-python",
   "name": "python",
   "nbconvert_exporter": "python",
   "pygments_lexer": "ipython2",
   "version": "2.7.6"
  }
 },
 "nbformat": 4,
 "nbformat_minor": 5
}
