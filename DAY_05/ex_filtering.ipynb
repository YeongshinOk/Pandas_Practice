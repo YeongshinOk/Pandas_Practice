{
 "cells": [
  {
   "cell_type": "markdown",
   "source": [
    "## [데이터 필터링]\n",
    "#### - 원하는 데이터를 추출하기 위해서 사용하는 방법\n",
    "#### - 원하는 데이터 걸러내겠다는 의미\n",
    "#### - 다양한 조건 검사 진행 => 비교 검사 : ==, 같지 않다 !=, 크다 >, 크거나 같다 >=, 작다 <, 작거나 같다 <="
   ],
   "metadata": {
    "collapsed": false
   },
   "id": "ca7afb4399cea646"
  },
  {
   "cell_type": "markdown",
   "source": [
    "#### (1) 모듈 로딩"
   ],
   "metadata": {
    "collapsed": false
   },
   "id": "a22f96507974e504"
  },
  {
   "cell_type": "code",
   "outputs": [],
   "source": [
    "import pandas as pd\n",
    "import numpy as np"
   ],
   "metadata": {
    "collapsed": false,
    "ExecuteTime": {
     "end_time": "2024-01-16T05:55:33.697863500Z",
     "start_time": "2024-01-16T05:55:33.620262500Z"
    }
   },
   "id": "5002e6309d10081c",
   "execution_count": 38
  },
  {
   "cell_type": "markdown",
   "source": [
    "#### (2) 데이터 준비"
   ],
   "metadata": {
    "collapsed": false
   },
   "id": "9c5f178fba883ada"
  },
  {
   "cell_type": "code",
   "outputs": [],
   "source": [
    "file = '../DATA/employees.csv'"
   ],
   "metadata": {
    "collapsed": false,
    "ExecuteTime": {
     "end_time": "2024-01-16T05:55:33.701867700Z",
     "start_time": "2024-01-16T05:55:33.686863700Z"
    }
   },
   "id": "5fc09d72718284fa",
   "execution_count": 39
  },
  {
   "cell_type": "markdown",
   "source": [
    "#### (3) 데이터 저장"
   ],
   "metadata": {
    "collapsed": false
   },
   "id": "d17d19064ca8fe9c"
  },
  {
   "cell_type": "code",
   "outputs": [],
   "source": [
    "empDF = pd.read_csv(file)"
   ],
   "metadata": {
    "collapsed": false,
    "ExecuteTime": {
     "end_time": "2024-01-16T05:55:33.736865200Z",
     "start_time": "2024-01-16T05:55:33.706866700Z"
    }
   },
   "id": "8d5fbc0dbd46ff98",
   "execution_count": 40
  },
  {
   "cell_type": "code",
   "outputs": [],
   "source": [],
   "metadata": {
    "collapsed": false,
    "ExecuteTime": {
     "end_time": "2024-01-16T05:55:33.738863700Z",
     "start_time": "2024-01-16T05:55:33.718865200Z"
    }
   },
   "id": "f508e86636e1ca9f",
   "execution_count": 40
  },
  {
   "cell_type": "code",
   "outputs": [],
   "source": [],
   "metadata": {
    "collapsed": false,
    "ExecuteTime": {
     "end_time": "2024-01-16T05:55:33.758863700Z",
     "start_time": "2024-01-16T05:55:33.739866Z"
    }
   },
   "id": "342c6866ec1547a8",
   "execution_count": 40
  },
  {
   "cell_type": "code",
   "outputs": [
    {
     "data": {
      "text/plain": "(True, False)"
     },
     "execution_count": 41,
     "metadata": {},
     "output_type": "execute_result"
    }
   ],
   "source": [
    "'Happy' == 'Happy', \"Happy\" == 'happy'"
   ],
   "metadata": {
    "collapsed": false,
    "ExecuteTime": {
     "end_time": "2024-01-16T05:55:33.792864Z",
     "start_time": "2024-01-16T05:55:33.750864700Z"
    }
   },
   "id": "b332ef8f1b6bd970",
   "execution_count": 41
  },
  {
   "cell_type": "markdown",
   "source": [
    "#### [문제] 데이터에서 이름이 Maria인 데이터만 추출"
   ],
   "metadata": {
    "collapsed": false
   },
   "id": "14ba2337fbbd60b1"
  },
  {
   "cell_type": "code",
   "outputs": [
    {
     "name": "stdout",
     "output_type": "stream",
     "text": [
      "Index(['First Name', 'Gender', 'Start Date', 'Salary', 'Mgmt', 'Team'], dtype='object') RangeIndex(start=0, stop=1001, step=1)\n"
     ]
    }
   ],
   "source": [
    "print(empDF.columns, empDF.index )"
   ],
   "metadata": {
    "collapsed": false,
    "ExecuteTime": {
     "end_time": "2024-01-16T05:55:33.793865Z",
     "start_time": "2024-01-16T05:55:33.766864700Z"
    }
   },
   "id": "9c3f92b305c973c4",
   "execution_count": 42
  },
  {
   "cell_type": "markdown",
   "source": [
    "#### - bool값으로 구성된 데이터 ==> 불린인덱싱(Boolean Indexing)"
   ],
   "metadata": {
    "collapsed": false
   },
   "id": "7b17282ae29f4cf3"
  },
  {
   "cell_type": "code",
   "outputs": [
    {
     "data": {
      "text/plain": "0       False\n1       False\n2        True\n3       False\n4       False\n        ...  \n996     False\n997     False\n998     False\n999     False\n1000    False\nName: First Name, Length: 1001, dtype: bool"
     },
     "execution_count": 43,
     "metadata": {},
     "output_type": "execute_result"
    }
   ],
   "source": [
    "empDF['First Name'] == 'Maria'"
   ],
   "metadata": {
    "collapsed": false,
    "ExecuteTime": {
     "end_time": "2024-01-16T05:55:33.825864100Z",
     "start_time": "2024-01-16T05:55:33.797865200Z"
    }
   },
   "id": "954c636895d80e3d",
   "execution_count": 43
  },
  {
   "cell_type": "code",
   "outputs": [
    {
     "name": "stdout",
     "output_type": "stream",
     "text": [
      "<class 'pandas.core.series.Series'>\n",
      "\n",
      "6\n"
     ]
    }
   ],
   "source": [
    "mariaMask = (empDF['First Name'] == 'Maria')\n",
    "\n",
    "print(type(mariaMask), mariaMask.sum(), sep='\\n\\n')"
   ],
   "metadata": {
    "collapsed": false,
    "ExecuteTime": {
     "end_time": "2024-01-16T05:55:33.852864300Z",
     "start_time": "2024-01-16T05:55:33.827866200Z"
    }
   },
   "id": "b7ac7730e4dda498",
   "execution_count": 44
  },
  {
   "cell_type": "code",
   "outputs": [
    {
     "data": {
      "text/plain": "6"
     },
     "execution_count": 45,
     "metadata": {},
     "output_type": "execute_result"
    }
   ],
   "source": [
    "(empDF['First Name'] == 'Maria').sum()"
   ],
   "metadata": {
    "collapsed": false,
    "ExecuteTime": {
     "end_time": "2024-01-16T05:55:33.882863900Z",
     "start_time": "2024-01-16T05:55:33.856863300Z"
    }
   },
   "id": "9c5775b429090f8f",
   "execution_count": 45
  },
  {
   "cell_type": "code",
   "outputs": [
    {
     "data": {
      "text/plain": "    First Name  Gender Start Date    Salary   Mgmt          Team\n2        Maria  Female        NaN  130590.0  False       Finance\n198      Maria  Female   12/27/90   36067.0   True       Product\n815      Maria     NaN    1/18/86  106562.0  False            HR\n844      Maria     NaN    6/19/85  148857.0  False         Legal\n936      Maria  Female    3/14/03   96250.0  False  Business Dev\n984      Maria  Female   10/15/11   43455.0  False   Engineering",
      "text/html": "<div>\n<style scoped>\n    .dataframe tbody tr th:only-of-type {\n        vertical-align: middle;\n    }\n\n    .dataframe tbody tr th {\n        vertical-align: top;\n    }\n\n    .dataframe thead th {\n        text-align: right;\n    }\n</style>\n<table border=\"1\" class=\"dataframe\">\n  <thead>\n    <tr style=\"text-align: right;\">\n      <th></th>\n      <th>First Name</th>\n      <th>Gender</th>\n      <th>Start Date</th>\n      <th>Salary</th>\n      <th>Mgmt</th>\n      <th>Team</th>\n    </tr>\n  </thead>\n  <tbody>\n    <tr>\n      <th>2</th>\n      <td>Maria</td>\n      <td>Female</td>\n      <td>NaN</td>\n      <td>130590.0</td>\n      <td>False</td>\n      <td>Finance</td>\n    </tr>\n    <tr>\n      <th>198</th>\n      <td>Maria</td>\n      <td>Female</td>\n      <td>12/27/90</td>\n      <td>36067.0</td>\n      <td>True</td>\n      <td>Product</td>\n    </tr>\n    <tr>\n      <th>815</th>\n      <td>Maria</td>\n      <td>NaN</td>\n      <td>1/18/86</td>\n      <td>106562.0</td>\n      <td>False</td>\n      <td>HR</td>\n    </tr>\n    <tr>\n      <th>844</th>\n      <td>Maria</td>\n      <td>NaN</td>\n      <td>6/19/85</td>\n      <td>148857.0</td>\n      <td>False</td>\n      <td>Legal</td>\n    </tr>\n    <tr>\n      <th>936</th>\n      <td>Maria</td>\n      <td>Female</td>\n      <td>3/14/03</td>\n      <td>96250.0</td>\n      <td>False</td>\n      <td>Business Dev</td>\n    </tr>\n    <tr>\n      <th>984</th>\n      <td>Maria</td>\n      <td>Female</td>\n      <td>10/15/11</td>\n      <td>43455.0</td>\n      <td>False</td>\n      <td>Engineering</td>\n    </tr>\n  </tbody>\n</table>\n</div>"
     },
     "execution_count": 46,
     "metadata": {},
     "output_type": "execute_result"
    }
   ],
   "source": [
    "empDF[empDF['First Name'] == 'Maria']"
   ],
   "metadata": {
    "collapsed": false,
    "ExecuteTime": {
     "end_time": "2024-01-16T05:55:33.914867200Z",
     "start_time": "2024-01-16T05:55:33.889864600Z"
    }
   },
   "id": "2085d69d3cd9215c",
   "execution_count": 46
  },
  {
   "cell_type": "code",
   "outputs": [
    {
     "data": {
      "text/plain": "    First Name  Gender Start Date    Salary   Mgmt          Team\n2        Maria  Female        NaN  130590.0  False       Finance\n198      Maria  Female   12/27/90   36067.0   True       Product\n815      Maria     NaN    1/18/86  106562.0  False            HR\n844      Maria     NaN    6/19/85  148857.0  False         Legal\n936      Maria  Female    3/14/03   96250.0  False  Business Dev\n984      Maria  Female   10/15/11   43455.0  False   Engineering",
      "text/html": "<div>\n<style scoped>\n    .dataframe tbody tr th:only-of-type {\n        vertical-align: middle;\n    }\n\n    .dataframe tbody tr th {\n        vertical-align: top;\n    }\n\n    .dataframe thead th {\n        text-align: right;\n    }\n</style>\n<table border=\"1\" class=\"dataframe\">\n  <thead>\n    <tr style=\"text-align: right;\">\n      <th></th>\n      <th>First Name</th>\n      <th>Gender</th>\n      <th>Start Date</th>\n      <th>Salary</th>\n      <th>Mgmt</th>\n      <th>Team</th>\n    </tr>\n  </thead>\n  <tbody>\n    <tr>\n      <th>2</th>\n      <td>Maria</td>\n      <td>Female</td>\n      <td>NaN</td>\n      <td>130590.0</td>\n      <td>False</td>\n      <td>Finance</td>\n    </tr>\n    <tr>\n      <th>198</th>\n      <td>Maria</td>\n      <td>Female</td>\n      <td>12/27/90</td>\n      <td>36067.0</td>\n      <td>True</td>\n      <td>Product</td>\n    </tr>\n    <tr>\n      <th>815</th>\n      <td>Maria</td>\n      <td>NaN</td>\n      <td>1/18/86</td>\n      <td>106562.0</td>\n      <td>False</td>\n      <td>HR</td>\n    </tr>\n    <tr>\n      <th>844</th>\n      <td>Maria</td>\n      <td>NaN</td>\n      <td>6/19/85</td>\n      <td>148857.0</td>\n      <td>False</td>\n      <td>Legal</td>\n    </tr>\n    <tr>\n      <th>936</th>\n      <td>Maria</td>\n      <td>Female</td>\n      <td>3/14/03</td>\n      <td>96250.0</td>\n      <td>False</td>\n      <td>Business Dev</td>\n    </tr>\n    <tr>\n      <th>984</th>\n      <td>Maria</td>\n      <td>Female</td>\n      <td>10/15/11</td>\n      <td>43455.0</td>\n      <td>False</td>\n      <td>Engineering</td>\n    </tr>\n  </tbody>\n</table>\n</div>"
     },
     "execution_count": 47,
     "metadata": {},
     "output_type": "execute_result"
    }
   ],
   "source": [
    "empDF[mariaMask]"
   ],
   "metadata": {
    "collapsed": false,
    "ExecuteTime": {
     "end_time": "2024-01-16T05:55:33.958401600Z",
     "start_time": "2024-01-16T05:55:33.917463900Z"
    }
   },
   "id": "a2244adf9fbe279a",
   "execution_count": 47
  },
  {
   "cell_type": "code",
   "outputs": [
    {
     "name": "stdout",
     "output_type": "stream",
     "text": [
      "<class 'pandas.core.frame.DataFrame'>\n",
      "RangeIndex: 1001 entries, 0 to 1000\n",
      "Data columns (total 6 columns):\n",
      " #   Column      Non-Null Count  Dtype  \n",
      "---  ------      --------------  -----  \n",
      " 0   First Name  933 non-null    object \n",
      " 1   Gender      854 non-null    object \n",
      " 2   Start Date  999 non-null    object \n",
      " 3   Salary      999 non-null    float64\n",
      " 4   Mgmt        933 non-null    object \n",
      " 5   Team        957 non-null    object \n",
      "dtypes: float64(1), object(5)\n",
      "memory usage: 47.0+ KB\n"
     ]
    }
   ],
   "source": [
    "empDF.info()"
   ],
   "metadata": {
    "collapsed": false,
    "ExecuteTime": {
     "end_time": "2024-01-16T05:55:34.047736400Z",
     "start_time": "2024-01-16T05:55:33.949044100Z"
    }
   },
   "id": "7ebeaf3e1a409bb6",
   "execution_count": 48
  },
  {
   "cell_type": "markdown",
   "source": [
    "#### [문제] employees 데이터에서 연봉이 120000 이상인 사람의 데이터를 추출"
   ],
   "metadata": {
    "collapsed": false
   },
   "id": "f6737ea6a45549e9"
  },
  {
   "cell_type": "code",
   "outputs": [
    {
     "data": {
      "text/plain": "0       False\n1       False\n2        True\n3        True\n4       False\n        ...  \n996     False\n997     False\n998     False\n999      True\n1000    False\nName: Salary, Length: 1001, dtype: bool"
     },
     "execution_count": 49,
     "metadata": {},
     "output_type": "execute_result"
    }
   ],
   "source": [
    "empDF['Salary'] >= 120000"
   ],
   "metadata": {
    "collapsed": false,
    "ExecuteTime": {
     "end_time": "2024-01-16T05:55:34.086736300Z",
     "start_time": "2024-01-16T05:55:33.993736400Z"
    }
   },
   "id": "ce3cb692a367b165",
   "execution_count": 49
  },
  {
   "cell_type": "code",
   "outputs": [],
   "source": [
    "salaryMask = (empDF['Salary'] >= 120000)"
   ],
   "metadata": {
    "collapsed": false,
    "ExecuteTime": {
     "end_time": "2024-01-16T05:55:34.130736600Z",
     "start_time": "2024-01-16T05:55:34.053741600Z"
    }
   },
   "id": "a8c60fccea0db6f6",
   "execution_count": 50
  },
  {
   "cell_type": "code",
   "outputs": [
    {
     "data": {
      "text/plain": "    First Name  Gender Start Date    Salary   Mgmt          Team\n2        Maria  Female        NaN  130590.0  False       Finance\n3        Jerry     NaN     3/4/05  138705.0   True       Finance\n9      Frances  Female     8/8/02  139852.0   True  Business Dev\n18       Diana  Female   10/23/81  132940.0  False            IT\n23         NaN    Male    6/14/12  125792.0    NaN           NaN\n..         ...     ...        ...       ...    ...           ...\n983       John    Male   12/23/82  146907.0  False   Engineering\n987     Gloria  Female    12/8/14  136709.0   True       Finance\n991       Rose  Female    8/25/02  134505.0   True     Marketing\n995      Henry     NaN   11/23/14  132483.0  False  Distribution\n999     Albert    Male    5/15/12  129949.0   True         Sales\n\n[241 rows x 6 columns]",
      "text/html": "<div>\n<style scoped>\n    .dataframe tbody tr th:only-of-type {\n        vertical-align: middle;\n    }\n\n    .dataframe tbody tr th {\n        vertical-align: top;\n    }\n\n    .dataframe thead th {\n        text-align: right;\n    }\n</style>\n<table border=\"1\" class=\"dataframe\">\n  <thead>\n    <tr style=\"text-align: right;\">\n      <th></th>\n      <th>First Name</th>\n      <th>Gender</th>\n      <th>Start Date</th>\n      <th>Salary</th>\n      <th>Mgmt</th>\n      <th>Team</th>\n    </tr>\n  </thead>\n  <tbody>\n    <tr>\n      <th>2</th>\n      <td>Maria</td>\n      <td>Female</td>\n      <td>NaN</td>\n      <td>130590.0</td>\n      <td>False</td>\n      <td>Finance</td>\n    </tr>\n    <tr>\n      <th>3</th>\n      <td>Jerry</td>\n      <td>NaN</td>\n      <td>3/4/05</td>\n      <td>138705.0</td>\n      <td>True</td>\n      <td>Finance</td>\n    </tr>\n    <tr>\n      <th>9</th>\n      <td>Frances</td>\n      <td>Female</td>\n      <td>8/8/02</td>\n      <td>139852.0</td>\n      <td>True</td>\n      <td>Business Dev</td>\n    </tr>\n    <tr>\n      <th>18</th>\n      <td>Diana</td>\n      <td>Female</td>\n      <td>10/23/81</td>\n      <td>132940.0</td>\n      <td>False</td>\n      <td>IT</td>\n    </tr>\n    <tr>\n      <th>23</th>\n      <td>NaN</td>\n      <td>Male</td>\n      <td>6/14/12</td>\n      <td>125792.0</td>\n      <td>NaN</td>\n      <td>NaN</td>\n    </tr>\n    <tr>\n      <th>...</th>\n      <td>...</td>\n      <td>...</td>\n      <td>...</td>\n      <td>...</td>\n      <td>...</td>\n      <td>...</td>\n    </tr>\n    <tr>\n      <th>983</th>\n      <td>John</td>\n      <td>Male</td>\n      <td>12/23/82</td>\n      <td>146907.0</td>\n      <td>False</td>\n      <td>Engineering</td>\n    </tr>\n    <tr>\n      <th>987</th>\n      <td>Gloria</td>\n      <td>Female</td>\n      <td>12/8/14</td>\n      <td>136709.0</td>\n      <td>True</td>\n      <td>Finance</td>\n    </tr>\n    <tr>\n      <th>991</th>\n      <td>Rose</td>\n      <td>Female</td>\n      <td>8/25/02</td>\n      <td>134505.0</td>\n      <td>True</td>\n      <td>Marketing</td>\n    </tr>\n    <tr>\n      <th>995</th>\n      <td>Henry</td>\n      <td>NaN</td>\n      <td>11/23/14</td>\n      <td>132483.0</td>\n      <td>False</td>\n      <td>Distribution</td>\n    </tr>\n    <tr>\n      <th>999</th>\n      <td>Albert</td>\n      <td>Male</td>\n      <td>5/15/12</td>\n      <td>129949.0</td>\n      <td>True</td>\n      <td>Sales</td>\n    </tr>\n  </tbody>\n</table>\n<p>241 rows × 6 columns</p>\n</div>"
     },
     "execution_count": 51,
     "metadata": {},
     "output_type": "execute_result"
    }
   ],
   "source": [
    "empDF[salaryMask]"
   ],
   "metadata": {
    "collapsed": false,
    "ExecuteTime": {
     "end_time": "2024-01-16T05:55:34.164737Z",
     "start_time": "2024-01-16T05:55:34.134736100Z"
    }
   },
   "id": "aa522c3deb4f2d53",
   "execution_count": 51
  },
  {
   "cell_type": "markdown",
   "source": [
    "#### [문제] employees 데이터에서 성별이 남자이며 연봉이 100000 이상인 사람의 데이터를 추출\n"
   ],
   "metadata": {
    "collapsed": false
   },
   "id": "fcc6f94a42488584"
  },
  {
   "cell_type": "code",
   "outputs": [
    {
     "data": {
      "text/plain": "0        True\n1        True\n2       False\n3       False\n4        True\n        ...  \n996      True\n997      True\n998      True\n999      True\n1000    False\nName: Gender, Length: 1001, dtype: bool"
     },
     "execution_count": 52,
     "metadata": {},
     "output_type": "execute_result"
    }
   ],
   "source": [
    "empDF['Gender'] == 'Male'"
   ],
   "metadata": {
    "collapsed": false,
    "ExecuteTime": {
     "end_time": "2024-01-16T05:57:42.062905900Z",
     "start_time": "2024-01-16T05:57:42.048906400Z"
    }
   },
   "id": "abd22b4ae228d48b",
   "execution_count": 52
  },
  {
   "cell_type": "code",
   "outputs": [
    {
     "data": {
      "text/plain": "0       False\n1       False\n2        True\n3        True\n4        True\n        ...  \n996     False\n997     False\n998     False\n999      True\n1000    False\nName: Salary, Length: 1001, dtype: bool"
     },
     "execution_count": 53,
     "metadata": {},
     "output_type": "execute_result"
    }
   ],
   "source": [
    "empDF['Salary']>= 100000"
   ],
   "metadata": {
    "collapsed": false,
    "ExecuteTime": {
     "end_time": "2024-01-16T05:58:04.801212900Z",
     "start_time": "2024-01-16T05:58:04.779212200Z"
    }
   },
   "id": "54513adff0140ae2",
   "execution_count": 53
  },
  {
   "cell_type": "markdown",
   "source": [
    "#### - 여러 개의 조건이 모두 True 여야만 하는 조건 => AND 조건\n",
    "####    * 문법 : 조건 1 & 조건 2 & 조건 3 & ...& 조건N\n",
    "####    * 연산자 : & 앰퍼센트\n",
    "####    * 결과 : True/False"
   ],
   "metadata": {
    "collapsed": false
   },
   "id": "6cd5733dde94bdc4"
  },
  {
   "cell_type": "code",
   "outputs": [
    {
     "data": {
      "text/plain": "(pandas.core.series.Series, 5)"
     },
     "execution_count": 58,
     "metadata": {},
     "output_type": "execute_result"
    }
   ],
   "source": [
    "mask=(empDF['Gender'] == 'Male') & (empDF['Salary']>= 148000)\n",
    "type(mask), mask.sum()"
   ],
   "metadata": {
    "collapsed": false,
    "ExecuteTime": {
     "end_time": "2024-01-16T06:02:38.537979400Z",
     "start_time": "2024-01-16T06:02:38.521980800Z"
    }
   },
   "id": "aeb4008ba6606aa1",
   "execution_count": 58
  },
  {
   "cell_type": "code",
   "outputs": [
    {
     "data": {
      "text/plain": "    First Name Gender Start Date    Salary   Mgmt     Team\n83       Shawn   Male    9/23/05  148115.0   True  Finance\n318        Roy   Male     8/6/06  148225.0  False  Finance\n800   Clarence   Male     8/5/89  148941.0  False  Product\n850    Charles   Male     9/3/97  148291.0  False      NaN\n981      James   Male    1/15/93  148985.0  False    Legal",
      "text/html": "<div>\n<style scoped>\n    .dataframe tbody tr th:only-of-type {\n        vertical-align: middle;\n    }\n\n    .dataframe tbody tr th {\n        vertical-align: top;\n    }\n\n    .dataframe thead th {\n        text-align: right;\n    }\n</style>\n<table border=\"1\" class=\"dataframe\">\n  <thead>\n    <tr style=\"text-align: right;\">\n      <th></th>\n      <th>First Name</th>\n      <th>Gender</th>\n      <th>Start Date</th>\n      <th>Salary</th>\n      <th>Mgmt</th>\n      <th>Team</th>\n    </tr>\n  </thead>\n  <tbody>\n    <tr>\n      <th>83</th>\n      <td>Shawn</td>\n      <td>Male</td>\n      <td>9/23/05</td>\n      <td>148115.0</td>\n      <td>True</td>\n      <td>Finance</td>\n    </tr>\n    <tr>\n      <th>318</th>\n      <td>Roy</td>\n      <td>Male</td>\n      <td>8/6/06</td>\n      <td>148225.0</td>\n      <td>False</td>\n      <td>Finance</td>\n    </tr>\n    <tr>\n      <th>800</th>\n      <td>Clarence</td>\n      <td>Male</td>\n      <td>8/5/89</td>\n      <td>148941.0</td>\n      <td>False</td>\n      <td>Product</td>\n    </tr>\n    <tr>\n      <th>850</th>\n      <td>Charles</td>\n      <td>Male</td>\n      <td>9/3/97</td>\n      <td>148291.0</td>\n      <td>False</td>\n      <td>NaN</td>\n    </tr>\n    <tr>\n      <th>981</th>\n      <td>James</td>\n      <td>Male</td>\n      <td>1/15/93</td>\n      <td>148985.0</td>\n      <td>False</td>\n      <td>Legal</td>\n    </tr>\n  </tbody>\n</table>\n</div>"
     },
     "execution_count": 59,
     "metadata": {},
     "output_type": "execute_result"
    }
   ],
   "source": [
    "empDF[mask]"
   ],
   "metadata": {
    "collapsed": false,
    "ExecuteTime": {
     "end_time": "2024-01-16T06:02:53.539036600Z",
     "start_time": "2024-01-16T06:02:53.514534200Z"
    }
   },
   "id": "8089370c82e34e",
   "execution_count": 59
  },
  {
   "cell_type": "markdown",
   "source": [
    "#### - 여러 개의 조건 중 1개 이상이 True가 되는 조건 => OR 조건\n",
    "####    * 문법 : 조건 1 & 조건 2 & 조건 3 & ...& 조건N\n",
    "####    * 연산자 : | 파이프 ==> 키보드 Enter키 위에 있음\n",
    "####    * 결과 : True/False"
   ],
   "metadata": {
    "collapsed": false
   },
   "id": "8f40b953d2a83afe"
  },
  {
   "cell_type": "markdown",
   "source": [
    "#### [문제] employees 데이터에서 입사일이 1993년 1월 1일 이전이거나 또는 매니지먼트가 없는 사람 데이터 조회"
   ],
   "metadata": {
    "collapsed": false
   },
   "id": "b2598d3e0ee8fbf4"
  },
  {
   "cell_type": "code",
   "outputs": [
    {
     "data": {
      "text/plain": "0       False\n1       False\n2       False\n3       False\n4        True\n        ...  \n996      True\n997     False\n998     False\n999     False\n1000    False\nName: Start Date, Length: 1001, dtype: bool"
     },
     "execution_count": 61,
     "metadata": {},
     "output_type": "execute_result"
    }
   ],
   "source": [
    "empDF['Start Date'] < '1993-01-01'"
   ],
   "metadata": {
    "collapsed": false,
    "ExecuteTime": {
     "end_time": "2024-01-16T06:09:15.192379800Z",
     "start_time": "2024-01-16T06:09:15.167380300Z"
    }
   },
   "id": "3553d143b026f7",
   "execution_count": 61
  },
  {
   "cell_type": "code",
   "outputs": [
    {
     "data": {
      "text/plain": "0       False\n1       False\n2        True\n3       False\n4       False\n        ...  \n996      True\n997      True\n998      True\n999     False\n1000    False\nName: Mgmt, Length: 1001, dtype: bool"
     },
     "execution_count": 62,
     "metadata": {},
     "output_type": "execute_result"
    }
   ],
   "source": [
    "empDF['Mgmt'] == False"
   ],
   "metadata": {
    "collapsed": false,
    "ExecuteTime": {
     "end_time": "2024-01-16T06:09:40.020742600Z",
     "start_time": "2024-01-16T06:09:40.006058200Z"
    }
   },
   "id": "ee56c313be5f56ba",
   "execution_count": 62
  },
  {
   "cell_type": "code",
   "outputs": [],
   "source": [
    "mask1=(empDF['Start Date'] < '1993-01-01') | (empDF['Mgmt'] == False)"
   ],
   "metadata": {
    "collapsed": false,
    "ExecuteTime": {
     "end_time": "2024-01-16T06:10:07.601694400Z",
     "start_time": "2024-01-16T06:10:07.582688400Z"
    }
   },
   "id": "3ebf5dc212a25d9e",
   "execution_count": 63
  },
  {
   "cell_type": "code",
   "outputs": [
    {
     "data": {
      "text/plain": "    First Name  Gender Start Date    Salary   Mgmt          Team\n2        Maria  Female        NaN  130590.0  False       Finance\n4        Larry    Male    1/24/98  101004.0   True            IT\n5       Dennis    Male    4/18/87  115163.0  False         Legal\n8       Angela  Female   11/22/05   95570.0   True   Engineering\n11       Julie  Female   10/26/97  102508.0   True         Legal\n..         ...     ...        ...       ...    ...           ...\n992    Anthony    Male   10/16/11  112769.0   True       Finance\n995      Henry     NaN   11/23/14  132483.0  False  Distribution\n996    Phillip    Male    1/31/84   42392.0  False       Finance\n997    Russell    Male    5/20/13   96914.0  False       Product\n998      Larry    Male    4/20/13   60500.0  False  Business Dev\n\n[640 rows x 6 columns]",
      "text/html": "<div>\n<style scoped>\n    .dataframe tbody tr th:only-of-type {\n        vertical-align: middle;\n    }\n\n    .dataframe tbody tr th {\n        vertical-align: top;\n    }\n\n    .dataframe thead th {\n        text-align: right;\n    }\n</style>\n<table border=\"1\" class=\"dataframe\">\n  <thead>\n    <tr style=\"text-align: right;\">\n      <th></th>\n      <th>First Name</th>\n      <th>Gender</th>\n      <th>Start Date</th>\n      <th>Salary</th>\n      <th>Mgmt</th>\n      <th>Team</th>\n    </tr>\n  </thead>\n  <tbody>\n    <tr>\n      <th>2</th>\n      <td>Maria</td>\n      <td>Female</td>\n      <td>NaN</td>\n      <td>130590.0</td>\n      <td>False</td>\n      <td>Finance</td>\n    </tr>\n    <tr>\n      <th>4</th>\n      <td>Larry</td>\n      <td>Male</td>\n      <td>1/24/98</td>\n      <td>101004.0</td>\n      <td>True</td>\n      <td>IT</td>\n    </tr>\n    <tr>\n      <th>5</th>\n      <td>Dennis</td>\n      <td>Male</td>\n      <td>4/18/87</td>\n      <td>115163.0</td>\n      <td>False</td>\n      <td>Legal</td>\n    </tr>\n    <tr>\n      <th>8</th>\n      <td>Angela</td>\n      <td>Female</td>\n      <td>11/22/05</td>\n      <td>95570.0</td>\n      <td>True</td>\n      <td>Engineering</td>\n    </tr>\n    <tr>\n      <th>11</th>\n      <td>Julie</td>\n      <td>Female</td>\n      <td>10/26/97</td>\n      <td>102508.0</td>\n      <td>True</td>\n      <td>Legal</td>\n    </tr>\n    <tr>\n      <th>...</th>\n      <td>...</td>\n      <td>...</td>\n      <td>...</td>\n      <td>...</td>\n      <td>...</td>\n      <td>...</td>\n    </tr>\n    <tr>\n      <th>992</th>\n      <td>Anthony</td>\n      <td>Male</td>\n      <td>10/16/11</td>\n      <td>112769.0</td>\n      <td>True</td>\n      <td>Finance</td>\n    </tr>\n    <tr>\n      <th>995</th>\n      <td>Henry</td>\n      <td>NaN</td>\n      <td>11/23/14</td>\n      <td>132483.0</td>\n      <td>False</td>\n      <td>Distribution</td>\n    </tr>\n    <tr>\n      <th>996</th>\n      <td>Phillip</td>\n      <td>Male</td>\n      <td>1/31/84</td>\n      <td>42392.0</td>\n      <td>False</td>\n      <td>Finance</td>\n    </tr>\n    <tr>\n      <th>997</th>\n      <td>Russell</td>\n      <td>Male</td>\n      <td>5/20/13</td>\n      <td>96914.0</td>\n      <td>False</td>\n      <td>Product</td>\n    </tr>\n    <tr>\n      <th>998</th>\n      <td>Larry</td>\n      <td>Male</td>\n      <td>4/20/13</td>\n      <td>60500.0</td>\n      <td>False</td>\n      <td>Business Dev</td>\n    </tr>\n  </tbody>\n</table>\n<p>640 rows × 6 columns</p>\n</div>"
     },
     "execution_count": 64,
     "metadata": {},
     "output_type": "execute_result"
    }
   ],
   "source": [
    "empDF[mask1]"
   ],
   "metadata": {
    "collapsed": false,
    "ExecuteTime": {
     "end_time": "2024-01-16T06:10:11.499391700Z",
     "start_time": "2024-01-16T06:10:11.469384Z"
    }
   },
   "id": "6ed7a1b374005745",
   "execution_count": 64
  },
  {
   "cell_type": "code",
   "outputs": [
    {
     "name": "stderr",
     "output_type": "stream",
     "text": [
      "C:\\Users\\KDP-26\\AppData\\Local\\Temp\\ipykernel_13268\\3859360305.py:1: UserWarning: Could not infer format, so each element will be parsed individually, falling back to `dateutil`. To ensure parsing is consistent and as-expected, please specify a format.\n",
      "  pd.to_datetime(empDF['Start Date'])\n"
     ]
    },
    {
     "data": {
      "text/plain": "0      1993-08-06\n1      1996-03-31\n2             NaT\n3      2005-03-04\n4      1998-01-24\n          ...    \n996    1984-01-31\n997    2013-05-20\n998    2013-04-20\n999    2012-05-15\n1000          NaT\nName: Start Date, Length: 1001, dtype: datetime64[ns]"
     },
     "execution_count": 66,
     "metadata": {},
     "output_type": "execute_result"
    }
   ],
   "source": [
    "pd.to_datetime(empDF['Start Date'])"
   ],
   "metadata": {
    "collapsed": false,
    "ExecuteTime": {
     "end_time": "2024-01-16T06:32:55.071940700Z",
     "start_time": "2024-01-16T06:32:55.012035400Z"
    }
   },
   "id": "43f8610e3b14ebea",
   "execution_count": 66
  },
  {
   "cell_type": "code",
   "outputs": [],
   "source": [
    "empDF['Start Date'] = pd.to_datetime(empDF['Start Date'], format='%Y-%m-%d')"
   ],
   "metadata": {
    "collapsed": false,
    "ExecuteTime": {
     "end_time": "2024-01-16T06:34:06.627483600Z",
     "start_time": "2024-01-16T06:34:06.600483600Z"
    }
   },
   "id": "deabb4bbc55b8747",
   "execution_count": 69
  },
  {
   "cell_type": "code",
   "outputs": [
    {
     "name": "stdout",
     "output_type": "stream",
     "text": [
      "<class 'pandas.core.frame.DataFrame'>\n",
      "RangeIndex: 1001 entries, 0 to 1000\n",
      "Data columns (total 6 columns):\n",
      " #   Column      Non-Null Count  Dtype         \n",
      "---  ------      --------------  -----         \n",
      " 0   First Name  933 non-null    object        \n",
      " 1   Gender      854 non-null    object        \n",
      " 2   Start Date  999 non-null    datetime64[ns]\n",
      " 3   Salary      999 non-null    float64       \n",
      " 4   Mgmt        933 non-null    object        \n",
      " 5   Team        957 non-null    object        \n",
      "dtypes: datetime64[ns](1), float64(1), object(4)\n",
      "memory usage: 47.0+ KB\n"
     ]
    }
   ],
   "source": [
    "empDF.info()"
   ],
   "metadata": {
    "collapsed": false,
    "ExecuteTime": {
     "end_time": "2024-01-16T06:34:14.411580600Z",
     "start_time": "2024-01-16T06:34:14.385582700Z"
    }
   },
   "id": "db553ce8eca785f3",
   "execution_count": 70
  },
  {
   "cell_type": "code",
   "outputs": [
    {
     "data": {
      "text/plain": "0        True\n1       False\n2       False\n3       False\n4       False\n        ...  \n996     False\n997     False\n998     False\n999      True\n1000    False\nName: Team, Length: 1001, dtype: bool"
     },
     "execution_count": 71,
     "metadata": {},
     "output_type": "execute_result"
    }
   ],
   "source": [
    "(empDF['Team']== 'Sales') | (empDF['Team'] == 'Legal') | (empDF['Team']== 'Marketing')"
   ],
   "metadata": {
    "collapsed": false,
    "ExecuteTime": {
     "end_time": "2024-01-16T06:39:10.697217600Z",
     "start_time": "2024-01-16T06:39:10.685217900Z"
    }
   },
   "id": "4cb8275224378f1f",
   "execution_count": 71
  },
  {
   "cell_type": "code",
   "outputs": [
    {
     "data": {
      "text/plain": "0        True\n1       False\n2       False\n3       False\n4       False\n        ...  \n996     False\n997     False\n998     False\n999      True\n1000    False\nName: Team, Length: 1001, dtype: bool"
     },
     "execution_count": 72,
     "metadata": {},
     "output_type": "execute_result"
    }
   ],
   "source": [
    "empDF['Team'].isin(['Sales', 'Legal', 'Marketing'])"
   ],
   "metadata": {
    "collapsed": false,
    "ExecuteTime": {
     "end_time": "2024-01-16T06:39:29.655691600Z",
     "start_time": "2024-01-16T06:39:29.634279600Z"
    }
   },
   "id": "2dbf4cd70c910ce4",
   "execution_count": 72
  },
  {
   "cell_type": "code",
   "outputs": [
    {
     "data": {
      "text/plain": "    First Name  Gender Start Date    Salary   Mgmt       Team\n0      Douglas    Male 1993-08-06       NaN   True  Marketing\n5       Dennis    Male 1987-04-18  115163.0  False      Legal\n11       Julie  Female 1997-10-26  102508.0   True      Legal\n13        Gary    Male 2008-01-27  109831.0  False      Sales\n20        Lois     NaN 1995-04-22   64714.0   True      Legal\n..         ...     ...        ...       ...    ...        ...\n986      Donna  Female 1982-11-26   82871.0  False  Marketing\n989     Justin     NaN 1991-02-10   38344.0  False      Legal\n991       Rose  Female 2002-08-25  134505.0   True  Marketing\n994     George    Male 2013-06-21   98874.0   True  Marketing\n999     Albert    Male 2012-05-15  129949.0   True      Sales\n\n[280 rows x 6 columns]",
      "text/html": "<div>\n<style scoped>\n    .dataframe tbody tr th:only-of-type {\n        vertical-align: middle;\n    }\n\n    .dataframe tbody tr th {\n        vertical-align: top;\n    }\n\n    .dataframe thead th {\n        text-align: right;\n    }\n</style>\n<table border=\"1\" class=\"dataframe\">\n  <thead>\n    <tr style=\"text-align: right;\">\n      <th></th>\n      <th>First Name</th>\n      <th>Gender</th>\n      <th>Start Date</th>\n      <th>Salary</th>\n      <th>Mgmt</th>\n      <th>Team</th>\n    </tr>\n  </thead>\n  <tbody>\n    <tr>\n      <th>0</th>\n      <td>Douglas</td>\n      <td>Male</td>\n      <td>1993-08-06</td>\n      <td>NaN</td>\n      <td>True</td>\n      <td>Marketing</td>\n    </tr>\n    <tr>\n      <th>5</th>\n      <td>Dennis</td>\n      <td>Male</td>\n      <td>1987-04-18</td>\n      <td>115163.0</td>\n      <td>False</td>\n      <td>Legal</td>\n    </tr>\n    <tr>\n      <th>11</th>\n      <td>Julie</td>\n      <td>Female</td>\n      <td>1997-10-26</td>\n      <td>102508.0</td>\n      <td>True</td>\n      <td>Legal</td>\n    </tr>\n    <tr>\n      <th>13</th>\n      <td>Gary</td>\n      <td>Male</td>\n      <td>2008-01-27</td>\n      <td>109831.0</td>\n      <td>False</td>\n      <td>Sales</td>\n    </tr>\n    <tr>\n      <th>20</th>\n      <td>Lois</td>\n      <td>NaN</td>\n      <td>1995-04-22</td>\n      <td>64714.0</td>\n      <td>True</td>\n      <td>Legal</td>\n    </tr>\n    <tr>\n      <th>...</th>\n      <td>...</td>\n      <td>...</td>\n      <td>...</td>\n      <td>...</td>\n      <td>...</td>\n      <td>...</td>\n    </tr>\n    <tr>\n      <th>986</th>\n      <td>Donna</td>\n      <td>Female</td>\n      <td>1982-11-26</td>\n      <td>82871.0</td>\n      <td>False</td>\n      <td>Marketing</td>\n    </tr>\n    <tr>\n      <th>989</th>\n      <td>Justin</td>\n      <td>NaN</td>\n      <td>1991-02-10</td>\n      <td>38344.0</td>\n      <td>False</td>\n      <td>Legal</td>\n    </tr>\n    <tr>\n      <th>991</th>\n      <td>Rose</td>\n      <td>Female</td>\n      <td>2002-08-25</td>\n      <td>134505.0</td>\n      <td>True</td>\n      <td>Marketing</td>\n    </tr>\n    <tr>\n      <th>994</th>\n      <td>George</td>\n      <td>Male</td>\n      <td>2013-06-21</td>\n      <td>98874.0</td>\n      <td>True</td>\n      <td>Marketing</td>\n    </tr>\n    <tr>\n      <th>999</th>\n      <td>Albert</td>\n      <td>Male</td>\n      <td>2012-05-15</td>\n      <td>129949.0</td>\n      <td>True</td>\n      <td>Sales</td>\n    </tr>\n  </tbody>\n</table>\n<p>280 rows × 6 columns</p>\n</div>"
     },
     "execution_count": 73,
     "metadata": {},
     "output_type": "execute_result"
    }
   ],
   "source": [
    "empDF[empDF['Team'].isin(['Sales', 'Legal', 'Marketing'])]"
   ],
   "metadata": {
    "collapsed": false,
    "ExecuteTime": {
     "end_time": "2024-01-16T06:39:41.135740300Z",
     "start_time": "2024-01-16T06:39:41.111741Z"
    }
   },
   "id": "1ac333a2af652f85",
   "execution_count": 73
  },
  {
   "cell_type": "code",
   "outputs": [
    {
     "data": {
      "text/plain": "0       False\n1       False\n2       False\n3       False\n4       False\n        ...  \n996     False\n997     False\n998     False\n999     False\n1000    False\nName: Salary, Length: 1001, dtype: bool"
     },
     "execution_count": 74,
     "metadata": {},
     "output_type": "execute_result"
    }
   ],
   "source": [
    "empDF['Salary'].between(80000, 90000)"
   ],
   "metadata": {
    "collapsed": false,
    "ExecuteTime": {
     "end_time": "2024-01-16T06:41:38.980106300Z",
     "start_time": "2024-01-16T06:41:38.938107200Z"
    }
   },
   "id": "c0e37adaaffc1200",
   "execution_count": 74
  },
  {
   "cell_type": "code",
   "outputs": [
    {
     "data": {
      "text/plain": "    First Name  Gender Start Date   Salary   Mgmt         Team\n19       Donna  Female 2010-07-22  81014.0  False      Product\n31       Joyce     NaN 2005-02-20  88657.0  False      Product\n35     Theresa  Female 2006-10-10  85182.0  False        Sales\n45       Roger    Male 1980-04-17  88010.0   True        Sales\n54        Sara  Female 2007-08-15  83677.0  False  Engineering\n..         ...     ...        ...      ...    ...          ...\n930      Nancy  Female 2001-09-10  85213.0   True    Marketing\n956    Beverly  Female 1986-10-17  80838.0  False  Engineering\n963        Ann  Female 1994-09-23  89443.0   True        Sales\n985    Stephen     NaN 1983-07-10  85668.0  False        Legal\n986      Donna  Female 1982-11-26  82871.0  False    Marketing\n\n[94 rows x 6 columns]",
      "text/html": "<div>\n<style scoped>\n    .dataframe tbody tr th:only-of-type {\n        vertical-align: middle;\n    }\n\n    .dataframe tbody tr th {\n        vertical-align: top;\n    }\n\n    .dataframe thead th {\n        text-align: right;\n    }\n</style>\n<table border=\"1\" class=\"dataframe\">\n  <thead>\n    <tr style=\"text-align: right;\">\n      <th></th>\n      <th>First Name</th>\n      <th>Gender</th>\n      <th>Start Date</th>\n      <th>Salary</th>\n      <th>Mgmt</th>\n      <th>Team</th>\n    </tr>\n  </thead>\n  <tbody>\n    <tr>\n      <th>19</th>\n      <td>Donna</td>\n      <td>Female</td>\n      <td>2010-07-22</td>\n      <td>81014.0</td>\n      <td>False</td>\n      <td>Product</td>\n    </tr>\n    <tr>\n      <th>31</th>\n      <td>Joyce</td>\n      <td>NaN</td>\n      <td>2005-02-20</td>\n      <td>88657.0</td>\n      <td>False</td>\n      <td>Product</td>\n    </tr>\n    <tr>\n      <th>35</th>\n      <td>Theresa</td>\n      <td>Female</td>\n      <td>2006-10-10</td>\n      <td>85182.0</td>\n      <td>False</td>\n      <td>Sales</td>\n    </tr>\n    <tr>\n      <th>45</th>\n      <td>Roger</td>\n      <td>Male</td>\n      <td>1980-04-17</td>\n      <td>88010.0</td>\n      <td>True</td>\n      <td>Sales</td>\n    </tr>\n    <tr>\n      <th>54</th>\n      <td>Sara</td>\n      <td>Female</td>\n      <td>2007-08-15</td>\n      <td>83677.0</td>\n      <td>False</td>\n      <td>Engineering</td>\n    </tr>\n    <tr>\n      <th>...</th>\n      <td>...</td>\n      <td>...</td>\n      <td>...</td>\n      <td>...</td>\n      <td>...</td>\n      <td>...</td>\n    </tr>\n    <tr>\n      <th>930</th>\n      <td>Nancy</td>\n      <td>Female</td>\n      <td>2001-09-10</td>\n      <td>85213.0</td>\n      <td>True</td>\n      <td>Marketing</td>\n    </tr>\n    <tr>\n      <th>956</th>\n      <td>Beverly</td>\n      <td>Female</td>\n      <td>1986-10-17</td>\n      <td>80838.0</td>\n      <td>False</td>\n      <td>Engineering</td>\n    </tr>\n    <tr>\n      <th>963</th>\n      <td>Ann</td>\n      <td>Female</td>\n      <td>1994-09-23</td>\n      <td>89443.0</td>\n      <td>True</td>\n      <td>Sales</td>\n    </tr>\n    <tr>\n      <th>985</th>\n      <td>Stephen</td>\n      <td>NaN</td>\n      <td>1983-07-10</td>\n      <td>85668.0</td>\n      <td>False</td>\n      <td>Legal</td>\n    </tr>\n    <tr>\n      <th>986</th>\n      <td>Donna</td>\n      <td>Female</td>\n      <td>1982-11-26</td>\n      <td>82871.0</td>\n      <td>False</td>\n      <td>Marketing</td>\n    </tr>\n  </tbody>\n</table>\n<p>94 rows × 6 columns</p>\n</div>"
     },
     "execution_count": 75,
     "metadata": {},
     "output_type": "execute_result"
    }
   ],
   "source": [
    "empDF[empDF['Salary'].between(80000, 90000)]"
   ],
   "metadata": {
    "collapsed": false,
    "ExecuteTime": {
     "end_time": "2024-01-16T06:41:45.911812600Z",
     "start_time": "2024-01-16T06:41:45.887813Z"
    }
   },
   "id": "251a4e47256b952b",
   "execution_count": 75
  },
  {
   "cell_type": "code",
   "outputs": [
    {
     "data": {
      "text/plain": "0       False\n1       False\n2       False\n3       False\n4       False\n        ...  \n996     False\n997     False\n998     False\n999     False\n1000    False\nName: Salary, Length: 1001, dtype: bool"
     },
     "execution_count": 77,
     "metadata": {},
     "output_type": "execute_result"
    }
   ],
   "source": [
    "(empDF['Salary'] >=  80000) & (empDF['Salary'] <= 90000)"
   ],
   "metadata": {
    "collapsed": false,
    "ExecuteTime": {
     "end_time": "2024-01-16T06:42:36.134359900Z",
     "start_time": "2024-01-16T06:42:36.114360400Z"
    }
   },
   "id": "35714db994a19291",
   "execution_count": 77
  },
  {
   "cell_type": "code",
   "outputs": [
    {
     "data": {
      "text/plain": "    First Name  Gender Start Date   Salary   Mgmt         Team\n19       Donna  Female 2010-07-22  81014.0  False      Product\n31       Joyce     NaN 2005-02-20  88657.0  False      Product\n35     Theresa  Female 2006-10-10  85182.0  False        Sales\n45       Roger    Male 1980-04-17  88010.0   True        Sales\n54        Sara  Female 2007-08-15  83677.0  False  Engineering\n..         ...     ...        ...      ...    ...          ...\n930      Nancy  Female 2001-09-10  85213.0   True    Marketing\n956    Beverly  Female 1986-10-17  80838.0  False  Engineering\n963        Ann  Female 1994-09-23  89443.0   True        Sales\n985    Stephen     NaN 1983-07-10  85668.0  False        Legal\n986      Donna  Female 1982-11-26  82871.0  False    Marketing\n\n[94 rows x 6 columns]",
      "text/html": "<div>\n<style scoped>\n    .dataframe tbody tr th:only-of-type {\n        vertical-align: middle;\n    }\n\n    .dataframe tbody tr th {\n        vertical-align: top;\n    }\n\n    .dataframe thead th {\n        text-align: right;\n    }\n</style>\n<table border=\"1\" class=\"dataframe\">\n  <thead>\n    <tr style=\"text-align: right;\">\n      <th></th>\n      <th>First Name</th>\n      <th>Gender</th>\n      <th>Start Date</th>\n      <th>Salary</th>\n      <th>Mgmt</th>\n      <th>Team</th>\n    </tr>\n  </thead>\n  <tbody>\n    <tr>\n      <th>19</th>\n      <td>Donna</td>\n      <td>Female</td>\n      <td>2010-07-22</td>\n      <td>81014.0</td>\n      <td>False</td>\n      <td>Product</td>\n    </tr>\n    <tr>\n      <th>31</th>\n      <td>Joyce</td>\n      <td>NaN</td>\n      <td>2005-02-20</td>\n      <td>88657.0</td>\n      <td>False</td>\n      <td>Product</td>\n    </tr>\n    <tr>\n      <th>35</th>\n      <td>Theresa</td>\n      <td>Female</td>\n      <td>2006-10-10</td>\n      <td>85182.0</td>\n      <td>False</td>\n      <td>Sales</td>\n    </tr>\n    <tr>\n      <th>45</th>\n      <td>Roger</td>\n      <td>Male</td>\n      <td>1980-04-17</td>\n      <td>88010.0</td>\n      <td>True</td>\n      <td>Sales</td>\n    </tr>\n    <tr>\n      <th>54</th>\n      <td>Sara</td>\n      <td>Female</td>\n      <td>2007-08-15</td>\n      <td>83677.0</td>\n      <td>False</td>\n      <td>Engineering</td>\n    </tr>\n    <tr>\n      <th>...</th>\n      <td>...</td>\n      <td>...</td>\n      <td>...</td>\n      <td>...</td>\n      <td>...</td>\n      <td>...</td>\n    </tr>\n    <tr>\n      <th>930</th>\n      <td>Nancy</td>\n      <td>Female</td>\n      <td>2001-09-10</td>\n      <td>85213.0</td>\n      <td>True</td>\n      <td>Marketing</td>\n    </tr>\n    <tr>\n      <th>956</th>\n      <td>Beverly</td>\n      <td>Female</td>\n      <td>1986-10-17</td>\n      <td>80838.0</td>\n      <td>False</td>\n      <td>Engineering</td>\n    </tr>\n    <tr>\n      <th>963</th>\n      <td>Ann</td>\n      <td>Female</td>\n      <td>1994-09-23</td>\n      <td>89443.0</td>\n      <td>True</td>\n      <td>Sales</td>\n    </tr>\n    <tr>\n      <th>985</th>\n      <td>Stephen</td>\n      <td>NaN</td>\n      <td>1983-07-10</td>\n      <td>85668.0</td>\n      <td>False</td>\n      <td>Legal</td>\n    </tr>\n    <tr>\n      <th>986</th>\n      <td>Donna</td>\n      <td>Female</td>\n      <td>1982-11-26</td>\n      <td>82871.0</td>\n      <td>False</td>\n      <td>Marketing</td>\n    </tr>\n  </tbody>\n</table>\n<p>94 rows × 6 columns</p>\n</div>"
     },
     "execution_count": 78,
     "metadata": {},
     "output_type": "execute_result"
    }
   ],
   "source": [
    "empDF[(empDF['Salary'] >=  80000) & (empDF['Salary'] <= 90000)]"
   ],
   "metadata": {
    "collapsed": false,
    "ExecuteTime": {
     "end_time": "2024-01-16T06:43:07.248954200Z",
     "start_time": "2024-01-16T06:43:07.222956500Z"
    }
   },
   "id": "e0c7e60033c63760",
   "execution_count": 78
  },
  {
   "cell_type": "code",
   "outputs": [
    {
     "data": {
      "text/plain": "0       DOUGLAS\n1        THOMAS\n2         MARIA\n3         JERRY\n4         LARRY\n         ...   \n996     PHILLIP\n997     RUSSELL\n998       LARRY\n999      ALBERT\n1000        NaN\nName: First Name, Length: 1001, dtype: object"
     },
     "execution_count": 80,
     "metadata": {},
     "output_type": "execute_result"
    }
   ],
   "source": [
    "empDF['First Name'].str.upper(), empDF['First Name']"
   ],
   "metadata": {
    "collapsed": false,
    "ExecuteTime": {
     "end_time": "2024-01-16T06:47:27.742519500Z",
     "start_time": "2024-01-16T06:47:27.718521500Z"
    }
   },
   "id": "c822981928c65d8b",
   "execution_count": 80
  },
  {
   "cell_type": "code",
   "outputs": [],
   "source": [],
   "metadata": {
    "collapsed": false
   },
   "id": "7fd1b33c7b8fde7"
  }
 ],
 "metadata": {
  "kernelspec": {
   "display_name": "Python 3",
   "language": "python",
   "name": "python3"
  },
  "language_info": {
   "codemirror_mode": {
    "name": "ipython",
    "version": 2
   },
   "file_extension": ".py",
   "mimetype": "text/x-python",
   "name": "python",
   "nbconvert_exporter": "python",
   "pygments_lexer": "ipython2",
   "version": "2.7.6"
  }
 },
 "nbformat": 4,
 "nbformat_minor": 5
}
