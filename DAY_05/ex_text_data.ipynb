{
 "cells": [
  {
   "cell_type": "markdown",
   "source": [
    "## [텍스트 데이터 처리]\n",
    "#### - 다양한 형태의 텍스트 데이터를 정리하기 위한 방법들\n",
    "#### - Series에 str 속성을 활용해서 str제공 전용 메서드 사용 가능\n",
    "#### - 사용방법 : Series객체.str.메서드()"
   ],
   "metadata": {
    "collapsed": false
   },
   "id": "d4b0fd58c026dd6a"
  },
  {
   "cell_type": "markdown",
   "source": [
    "#### - 문자열 관련 메서드를 살펴보기 (1) 공백 제거 관련 메서드 => strip(),lstrip(),rstrip()"
   ],
   "metadata": {
    "collapsed": false
   },
   "id": "4d03c0e3940349e6"
  },
  {
   "cell_type": "code",
   "outputs": [],
   "source": [
    "msg = '   Merry Christmas     '"
   ],
   "metadata": {
    "collapsed": false,
    "ExecuteTime": {
     "end_time": "2024-01-16T07:40:12.574909900Z",
     "start_time": "2024-01-16T07:40:12.543909800Z"
    }
   },
   "id": "cff84d9fca5151e2",
   "execution_count": 22
  },
  {
   "cell_type": "code",
   "outputs": [
    {
     "data": {
      "text/plain": "23"
     },
     "execution_count": 23,
     "metadata": {},
     "output_type": "execute_result"
    }
   ],
   "source": [
    "len(msg)"
   ],
   "metadata": {
    "collapsed": false,
    "ExecuteTime": {
     "end_time": "2024-01-16T07:40:12.601966300Z",
     "start_time": "2024-01-16T07:40:12.579966300Z"
    }
   },
   "id": "bb33dacd411f9f63",
   "execution_count": 23
  },
  {
   "cell_type": "code",
   "outputs": [],
   "source": [
    "msg1, msg2, msg3 = msg.strip(), msg.lstrip(), msg.rstrip()"
   ],
   "metadata": {
    "collapsed": false,
    "ExecuteTime": {
     "end_time": "2024-01-16T07:40:12.616966100Z",
     "start_time": "2024-01-16T07:40:12.604965700Z"
    }
   },
   "id": "473a274bdab742fd",
   "execution_count": 24
  },
  {
   "cell_type": "code",
   "outputs": [
    {
     "data": {
      "text/plain": "(15, 20, 18)"
     },
     "execution_count": 25,
     "metadata": {},
     "output_type": "execute_result"
    }
   ],
   "source": [
    "len(msg1), len(msg2), len(msg3)"
   ],
   "metadata": {
    "collapsed": false,
    "ExecuteTime": {
     "end_time": "2024-01-16T07:40:12.662964Z",
     "start_time": "2024-01-16T07:40:12.613965500Z"
    }
   },
   "id": "deeae74bcb81c012",
   "execution_count": 25
  },
  {
   "cell_type": "markdown",
   "source": [
    "#### <hr> (1) 모듈 로딩 <hr>"
   ],
   "metadata": {
    "collapsed": false
   },
   "id": "6ae650a7fa9f8fdd"
  },
  {
   "cell_type": "code",
   "outputs": [],
   "source": [
    "import pandas as pd"
   ],
   "metadata": {
    "collapsed": false,
    "ExecuteTime": {
     "end_time": "2024-01-16T07:40:12.664964Z",
     "start_time": "2024-01-16T07:40:12.626965200Z"
    }
   },
   "id": "53b20117974496cf",
   "execution_count": 26
  },
  {
   "cell_type": "markdown",
   "source": [
    "#### (2) 데이터 준비"
   ],
   "metadata": {
    "collapsed": false
   },
   "id": "d4323d6e53fbef6"
  },
  {
   "cell_type": "code",
   "outputs": [],
   "source": [
    "flie='../DATA/chicago_food_inspections.csv'"
   ],
   "metadata": {
    "collapsed": false,
    "ExecuteTime": {
     "end_time": "2024-01-16T07:40:12.664964Z",
     "start_time": "2024-01-16T07:40:12.642966200Z"
    }
   },
   "id": "fd9c5e325bdd9aef",
   "execution_count": 27
  },
  {
   "cell_type": "markdown",
   "source": [
    "#### (3) 데이터 "
   ],
   "metadata": {
    "collapsed": false
   },
   "id": "ff0e988ea0709c4f"
  },
  {
   "cell_type": "code",
   "outputs": [],
   "source": [
    "chicagoDF = pd.read_csv(flie)"
   ],
   "metadata": {
    "collapsed": false,
    "ExecuteTime": {
     "end_time": "2024-01-16T07:40:12.779814600Z",
     "start_time": "2024-01-16T07:40:12.658965Z"
    }
   },
   "id": "33414378771cdddc",
   "execution_count": 28
  },
  {
   "cell_type": "markdown",
   "source": [
    "#### (4) 데이터 확인"
   ],
   "metadata": {
    "collapsed": false
   },
   "id": "19db73db77c705af"
  },
  {
   "cell_type": "code",
   "outputs": [
    {
     "name": "stdout",
     "output_type": "stream",
     "text": [
      "<class 'pandas.core.frame.DataFrame'>\n",
      "RangeIndex: 153810 entries, 0 to 153809\n",
      "Data columns (total 2 columns):\n",
      " #   Column  Non-Null Count   Dtype \n",
      "---  ------  --------------   ----- \n",
      " 0   Name    153810 non-null  object\n",
      " 1   Risk    153744 non-null  object\n",
      "dtypes: object(2)\n",
      "memory usage: 2.3+ MB\n"
     ]
    }
   ],
   "source": [
    "chicagoDF.info()"
   ],
   "metadata": {
    "collapsed": false,
    "ExecuteTime": {
     "end_time": "2024-01-16T07:40:12.821647900Z",
     "start_time": "2024-01-16T07:40:12.781803200Z"
    }
   },
   "id": "b50e308e8cea80f0",
   "execution_count": 29
  },
  {
   "cell_type": "code",
   "outputs": [
    {
     "data": {
      "text/plain": "                          Name             Risk\n0   MARRIOT MARQUIS CHICAGO       Risk 1 (High)\n1                  JETS PIZZA   Risk 2 (Medium)\n2                   ROOM 1520      Risk 3 (Low)\n3    MARRIOT MARQUIS CHICAGO      Risk 1 (High)\n4                CHARTWELLS       Risk 1 (High)",
      "text/html": "<div>\n<style scoped>\n    .dataframe tbody tr th:only-of-type {\n        vertical-align: middle;\n    }\n\n    .dataframe tbody tr th {\n        vertical-align: top;\n    }\n\n    .dataframe thead th {\n        text-align: right;\n    }\n</style>\n<table border=\"1\" class=\"dataframe\">\n  <thead>\n    <tr style=\"text-align: right;\">\n      <th></th>\n      <th>Name</th>\n      <th>Risk</th>\n    </tr>\n  </thead>\n  <tbody>\n    <tr>\n      <th>0</th>\n      <td>MARRIOT MARQUIS CHICAGO</td>\n      <td>Risk 1 (High)</td>\n    </tr>\n    <tr>\n      <th>1</th>\n      <td>JETS PIZZA</td>\n      <td>Risk 2 (Medium)</td>\n    </tr>\n    <tr>\n      <th>2</th>\n      <td>ROOM 1520</td>\n      <td>Risk 3 (Low)</td>\n    </tr>\n    <tr>\n      <th>3</th>\n      <td>MARRIOT MARQUIS CHICAGO</td>\n      <td>Risk 1 (High)</td>\n    </tr>\n    <tr>\n      <th>4</th>\n      <td>CHARTWELLS</td>\n      <td>Risk 1 (High)</td>\n    </tr>\n  </tbody>\n</table>\n</div>"
     },
     "execution_count": 30,
     "metadata": {},
     "output_type": "execute_result"
    }
   ],
   "source": [
    "chicagoDF.head()"
   ],
   "metadata": {
    "collapsed": false,
    "ExecuteTime": {
     "end_time": "2024-01-16T07:40:12.831993700Z",
     "start_time": "2024-01-16T07:40:12.814609500Z"
    }
   },
   "id": "8368f89aee1bdeb2",
   "execution_count": 30
  },
  {
   "cell_type": "markdown",
   "source": [
    "#### - [문제] Name 컬럼에서 공백제거 처리"
   ],
   "metadata": {
    "collapsed": false
   },
   "id": "3458cc6eea0a3d93"
  },
  {
   "cell_type": "code",
   "outputs": [],
   "source": [
    "chicagoDF['Name'] = chicagoDF['Name'].str.strip()"
   ],
   "metadata": {
    "collapsed": false,
    "ExecuteTime": {
     "end_time": "2024-01-16T07:40:12.922669900Z",
     "start_time": "2024-01-16T07:40:12.828649200Z"
    }
   },
   "id": "66808f5ffb8f9ba9",
   "execution_count": 31
  },
  {
   "cell_type": "code",
   "outputs": [
    {
     "data": {
      "text/plain": "                                Name             Risk\n0            MARRIOT MARQUIS CHICAGO    Risk 1 (High)\n1                         JETS PIZZA  Risk 2 (Medium)\n2                          ROOM 1520     Risk 3 (Low)\n3            MARRIOT MARQUIS CHICAGO    Risk 1 (High)\n4                         CHARTWELLS    Risk 1 (High)\n...                              ...              ...\n153805                     WOLCOTT'S    Risk 1 (High)\n153806  DUNKIN DONUTS/BASKIN-ROBBINS  Risk 2 (Medium)\n153807                      Cafe 608    Risk 1 (High)\n153808                   mr.daniel's    Risk 1 (High)\n153809                    TEMPO CAFE    Risk 1 (High)\n\n[153810 rows x 2 columns]",
      "text/html": "<div>\n<style scoped>\n    .dataframe tbody tr th:only-of-type {\n        vertical-align: middle;\n    }\n\n    .dataframe tbody tr th {\n        vertical-align: top;\n    }\n\n    .dataframe thead th {\n        text-align: right;\n    }\n</style>\n<table border=\"1\" class=\"dataframe\">\n  <thead>\n    <tr style=\"text-align: right;\">\n      <th></th>\n      <th>Name</th>\n      <th>Risk</th>\n    </tr>\n  </thead>\n  <tbody>\n    <tr>\n      <th>0</th>\n      <td>MARRIOT MARQUIS CHICAGO</td>\n      <td>Risk 1 (High)</td>\n    </tr>\n    <tr>\n      <th>1</th>\n      <td>JETS PIZZA</td>\n      <td>Risk 2 (Medium)</td>\n    </tr>\n    <tr>\n      <th>2</th>\n      <td>ROOM 1520</td>\n      <td>Risk 3 (Low)</td>\n    </tr>\n    <tr>\n      <th>3</th>\n      <td>MARRIOT MARQUIS CHICAGO</td>\n      <td>Risk 1 (High)</td>\n    </tr>\n    <tr>\n      <th>4</th>\n      <td>CHARTWELLS</td>\n      <td>Risk 1 (High)</td>\n    </tr>\n    <tr>\n      <th>...</th>\n      <td>...</td>\n      <td>...</td>\n    </tr>\n    <tr>\n      <th>153805</th>\n      <td>WOLCOTT'S</td>\n      <td>Risk 1 (High)</td>\n    </tr>\n    <tr>\n      <th>153806</th>\n      <td>DUNKIN DONUTS/BASKIN-ROBBINS</td>\n      <td>Risk 2 (Medium)</td>\n    </tr>\n    <tr>\n      <th>153807</th>\n      <td>Cafe 608</td>\n      <td>Risk 1 (High)</td>\n    </tr>\n    <tr>\n      <th>153808</th>\n      <td>mr.daniel's</td>\n      <td>Risk 1 (High)</td>\n    </tr>\n    <tr>\n      <th>153809</th>\n      <td>TEMPO CAFE</td>\n      <td>Risk 1 (High)</td>\n    </tr>\n  </tbody>\n</table>\n<p>153810 rows × 2 columns</p>\n</div>"
     },
     "execution_count": 32,
     "metadata": {},
     "output_type": "execute_result"
    }
   ],
   "source": [
    "chicagoDF"
   ],
   "metadata": {
    "collapsed": false,
    "ExecuteTime": {
     "end_time": "2024-01-16T07:40:12.923670300Z",
     "start_time": "2024-01-16T07:40:12.894669800Z"
    }
   },
   "id": "8d4e80605b91f44c",
   "execution_count": 32
  },
  {
   "cell_type": "code",
   "outputs": [
    {
     "name": "stdout",
     "output_type": "stream",
     "text": [
      "<class 'pandas.core.frame.DataFrame'>\n",
      "RangeIndex: 153810 entries, 0 to 153809\n",
      "Data columns (total 2 columns):\n",
      " #   Column  Non-Null Count   Dtype \n",
      "---  ------  --------------   ----- \n",
      " 0   Name    153810 non-null  object\n",
      " 1   Risk    153744 non-null  object\n",
      "dtypes: object(2)\n",
      "memory usage: 2.3+ MB\n"
     ]
    }
   ],
   "source": [
    "chicagoDF.info()"
   ],
   "metadata": {
    "collapsed": false,
    "ExecuteTime": {
     "end_time": "2024-01-16T07:40:12.964119Z",
     "start_time": "2024-01-16T07:40:12.907670400Z"
    }
   },
   "id": "1f56b4d5191b7b2f",
   "execution_count": 33
  },
  {
   "cell_type": "markdown",
   "source": [
    "#### - [문제] Risk  컬럼에서 문자열 나누기 => Risk 숫자 ==> Risk와 숫자 분리"
   ],
   "metadata": {
    "collapsed": false
   },
   "id": "1b31ca410216762a"
  },
  {
   "cell_type": "code",
   "outputs": [
    {
     "data": {
      "text/plain": "(4,\n array(['Risk 1 (High)', 'Risk 2 (Medium)', 'Risk 3 (Low)', 'All', nan],\n       dtype=object))"
     },
     "execution_count": 34,
     "metadata": {},
     "output_type": "execute_result"
    }
   ],
   "source": [
    "chicagoDF['Risk'].nunique(), chicagoDF['Risk'].unique()"
   ],
   "metadata": {
    "collapsed": false,
    "ExecuteTime": {
     "end_time": "2024-01-16T07:40:13.024120200Z",
     "start_time": "2024-01-16T07:40:12.939115700Z"
    }
   },
   "id": "3374584fb3ab269f",
   "execution_count": 34
  },
  {
   "cell_type": "code",
   "outputs": [
    {
     "data": {
      "text/plain": "(66,\n Name     0\n Risk    66\n dtype: int64)"
     },
     "execution_count": 35,
     "metadata": {},
     "output_type": "execute_result"
    }
   ],
   "source": [
    "chicagoDF['Risk'].isna().sum(), chicagoDF.isna().sum()"
   ],
   "metadata": {
    "collapsed": false,
    "ExecuteTime": {
     "end_time": "2024-01-16T07:40:13.025119900Z",
     "start_time": "2024-01-16T07:40:12.955118500Z"
    }
   },
   "id": "bb113b86fe12a257",
   "execution_count": 35
  },
  {
   "cell_type": "code",
   "outputs": [
    {
     "data": {
      "text/plain": "(153744, 2)"
     },
     "execution_count": 36,
     "metadata": {},
     "output_type": "execute_result"
    }
   ],
   "source": [
    "# 기본 => 행 방향, 행 내에 한개라도 Nan이 있으면 삭제\n",
    "chicagoDF.dropna().shape"
   ],
   "metadata": {
    "collapsed": false,
    "ExecuteTime": {
     "end_time": "2024-01-16T07:40:13.027120400Z",
     "start_time": "2024-01-16T07:40:12.969119200Z"
    }
   },
   "id": "1d98d37a58987fdb",
   "execution_count": 36
  },
  {
   "cell_type": "code",
   "outputs": [
    {
     "data": {
      "text/plain": "(153744, 2)"
     },
     "execution_count": 38,
     "metadata": {},
     "output_type": "execute_result"
    }
   ],
   "source": [
    "# Risk 컬럼이 NaN인 행 삭제 => subset 파라미터 적용\n",
    "chicagoDF.dropna(subset=['Risk']).shape"
   ],
   "metadata": {
    "collapsed": false,
    "ExecuteTime": {
     "end_time": "2024-01-16T07:41:07.164857700Z",
     "start_time": "2024-01-16T07:41:07.141859300Z"
    }
   },
   "id": "a2a7b84d91c69e34",
   "execution_count": 38
  },
  {
   "cell_type": "code",
   "outputs": [
    {
     "data": {
      "text/plain": "0           Risk 1 (High)\n1         Risk 2 (Medium)\n2            Risk 3 (Low)\n3           Risk 1 (High)\n4           Risk 1 (High)\n               ...       \n153805      Risk 1 (High)\n153806    Risk 2 (Medium)\n153807      Risk 1 (High)\n153808      Risk 1 (High)\n153809      Risk 1 (High)\nName: Risk, Length: 153810, dtype: object"
     },
     "execution_count": 39,
     "metadata": {},
     "output_type": "execute_result"
    }
   ],
   "source": [
    "# 원소의 데이터 값이 'all' => \"Risk 4 (Extreme)\" 변경\n",
    "chicagoDF['Risk'].replace('all', 'Risk 4 (Extreme)')"
   ],
   "metadata": {
    "collapsed": false,
    "ExecuteTime": {
     "end_time": "2024-01-16T07:44:26.567846200Z",
     "start_time": "2024-01-16T07:44:26.536848Z"
    }
   },
   "id": "cd7e69ad636474f9",
   "execution_count": 39
  },
  {
   "cell_type": "code",
   "outputs": [
    {
     "data": {
      "text/plain": "0           Risk 1 (High)\n1         Risk 2 (Medium)\n2            Risk 3 (Low)\n3           Risk 1 (High)\n4           Risk 1 (High)\n               ...       \n153805      Risk 1 (High)\n153806    Risk 2 (Medium)\n153807      Risk 1 (High)\n153808      Risk 1 (High)\n153809      Risk 1 (High)\nName: Risk, Length: 153810, dtype: object"
     },
     "execution_count": 41,
     "metadata": {},
     "output_type": "execute_result"
    }
   ],
   "source": [
    "chicagoDF['Risk'].str.slice()"
   ],
   "metadata": {
    "collapsed": false,
    "ExecuteTime": {
     "end_time": "2024-01-16T07:45:26.692082100Z",
     "start_time": "2024-01-16T07:45:26.672082300Z"
    }
   },
   "id": "1cad9a3716c90cb7",
   "execution_count": 41
  },
  {
   "cell_type": "code",
   "outputs": [
    {
     "data": {
      "text/plain": "0           HIGH\n1         MEDIUM\n2            LOW\n3           HIGH\n4           HIGH\n           ...  \n153805      HIGH\n153806    MEDIUM\n153807      HIGH\n153808      HIGH\n153809      HIGH\nName: Risk, Length: 153810, dtype: object"
     },
     "execution_count": 44,
     "metadata": {},
     "output_type": "execute_result"
    }
   ],
   "source": [
    "chicagoDF['Risk'].str.slice(8,-1).str.upper()"
   ],
   "metadata": {
    "collapsed": false,
    "ExecuteTime": {
     "end_time": "2024-01-16T07:50:23.254191300Z",
     "start_time": "2024-01-16T07:50:23.215703400Z"
    }
   },
   "id": "34b114046c96e71e",
   "execution_count": 44
  },
  {
   "cell_type": "code",
   "outputs": [],
   "source": [],
   "metadata": {
    "collapsed": false
   },
   "id": "5f44d9f8ec6defdb"
  }
 ],
 "metadata": {
  "kernelspec": {
   "display_name": "Python 3",
   "language": "python",
   "name": "python3"
  },
  "language_info": {
   "codemirror_mode": {
    "name": "ipython",
    "version": 2
   },
   "file_extension": ".py",
   "mimetype": "text/x-python",
   "name": "python",
   "nbconvert_exporter": "python",
   "pygments_lexer": "ipython2",
   "version": "2.7.6"
  }
 },
 "nbformat": 4,
 "nbformat_minor": 5
}
