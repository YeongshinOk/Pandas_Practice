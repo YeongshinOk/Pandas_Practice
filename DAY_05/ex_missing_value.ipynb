{
 "cells": [
  {
   "cell_type": "markdown",
   "source": [
    "## [결측치 Missing Value 처리]\n",
    "### - 데이터 미입력 또는 데이터 저장 과정에서 지워진 데이터\n",
    "### - 빈칸 의미\n",
    "### - 표시 : NaN (Not A Number) NaT (Not A Text)\n",
    "### - 표현 : numpy 모듈의 nan, math 모듈의 nan 사용"
   ],
   "metadata": {
    "collapsed": false
   },
   "id": "34a8fb960c4f87d7"
  },
  {
   "cell_type": "markdown",
   "source": [
    "### (1) 모듈 로딩"
   ],
   "metadata": {
    "collapsed": false
   },
   "id": "338dfdb54615c7bd"
  },
  {
   "cell_type": "code",
   "outputs": [],
   "source": [
    "import pandas as pd"
   ],
   "metadata": {
    "collapsed": false,
    "ExecuteTime": {
     "end_time": "2024-01-16T02:36:07.575068600Z",
     "start_time": "2024-01-16T02:36:07.051784400Z"
    }
   },
   "id": "efdfea38e90deada",
   "execution_count": 2
  },
  {
   "cell_type": "markdown",
   "source": [
    "### (2) 데이터 준비"
   ],
   "metadata": {
    "collapsed": false
   },
   "id": "bcbfec0a0d96282c"
  },
  {
   "cell_type": "code",
   "outputs": [],
   "source": [
    "file = '../DATA/employees.csv'"
   ],
   "metadata": {
    "collapsed": false,
    "ExecuteTime": {
     "end_time": "2024-01-16T02:36:07.577155Z",
     "start_time": "2024-01-16T02:36:07.558304Z"
    }
   },
   "id": "ef9454d38e187cc4",
   "execution_count": 3
  },
  {
   "cell_type": "markdown",
   "source": [
    "### (3) 데이터 저장 : CSV => DataFrame"
   ],
   "metadata": {
    "collapsed": false
   },
   "id": "878cbc885bfe593d"
  },
  {
   "cell_type": "code",
   "outputs": [],
   "source": [
    "empDF=pd.read_csv(file)"
   ],
   "metadata": {
    "collapsed": false,
    "ExecuteTime": {
     "end_time": "2024-01-16T02:36:07.615787100Z",
     "start_time": "2024-01-16T02:36:07.572983400Z"
    }
   },
   "id": "db150c25a105edc0",
   "execution_count": 4
  },
  {
   "cell_type": "code",
   "outputs": [
    {
     "data": {
      "text/plain": "     First Name  Gender Start Date    Salary   Mgmt          Team\n0       Douglas    Male     8/6/93       NaN   True     Marketing\n1        Thomas    Male    3/31/96   61933.0   True           NaN\n2         Maria  Female        NaN  130590.0  False       Finance\n3         Jerry     NaN     3/4/05  138705.0   True       Finance\n4         Larry    Male    1/24/98  101004.0   True            IT\n...         ...     ...        ...       ...    ...           ...\n996     Phillip    Male    1/31/84   42392.0  False       Finance\n997     Russell    Male    5/20/13   96914.0  False       Product\n998       Larry    Male    4/20/13   60500.0  False  Business Dev\n999      Albert    Male    5/15/12  129949.0   True         Sales\n1000        NaN     NaN        NaN       NaN    NaN           NaN\n\n[1001 rows x 6 columns]",
      "text/html": "<div>\n<style scoped>\n    .dataframe tbody tr th:only-of-type {\n        vertical-align: middle;\n    }\n\n    .dataframe tbody tr th {\n        vertical-align: top;\n    }\n\n    .dataframe thead th {\n        text-align: right;\n    }\n</style>\n<table border=\"1\" class=\"dataframe\">\n  <thead>\n    <tr style=\"text-align: right;\">\n      <th></th>\n      <th>First Name</th>\n      <th>Gender</th>\n      <th>Start Date</th>\n      <th>Salary</th>\n      <th>Mgmt</th>\n      <th>Team</th>\n    </tr>\n  </thead>\n  <tbody>\n    <tr>\n      <th>0</th>\n      <td>Douglas</td>\n      <td>Male</td>\n      <td>8/6/93</td>\n      <td>NaN</td>\n      <td>True</td>\n      <td>Marketing</td>\n    </tr>\n    <tr>\n      <th>1</th>\n      <td>Thomas</td>\n      <td>Male</td>\n      <td>3/31/96</td>\n      <td>61933.0</td>\n      <td>True</td>\n      <td>NaN</td>\n    </tr>\n    <tr>\n      <th>2</th>\n      <td>Maria</td>\n      <td>Female</td>\n      <td>NaN</td>\n      <td>130590.0</td>\n      <td>False</td>\n      <td>Finance</td>\n    </tr>\n    <tr>\n      <th>3</th>\n      <td>Jerry</td>\n      <td>NaN</td>\n      <td>3/4/05</td>\n      <td>138705.0</td>\n      <td>True</td>\n      <td>Finance</td>\n    </tr>\n    <tr>\n      <th>4</th>\n      <td>Larry</td>\n      <td>Male</td>\n      <td>1/24/98</td>\n      <td>101004.0</td>\n      <td>True</td>\n      <td>IT</td>\n    </tr>\n    <tr>\n      <th>...</th>\n      <td>...</td>\n      <td>...</td>\n      <td>...</td>\n      <td>...</td>\n      <td>...</td>\n      <td>...</td>\n    </tr>\n    <tr>\n      <th>996</th>\n      <td>Phillip</td>\n      <td>Male</td>\n      <td>1/31/84</td>\n      <td>42392.0</td>\n      <td>False</td>\n      <td>Finance</td>\n    </tr>\n    <tr>\n      <th>997</th>\n      <td>Russell</td>\n      <td>Male</td>\n      <td>5/20/13</td>\n      <td>96914.0</td>\n      <td>False</td>\n      <td>Product</td>\n    </tr>\n    <tr>\n      <th>998</th>\n      <td>Larry</td>\n      <td>Male</td>\n      <td>4/20/13</td>\n      <td>60500.0</td>\n      <td>False</td>\n      <td>Business Dev</td>\n    </tr>\n    <tr>\n      <th>999</th>\n      <td>Albert</td>\n      <td>Male</td>\n      <td>5/15/12</td>\n      <td>129949.0</td>\n      <td>True</td>\n      <td>Sales</td>\n    </tr>\n    <tr>\n      <th>1000</th>\n      <td>NaN</td>\n      <td>NaN</td>\n      <td>NaN</td>\n      <td>NaN</td>\n      <td>NaN</td>\n      <td>NaN</td>\n    </tr>\n  </tbody>\n</table>\n<p>1001 rows × 6 columns</p>\n</div>"
     },
     "execution_count": 5,
     "metadata": {},
     "output_type": "execute_result"
    }
   ],
   "source": [
    "empDF\n"
   ],
   "metadata": {
    "collapsed": false,
    "ExecuteTime": {
     "end_time": "2024-01-16T02:36:07.637675900Z",
     "start_time": "2024-01-16T02:36:07.588715200Z"
    }
   },
   "id": "f5f65240bee9fec0",
   "execution_count": 5
  },
  {
   "cell_type": "markdown",
   "source": [
    "### (4) 데이터 확인"
   ],
   "metadata": {
    "collapsed": false
   },
   "id": "5c049975a0a5e5a8"
  },
  {
   "cell_type": "code",
   "outputs": [
    {
     "name": "stdout",
     "output_type": "stream",
     "text": [
      "<class 'pandas.core.frame.DataFrame'>\n",
      "RangeIndex: 1001 entries, 0 to 1000\n",
      "Data columns (total 6 columns):\n",
      " #   Column      Non-Null Count  Dtype  \n",
      "---  ------      --------------  -----  \n",
      " 0   First Name  933 non-null    object \n",
      " 1   Gender      854 non-null    object \n",
      " 2   Start Date  999 non-null    object \n",
      " 3   Salary      999 non-null    float64\n",
      " 4   Mgmt        933 non-null    object \n",
      " 5   Team        957 non-null    object \n",
      "dtypes: float64(1), object(5)\n",
      "memory usage: 47.0+ KB\n"
     ]
    }
   ],
   "source": [
    "# 데이터의 전반적인 요약정보 확인 => info() 메서드\n",
    "# - 컬럼별 결측치 여부 확인 ==> 실제 데이터에서 결측치 체크 & 처리\n",
    "# - 컬럼별 데이터 타입과 실제 데이터 타입 비교 ==> 타입 다른 경우, 타입 변환\n",
    "empDF.info()"
   ],
   "metadata": {
    "collapsed": false,
    "ExecuteTime": {
     "end_time": "2024-01-16T02:36:07.640805800Z",
     "start_time": "2024-01-16T02:36:07.619948700Z"
    }
   },
   "id": "7caa0209d6f9a86f",
   "execution_count": 6
  },
  {
   "cell_type": "markdown",
   "source": [
    "### - 데이터의 컬럼별 분포 확인 => describe() : 컬럼별 기술통계값"
   ],
   "metadata": {
    "collapsed": false
   },
   "id": "42acd151b5f9ebd5"
  },
  {
   "cell_type": "code",
   "outputs": [
    {
     "data": {
      "text/plain": "              Salary\ncount     999.000000\nmean    90655.528529\nstd     32939.511615\nmin     35013.000000\n25%     62560.000000\n50%     90427.000000\n75%    118744.500000\nmax    149908.000000",
      "text/html": "<div>\n<style scoped>\n    .dataframe tbody tr th:only-of-type {\n        vertical-align: middle;\n    }\n\n    .dataframe tbody tr th {\n        vertical-align: top;\n    }\n\n    .dataframe thead th {\n        text-align: right;\n    }\n</style>\n<table border=\"1\" class=\"dataframe\">\n  <thead>\n    <tr style=\"text-align: right;\">\n      <th></th>\n      <th>Salary</th>\n    </tr>\n  </thead>\n  <tbody>\n    <tr>\n      <th>count</th>\n      <td>999.000000</td>\n    </tr>\n    <tr>\n      <th>mean</th>\n      <td>90655.528529</td>\n    </tr>\n    <tr>\n      <th>std</th>\n      <td>32939.511615</td>\n    </tr>\n    <tr>\n      <th>min</th>\n      <td>35013.000000</td>\n    </tr>\n    <tr>\n      <th>25%</th>\n      <td>62560.000000</td>\n    </tr>\n    <tr>\n      <th>50%</th>\n      <td>90427.000000</td>\n    </tr>\n    <tr>\n      <th>75%</th>\n      <td>118744.500000</td>\n    </tr>\n    <tr>\n      <th>max</th>\n      <td>149908.000000</td>\n    </tr>\n  </tbody>\n</table>\n</div>"
     },
     "execution_count": 7,
     "metadata": {},
     "output_type": "execute_result"
    }
   ],
   "source": [
    "empDF.describe()"
   ],
   "metadata": {
    "collapsed": false,
    "ExecuteTime": {
     "end_time": "2024-01-16T02:36:07.686617600Z",
     "start_time": "2024-01-16T02:36:07.635583800Z"
    }
   },
   "id": "560823d9866a16d8",
   "execution_count": 7
  },
  {
   "cell_type": "code",
   "outputs": [
    {
     "name": "stdout",
     "output_type": "stream",
     "text": [
      "     Salary\n",
      "0   86676.0\n",
      "1   91462.0\n",
      "2  121160.0\n",
      "3  145988.0\n",
      "4  147183.0\n",
      "\n",
      "Salary    90427.0\n",
      "dtype: float64\n",
      "\n",
      "Salary    35013.0\n",
      "dtype: float64\n"
     ]
    }
   ],
   "source": [
    "# 최빈값 => mode(), 중앙값 => median()\n",
    "print(empDF.mode(numeric_only=True),\n",
    "      empDF.median(numeric_only=True),\n",
    "      empDF.min(numeric_only=True),\n",
    "      sep='\\n\\n')"
   ],
   "metadata": {
    "collapsed": false,
    "ExecuteTime": {
     "end_time": "2024-01-16T02:36:07.712543700Z",
     "start_time": "2024-01-16T02:36:07.651297400Z"
    }
   },
   "id": "e7196623aa3f74d9",
   "execution_count": 8
  },
  {
   "cell_type": "markdown",
   "source": [
    "### -(5) 데이터 전처리(Preprocessing)=> 가. 결측치 처리"
   ],
   "metadata": {
    "collapsed": false
   },
   "id": "f7c7a16156c2a270"
  },
  {
   "cell_type": "markdown",
   "source": [
    "### - 결측치 확인 ==> isna(), isnull() : 원소 단위로 검사 후 결측치인 경우"
   ],
   "metadata": {
    "collapsed": false
   },
   "id": "91c8923981b45824"
  },
  {
   "cell_type": "code",
   "outputs": [
    {
     "data": {
      "text/plain": "Index(['First Name', 'Gender', 'Start Date', 'Salary', 'Mgmt', 'Team'], dtype='object')"
     },
     "execution_count": 9,
     "metadata": {},
     "output_type": "execute_result"
    }
   ],
   "source": [
    "empDF.columns"
   ],
   "metadata": {
    "collapsed": false,
    "ExecuteTime": {
     "end_time": "2024-01-16T02:36:07.714642400Z",
     "start_time": "2024-01-16T02:36:07.669025400Z"
    }
   },
   "id": "563fa479b542a97e",
   "execution_count": 9
  },
  {
   "cell_type": "code",
   "outputs": [
    {
     "data": {
      "text/plain": "      First Name  Gender  Start Date  Salary   Mgmt   Team\n0          False   False       False    True  False  False\n1          False   False       False   False  False   True\n2          False   False        True   False  False  False\n3          False    True       False   False  False  False\n4          False   False       False   False  False  False\n...          ...     ...         ...     ...    ...    ...\n996        False   False       False   False  False  False\n997        False   False       False   False  False  False\n998        False   False       False   False  False  False\n999        False   False       False   False  False  False\n1000        True    True        True    True   True   True\n\n[1001 rows x 6 columns]",
      "text/html": "<div>\n<style scoped>\n    .dataframe tbody tr th:only-of-type {\n        vertical-align: middle;\n    }\n\n    .dataframe tbody tr th {\n        vertical-align: top;\n    }\n\n    .dataframe thead th {\n        text-align: right;\n    }\n</style>\n<table border=\"1\" class=\"dataframe\">\n  <thead>\n    <tr style=\"text-align: right;\">\n      <th></th>\n      <th>First Name</th>\n      <th>Gender</th>\n      <th>Start Date</th>\n      <th>Salary</th>\n      <th>Mgmt</th>\n      <th>Team</th>\n    </tr>\n  </thead>\n  <tbody>\n    <tr>\n      <th>0</th>\n      <td>False</td>\n      <td>False</td>\n      <td>False</td>\n      <td>True</td>\n      <td>False</td>\n      <td>False</td>\n    </tr>\n    <tr>\n      <th>1</th>\n      <td>False</td>\n      <td>False</td>\n      <td>False</td>\n      <td>False</td>\n      <td>False</td>\n      <td>True</td>\n    </tr>\n    <tr>\n      <th>2</th>\n      <td>False</td>\n      <td>False</td>\n      <td>True</td>\n      <td>False</td>\n      <td>False</td>\n      <td>False</td>\n    </tr>\n    <tr>\n      <th>3</th>\n      <td>False</td>\n      <td>True</td>\n      <td>False</td>\n      <td>False</td>\n      <td>False</td>\n      <td>False</td>\n    </tr>\n    <tr>\n      <th>4</th>\n      <td>False</td>\n      <td>False</td>\n      <td>False</td>\n      <td>False</td>\n      <td>False</td>\n      <td>False</td>\n    </tr>\n    <tr>\n      <th>...</th>\n      <td>...</td>\n      <td>...</td>\n      <td>...</td>\n      <td>...</td>\n      <td>...</td>\n      <td>...</td>\n    </tr>\n    <tr>\n      <th>996</th>\n      <td>False</td>\n      <td>False</td>\n      <td>False</td>\n      <td>False</td>\n      <td>False</td>\n      <td>False</td>\n    </tr>\n    <tr>\n      <th>997</th>\n      <td>False</td>\n      <td>False</td>\n      <td>False</td>\n      <td>False</td>\n      <td>False</td>\n      <td>False</td>\n    </tr>\n    <tr>\n      <th>998</th>\n      <td>False</td>\n      <td>False</td>\n      <td>False</td>\n      <td>False</td>\n      <td>False</td>\n      <td>False</td>\n    </tr>\n    <tr>\n      <th>999</th>\n      <td>False</td>\n      <td>False</td>\n      <td>False</td>\n      <td>False</td>\n      <td>False</td>\n      <td>False</td>\n    </tr>\n    <tr>\n      <th>1000</th>\n      <td>True</td>\n      <td>True</td>\n      <td>True</td>\n      <td>True</td>\n      <td>True</td>\n      <td>True</td>\n    </tr>\n  </tbody>\n</table>\n<p>1001 rows × 6 columns</p>\n</div>"
     },
     "execution_count": 10,
     "metadata": {},
     "output_type": "execute_result"
    }
   ],
   "source": [
    "# 전체 데이터의 컬럼별 결측치 체크\n",
    "empDF.isna()\n",
    "empDF.isnull()"
   ],
   "metadata": {
    "collapsed": false,
    "ExecuteTime": {
     "end_time": "2024-01-16T02:36:07.848134Z",
     "start_time": "2024-01-16T02:36:07.681476100Z"
    }
   },
   "id": "d489e25fea26c51d",
   "execution_count": 10
  },
  {
   "cell_type": "code",
   "outputs": [
    {
     "data": {
      "text/plain": "First Name     68\nGender        147\nStart Date      2\nSalary          2\nMgmt           68\nTeam           44\ndtype: int64"
     },
     "execution_count": 11,
     "metadata": {},
     "output_type": "execute_result"
    }
   ],
   "source": [
    "empDF.isnull().sum()"
   ],
   "metadata": {
    "collapsed": false,
    "ExecuteTime": {
     "end_time": "2024-01-16T02:36:07.885759900Z",
     "start_time": "2024-01-16T02:36:07.703237200Z"
    }
   },
   "id": "4a000bc0ec2e9ca0",
   "execution_count": 11
  },
  {
   "cell_type": "markdown",
   "source": [
    "### - 결측치 확인 ==> notna() / notnull() : 결측치가 아니면 True 반환"
   ],
   "metadata": {
    "collapsed": false
   },
   "id": "6bc66e779c093d4f"
  },
  {
   "cell_type": "code",
   "outputs": [
    {
     "name": "stdout",
     "output_type": "stream",
     "text": [
      "   First Name  Gender  Start Date  Salary  Mgmt   Team\n",
      "0        True    True        True   False  True   True\n",
      "1        True    True        True    True  True  False\n",
      "2        True    True       False    True  True   True\n",
      "3        True   False        True    True  True   True\n",
      "4        True    True        True    True  True   True\n",
      "\n",
      "First Name    933\n",
      "Gender        854\n",
      "Start Date    999\n",
      "Salary        999\n",
      "Mgmt          933\n",
      "Team          957\n",
      "dtype: int64\n"
     ]
    }
   ],
   "source": [
    "print(empDF.notna().head(), empDF.notnull().sum(), sep='\\n\\n')"
   ],
   "metadata": {
    "collapsed": false,
    "ExecuteTime": {
     "end_time": "2024-01-16T02:36:07.937125900Z",
     "start_time": "2024-01-16T02:36:07.717768Z"
    }
   },
   "id": "6bab2bb3bf36093f",
   "execution_count": 12
  },
  {
   "cell_type": "markdown",
   "source": [
    "### - 결측치 처리 ==> (1) 삭제 : dropna()"
   ],
   "metadata": {
    "collapsed": false
   },
   "id": "c5159b0f030c802a"
  },
  {
   "cell_type": "code",
   "outputs": [
    {
     "name": "stdout",
     "output_type": "stream",
     "text": [
      "(1001, 6) (761, 6)\n"
     ]
    }
   ],
   "source": [
    "# [기본] 모든 행에 1개의 값이라도 NaN이면 삭제\n",
    "empDF2=empDF.dropna()\n",
    "print(empDF.shape, empDF2.shape)"
   ],
   "metadata": {
    "collapsed": false,
    "ExecuteTime": {
     "end_time": "2024-01-16T02:36:07.938174200Z",
     "start_time": "2024-01-16T02:36:07.732337500Z"
    }
   },
   "id": "5723709f90f87d2c",
   "execution_count": 13
  },
  {
   "cell_type": "code",
   "outputs": [
    {
     "name": "stdout",
     "output_type": "stream",
     "text": [
      "(1001, 6) (1000, 6)\n"
     ]
    }
   ],
   "source": [
    "# [설정] 행의 모든 데이터 즉 모든 값이 NA면 삭제\n",
    "# \n",
    "empDF3=empDF.dropna(how='all')\n",
    "print(empDF.shape, empDF3.shape)"
   ],
   "metadata": {
    "collapsed": false,
    "ExecuteTime": {
     "end_time": "2024-01-16T02:36:07.939217700Z",
     "start_time": "2024-01-16T02:36:07.748052800Z"
    }
   },
   "id": "75270422b7c9f90d",
   "execution_count": 14
  },
  {
   "cell_type": "code",
   "outputs": [
    {
     "name": "stdout",
     "output_type": "stream",
     "text": [
      "(1001, 6) (853, 6)\n"
     ]
    }
   ],
   "source": [
    "# [설정] 특정 컬럼의 NA만 체크 후 삭제하는 방법\n",
    "# 예) 성별에 따른 연봉 분석 => NA 면 분석 불가능 컬럼을 지정\n",
    "empDF4=empDF.dropna(subset=['Gender','Salary'])\n",
    "print(empDF.shape, empDF4.shape)"
   ],
   "metadata": {
    "collapsed": false,
    "ExecuteTime": {
     "end_time": "2024-01-16T02:36:07.940256300Z",
     "start_time": "2024-01-16T02:36:07.765220700Z"
    }
   },
   "id": "f67b61b07f6a7e96",
   "execution_count": 15
  },
  {
   "cell_type": "code",
   "outputs": [
    {
     "name": "stdout",
     "output_type": "stream",
     "text": [
      "(1001, 6) (1001, 5) Index(['First Name', 'Gender', 'Start Date', 'Salary', 'Mgmt', 'Team'], dtype='object')\n"
     ]
    }
   ],
   "source": [
    "# [설정] 컬럼별 정상 데이터 즉 NA가 아닌 데이터의 갯수를 지정 후\n",
    "#        해당 수 만큼 정상 데이터가 없는 컬럼 삭제\n",
    "empDF5 = empDF.dropna(thresh=900, axis='columns')\n",
    "print(empDF.shape, empDF5.shape, empDF.columns)"
   ],
   "metadata": {
    "collapsed": false,
    "ExecuteTime": {
     "end_time": "2024-01-16T02:36:07.941303600Z",
     "start_time": "2024-01-16T02:36:07.782972400Z"
    }
   },
   "id": "4a5f37a6fd2888e7",
   "execution_count": 16
  },
  {
   "cell_type": "markdown",
   "source": [
    "### - 결측치 처리 => 대체 : fillna()"
   ],
   "metadata": {
    "collapsed": false
   },
   "id": "31f48fe6696e753"
  },
  {
   "cell_type": "code",
   "outputs": [
    {
     "data": {
      "text/plain": "       First Name  Gender Start Date  Salary  Mgmt Team\ncount         933     854        999   999.0   933  957\nunique        200       2        971     NaN     2   10\ntop       Marilyn  Female   10/30/04     NaN  True   IT\nfreq           11     431          2     NaN   468  106",
      "text/html": "<div>\n<style scoped>\n    .dataframe tbody tr th:only-of-type {\n        vertical-align: middle;\n    }\n\n    .dataframe tbody tr th {\n        vertical-align: top;\n    }\n\n    .dataframe thead th {\n        text-align: right;\n    }\n</style>\n<table border=\"1\" class=\"dataframe\">\n  <thead>\n    <tr style=\"text-align: right;\">\n      <th></th>\n      <th>First Name</th>\n      <th>Gender</th>\n      <th>Start Date</th>\n      <th>Salary</th>\n      <th>Mgmt</th>\n      <th>Team</th>\n    </tr>\n  </thead>\n  <tbody>\n    <tr>\n      <th>count</th>\n      <td>933</td>\n      <td>854</td>\n      <td>999</td>\n      <td>999.0</td>\n      <td>933</td>\n      <td>957</td>\n    </tr>\n    <tr>\n      <th>unique</th>\n      <td>200</td>\n      <td>2</td>\n      <td>971</td>\n      <td>NaN</td>\n      <td>2</td>\n      <td>10</td>\n    </tr>\n    <tr>\n      <th>top</th>\n      <td>Marilyn</td>\n      <td>Female</td>\n      <td>10/30/04</td>\n      <td>NaN</td>\n      <td>True</td>\n      <td>IT</td>\n    </tr>\n    <tr>\n      <th>freq</th>\n      <td>11</td>\n      <td>431</td>\n      <td>2</td>\n      <td>NaN</td>\n      <td>468</td>\n      <td>106</td>\n    </tr>\n  </tbody>\n</table>\n</div>"
     },
     "execution_count": 17,
     "metadata": {},
     "output_type": "execute_result"
    }
   ],
   "source": [
    "# Gender 컬럼에 결측 값은 무엇으로 채울까???\n",
    "empDF.describe(include='all').head(4)"
   ],
   "metadata": {
    "collapsed": false,
    "ExecuteTime": {
     "end_time": "2024-01-16T02:36:08.082676700Z",
     "start_time": "2024-01-16T02:36:07.797054300Z"
    }
   },
   "id": "f1640730eccf04d6",
   "execution_count": 17
  },
  {
   "cell_type": "code",
   "outputs": [],
   "source": [
    "# ==> 컬럼의 최빈값으로 na 채우기\n",
    "# empDF.Gender.mode()[0]\n",
    "genSR = empDF['Gender'].fillna(empDF.Gender.mode()[0])\n",
    "genSR.isna().sum()\n",
    "import numpy as np\n",
    "df = pd.DataFrame([[np.nan, 2, np.nan, 0],\n",
    "                [3, 4, np.nan, 1],\n",
    "                [np.nan, np.nan, np.nan, np.nan],\n",
    "                [np.nan, 3, np.nan, 4]],\n",
    "               columns=list(\"ABCD\"))"
   ],
   "metadata": {
    "collapsed": false,
    "ExecuteTime": {
     "end_time": "2024-01-16T02:36:08.083726800Z",
     "start_time": "2024-01-16T02:36:07.826318300Z"
    }
   },
   "id": "bda3a4bcf69c5750",
   "execution_count": 18
  },
  {
   "cell_type": "code",
   "outputs": [
    {
     "data": {
      "text/plain": "0         Male\n1         Male\n2       Female\n3       Female\n4         Male\n         ...  \n996       Male\n997       Male\n998       Male\n999       Male\n1000      Male\nName: Gender, Length: 1001, dtype: object"
     },
     "execution_count": 19,
     "metadata": {},
     "output_type": "execute_result"
    }
   ],
   "source": [
    "# ==> NA값 이전과 이후 값으로 채우기 => method = 'ffill', method = 'bfill'\n",
    "empDF.Gender.fillna(method='ffill')"
   ],
   "metadata": {
    "collapsed": false,
    "ExecuteTime": {
     "end_time": "2024-01-16T02:36:08.085794500Z",
     "start_time": "2024-01-16T02:36:07.842920800Z"
    }
   },
   "id": "2cc9563c781444a8",
   "execution_count": 19
  },
  {
   "cell_type": "code",
   "outputs": [],
   "source": [
    "import numpy as np\n",
    "df = pd.DataFrame([[np.nan, 2, np.nan, 0],\n",
    "                    [3, 4, np.nan, 1],\n",
    "                    [np.nan, np.nan, np.nan, np.nan],\n",
    "                    [np.nan, 3, np.nan, 4]],\n",
    "                   columns=list(\"ABCD\"))"
   ],
   "metadata": {
    "collapsed": false,
    "ExecuteTime": {
     "end_time": "2024-01-16T02:36:08.086829200Z",
     "start_time": "2024-01-16T02:36:07.858638500Z"
    }
   },
   "id": "679e69188e2d8fc7",
   "execution_count": 20
  },
  {
   "cell_type": "code",
   "outputs": [
    {
     "data": {
      "text/plain": "     A    B   C    D\n0  NaN  2.0 NaN  0.0\n1  3.0  4.0 NaN  1.0\n2  NaN  NaN NaN  NaN\n3  NaN  3.0 NaN  4.0",
      "text/html": "<div>\n<style scoped>\n    .dataframe tbody tr th:only-of-type {\n        vertical-align: middle;\n    }\n\n    .dataframe tbody tr th {\n        vertical-align: top;\n    }\n\n    .dataframe thead th {\n        text-align: right;\n    }\n</style>\n<table border=\"1\" class=\"dataframe\">\n  <thead>\n    <tr style=\"text-align: right;\">\n      <th></th>\n      <th>A</th>\n      <th>B</th>\n      <th>C</th>\n      <th>D</th>\n    </tr>\n  </thead>\n  <tbody>\n    <tr>\n      <th>0</th>\n      <td>NaN</td>\n      <td>2.0</td>\n      <td>NaN</td>\n      <td>0.0</td>\n    </tr>\n    <tr>\n      <th>1</th>\n      <td>3.0</td>\n      <td>4.0</td>\n      <td>NaN</td>\n      <td>1.0</td>\n    </tr>\n    <tr>\n      <th>2</th>\n      <td>NaN</td>\n      <td>NaN</td>\n      <td>NaN</td>\n      <td>NaN</td>\n    </tr>\n    <tr>\n      <th>3</th>\n      <td>NaN</td>\n      <td>3.0</td>\n      <td>NaN</td>\n      <td>4.0</td>\n    </tr>\n  </tbody>\n</table>\n</div>"
     },
     "execution_count": 21,
     "metadata": {},
     "output_type": "execute_result"
    }
   ],
   "source": [
    "df"
   ],
   "metadata": {
    "collapsed": false,
    "ExecuteTime": {
     "end_time": "2024-01-16T02:36:08.117931400Z",
     "start_time": "2024-01-16T02:36:07.874263800Z"
    }
   },
   "id": "928b07f6267cb2b0",
   "execution_count": 21
  },
  {
   "cell_type": "code",
   "outputs": [
    {
     "data": {
      "text/plain": "0    NaN\n1    3.0\n2    3.0\n3    NaN\nName: A, dtype: float64"
     },
     "execution_count": 22,
     "metadata": {},
     "output_type": "execute_result"
    }
   ],
   "source": [
    "df.A.fillna(method='ffill', limit=1)"
   ],
   "metadata": {
    "collapsed": false,
    "ExecuteTime": {
     "end_time": "2024-01-16T02:36:08.137684600Z",
     "start_time": "2024-01-16T02:36:07.889864800Z"
    }
   },
   "id": "d7484802046897c",
   "execution_count": 22
  },
  {
   "cell_type": "code",
   "outputs": [
    {
     "data": {
      "text/plain": "0    3.0\n1    3.0\n2    NaN\n3    NaN\nName: A, dtype: float64"
     },
     "execution_count": 23,
     "metadata": {},
     "output_type": "execute_result"
    }
   ],
   "source": [
    "df.A.fillna(method='bfill', limit=1)\n"
   ],
   "metadata": {
    "collapsed": false,
    "ExecuteTime": {
     "end_time": "2024-01-16T02:36:08.139772Z",
     "start_time": "2024-01-16T02:36:07.905666Z"
    }
   },
   "id": "37a3bd57e47c69b5",
   "execution_count": 23
  },
  {
   "cell_type": "code",
   "outputs": [
    {
     "data": {
      "text/plain": "0    2.0\n1    4.0\n2    3.0\n3    3.0\nName: B, dtype: float64"
     },
     "execution_count": 24,
     "metadata": {},
     "output_type": "execute_result"
    }
   ],
   "source": [
    "# B 컬럼과 D 컬럼을 평균으로 결측치를 대체\n",
    "df.B.fillna(df.B.mean())"
   ],
   "metadata": {
    "collapsed": false,
    "ExecuteTime": {
     "end_time": "2024-01-16T02:36:08.140803500Z",
     "start_time": "2024-01-16T02:36:07.921245900Z"
    }
   },
   "id": "7ad94e8fc17884bf",
   "execution_count": 24
  },
  {
   "cell_type": "code",
   "outputs": [
    {
     "data": {
      "text/plain": "0    2.0\n1    4.0\n2    3.0\n3    3.0\nName: B, dtype: float64"
     },
     "execution_count": 25,
     "metadata": {},
     "output_type": "execute_result"
    }
   ],
   "source": [
    "# B 컬럼과 D 컬럼을 최빈값으로 결측치를 대체\n",
    "df.B.fillna(df.B.median())"
   ],
   "metadata": {
    "collapsed": false,
    "ExecuteTime": {
     "end_time": "2024-01-16T02:36:08.168264700Z",
     "start_time": "2024-01-16T02:36:07.936098Z"
    }
   },
   "id": "35d7392a8983fd24",
   "execution_count": 25
  },
  {
   "cell_type": "code",
   "outputs": [],
   "source": [],
   "metadata": {
    "collapsed": false,
    "ExecuteTime": {
     "end_time": "2024-01-16T02:36:08.171471900Z",
     "start_time": "2024-01-16T02:36:07.950662900Z"
    }
   },
   "id": "aea528b72adb8399",
   "execution_count": 25
  }
 ],
 "metadata": {
  "kernelspec": {
   "display_name": "Python 3",
   "language": "python",
   "name": "python3"
  },
  "language_info": {
   "codemirror_mode": {
    "name": "ipython",
    "version": 2
   },
   "file_extension": ".py",
   "mimetype": "text/x-python",
   "name": "python",
   "nbconvert_exporter": "python",
   "pygments_lexer": "ipython2",
   "version": "2.7.6"
  }
 },
 "nbformat": 4,
 "nbformat_minor": 5
}
