{
 "cells": [
  {
   "cell_type": "markdown",
   "source": [
    "### [데이터 기반 시각화]\n",
    "#### * 데이터 : 남북한발전전력.xlsx\n",
    "#### * 남북한 수력발전전력량에 대한 시각화"
   ],
   "metadata": {
    "collapsed": false
   },
   "id": "df7ace3b0f808ad7"
  },
  {
   "cell_type": "markdown",
   "source": [
    "#### (1) 모듈 로딩 <hr>"
   ],
   "metadata": {
    "collapsed": false
   },
   "id": "5b5f63aa341e6afc"
  },
  {
   "cell_type": "code",
   "outputs": [],
   "source": [
    "import pandas as pd\n",
    "import matplotlib.pyplot as plt"
   ],
   "metadata": {
    "collapsed": false,
    "ExecuteTime": {
     "end_time": "2024-01-17T07:45:15.263953500Z",
     "start_time": "2024-01-17T07:45:15.241954800Z"
    }
   },
   "id": "12074b508c94d133",
   "execution_count": 42
  },
  {
   "cell_type": "markdown",
   "source": [
    "#### (2) 데이터 준비 <hr>"
   ],
   "metadata": {
    "collapsed": false
   },
   "id": "479ca4ef60945d14"
  },
  {
   "cell_type": "code",
   "outputs": [],
   "source": [
    "file = '../DATA/남북한발전전력량.xlsx'"
   ],
   "metadata": {
    "collapsed": false,
    "ExecuteTime": {
     "end_time": "2024-01-17T04:45:08.563800400Z",
     "start_time": "2024-01-17T04:45:08.551799700Z"
    }
   },
   "id": "4a932e2e931cf8fb",
   "execution_count": 24
  },
  {
   "cell_type": "markdown",
   "source": [
    "#### - 실제 데이터 파일 확인 결과\n",
    "#### * 첫 번째 행은 컬럼명 데이터 \n",
    "#### * 첫 번째와 두 번째 컬럼을 행 인덱스 사용으로 적합 \n",
    "#### * 입력값이 없는 셀에 '-' 채워져 있음 => isnull()/isna()로는 결측치 체크 X\n",
    "####  * 삭제하지 않고 대체로 처리 => 대체값 0"
   ],
   "metadata": {
    "collapsed": false
   },
   "id": "b8ca3f69c2bc9f6"
  },
  {
   "cell_type": "markdown",
   "source": [
    "### (3) 데이터 저장 excel => Data Frame <hr>"
   ],
   "metadata": {
    "collapsed": false
   },
   "id": "9f4590a7e266dfc4"
  },
  {
   "cell_type": "code",
   "outputs": [],
   "source": [
    "korpowerDF = pd.read_excel(file, index_col=[0,1])"
   ],
   "metadata": {
    "collapsed": false,
    "ExecuteTime": {
     "end_time": "2024-01-17T04:45:08.609265600Z",
     "start_time": "2024-01-17T04:45:08.563800400Z"
    }
   },
   "id": "5a824a76ce4474bf",
   "execution_count": 25
  },
  {
   "cell_type": "markdown",
   "source": [
    "### (4) 데이터 확인 <hr>"
   ],
   "metadata": {
    "collapsed": false
   },
   "id": "73429526701892d6"
  },
  {
   "cell_type": "code",
   "outputs": [
    {
     "data": {
      "text/plain": "                  1990  1991  1992  1993  1994  1995  1996  1997  1998  1999  \\\n전력량 (억㎾h) 발전 전력별                                                               \n남한        합계      1077  1186  1310  1444  1650  1847  2055  2244  2153  2393   \n          수력        64    51    49    60    41    55    52    54    61    61   \n          화력       484   573   696   803  1022  1122  1264  1420  1195  1302   \n          원자력      529   563   565   581   587   670   739   771   897  1031   \n          신재생        -     -     -     -     -     -     -     -     -     -   \n북한        합계       277   263   247   221   231   230   213   193   170   186   \n          수력       156   150   142   133   138   142   125   107   102   103   \n          화력       121   113   105    88    93    88    88    86    68    83   \n          원자력        -     -     -     -     -     -     -     -     -     -   \n\n                  ...  2007  2008  2009  2010  2011  2012  2013  2014  2015  \\\n전력량 (억㎾h) 발전 전력별  ...                                                         \n남한        합계      ...  4031  4224  4336  4747  4969  5096  5171  5220  5281   \n          수력      ...    50    56    56    65    78    77    84    78    58   \n          화력      ...  2551  2658  2802  3196  3343  3430  3581  3427  3402   \n          원자력     ...  1429  1510  1478  1486  1547  1503  1388  1564  1648   \n          신재생     ...     -     -     -     -     -    86   118   151   173   \n북한        합계      ...   236   255   235   237   211   215   221   216   190   \n          수력      ...   133   141   125   134   132   135   139   130   100   \n          화력      ...   103   114   110   103    79    80    82    86    90   \n          원자력     ...     -     -     -     -     -     -     -     -     -   \n\n                  2016  \n전력량 (억㎾h) 발전 전력별        \n남한        합계      5404  \n          수력        66  \n          화력      3523  \n          원자력     1620  \n          신재생      195  \n북한        합계       239  \n          수력       128  \n          화력       111  \n          원자력        -  \n\n[9 rows x 27 columns]",
      "text/html": "<div>\n<style scoped>\n    .dataframe tbody tr th:only-of-type {\n        vertical-align: middle;\n    }\n\n    .dataframe tbody tr th {\n        vertical-align: top;\n    }\n\n    .dataframe thead th {\n        text-align: right;\n    }\n</style>\n<table border=\"1\" class=\"dataframe\">\n  <thead>\n    <tr style=\"text-align: right;\">\n      <th></th>\n      <th></th>\n      <th>1990</th>\n      <th>1991</th>\n      <th>1992</th>\n      <th>1993</th>\n      <th>1994</th>\n      <th>1995</th>\n      <th>1996</th>\n      <th>1997</th>\n      <th>1998</th>\n      <th>1999</th>\n      <th>...</th>\n      <th>2007</th>\n      <th>2008</th>\n      <th>2009</th>\n      <th>2010</th>\n      <th>2011</th>\n      <th>2012</th>\n      <th>2013</th>\n      <th>2014</th>\n      <th>2015</th>\n      <th>2016</th>\n    </tr>\n    <tr>\n      <th>전력량 (억㎾h)</th>\n      <th>발전 전력별</th>\n      <th></th>\n      <th></th>\n      <th></th>\n      <th></th>\n      <th></th>\n      <th></th>\n      <th></th>\n      <th></th>\n      <th></th>\n      <th></th>\n      <th></th>\n      <th></th>\n      <th></th>\n      <th></th>\n      <th></th>\n      <th></th>\n      <th></th>\n      <th></th>\n      <th></th>\n      <th></th>\n      <th></th>\n    </tr>\n  </thead>\n  <tbody>\n    <tr>\n      <th rowspan=\"5\" valign=\"top\">남한</th>\n      <th>합계</th>\n      <td>1077</td>\n      <td>1186</td>\n      <td>1310</td>\n      <td>1444</td>\n      <td>1650</td>\n      <td>1847</td>\n      <td>2055</td>\n      <td>2244</td>\n      <td>2153</td>\n      <td>2393</td>\n      <td>...</td>\n      <td>4031</td>\n      <td>4224</td>\n      <td>4336</td>\n      <td>4747</td>\n      <td>4969</td>\n      <td>5096</td>\n      <td>5171</td>\n      <td>5220</td>\n      <td>5281</td>\n      <td>5404</td>\n    </tr>\n    <tr>\n      <th>수력</th>\n      <td>64</td>\n      <td>51</td>\n      <td>49</td>\n      <td>60</td>\n      <td>41</td>\n      <td>55</td>\n      <td>52</td>\n      <td>54</td>\n      <td>61</td>\n      <td>61</td>\n      <td>...</td>\n      <td>50</td>\n      <td>56</td>\n      <td>56</td>\n      <td>65</td>\n      <td>78</td>\n      <td>77</td>\n      <td>84</td>\n      <td>78</td>\n      <td>58</td>\n      <td>66</td>\n    </tr>\n    <tr>\n      <th>화력</th>\n      <td>484</td>\n      <td>573</td>\n      <td>696</td>\n      <td>803</td>\n      <td>1022</td>\n      <td>1122</td>\n      <td>1264</td>\n      <td>1420</td>\n      <td>1195</td>\n      <td>1302</td>\n      <td>...</td>\n      <td>2551</td>\n      <td>2658</td>\n      <td>2802</td>\n      <td>3196</td>\n      <td>3343</td>\n      <td>3430</td>\n      <td>3581</td>\n      <td>3427</td>\n      <td>3402</td>\n      <td>3523</td>\n    </tr>\n    <tr>\n      <th>원자력</th>\n      <td>529</td>\n      <td>563</td>\n      <td>565</td>\n      <td>581</td>\n      <td>587</td>\n      <td>670</td>\n      <td>739</td>\n      <td>771</td>\n      <td>897</td>\n      <td>1031</td>\n      <td>...</td>\n      <td>1429</td>\n      <td>1510</td>\n      <td>1478</td>\n      <td>1486</td>\n      <td>1547</td>\n      <td>1503</td>\n      <td>1388</td>\n      <td>1564</td>\n      <td>1648</td>\n      <td>1620</td>\n    </tr>\n    <tr>\n      <th>신재생</th>\n      <td>-</td>\n      <td>-</td>\n      <td>-</td>\n      <td>-</td>\n      <td>-</td>\n      <td>-</td>\n      <td>-</td>\n      <td>-</td>\n      <td>-</td>\n      <td>-</td>\n      <td>...</td>\n      <td>-</td>\n      <td>-</td>\n      <td>-</td>\n      <td>-</td>\n      <td>-</td>\n      <td>86</td>\n      <td>118</td>\n      <td>151</td>\n      <td>173</td>\n      <td>195</td>\n    </tr>\n    <tr>\n      <th rowspan=\"4\" valign=\"top\">북한</th>\n      <th>합계</th>\n      <td>277</td>\n      <td>263</td>\n      <td>247</td>\n      <td>221</td>\n      <td>231</td>\n      <td>230</td>\n      <td>213</td>\n      <td>193</td>\n      <td>170</td>\n      <td>186</td>\n      <td>...</td>\n      <td>236</td>\n      <td>255</td>\n      <td>235</td>\n      <td>237</td>\n      <td>211</td>\n      <td>215</td>\n      <td>221</td>\n      <td>216</td>\n      <td>190</td>\n      <td>239</td>\n    </tr>\n    <tr>\n      <th>수력</th>\n      <td>156</td>\n      <td>150</td>\n      <td>142</td>\n      <td>133</td>\n      <td>138</td>\n      <td>142</td>\n      <td>125</td>\n      <td>107</td>\n      <td>102</td>\n      <td>103</td>\n      <td>...</td>\n      <td>133</td>\n      <td>141</td>\n      <td>125</td>\n      <td>134</td>\n      <td>132</td>\n      <td>135</td>\n      <td>139</td>\n      <td>130</td>\n      <td>100</td>\n      <td>128</td>\n    </tr>\n    <tr>\n      <th>화력</th>\n      <td>121</td>\n      <td>113</td>\n      <td>105</td>\n      <td>88</td>\n      <td>93</td>\n      <td>88</td>\n      <td>88</td>\n      <td>86</td>\n      <td>68</td>\n      <td>83</td>\n      <td>...</td>\n      <td>103</td>\n      <td>114</td>\n      <td>110</td>\n      <td>103</td>\n      <td>79</td>\n      <td>80</td>\n      <td>82</td>\n      <td>86</td>\n      <td>90</td>\n      <td>111</td>\n    </tr>\n    <tr>\n      <th>원자력</th>\n      <td>-</td>\n      <td>-</td>\n      <td>-</td>\n      <td>-</td>\n      <td>-</td>\n      <td>-</td>\n      <td>-</td>\n      <td>-</td>\n      <td>-</td>\n      <td>-</td>\n      <td>...</td>\n      <td>-</td>\n      <td>-</td>\n      <td>-</td>\n      <td>-</td>\n      <td>-</td>\n      <td>-</td>\n      <td>-</td>\n      <td>-</td>\n      <td>-</td>\n      <td>-</td>\n    </tr>\n  </tbody>\n</table>\n<p>9 rows × 27 columns</p>\n</div>"
     },
     "execution_count": 26,
     "metadata": {},
     "output_type": "execute_result"
    }
   ],
   "source": [
    "korpowerDF"
   ],
   "metadata": {
    "collapsed": false,
    "ExecuteTime": {
     "end_time": "2024-01-17T04:45:08.632266500Z",
     "start_time": "2024-01-17T04:45:08.623266500Z"
    }
   },
   "id": "a8402fc8a6ba00c6",
   "execution_count": 26
  },
  {
   "cell_type": "code",
   "outputs": [
    {
     "name": "stdout",
     "output_type": "stream",
     "text": [
      "<class 'pandas.core.frame.DataFrame'>\n",
      "MultiIndex: 9 entries, ('남한', '합계') to ('북한', '원자력')\n",
      "Data columns (total 27 columns):\n",
      " #   Column  Non-Null Count  Dtype \n",
      "---  ------  --------------  ----- \n",
      " 0   1990    9 non-null      object\n",
      " 1   1991    9 non-null      object\n",
      " 2   1992    9 non-null      object\n",
      " 3   1993    9 non-null      object\n",
      " 4   1994    9 non-null      object\n",
      " 5   1995    9 non-null      object\n",
      " 6   1996    9 non-null      object\n",
      " 7   1997    9 non-null      object\n",
      " 8   1998    9 non-null      object\n",
      " 9   1999    9 non-null      object\n",
      " 10  2000    9 non-null      object\n",
      " 11  2001    9 non-null      object\n",
      " 12  2002    9 non-null      object\n",
      " 13  2003    9 non-null      object\n",
      " 14  2004    9 non-null      object\n",
      " 15  2005    9 non-null      object\n",
      " 16  2006    9 non-null      object\n",
      " 17  2007    9 non-null      object\n",
      " 18  2008    9 non-null      object\n",
      " 19  2009    9 non-null      object\n",
      " 20  2010    9 non-null      object\n",
      " 21  2011    9 non-null      object\n",
      " 22  2012    9 non-null      object\n",
      " 23  2013    9 non-null      object\n",
      " 24  2014    9 non-null      object\n",
      " 25  2015    9 non-null      object\n",
      " 26  2016    9 non-null      object\n",
      "dtypes: object(27)\n",
      "memory usage: 2.4+ KB\n"
     ]
    }
   ],
   "source": [
    "korpowerDF.info()"
   ],
   "metadata": {
    "collapsed": false,
    "ExecuteTime": {
     "end_time": "2024-01-17T04:45:08.642267400Z",
     "start_time": "2024-01-17T04:45:08.632266500Z"
    }
   },
   "id": "20cd6b9a6bda8654",
   "execution_count": 27
  },
  {
   "cell_type": "markdown",
   "source": [
    "#### - (4-2) 인덱스와 컬럼 속성 확인"
   ],
   "metadata": {
    "collapsed": false
   },
   "id": "e177318cb705957d"
  },
  {
   "cell_type": "code",
   "outputs": [
    {
     "name": "stdout",
     "output_type": "stream",
     "text": [
      "MultiIndex([('남한',  '합계'),\n",
      "            ('남한',  '수력'),\n",
      "            ('남한',  '화력'),\n",
      "            ('남한', '원자력'),\n",
      "            ('남한', '신재생'),\n",
      "            ('북한',  '합계'),\n",
      "            ('북한',  '수력'),\n",
      "            ('북한',  '화력'),\n",
      "            ('북한', '원자력')],\n",
      "           names=['전력량 (억㎾h)', '발전 전력별'])\n",
      "\n",
      "Index(['1990', '1991', '1992', '1993', '1994', '1995', '1996', '1997', '1998',\n",
      "       '1999', '2000', '2001', '2002', '2003', '2004', '2005', '2006', '2007',\n",
      "       '2008', '2009', '2010', '2011', '2012', '2013', '2014', '2015', '2016'],\n",
      "      dtype='object')\n"
     ]
    }
   ],
   "source": [
    "print(korpowerDF.index, korpowerDF.columns, sep='\\n\\n')"
   ],
   "metadata": {
    "collapsed": false,
    "ExecuteTime": {
     "end_time": "2024-01-17T04:45:08.678505100Z",
     "start_time": "2024-01-17T04:45:08.645464400Z"
    }
   },
   "id": "c70af8b50ab246c9",
   "execution_count": 28
  },
  {
   "cell_type": "markdown",
   "source": [
    "#### - (5) 데이터 전처리"
   ],
   "metadata": {
    "collapsed": false
   },
   "id": "42b6a64f7b53f5fa"
  },
  {
   "cell_type": "markdown",
   "source": [
    "#### (5-1) 데이터 자료형 변환"
   ],
   "metadata": {
    "collapsed": false
   },
   "id": "f756942e7157fb87"
  },
  {
   "cell_type": "code",
   "outputs": [],
   "source": [
    "korpowerDF2=korpowerDF.replace('-', '0', inplace=True)"
   ],
   "metadata": {
    "collapsed": false,
    "ExecuteTime": {
     "end_time": "2024-01-17T04:45:08.726503200Z",
     "start_time": "2024-01-17T04:45:08.658652Z"
    }
   },
   "id": "4a9e73350e6a9ba2",
   "execution_count": 29
  },
  {
   "cell_type": "code",
   "outputs": [
    {
     "name": "stdout",
     "output_type": "stream",
     "text": [
      "<class 'pandas.core.frame.DataFrame'>\n",
      "MultiIndex: 9 entries, ('남한', '합계') to ('북한', '원자력')\n",
      "Data columns (total 27 columns):\n",
      " #   Column  Non-Null Count  Dtype\n",
      "---  ------  --------------  -----\n",
      " 0   1990    9 non-null      int16\n",
      " 1   1991    9 non-null      int16\n",
      " 2   1992    9 non-null      int16\n",
      " 3   1993    9 non-null      int16\n",
      " 4   1994    9 non-null      int16\n",
      " 5   1995    9 non-null      int16\n",
      " 6   1996    9 non-null      int16\n",
      " 7   1997    9 non-null      int16\n",
      " 8   1998    9 non-null      int16\n",
      " 9   1999    9 non-null      int16\n",
      " 10  2000    9 non-null      int16\n",
      " 11  2001    9 non-null      int16\n",
      " 12  2002    9 non-null      int16\n",
      " 13  2003    9 non-null      int16\n",
      " 14  2004    9 non-null      int16\n",
      " 15  2005    9 non-null      int16\n",
      " 16  2006    9 non-null      int16\n",
      " 17  2007    9 non-null      int16\n",
      " 18  2008    9 non-null      int16\n",
      " 19  2009    9 non-null      int16\n",
      " 20  2010    9 non-null      int16\n",
      " 21  2011    9 non-null      int16\n",
      " 22  2012    9 non-null      int16\n",
      " 23  2013    9 non-null      int16\n",
      " 24  2014    9 non-null      int16\n",
      " 25  2015    9 non-null      int16\n",
      " 26  2016    9 non-null      int16\n",
      "dtypes: int16(27)\n",
      "memory usage: 1018.0+ bytes\n"
     ]
    }
   ],
   "source": [
    "# object => int 16\n",
    "korpowerDF2 = korpowerDF.astype('int16')\n",
    "korpowerDF2.info()"
   ],
   "metadata": {
    "collapsed": false,
    "ExecuteTime": {
     "end_time": "2024-01-17T04:46:56.738091700Z",
     "start_time": "2024-01-17T04:46:56.703801500Z"
    }
   },
   "id": "1e30ef8f1fad08c2",
   "execution_count": 32
  },
  {
   "cell_type": "markdown",
   "source": [
    "### (6) 데이터 분석 작업"
   ],
   "metadata": {
    "collapsed": false
   },
   "id": "e3192ba511e0fbcb"
  },
  {
   "cell_type": "markdown",
   "source": [
    "#### - 남북한의 수력발전량 비교하기"
   ],
   "metadata": {
    "collapsed": false
   },
   "id": "884eaf4e200e260c"
  },
  {
   "cell_type": "code",
   "outputs": [
    {
     "data": {
      "text/plain": "(2, 27)"
     },
     "execution_count": 34,
     "metadata": {},
     "output_type": "execute_result"
    }
   ],
   "source": [
    "# 수력발전량 행 데이터 추출\n",
    "waterDF = korpowerDF2.xs('수력', level=1)\n",
    "waterDF.shape"
   ],
   "metadata": {
    "collapsed": false,
    "ExecuteTime": {
     "end_time": "2024-01-17T04:47:13.653150600Z",
     "start_time": "2024-01-17T04:47:13.622151Z"
    }
   },
   "id": "f75a72bdcc290dfc",
   "execution_count": 34
  },
  {
   "cell_type": "code",
   "outputs": [
    {
     "data": {
      "text/plain": "           1990  1991  1992  1993  1994  1995  1996  1997  1998  1999  ...  \\\n전력량 (억㎾h)                                                              ...   \n남한           64    51    49    60    41    55    52    54    61    61  ...   \n북한          156   150   142   133   138   142   125   107   102   103  ...   \n\n           2007  2008  2009  2010  2011  2012  2013  2014  2015  2016  \n전력량 (억㎾h)                                                              \n남한           50    56    56    65    78    77    84    78    58    66  \n북한          133   141   125   134   132   135   139   130   100   128  \n\n[2 rows x 27 columns]",
      "text/html": "<div>\n<style scoped>\n    .dataframe tbody tr th:only-of-type {\n        vertical-align: middle;\n    }\n\n    .dataframe tbody tr th {\n        vertical-align: top;\n    }\n\n    .dataframe thead th {\n        text-align: right;\n    }\n</style>\n<table border=\"1\" class=\"dataframe\">\n  <thead>\n    <tr style=\"text-align: right;\">\n      <th></th>\n      <th>1990</th>\n      <th>1991</th>\n      <th>1992</th>\n      <th>1993</th>\n      <th>1994</th>\n      <th>1995</th>\n      <th>1996</th>\n      <th>1997</th>\n      <th>1998</th>\n      <th>1999</th>\n      <th>...</th>\n      <th>2007</th>\n      <th>2008</th>\n      <th>2009</th>\n      <th>2010</th>\n      <th>2011</th>\n      <th>2012</th>\n      <th>2013</th>\n      <th>2014</th>\n      <th>2015</th>\n      <th>2016</th>\n    </tr>\n    <tr>\n      <th>전력량 (억㎾h)</th>\n      <th></th>\n      <th></th>\n      <th></th>\n      <th></th>\n      <th></th>\n      <th></th>\n      <th></th>\n      <th></th>\n      <th></th>\n      <th></th>\n      <th></th>\n      <th></th>\n      <th></th>\n      <th></th>\n      <th></th>\n      <th></th>\n      <th></th>\n      <th></th>\n      <th></th>\n      <th></th>\n      <th></th>\n    </tr>\n  </thead>\n  <tbody>\n    <tr>\n      <th>남한</th>\n      <td>64</td>\n      <td>51</td>\n      <td>49</td>\n      <td>60</td>\n      <td>41</td>\n      <td>55</td>\n      <td>52</td>\n      <td>54</td>\n      <td>61</td>\n      <td>61</td>\n      <td>...</td>\n      <td>50</td>\n      <td>56</td>\n      <td>56</td>\n      <td>65</td>\n      <td>78</td>\n      <td>77</td>\n      <td>84</td>\n      <td>78</td>\n      <td>58</td>\n      <td>66</td>\n    </tr>\n    <tr>\n      <th>북한</th>\n      <td>156</td>\n      <td>150</td>\n      <td>142</td>\n      <td>133</td>\n      <td>138</td>\n      <td>142</td>\n      <td>125</td>\n      <td>107</td>\n      <td>102</td>\n      <td>103</td>\n      <td>...</td>\n      <td>133</td>\n      <td>141</td>\n      <td>125</td>\n      <td>134</td>\n      <td>132</td>\n      <td>135</td>\n      <td>139</td>\n      <td>130</td>\n      <td>100</td>\n      <td>128</td>\n    </tr>\n  </tbody>\n</table>\n<p>2 rows × 27 columns</p>\n</div>"
     },
     "execution_count": 38,
     "metadata": {},
     "output_type": "execute_result"
    }
   ],
   "source": [
    "waterDF"
   ],
   "metadata": {
    "collapsed": false,
    "ExecuteTime": {
     "end_time": "2024-01-17T04:48:38.854456400Z",
     "start_time": "2024-01-17T04:48:38.825457600Z"
    }
   },
   "id": "2f9f85f2ae357b89",
   "execution_count": 38
  },
  {
   "cell_type": "code",
   "outputs": [
    {
     "data": {
      "text/plain": "1990    64\n1991    51\n1992    49\n1993    60\n1994    41\n1995    55\n1996    52\n1997    54\n1998    61\n1999    61\n2000    56\n2001    42\n2002    53\n2003    69\n2004    59\n2005    52\n2006    52\n2007    50\n2008    56\n2009    56\n2010    65\n2011    78\n2012    77\n2013    84\n2014    78\n2015    58\n2016    66\nName: 남한, dtype: int16"
     },
     "execution_count": 40,
     "metadata": {},
     "output_type": "execute_result"
    }
   ],
   "source": [
    "x = waterDF.column\n",
    "waterDF.loc['남한']"
   ],
   "metadata": {
    "collapsed": false,
    "ExecuteTime": {
     "end_time": "2024-01-17T04:51:48.977997800Z",
     "start_time": "2024-01-17T04:51:48.956988500Z"
    }
   },
   "id": "3d87d909d0fac2a4",
   "execution_count": 40
  },
  {
   "cell_type": "code",
   "outputs": [
    {
     "data": {
      "text/plain": "[<matplotlib.lines.Line2D at 0x1a7820097c0>,\n <matplotlib.lines.Line2D at 0x1a7820098e0>]"
     },
     "execution_count": 41,
     "metadata": {},
     "output_type": "execute_result"
    },
    {
     "data": {
      "text/plain": "<Figure size 640x480 with 1 Axes>",
      "image/png": "[encoded data removed]"
     },
     "metadata": {},
     "output_type": "display_data"
    }
   ],
   "source": [
    "plt.plot(waterDF.loc['남한'],'bo-', waterDF.loc['북한'], 'ro-')"
   ],
   "metadata": {
    "collapsed": false,
    "ExecuteTime": {
     "end_time": "2024-01-17T04:53:45.817483700Z",
     "start_time": "2024-01-17T04:53:45.625863900Z"
    }
   },
   "id": "20a2e12e7a9ad992",
   "execution_count": 41
  },
  {
   "cell_type": "code",
   "outputs": [],
   "source": [],
   "metadata": {
    "collapsed": false
   },
   "id": "989202b09d29e6f7"
  }
 ],
 "metadata": {
  "kernelspec": {
   "display_name": "Python 3",
   "language": "python",
   "name": "python3"
  },
  "language_info": {
   "codemirror_mode": {
    "name": "ipython",
    "version": 2
   },
   "file_extension": ".py",
   "mimetype": "text/x-python",
   "name": "python",
   "nbconvert_exporter": "python",
   "pygments_lexer": "ipython2",
   "version": "2.7.6"
  }
 },
 "nbformat": 4,
 "nbformat_minor": 5
}
